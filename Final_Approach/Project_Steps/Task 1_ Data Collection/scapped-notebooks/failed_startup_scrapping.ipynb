{
 "cells": [
  {
   "cell_type": "code",
   "execution_count": 83,
   "metadata": {},
   "outputs": [],
   "source": [
    "import selenium\n",
    "from selenium import webdriver\n",
    "from selenium.common.exceptions import ElementClickInterceptedException\n",
    "import pandas as pd"
   ]
  },
  {
   "cell_type": "code",
   "execution_count": 84,
   "metadata": {},
   "outputs": [],
   "source": [
    "# Initialize the Chrome webdriver and open the URL\n",
    "driver = webdriver.Chrome(\"D:\\python\\Scripts\\chromedriver.exe\")\n",
    "base_url = r\"https://www.failory.com/cemetery?country=United%20States\"\n",
    "pause_time = 5\n",
    "company_details = []\n",
    "links = []"
   ]
  },
  {
   "cell_type": "code",
   "execution_count": 85,
   "metadata": {},
   "outputs": [
    {
     "name": "stdout",
     "output_type": "stream",
     "text": [
      "{'company_name': 'Yik Yak', 'company_desc': 'Anonymous location-based social network', 'Category': 'Social Media', 'Country': 'United States', 'Started': '2013', 'Outcome': 'Shut Down', 'Cause': 'Legal Challenges', 'Closed': '2017', 'Number of Founders': '3', 'Name of Founders': 'Brooks Buffington, Tyler Droll, Will Jamieson', 'Number of Employees': '10-50', 'Number of Funding Rounds': '3', 'Total Funding Amount': '$73.5M', 'Number of Investors': '11'}\n",
      "{'company_name': 'Vine', 'company_desc': 'Platform to share short looping video clips', 'Category': 'Social Media', 'Country': 'United States', 'Started': '2012', 'Outcome': 'Shut Down', 'Cause': 'Multiple Reasons', 'Closed': '2017', 'Number of Founders': '3', 'Name of Founders': 'Colin Kroll, Dom Hofmann, Rus Yusupov', 'Number of Employees': '50-100', 'Number of Funding Rounds': '1', 'Total Funding Amount': 'No Data', 'Number of Investors': '2'}\n",
      "{'company_name': 'Dazo', 'company_desc': \"India's first curated food demand platform\", 'Category': 'Food & Beverage', 'Country': 'India', 'Started': '2015', 'Outcome': 'Shut Down', 'Cause': 'Competition', 'Closed': '2016', 'Number of Founders': '2', 'Name of Founders': 'Monica Rastogi, Shashaank Shekhar Singhal', 'Number of Employees': '10-50', 'Number of Funding Rounds': '1', 'Total Funding Amount': 'No Data', 'Number of Investors': '7'}\n",
      "{'company_name': 'Pixate', 'company_desc': 'Platform for mobile interaction design', 'Category': 'Design', 'Country': 'United States', 'Started': '2012', 'Outcome': 'Shut Down', 'Cause': 'Acquisition Flu', 'Closed': '2016', 'Number of Founders': '2', 'Name of Founders': 'Kevin Lindsey, Paul Colton', 'Number of Employees': '10-50', 'Number of Funding Rounds': '1', 'Total Funding Amount': '$3.8M', 'Number of Investors': '1'}\n",
      "{'company_name': 'Quibi', 'company_desc': 'Short-form streaming platform', 'Category': 'Entertainment', 'Country': 'United States', 'Started': '2018', 'Outcome': 'Shut Down', 'Cause': 'Multiple Reasons', 'Closed': '2020', 'Number of Founders': '1', 'Name of Founders': 'Jeffrey Katzenberg', 'Number of Employees': '250-500', 'Number of Funding Rounds': '2', 'Total Funding Amount': '$1.8B', 'Number of Investors': '14'}\n",
      "{'company_name': 'Zoomo', 'company_desc': 'P2P transactions of pre-owned cars', 'Category': 'Transportation', 'Country': 'India', 'Started': '2014', 'Outcome': 'Shut Down', 'Cause': 'Bad Business Model', 'Closed': '2016', 'Number of Founders': '2', 'Name of Founders': 'Arnav Kumar, Himangshu Hazarika', 'Number of Employees': '10-50', 'Number of Funding Rounds': '2', 'Total Funding Amount': '$6M', 'Number of Investors': '2'}\n",
      "{'company_name': 'ScaleFactor', 'company_desc': 'Finance and accounting software for SMEs', 'Category': 'Finances', 'Country': 'United States', 'Started': '2014', 'Outcome': 'Shut Down', 'Cause': 'Poor Product', 'Closed': '2020', 'Number of Founders': '1', 'Name of Founders': 'Kurt Rathmann', 'Number of Employees': '100-250', 'Number of Funding Rounds': '7', 'Total Funding Amount': '$103M', 'Number of Investors': '17'}\n",
      "{'company_name': 'Desti', 'company_desc': 'Online travel guide app', 'Category': 'Travel', 'Country': 'United States', 'Started': '2011', 'Outcome': 'Acquired', 'Cause': 'Bad Business Model', 'Closed': '2014', 'Number of Founders': '3', 'Name of Founders': 'Imri Goldberg, Mosi Shuchman, Nadav Gur', 'Number of Employees': '1-10', 'Number of Funding Rounds': '2', 'Total Funding Amount': '$2M', 'Number of Investors': '3'}\n",
      "{'company_name': 'HiGear', 'company_desc': 'Private car-sharing club for luxury and sports cars', 'Category': 'Transportation', 'Country': 'United States', 'Started': '2011', 'Outcome': 'Acquired', 'Cause': 'Legal Challenges', 'Closed': '2011', 'Number of Founders': '2', 'Name of Founders': 'Ali Moiz, Murtaza Hussain', 'Number of Employees': '1-10', 'Number of Funding Rounds': '2', 'Total Funding Amount': '$1.3M', 'Number of Investors': '4'}\n",
      "{'company_name': 'Zirtual', 'company_desc': 'Dedicated virtual assistants for busy professionals', 'Category': 'Software & Hardware', 'Country': 'United States', 'Started': '2011', 'Outcome': 'Shut Down', 'Cause': 'Mismanagement of Funds', 'Closed': '2015', 'Number of Founders': '3', 'Name of Founders': 'Collin Vine, Erik Jensen, Maren Kate Donovan', 'Number of Employees': '100-250', 'Number of Funding Rounds': '4', 'Total Funding Amount': '$5.5M', 'Number of Investors': '10'}\n",
      "{'company_name': 'Secret', 'company_desc': 'Online platform to share personal secrets', 'Category': 'Social Media', 'Country': 'United States', 'Started': '2013', 'Outcome': 'Shut Down', 'Cause': 'Legal Challenges', 'Closed': '2015', 'Number of Founders': '2', 'Name of Founders': 'Chrys Bader-Wechseler, David Byttow', 'Number of Employees': '10-50', 'Number of Funding Rounds': '3', 'Total Funding Amount': '$35M', 'Number of Investors': '21'}\n",
      "{'company_name': 'Rafter', 'company_desc': 'Textbook and course material provider for schools', 'Category': 'Education', 'Country': 'United States', 'Started': '2006', 'Outcome': 'Acquired', 'Cause': 'Competition', 'Closed': '2016', 'Number of Founders': '1', 'Name of Founders': 'Sara Leoni', 'Number of Employees': '50-100', 'Number of Funding Rounds': '7', 'Total Funding Amount': '$86M', 'Number of Investors': '7'}\n",
      "{'company_name': 'Netscape', 'company_desc': 'Developed enterprise software solutions', 'Category': 'Productivity', 'Country': 'United States', 'Started': '1994', 'Outcome': 'Shut Down', 'Cause': 'Poor Product', 'Closed': '2008', 'Number of Founders': '3', 'Name of Founders': 'James Clark, Jon Mittelhauser, Marc Andreessen', 'Number of Employees': '5,000-10,000', 'Number of Funding Rounds': '1', 'Total Funding Amount': 'No Data', 'Number of Investors': '1'}\n",
      "{'company_name': 'Zulily', 'company_desc': 'Online retailer that offered daily deals', 'Category': 'e-Commerce', 'Country': 'United States', 'Started': '2009', 'Outcome': 'Shut Down', 'Cause': 'Bad Marketing', 'Closed': 'Active', 'Number of Founders': '2', 'Name of Founders': 'Darrell Cavens, Mark Vadon', 'Number of Employees': '1,000-5,000', 'Number of Funding Rounds': '5', 'Total Funding Amount': '$194.6M', 'Number of Investors': '7'}\n",
      "{'company_name': 'EventVue', 'company_desc': 'Built online communities for conferences', 'Category': 'Finances', 'Country': 'United States', 'Started': '2007', 'Outcome': 'Shut Down', 'Cause': 'Lack of PMF', 'Closed': '2010', 'Number of Founders': '2', 'Name of Founders': 'Josh Fraser, Rob Johnson', 'Number of Employees': '1-10', 'Number of Funding Rounds': '2', 'Total Funding Amount': '$455K', 'Number of Investors': '9'}\n",
      "{'company_name': 'Totsy', 'company_desc': 'E-commerce selling prenatal care products', 'Category': 'e-Commerce', 'Country': 'United States', 'Started': '2009', 'Outcome': 'Shut Down', 'Cause': 'Poor Product', 'Closed': '2013', 'Number of Founders': '2', 'Name of Founders': 'Christophe Garnier, Guillaume Gauthereau', 'Number of Employees': '50-100', 'Number of Funding Rounds': '4', 'Total Funding Amount': '$29.5M', 'Number of Investors': '4'}\n",
      "{'company_name': 'Skully', 'company_desc': 'Augmented reality motorcycle helmets', 'Category': 'Transportation', 'Country': 'United States', 'Started': '2013', 'Outcome': 'Shut Down', 'Cause': 'Mismanagement of Funds', 'Closed': '2016', 'Number of Founders': '1', 'Name of Founders': 'Marcus Weller, Mitch Weller', 'Number of Employees': '10-50', 'Number of Funding Rounds': '4', 'Total Funding Amount': '$15M', 'Number of Investors': '13'}\n",
      "{'company_name': 'Wantful', 'company_desc': 'Online gift-giving service', 'Category': 'e-Commerce', 'Country': 'United States', 'Started': '2011', 'Outcome': 'Shut Down', 'Cause': 'Competition', 'Closed': '2013', 'Number of Founders': '1', 'Name of Founders': 'John Poisson', 'Number of Employees': '+10,000', 'Number of Funding Rounds': '1', 'Total Funding Amount': '$5.5M', 'Number of Investors': '8'}\n",
      "{'company_name': 'Gowalla', 'company_desc': \"Social Guide to world's cities\", 'Category': 'Social Media', 'Country': 'United States', 'Started': '2007', 'Outcome': 'Acquired', 'Cause': 'Competition', 'Closed': '2013', 'Number of Founders': '2', 'Name of Founders': 'Josh Williams, Scott Raymond', 'Number of Employees': '10-50', 'Number of Funding Rounds': '3', 'Total Funding Amount': '$10.4M', 'Number of Investors': '11'}\n"
     ]
    },
    {
     "name": "stdout",
     "output_type": "stream",
     "text": [
      "{'company_name': 'PostRocket', 'company_desc': 'Facebook page marketing platform', 'Category': 'Analytics', 'Country': 'United States', 'Started': '2010', 'Outcome': 'Shut Down', 'Cause': 'Poor Product', 'Closed': '2013', 'Number of Founders': '2', 'Name of Founders': 'Murry Ivanoff, Tim Chae', 'Number of Employees': '1-10', 'Number of Funding Rounds': '2', 'Total Funding Amount': '$610K', 'Number of Investors': '7'}\n",
      "{'company_name': 'Wesabe', 'company_desc': 'Personal finance management website', 'Category': 'Finances', 'Country': 'United States', 'Started': '2005', 'Outcome': 'Shut Down', 'Cause': 'Bad Management', 'Closed': '2010', 'Number of Founders': '2', 'Name of Founders': 'Jason Knight, Marc Hedlund', 'Number of Employees': '10-50', 'Number of Funding Rounds': '2', 'Total Funding Amount': '$4.7M', 'Number of Investors': '2'}\n",
      "{'company_name': 'Lookery', 'company_desc': 'Demographic marketing services in social networks', 'Category': 'Marketing', 'Country': 'United States', 'Started': '2007', 'Outcome': 'Acquired', 'Cause': 'Dependence on Others', 'Closed': '2009', 'Number of Founders': '3', 'Name of Founders': 'David Cancel, Rex Dixon, Todd Sawicki', 'Number of Employees': '1-10', 'Number of Funding Rounds': '2', 'Total Funding Amount': '$3.2M', 'Number of Investors': '22'}\n",
      "{'company_name': 'Argyle Social', 'company_desc': 'Provided social media management tools', 'Category': 'Marketing', 'Country': 'United States', 'Started': '2010', 'Outcome': 'Shut Down', 'Cause': 'Competition', 'Closed': '2014', 'Number of Founders': '1', 'Name of Founders': 'Adam Covati', 'Number of Employees': '10-50', 'Number of Funding Rounds': '2', 'Total Funding Amount': '$1.6M', 'Number of Investors': '2'}\n",
      "{'company_name': 'ArsDigita', 'company_desc': 'Agency that built solutions for e-commerce', 'Category': 'e-Commerce', 'Country': 'United States', 'Started': '1997', 'Outcome': 'Shut Down', 'Cause': 'Lack of Experience', 'Closed': '2002', 'Number of Founders': '7', 'Name of Founders': 'Philip Greenspun, Tracy Adams, Ben Adida, Eve Andersson, Olin Shivers, Aurelius Prochazka, Jin Choi', 'Number of Employees': '50-100', 'Number of Funding Rounds': '1', 'Total Funding Amount': '$35M', 'Number of Investors': '3'}\n",
      "{'company_name': 'PoliMobile', 'company_desc': 'Empowered campaigns with the power of mobile', 'Category': 'Marketing', 'Country': 'United States', 'Started': '2011', 'Outcome': 'Shut Down', 'Cause': 'No Market Need', 'Closed': '2015', 'Number of Founders': '1', 'Name of Founders': 'Curt Prins', 'Number of Employees': '1-10', 'Number of Funding Rounds': '0', 'Total Funding Amount': '-', 'Number of Investors': '0'}\n",
      "{'company_name': 'Tilt', 'company_desc': 'Social payment startup focused on crowd-funding', 'Category': 'Finances', 'Country': 'United States', 'Started': '2012', 'Outcome': 'Acquired', 'Cause': 'Lack of Focus', 'Closed': '2017', 'Number of Founders': '3', 'Name of Founders': 'James Beshara, Karolyn Baxter, Khaled Hussein', 'Number of Employees': '100-250', 'Number of Funding Rounds': '4', 'Total Funding Amount': '$62.1M', 'Number of Investors': '26'}\n",
      "{'company_name': 'Delicious', 'company_desc': 'Bookmarking website to save, organize and discover links', 'Category': 'Productivity', 'Country': 'United States', 'Started': '2003', 'Outcome': 'Still Active', 'Cause': 'Acquisition Flu', 'Closed': '2017', 'Number of Founders': '1', 'Name of Founders': 'Joshua Schachter', 'Number of Employees': '50-100', 'Number of Funding Rounds': '1', 'Total Funding Amount': 'No Data', 'Number of Investors': '10'}\n",
      "{'company_name': 'Move Loot', 'company_desc': 'Furniture online marketplace', 'Category': 'e-Commerce', 'Country': 'United States', 'Started': '2013', 'Outcome': 'Shut Down', 'Cause': 'Bad Business Model', 'Closed': '2016', 'Number of Founders': '4', 'Name of Founders': 'Bill Bobbitt, Jenny Karin Morrill, Ryan Smith, Shruti Shah', 'Number of Employees': '50-100', 'Number of Funding Rounds': '3', 'Total Funding Amount': '$21.8M', 'Number of Investors': '18'}\n",
      "{'company_name': 'QBotix', 'company_desc': 'Solar panels attached and regulated by robots', 'Category': 'Software & Hardware', 'Country': 'United States', 'Started': '2010', 'Outcome': 'Shut Down', 'Cause': 'Competition', 'Closed': '2015', 'Number of Founders': '1', 'Name of Founders': 'Wasiq Bokhari', 'Number of Employees': '10-50', 'Number of Funding Rounds': '3', 'Total Funding Amount': '$23.5M', 'Number of Investors': '7'}\n",
      "{'company_name': 'Fuhu', 'company_desc': 'Designer and seller of cloud-served softwares', 'Category': 'Software & Hardware', 'Country': 'United States', 'Started': '2006', 'Outcome': 'Acquired', 'Cause': 'Mismanagement of Funds', 'Closed': '2015', 'Number of Founders': '3', 'Name of Founders': 'John Hui, Robb Fujioka, Steve Hui', 'Number of Employees': '500-1,000', 'Number of Funding Rounds': '5', 'Total Funding Amount': '$66.2M', 'Number of Investors': '8'}\n",
      "{'company_name': 'Formspring', 'company_desc': 'Encouraged people to get to know each other', 'Category': 'Social Media', 'Country': 'United States', 'Started': '2009', 'Outcome': 'Shut Down', 'Cause': 'Legal Challenges', 'Closed': '2013', 'Number of Founders': '2', 'Name of Founders': 'Ade Olonoh, John Wechsler', 'Number of Employees': '10-50', 'Number of Funding Rounds': '2', 'Total Funding Amount': '$14.3M', 'Number of Investors': '13'}\n",
      "{'company_name': 'FoundationDB', 'company_desc': 'Scalable NoSQL layered database', 'Category': 'Software & Hardware', 'Country': 'United States', 'Started': '2009', 'Outcome': 'Acquired', 'Cause': 'Acquisition Flu', 'Closed': '2015', 'Number of Founders': '3', 'Name of Founders': 'Dave Rosenthal, Dave Scherer, Nick Lavezzo', 'Number of Employees': '10-50', 'Number of Funding Rounds': '2', 'Total Funding Amount': '$22.7M', 'Number of Investors': '3'}\n",
      "{'company_name': 'Tutorspree', 'company_desc': 'Web-based tuition services', 'Category': 'Education', 'Country': 'United States', 'Started': '2010', 'Outcome': 'Acquired', 'Cause': 'Bad Marketing', 'Closed': '2013', 'Number of Founders': '3', 'Name of Founders': 'Aaron Harris, Josh Abrams, Ryan Bednar', 'Number of Employees': '50-100', 'Number of Funding Rounds': '2', 'Total Funding Amount': '$1.8M', 'Number of Investors': '10'}\n",
      "{'company_name': 'Grooveshark', 'company_desc': 'Web-based on-demand music application', 'Category': 'Music', 'Country': 'United States', 'Started': '2006', 'Outcome': 'Shut Down', 'Cause': 'Legal Challenges', 'Closed': '2015', 'Number of Founders': '3', 'Name of Founders': 'Andres Barreto, Josh Greenberg, Sam Tarantino', 'Number of Employees': '50-100', 'Number of Funding Rounds': '3', 'Total Funding Amount': '$4.6M', 'Number of Investors': 'No Data'}\n",
      "{'company_name': 'Transpose', 'company_desc': 'Smart workspace for businesses to manage projects', 'Category': 'Productivity', 'Country': 'United States', 'Started': '2015', 'Outcome': 'Shut Down', 'Cause': 'Bad Business Model', 'Closed': '2015', 'Number of Founders': '4', 'Name of Founders': 'Hussein Ahmed, Matt Goyer, Samah Gad, Skyler Johnson-Wagner', 'Number of Employees': '10-50', 'Number of Funding Rounds': '1', 'Total Funding Amount': '$1.5M', 'Number of Investors': '2'}\n",
      "{'company_name': 'RewardMe', 'company_desc': 'Intelligent CRM solution for local commerce', 'Category': 'Marketing', 'Country': 'United States', 'Started': '2010', 'Outcome': 'Shut Down', 'Cause': 'Lack of Funds', 'Closed': '2015', 'Number of Founders': '3', 'Name of Founders': 'Jun Loayza, Stephen Johnson, Yu-kai Chou', 'Number of Employees': '10-50', 'Number of Funding Rounds': '1', 'Total Funding Amount': '$1.1M', 'Number of Investors': '2'}\n",
      "{'company_name': 'Maple', 'company_desc': 'High-quality food delivery startup', 'Category': 'Food & Beverage', 'Country': 'United States', 'Started': '2014', 'Outcome': 'Acquired', 'Cause': 'Bad Business Model', 'Closed': '2017', 'Number of Founders': '2', 'Name of Founders': 'Akshay Navle, Caleb Merkl', 'Number of Employees': '100-250', 'Number of Funding Rounds': '2', 'Total Funding Amount': '$29M', 'Number of Investors': '8'}\n",
      "{'company_name': 'TeeBeeDee', 'company_desc': 'Network for people over 40 to share experiences', 'Category': 'Social Media', 'Country': 'United States', 'Started': '2007', 'Outcome': 'Shut Down', 'Cause': 'Bad Business Model', 'Closed': '2009', 'Number of Founders': '4', 'Name of Founders': 'David Markus, Jon Brandt, Robin Wolaner, Todd Basche', 'Number of Employees': '10-50', 'Number of Funding Rounds': '1', 'Total Funding Amount': '$4.8M', 'Number of Investors': '2'}\n"
     ]
    },
    {
     "name": "stdout",
     "output_type": "stream",
     "text": [
      "{'company_name': 'Yik Yak', 'company_desc': 'Anonymous location-based social network', 'Category': 'Social Media', 'Country': 'United States', 'Started': '2013', 'Outcome': 'Shut Down', 'Cause': 'Legal Challenges', 'Closed': '2017', 'Number of Founders': '3', 'Name of Founders': 'Brooks Buffington, Tyler Droll, Will Jamieson', 'Number of Employees': '10-50', 'Number of Funding Rounds': '3', 'Total Funding Amount': '$73.5M', 'Number of Investors': '11'}\n",
      "{'company_name': 'BitPass', 'company_desc': 'Online payment system for digital content', 'Category': 'Finances', 'Country': 'United States', 'Started': '2002', 'Outcome': 'Shut Down', 'Cause': 'Competition', 'Closed': '2007', 'Number of Founders': '1', 'Name of Founders': 'Kurt Huang', 'Number of Employees': '50-100', 'Number of Funding Rounds': '2', 'Total Funding Amount': '$13.3M', 'Number of Investors': '6'}\n",
      "{'company_name': 'Flowtab', 'company_desc': 'Mobile app to order drinks on nightclubs', 'Category': 'Food & Beverage', 'Country': 'United States', 'Started': '2011', 'Outcome': 'Shut Down', 'Cause': 'Bad Business Model', 'Closed': '2013', 'Number of Founders': '1', 'Name of Founders': 'Mike Townsend', 'Number of Employees': '50-100', 'Number of Funding Rounds': '0', 'Total Funding Amount': '-', 'Number of Investors': '0'}\n",
      "{'company_name': 'RethinkDB', 'company_desc': 'Scalable database for the real-time web', 'Category': 'Software & Hardware', 'Country': 'United States', 'Started': '2009', 'Outcome': 'Acquired', 'Cause': 'Lack of PMF', 'Closed': '2016', 'Number of Founders': '2', 'Name of Founders': 'Michael Glukhovsky, Slava Akhmechet', 'Number of Employees': '10-50', 'Number of Funding Rounds': '4', 'Total Funding Amount': '$12.2M', 'Number of Investors': '16'}\n",
      "{'company_name': 'Leap Transit', 'company_desc': 'Provider of private transit and offers bus services', 'Category': 'Transportation', 'Country': 'United States', 'Started': '2013', 'Outcome': 'Shut Down', 'Cause': 'Legal Challenges', 'Closed': '2015', 'Number of Founders': '1', 'Name of Founders': 'Kyle Kirchhoff', 'Number of Employees': '50-100', 'Number of Funding Rounds': '1', 'Total Funding Amount': '$2.5M', 'Number of Investors': '4'}\n",
      "{'company_name': 'Teforia', 'company_desc': 'A tea brewer machine connected with an application', 'Category': 'Food & Beverage', 'Country': 'United States', 'Started': '2014', 'Outcome': 'Shut Down', 'Cause': 'No Market Need', 'Closed': '2017', 'Number of Founders': '2', 'Name of Founders': 'Allen Han, Kris Efland', 'Number of Employees': '10-50', 'Number of Funding Rounds': '2', 'Total Funding Amount': '$17.1M', 'Number of Investors': '9'}\n",
      "{'company_name': 'Rdio', 'company_desc': 'Digital music service provider', 'Category': 'Music', 'Country': 'United States', 'Started': '2008', 'Outcome': 'Bankruptcy', 'Cause': 'Competition', 'Closed': '2015', 'Number of Founders': '3', 'Name of Founders': 'Carter Adamson, Janus Friis, Niklas Zennström', 'Number of Employees': '50-100', 'Number of Funding Rounds': '6', 'Total Funding Amount': '$125.7M', 'Number of Investors': '5'}\n",
      "{'company_name': 'OpTier', 'company_desc': 'Cloud-based enterprise software business', 'Category': 'Analytics', 'Country': 'United States', 'Started': '2002', 'Outcome': 'Shut Down', 'Cause': 'Lack of PMF', 'Closed': '2014', 'Number of Founders': '2', 'Name of Founders': 'Amir Alon, Motti Tal', 'Number of Employees': '50-100', 'Number of Funding Rounds': '9', 'Total Funding Amount': '$118.1M', 'Number of Investors': '8'}\n",
      "{'company_name': 'Fab', 'company_desc': 'Online design marketplace', 'Category': 'e-Commerce', 'Country': 'United States', 'Started': '2009', 'Outcome': 'Acquired', 'Cause': 'Multiple Reasons', 'Closed': '2013', 'Number of Founders': '5', 'Name of Founders': 'Bradford Shane Shellhammer, Deepa Shah, Jason Goldberg, Nishith Shah, Sunil Khedar', 'Number of Employees': '500-1,000', 'Number of Funding Rounds': '11', 'Total Funding Amount': '$336.3M', 'Number of Investors': '34'}\n",
      "{'company_name': '37Coins', 'company_desc': 'Startup that developed Bitcoin technologies', 'Category': 'Finances', 'Country': 'United States', 'Started': '2014', 'Outcome': 'Shut Down', 'Cause': 'Lack of Funds', 'Closed': '2015', 'Number of Founders': '3', 'Name of Founders': 'Johann Barbie, Jonathan Zobro, Songyi Lee', 'Number of Employees': '1-10', 'Number of Funding Rounds': '2', 'Total Funding Amount': '$525K', 'Number of Investors': '4'}\n",
      "{'company_name': 'Parse', 'company_desc': 'Cloud-based software developer kits', 'Category': 'Software & Hardware', 'Country': 'United States', 'Started': '2011', 'Outcome': 'Shut Down', 'Cause': 'Acquisition Flu', 'Closed': '2016', 'Number of Founders': '4', 'Name of Founders': 'Ilya Sukhar, James Yu, Kevin Lacker, Tikhon Bernstam', 'Number of Employees': '10-50', 'Number of Funding Rounds': '2', 'Total Funding Amount': '$7M', 'Number of Investors': '17'}\n",
      "{'company_name': 'Springpad', 'company_desc': 'Allowed users organize projects, ideas and to-do’s', 'Category': 'Productivity', 'Country': 'United States', 'Started': '2008', 'Outcome': 'Acquired', 'Cause': 'Lack of Focus', 'Closed': '2014', 'Number of Founders': '1', 'Name of Founders': 'Jason Horman', 'Number of Employees': '10-50', 'Number of Funding Rounds': '3', 'Total Funding Amount': '$7.3M', 'Number of Investors': '1'}\n",
      "{'company_name': 'MySpace', 'company_desc': 'Social network based on personal user pages', 'Category': 'Social Media', 'Country': 'United States', 'Started': '2003', 'Outcome': 'Still Active', 'Cause': 'Multiple Reasons', 'Closed': 'Active', 'Number of Founders': '7', 'Name of Founders': 'Aber Whitcomb, Brad Greenspan, Chris DeWolfe, Colin Digiaro, Josh Berman, Michael Addicott, Tom Anderson', 'Number of Employees': '250-500', 'Number of Funding Rounds': '1', 'Total Funding Amount': '$37.8M', 'Number of Investors': '2'}\n",
      "{'company_name': 'Shuddle', 'company_desc': 'Safe on-demand transportation for families', 'Category': 'Transportation', 'Country': 'United States', 'Started': '2014', 'Outcome': 'Shut Down', 'Cause': 'Lack of Funds', 'Closed': '2016', 'Number of Founders': '2', 'Name of Founders': 'Nick Allen, Rodrigo Prudencio', 'Number of Employees': '10-50', 'Number of Funding Rounds': '2', 'Total Funding Amount': '$12.2M', 'Number of Investors': '6'}\n",
      "{'company_name': 'Circa', 'company_desc': 'Mobile news app on diverse topics', 'Category': 'Entertainment', 'Country': 'United States', 'Started': '2011', 'Outcome': 'Acquired', 'Cause': 'Lack of Funds', 'Closed': '2015', 'Number of Founders': '3', 'Name of Founders': 'Arsenio Santos, Ben Huh, Matt Galligan', 'Number of Employees': '10-50', 'Number of Funding Rounds': '8', 'Total Funding Amount': '$4.7M', 'Number of Investors': '39'}\n",
      "{'company_name': 'Poliana', 'company_desc': 'Web application that simplified the legislative system', 'Category': 'Analytics', 'Country': 'United States', 'Started': '2013', 'Outcome': 'Shut Down', 'Cause': 'Bad Business Model', 'Closed': '2015', 'Number of Founders': '4', 'Name of Founders': 'Grayson Carroll, Patrick Cason, Seth Whiting, Shawn Whiting', 'Number of Employees': '1-10', 'Number of Funding Rounds': '1', 'Total Funding Amount': '$15K', 'Number of Investors': '2'}\n",
      "{'company_name': 'Design Inc.', 'company_desc': 'Marketplace for high-quality design work', 'Category': 'Design', 'Country': 'United States', 'Started': '2016', 'Outcome': 'Shut Down', 'Cause': 'Bad Business Model', 'Closed': '2017', 'Number of Founders': '2', 'Name of Founders': 'Bjoern Zinssmeister, Marc Hemeon', 'Number of Employees': '1-10', 'Number of Funding Rounds': '1', 'Total Funding Amount': '$2.3M', 'Number of Investors': 'No Data'}\n",
      "{'company_name': 'Vine', 'company_desc': 'Platform to share short looping video clips', 'Category': 'Social Media', 'Country': 'United States', 'Started': '2012', 'Outcome': 'Shut Down', 'Cause': 'Multiple Reasons', 'Closed': '2017', 'Number of Founders': '3', 'Name of Founders': 'Colin Kroll, Dom Hofmann, Rus Yusupov', 'Number of Employees': '50-100', 'Number of Funding Rounds': '1', 'Total Funding Amount': 'No Data', 'Number of Investors': '2'}\n",
      "{'company_name': 'Appiterate', 'company_desc': 'Mobile marketing automation platform', 'Category': 'Marketing', 'Country': 'United States', 'Started': '2013', 'Outcome': 'Acquired', 'Cause': 'Acquisition Flu', 'Closed': '2015', 'Number of Founders': '4', 'Name of Founders': 'Anuj Bhargava, Mayank Kumar, Tanuj Mendiratta, Varun Sharma', 'Number of Employees': '1-10', 'Number of Funding Rounds': '1', 'Total Funding Amount': '$500K', 'Number of Investors': '3'}\n"
     ]
    },
    {
     "name": "stdout",
     "output_type": "stream",
     "text": [
      "{'company_name': 'Kiko', 'company_desc': 'Ajax-style online calendar application', 'Category': 'Productivity', 'Country': 'United States', 'Started': '2003', 'Outcome': 'Acquired', 'Cause': 'Bad Management', 'Closed': '2008', 'Number of Founders': '2', 'Name of Founders': 'Emmett Shear, Justin Kan', 'Number of Employees': '10-50', 'Number of Funding Rounds': '1', 'Total Funding Amount': '$50K', 'Number of Investors': '1'}\n",
      "{'company_name': 'Monitor110', 'company_desc': 'Real-time internet monitoring services', 'Category': 'Analytics', 'Country': 'United States', 'Started': '2003', 'Outcome': 'Shut Down', 'Cause': 'Multiple Reasons', 'Closed': '2008', 'Number of Founders': '1', 'Name of Founders': 'Roger Ehrenberg', 'Number of Employees': '1-10', 'Number of Funding Rounds': '3', 'Total Funding Amount': '$17.3M', 'Number of Investors': '4'}\n",
      "{'company_name': 'SpoonRocket', 'company_desc': 'Next-gen, ultra-fast delivery platform', 'Category': 'Food & Beverage', 'Country': 'United States', 'Started': '2013', 'Outcome': 'Shut Down', 'Cause': 'Competition', 'Closed': '2016', 'Number of Founders': '2', 'Name of Founders': 'Anson Tsui, Steven Hsiao', 'Number of Employees': '10-50', 'Number of Funding Rounds': '2', 'Total Funding Amount': '$13.5M', 'Number of Investors': '9'}\n",
      "{'company_name': 'Juicero', 'company_desc': 'First home cold-pressed juicing system', 'Category': 'Food & Beverage', 'Country': 'United States', 'Started': '2013', 'Outcome': 'Bankruptcy', 'Cause': 'Bad Business Model', 'Closed': '2017', 'Number of Founders': '1', 'Name of Founders': 'Doug Evans', 'Number of Employees': '100-250', 'Number of Funding Rounds': '4', 'Total Funding Amount': '$118.5M', 'Number of Investors': '16'}\n",
      "{'company_name': 'Salorix', 'company_desc': 'Online social network engagement platform', 'Category': 'Analytics', 'Country': 'United States', 'Started': '2009', 'Outcome': 'Shut Down', 'Cause': 'Bad Management', 'Closed': '2014', 'Number of Founders': '1', 'Name of Founders': 'Santanu Bhattacharya', 'Number of Employees': '10-50', 'Number of Funding Rounds': '2', 'Total Funding Amount': '$3.5M', 'Number of Investors': '2'}\n",
      "{'company_name': 'Dopplr', 'company_desc': 'Social travel network service', 'Category': 'Travel', 'Country': 'United States', 'Started': '2007', 'Outcome': 'Shut Down', 'Cause': 'Acquisition Flu', 'Closed': 'Active', 'Number of Founders': '5', 'Name of Founders': 'Dan Gillmor, Lisa Sounio, Marko Ahtisaari, Matt Jones, Taneli Tikka', 'Number of Employees': '1-10', 'Number of Funding Rounds': '3', 'Total Funding Amount': 'No Data', 'Number of Investors': '16'}\n",
      "{'company_name': 'Kitchit', 'company_desc': 'Brought local chefs to private households', 'Category': 'Food & Beverage', 'Country': 'United States', 'Started': '2011', 'Outcome': 'Shut Down', 'Cause': 'Competition', 'Closed': '2016', 'Number of Founders': '2', 'Name of Founders': 'Brendan Marshall, Ian Ferguson', 'Number of Employees': '10-50', 'Number of Funding Rounds': '3', 'Total Funding Amount': '$8.1M', 'Number of Investors': '20'}\n",
      "{'company_name': 'Kno', 'company_desc': 'Education software startup', 'Category': 'Education', 'Country': 'United States', 'Started': '2009', 'Outcome': 'Acquired', 'Cause': 'Competition', 'Closed': '2013', 'Number of Founders': '2', 'Name of Founders': 'Babur Habib, Osman Rashid', 'Number of Employees': '+10,000', 'Number of Funding Rounds': '7', 'Total Funding Amount': '$94.9M', 'Number of Investors': '10'}\n",
      "{'company_name': 'Beepi', 'company_desc': 'P2P used car online marketplace', 'Category': 'Transportation', 'Country': 'United States', 'Started': '2013', 'Outcome': 'Acquired', 'Cause': 'Mismanagement of Funds', 'Closed': '2016', 'Number of Founders': '2', 'Name of Founders': 'Ale Resnik, Owen Savir', 'Number of Employees': '100-250', 'Number of Funding Rounds': '6', 'Total Funding Amount': '$149M', 'Number of Investors': '31'}\n",
      "{'company_name': 'Pixate', 'company_desc': 'Platform for mobile interaction design', 'Category': 'Design', 'Country': 'United States', 'Started': '2012', 'Outcome': 'Shut Down', 'Cause': 'Acquisition Flu', 'Closed': '2016', 'Number of Founders': '2', 'Name of Founders': 'Kevin Lindsey, Paul Colton', 'Number of Employees': '10-50', 'Number of Funding Rounds': '1', 'Total Funding Amount': '$3.8M', 'Number of Investors': '1'}\n",
      "{'company_name': 'Mailbox', 'company_desc': 'Inbox that made email light, fast, and mobile-friendly.', 'Category': 'Productivity', 'Country': 'United States', 'Started': '2011', 'Outcome': 'Shut Down', 'Cause': 'Bad Business Model', 'Closed': '2015', 'Number of Founders': '2', 'Name of Founders': 'Gentry Underwood, Scott Cannon', 'Number of Employees': '500-1,000', 'Number of Funding Rounds': '1', 'Total Funding Amount': '$5M', 'Number of Investors': '6'}\n",
      "{'company_name': 'DotCloud', 'company_desc': 'Enabled developers to host, assemble and run their applications', 'Category': 'Software & Hardware', 'Country': 'United States', 'Started': '2008', 'Outcome': 'Bankruptcy', 'Cause': 'Mismanagement of Funds', 'Closed': '2016', 'Number of Founders': '1', 'Name of Founders': 'Solomon Hykes', 'Number of Employees': '250-500', 'Number of Funding Rounds': '3', 'Total Funding Amount': '$13.7M', 'Number of Investors': '15'}\n",
      "{'company_name': 'LayerVault', 'company_desc': 'Allowed users to store and collaborate on design work', 'Category': 'Design', 'Country': 'United States', 'Started': '2011', 'Outcome': 'Shut Down', 'Cause': 'Lack of Funds', 'Closed': '2014', 'Number of Founders': '2', 'Name of Founders': 'Allan Grinshtein, Kelly Sutton', 'Number of Employees': '10-50', 'Number of Funding Rounds': '1', 'Total Funding Amount': '$535K', 'Number of Investors': '3'}\n",
      "{'company_name': 'Dinner Lab', 'company_desc': 'Membership-based social dining experiment', 'Category': 'Food & Beverage', 'Country': 'United States', 'Started': '2011', 'Outcome': 'Shut Down', 'Cause': 'Bad Business Model', 'Closed': '2016', 'Number of Founders': '3', 'Name of Founders': 'Brian Bordainick, Francisco Robert, Zach Kupperman', 'Number of Employees': '10-50', 'Number of Funding Rounds': '2', 'Total Funding Amount': '$9.1M', 'Number of Investors': '5'}\n",
      "{'company_name': 'Digg', 'company_desc': 'Enables users to share interesting stories', 'Category': 'Social Media', 'Country': 'United States', 'Started': '2004', 'Outcome': 'Still Active', 'Cause': 'Competition', 'Closed': 'Active', 'Number of Founders': '1', 'Name of Founders': 'Kevin Rose', 'Number of Employees': '50-100', 'Number of Funding Rounds': '6', 'Total Funding Amount': '$49M', 'Number of Investors': '14'}\n",
      "{'company_name': 'Turntable.fm', 'company_desc': 'Online interactive platform for DJs and listeners', 'Category': 'Music', 'Country': 'United States', 'Started': '2011', 'Outcome': 'Shut Down', 'Cause': 'Bad Business Model', 'Closed': '2013', 'Number of Founders': '1', 'Name of Founders': 'Billy Chasen', 'Number of Employees': '1-10', 'Number of Funding Rounds': '1', 'Total Funding Amount': '$7M', 'Number of Investors': '10'}\n",
      "{'company_name': 'Sidecar', 'company_desc': 'Provided B2B delivery transportation network', 'Category': 'Transportation', 'Country': 'United States', 'Started': '2011', 'Outcome': 'Acquired', 'Cause': 'Competition', 'Closed': '2015', 'Number of Founders': '2', 'Name of Founders': 'Jahan Khanna, Sunil Paul', 'Number of Employees': '50-100', 'Number of Funding Rounds': '5', 'Total Funding Amount': '$45.5M', 'Number of Investors': '21'}\n",
      "{'company_name': 'Flud', 'company_desc': 'Social news reader for different platforms', 'Category': 'Productivity', 'Country': 'United States', 'Started': '2010', 'Outcome': 'Shut Down', 'Cause': 'Multiple Reasons', 'Closed': '2013', 'Number of Founders': '2', 'Name of Founders': 'Bobby Ghoshal, Matthew Ausonio', 'Number of Employees': '10-50', 'Number of Funding Rounds': '3', 'Total Funding Amount': '$3.1M', 'Number of Investors': '4'}\n",
      "{'company_name': 'Sprig', 'company_desc': 'Online app that provided healthy organic meals', 'Category': 'Food & Beverage', 'Country': 'United States', 'Started': '2013', 'Outcome': 'Shut Down', 'Cause': 'Competition', 'Closed': '2017', 'Number of Founders': '4', 'Name of Founders': 'Gagan Biyani, Matt Kent, Morgan Springer, Neeraj Berry', 'Number of Employees': '50-100', 'Number of Funding Rounds': '4', 'Total Funding Amount': '$56.7M', 'Number of Investors': '26'}\n"
     ]
    },
    {
     "name": "stdout",
     "output_type": "stream",
     "text": [
      "{'company_name': 'Sip', 'company_desc': 'Daily tappable tech news and stories', 'Category': 'Productivity', 'Country': 'United States', 'Started': '2018', 'Outcome': 'Shut Down', 'Cause': 'Multiple Reasons', 'Closed': '2019', 'Number of Founders': '3', 'Name of Founders': 'Ryan Hoover, Nick Abouzeid, Chad Whitaker', 'Number of Employees': '1-10', 'Number of Funding Rounds': '0', 'Total Funding Amount': 'Nothing', 'Number of Investors': '0'}\n",
      "{'company_name': 'MatterFab', 'company_desc': 'Selling affordable solutions for metal 3-D printing', 'Category': 'Software & Hardware', 'Country': 'United States', 'Started': '2013', 'Outcome': 'Shut Down', 'Cause': 'Bad Business Model', 'Closed': '2019', 'Number of Founders': '1', 'Name of Founders': 'Matthew Burris', 'Number of Employees': '1-10', 'Number of Funding Rounds': '3', 'Total Funding Amount': '$13.2M', 'Number of Investors': '7'}\n",
      "{'company_name': 'CircleBack Lending', 'company_desc': 'A P2P marketplace for online lending', 'Category': 'Finances', 'Country': 'United States', 'Started': '2012', 'Outcome': 'Shut Down', 'Cause': 'Bad Business Model', 'Closed': '2016', 'Number of Founders': '2', 'Name of Founders': 'Manoj Ramnani & Patrick Questembert', 'Number of Employees': '10-50', 'Number of Funding Rounds': '1', 'Total Funding Amount': '$12M', 'Number of Investors': '4'}\n",
      "{'company_name': 'Aria Insights', 'company_desc': 'Air vehicles for search and rescue missions', 'Category': 'Software & Hardware', 'Country': 'United States', 'Started': '2008', 'Outcome': 'Shut Down', 'Cause': 'Multiple Reasons', 'Closed': '2019', 'Number of Founders': '1', 'Name of Founders': 'Helen Greiner', 'Number of Employees': '10-50', 'Number of Funding Rounds': '7', 'Total Funding Amount': '$39M', 'Number of Investors': '8'}\n",
      "{'company_name': 'ChaCha', 'company_desc': 'Search engine with a live human being', 'Category': 'Software & Hardware', 'Country': 'United States', 'Started': '2005', 'Outcome': 'Shut Down', 'Cause': 'Competition', 'Closed': '2016', 'Number of Founders': '2', 'Name of Founders': 'Brad Bostic & Scott Jones', 'Number of Employees': '50-100', 'Number of Funding Rounds': '9', 'Total Funding Amount': '$96M', 'Number of Investors': '9'}\n",
      "{'company_name': 'Call9', 'company_desc': 'On-demand doctors in emergency situations', 'Category': 'Health', 'Country': 'United States', 'Started': '2015', 'Outcome': 'Shut Down', 'Cause': 'Bad Business Model', 'Closed': '2019', 'Number of Founders': '3', 'Name of Founders': 'Celina Tenev, Timothy Peck, XiaoSong Mu', 'Number of Employees': '100-250', 'Number of Funding Rounds': '3', 'Total Funding Amount': '$34M', 'Number of Investors': '10'}\n",
      "{'company_name': 'Vreal', 'company_desc': 'VR game-streaming platform', 'Category': 'Entertainment', 'Country': 'United States', 'Started': '2015', 'Outcome': 'Shut Down', 'Cause': 'Bad Timing', 'Closed': 'Active', 'Number of Founders': '1', 'Name of Founders': 'Todd Hooper', 'Number of Employees': '10-50', 'Number of Funding Rounds': '3', 'Total Funding Amount': '$15M', 'Number of Investors': '13'}\n",
      "{'company_name': 'Utrip', 'company_desc': 'AI-powered travel planning services', 'Category': 'Travel', 'Country': 'United States', 'Started': '2012', 'Outcome': 'Shut Down', 'Cause': 'Mismanagement of Funds', 'Closed': '2019', 'Number of Founders': '2', 'Name of Founders': 'Gilad Berenstein, Yair Berenstein', 'Number of Employees': '10-50', 'Number of Funding Rounds': '4', 'Total Funding Amount': '$6M', 'Number of Investors': '13'}\n",
      "{'company_name': 'Shyp', 'company_desc': 'On-demand shipping startup', 'Category': 'Transportation', 'Country': 'United States', 'Started': '2013', 'Outcome': 'Shut Down', 'Cause': 'Multiple Reasons', 'Closed': '2018', 'Number of Founders': '3', 'Name of Founders': 'Jack Smith, Joshua Scott, Kevin Gibbon', 'Number of Employees': '10-50', 'Number of Funding Rounds': '3', 'Total Funding Amount': '$62.1M', 'Number of Investors': '34'}\n",
      "{'company_name': 'Theranos', 'company_desc': 'Consumer healthcare technology company', 'Category': 'Health', 'Country': 'United States', 'Started': '2003', 'Outcome': 'Shut Down', 'Cause': 'Legal Challenges', 'Closed': '2018', 'Number of Founders': '1', 'Name of Founders': 'Elizabeth Holmes', 'Number of Employees': '10-50', 'Number of Funding Rounds': '10', 'Total Funding Amount': '$1.4B', 'Number of Investors': '16'}\n",
      "{'company_name': 'Laurel & Wolf', 'company_desc': 'Online interior design marketplace', 'Category': 'e-Commerce', 'Country': 'United States', 'Started': '2014', 'Outcome': 'Shut Down', 'Cause': 'Multiple Reasons', 'Closed': 'Active', 'Number of Founders': '2', 'Name of Founders': 'Brandon Kleinman, Leura Fine', 'Number of Employees': '50-100', 'Number of Funding Rounds': '4', 'Total Funding Amount': '$25.5M', 'Number of Investors': '14'}\n",
      "{'company_name': 'Stratolaunch', 'company_desc': 'Launching rockets into space from airplanes', 'Category': 'Transportation', 'Country': 'United States', 'Started': '2010', 'Outcome': 'Shut Down', 'Cause': 'Lack of Focus', 'Closed': '2019', 'Number of Founders': '1', 'Name of Founders': 'Paul Allen', 'Number of Employees': '500-1,000', 'Number of Funding Rounds': '0', 'Total Funding Amount': '-', 'Number of Investors': '0'}\n",
      "{'company_name': 'Navdy', 'company_desc': 'Augmented driving device for cars', 'Category': 'Transportation', 'Country': 'United States', 'Started': '2013', 'Outcome': 'Shut Down', 'Cause': 'Multiple Reasons', 'Closed': '2018', 'Number of Founders': '2', 'Name of Founders': 'Doug Simpson, Karl Guttag', 'Number of Employees': '50-100', 'Number of Funding Rounds': '4', 'Total Funding Amount': '$41.8M', 'Number of Investors': '20'}\n",
      "{'company_name': 'Anki', 'company_desc': 'Building emotionally intelligent robots', 'Category': 'Software & Hardware', 'Country': 'United States', 'Started': '2010', 'Outcome': 'Shut Down', 'Cause': 'Lack of Funds', 'Closed': '2019', 'Number of Founders': '3', 'Name of Founders': 'Boris Sofman, Hanns Tappeiner, Mark Palatucci', 'Number of Employees': '100-250', 'Number of Funding Rounds': '5', 'Total Funding Amount': '$182M', 'Number of Investors': '6'}\n",
      "{'company_name': 'Munchery', 'company_desc': 'Gourmet meals at your doorstep', 'Category': 'Food & Beverage', 'Country': 'United States', 'Started': '2011', 'Outcome': 'Bankruptcy', 'Cause': 'Multiple Reasons', 'Closed': '2019', 'Number of Founders': '3', 'Name of Founders': 'Conrad Chu, Tri Tran, Van Tran', 'Number of Employees': '100-250', 'Number of Funding Rounds': '8', 'Total Funding Amount': '$125.4M', 'Number of Investors': '20'}\n",
      "{'company_name': 'Quibi', 'company_desc': 'Short-form streaming platform', 'Category': 'Entertainment', 'Country': 'United States', 'Started': '2018', 'Outcome': 'Shut Down', 'Cause': 'Multiple Reasons', 'Closed': '2020', 'Number of Founders': '1', 'Name of Founders': 'Jeffrey Katzenberg', 'Number of Employees': '250-500', 'Number of Funding Rounds': '2', 'Total Funding Amount': '$1.8B', 'Number of Investors': '14'}\n"
     ]
    }
   ],
   "source": [
    "driver.get(base_url)\n",
    "driver.execute_script(\"window.scrollTo(0, document.body.scrollHeight);\")\n",
    "time.sleep(5)\n",
    "element = driver.find_element_by_xpath(\"//div[@class='w-dyn-items']\")\n",
    "links = element.find_elements_by_xpath(\"//div[@class='w-dyn-item']/a[1]\")\n",
    "cur_win = driver.current_window_handle\n",
    "items = [ele.get_property('href') for ele in links]\n",
    "\n",
    "for i in range(0,len(items)):\n",
    "    details = {}\n",
    "    try:\n",
    "        driver.get(items[i])\n",
    "        time.sleep(5)\n",
    "        details['company_name'] = driver.find_element_by_tag_name('h1').text\n",
    "        details['company_desc'] = driver.find_element_by_class_name('cemetery-page-short-description').text\n",
    "        elements = driver.find_elements_by_xpath(\"//div[@class='w-layout-grid cemetery-page-data-grid']/div/div[@class='w-clearfix']\")\n",
    "        for ele in elements:\n",
    "            cat = ele.find_element_by_class_name(\"cemetery-page-data-category\").text\n",
    "            info = ele.find_element_by_class_name(\"cemetery-page-data-information\").text\n",
    "            details[cat[:-1]] = info\n",
    "        print(details)\n",
    "        company_details.append(details)\n",
    "    except ElementClickInterceptedException or ElementNotInteractableException as err:\n",
    "        print(err)\n",
    "    "
   ]
  },
  {
   "cell_type": "code",
   "execution_count": 92,
   "metadata": {},
   "outputs": [
    {
     "data": {
      "text/plain": [
       "92"
      ]
     },
     "execution_count": 92,
     "metadata": {},
     "output_type": "execute_result"
    }
   ],
   "source": [
    "len(company_details)"
   ]
  },
  {
   "cell_type": "code",
   "execution_count": 88,
   "metadata": {},
   "outputs": [],
   "source": [
    "df = pd.DataFrame.from_dict(company_details)"
   ]
  },
  {
   "cell_type": "code",
   "execution_count": 97,
   "metadata": {},
   "outputs": [],
   "source": [
    "df = df[df.Country != 'India']"
   ]
  },
  {
   "cell_type": "code",
   "execution_count": 98,
   "metadata": {},
   "outputs": [],
   "source": [
    "df.to_csv('failed_startup_list.csv', index=False)"
   ]
  }
 ],
 "metadata": {
  "kernelspec": {
   "display_name": "Python 3",
   "language": "python",
   "name": "python3"
  },
  "language_info": {
   "codemirror_mode": {
    "name": "ipython",
    "version": 3
   },
   "file_extension": ".py",
   "mimetype": "text/x-python",
   "name": "python",
   "nbconvert_exporter": "python",
   "pygments_lexer": "ipython3",
   "version": "3.8.5"
  }
 },
 "nbformat": 4,
 "nbformat_minor": 4
}
