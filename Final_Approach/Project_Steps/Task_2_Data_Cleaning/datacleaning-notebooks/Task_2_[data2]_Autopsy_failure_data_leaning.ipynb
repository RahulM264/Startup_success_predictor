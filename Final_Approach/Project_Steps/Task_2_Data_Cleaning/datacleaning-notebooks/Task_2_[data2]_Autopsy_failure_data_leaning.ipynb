{
  "nbformat": 4,
  "nbformat_minor": 0,
  "metadata": {
    "colab": {
      "name": "Task 2 - [data2] Autopsy failure data leaning.ipynb",
      "provenance": [],
      "collapsed_sections": []
    },
    "kernelspec": {
      "name": "python3",
      "display_name": "Python 3"
    },
    "language_info": {
      "name": "python"
    }
  },
  "cells": [
    {
      "cell_type": "markdown",
      "metadata": {
        "id": "UAmLX6vWdjXy"
      },
      "source": [
        "Documentation :\n",
        "\n",
        "- V.Small Data about 21 Failed Companies\n",
        "\n",
        "- Extracted city from the **Based in** column and removed it\n",
        "\n",
        "- Extracted *year* from **Launch** and **Closure** \n",
        "\n",
        "- Replaced null values in **Number of investors** with min of all values\n",
        "\n",
        "- Removed **Acquisition date,Accelator Program,Founding rounds amount,Last Funding,Last Funding Date,Last Funding type** as they have more than 50% missing values\n",
        "\n",
        "- Modified **Employee count** to **Avg Employee Count**\n",
        "\n",
        "- Modified **Acquisition Status** to Yes/No (binary features)\n",
        "\n",
        "- Replaced **-** with *no_data*"
      ]
    },
    {
      "cell_type": "code",
      "metadata": {
        "id": "rzr9xDhlEZbe"
      },
      "source": [
        "import pandas as pd\n",
        "import numpy as np\n",
        "import re "
      ],
      "execution_count": 175,
      "outputs": []
    },
    {
      "cell_type": "code",
      "metadata": {
        "id": "CntzBFLaLYDI"
      },
      "source": [
        "file_path = '/content/failure_startup_autopsy_data.csv'\n",
        "df = pd.read_csv(file_path)\n",
        "\n",
        "original_df = df.copy()"
      ],
      "execution_count": 176,
      "outputs": []
    },
    {
      "cell_type": "code",
      "metadata": {
        "colab": {
          "base_uri": "https://localhost:8080/",
          "height": 622
        },
        "id": "htKe2_d_LlLe",
        "outputId": "55598420-ab63-46ce-a57c-c9738cf16f58"
      },
      "source": [
        "df.head()"
      ],
      "execution_count": 177,
      "outputs": [
        {
          "output_type": "execute_result",
          "data": {
            "text/html": [
              "<div>\n",
              "<style scoped>\n",
              "    .dataframe tbody tr th:only-of-type {\n",
              "        vertical-align: middle;\n",
              "    }\n",
              "\n",
              "    .dataframe tbody tr th {\n",
              "        vertical-align: top;\n",
              "    }\n",
              "\n",
              "    .dataframe thead th {\n",
              "        text-align: right;\n",
              "    }\n",
              "</style>\n",
              "<table border=\"1\" class=\"dataframe\">\n",
              "  <thead>\n",
              "    <tr style=\"text-align: right;\">\n",
              "      <th></th>\n",
              "      <th>Unnamed: 0</th>\n",
              "      <th>Company_Name</th>\n",
              "      <th>Based in</th>\n",
              "      <th>Company_type</th>\n",
              "      <th>Business_type</th>\n",
              "      <th>Description</th>\n",
              "      <th>Launch</th>\n",
              "      <th>Closure</th>\n",
              "      <th>Duration (months)</th>\n",
              "      <th>Reason</th>\n",
              "      <th>Failure categories</th>\n",
              "      <th>Number of investors</th>\n",
              "      <th>Accelerator program</th>\n",
              "      <th>Acquisition status</th>\n",
              "      <th>Acquisition date</th>\n",
              "      <th>Employee count</th>\n",
              "      <th>Founders</th>\n",
              "      <th>Total funding</th>\n",
              "      <th>Number of funding rounds</th>\n",
              "      <th>Funding round(s) amount(s)</th>\n",
              "      <th>Last funding</th>\n",
              "      <th>Last funding date</th>\n",
              "      <th>Last funding type</th>\n",
              "      <th>Funding Status</th>\n",
              "    </tr>\n",
              "  </thead>\n",
              "  <tbody>\n",
              "    <tr>\n",
              "      <th>0</th>\n",
              "      <td>0</td>\n",
              "      <td>Amiloom</td>\n",
              "      <td>San Francisco, California, United States</td>\n",
              "      <td>Information Technology</td>\n",
              "      <td>B2C</td>\n",
              "      <td>Device forms network of people w/common friends</td>\n",
              "      <td>1 December 2012</td>\n",
              "      <td>1 October 2014</td>\n",
              "      <td>1 year, 10 months</td>\n",
              "      <td>Cannot be clearly explained in 3 seconds</td>\n",
              "      <td>Poor Marketing</td>\n",
              "      <td>-</td>\n",
              "      <td>-</td>\n",
              "      <td>-</td>\n",
              "      <td>-</td>\n",
              "      <td>1-10</td>\n",
              "      <td>Anders Hsi</td>\n",
              "      <td>$1,713 pledged of $108,127 goal</td>\n",
              "      <td>1</td>\n",
              "      <td>-</td>\n",
              "      <td>$1,713 pledged of $108,127 goal</td>\n",
              "      <td>20 November 2014</td>\n",
              "      <td>Crowfunding</td>\n",
              "      <td>Crowfunding</td>\n",
              "    </tr>\n",
              "    <tr>\n",
              "      <th>1</th>\n",
              "      <td>1</td>\n",
              "      <td>Backfence</td>\n",
              "      <td>Mclean, Virginia, United States</td>\n",
              "      <td>Communities, Internet, Web Hosting</td>\n",
              "      <td>B2C</td>\n",
              "      <td>create hyper-local community sites</td>\n",
              "      <td>1 January 2004</td>\n",
              "      <td>1 July 2007</td>\n",
              "      <td>3 years, 6 months</td>\n",
              "      <td>internal problems made it impossible to reach ...</td>\n",
              "      <td>​</td>\n",
              "      <td>2</td>\n",
              "      <td>-</td>\n",
              "      <td>-</td>\n",
              "      <td>-</td>\n",
              "      <td>11-50</td>\n",
              "      <td>Mark Potts</td>\n",
              "      <td>$3,000,000</td>\n",
              "      <td>1</td>\n",
              "      <td>​</td>\n",
              "      <td>$3,000,000</td>\n",
              "      <td>13 October 2006</td>\n",
              "      <td>Venture - Series Unknown</td>\n",
              "      <td>Venture - Series Unknown</td>\n",
              "    </tr>\n",
              "    <tr>\n",
              "      <th>2</th>\n",
              "      <td>2</td>\n",
              "      <td>Circa_News</td>\n",
              "      <td>San Francisco, California, United States</td>\n",
              "      <td>Mobile, News, Apps</td>\n",
              "      <td>B2C</td>\n",
              "      <td>Mobile news app</td>\n",
              "      <td>1 December 2011</td>\n",
              "      <td>1 June 2015</td>\n",
              "      <td>3 years, 6 months</td>\n",
              "      <td>Lack of funding, no buyers</td>\n",
              "      <td>No Financing or Investor Interest</td>\n",
              "      <td>39</td>\n",
              "      <td>-</td>\n",
              "      <td>Acquired by Sinclair Broadcast Group for undis...</td>\n",
              "      <td>9 December 2015</td>\n",
              "      <td>11-50</td>\n",
              "      <td>Arsenio Santos, Ben Huh, Matt Galligan</td>\n",
              "      <td>$4,737,750</td>\n",
              "      <td>7</td>\n",
              "      <td>Seed - $1,225,000 , Funding Round - $1,092,750...</td>\n",
              "      <td>$4,737,750</td>\n",
              "      <td>1 March 2014</td>\n",
              "      <td>Seed</td>\n",
              "      <td>M&amp;A</td>\n",
              "    </tr>\n",
              "    <tr>\n",
              "      <th>3</th>\n",
              "      <td>3</td>\n",
              "      <td>DeviceFidelity</td>\n",
              "      <td>Richardson, Texas, United States</td>\n",
              "      <td>Mobile, Wireless, Payments</td>\n",
              "      <td>B2B</td>\n",
              "      <td>Contactless payments / NFC for iphone</td>\n",
              "      <td>1 January 2007</td>\n",
              "      <td>1 February 2015</td>\n",
              "      <td>8 years, 1 month</td>\n",
              "      <td>Apple built NFC into new product line</td>\n",
              "      <td>​</td>\n",
              "      <td>2</td>\n",
              "      <td>-</td>\n",
              "      <td>Acquired by Kili for undisclosed amount</td>\n",
              "      <td>12 November 2014</td>\n",
              "      <td>11-50</td>\n",
              "      <td>Amitaabh Malhotra, Deepak Jain</td>\n",
              "      <td>$9,646,024</td>\n",
              "      <td>4</td>\n",
              "      <td>-</td>\n",
              "      <td>$9,646,024</td>\n",
              "      <td>4 March 2013</td>\n",
              "      <td>Debt Financing</td>\n",
              "      <td>M&amp;A</td>\n",
              "    </tr>\n",
              "    <tr>\n",
              "      <th>4</th>\n",
              "      <td>4</td>\n",
              "      <td>Gumroad_</td>\n",
              "      <td>San Francisco, California, United States</td>\n",
              "      <td>Content, Creative Agency, E-Commerce</td>\n",
              "      <td>B2C</td>\n",
              "      <td>Owns and operates an online service through wh...</td>\n",
              "      <td>1 January 2011</td>\n",
              "      <td>1 January 2019</td>\n",
              "      <td>8 years</td>\n",
              "      <td>It took years for me to realize my pursuit of ...</td>\n",
              "      <td>​</td>\n",
              "      <td>10</td>\n",
              "      <td>-</td>\n",
              "      <td>-</td>\n",
              "      <td>-</td>\n",
              "      <td>11-50</td>\n",
              "      <td>Sahil Lavingia</td>\n",
              "      <td>$8,100,000</td>\n",
              "      <td>2</td>\n",
              "      <td>Seed - $1,100,000, Series A - $7,000,000</td>\n",
              "      <td>$8,100,000</td>\n",
              "      <td>8 February 2012</td>\n",
              "      <td>Series A</td>\n",
              "      <td>Series A</td>\n",
              "    </tr>\n",
              "  </tbody>\n",
              "</table>\n",
              "</div>"
            ],
            "text/plain": [
              "   Unnamed: 0  ...            Funding Status\n",
              "0           0  ...              Crowfunding \n",
              "1           1  ...  Venture - Series Unknown\n",
              "2           2  ...                       M&A\n",
              "3           3  ...                       M&A\n",
              "4           4  ...                  Series A\n",
              "\n",
              "[5 rows x 24 columns]"
            ]
          },
          "metadata": {
            "tags": []
          },
          "execution_count": 177
        }
      ]
    },
    {
      "cell_type": "code",
      "metadata": {
        "colab": {
          "base_uri": "https://localhost:8080/"
        },
        "id": "n1vNRO9ZM594",
        "outputId": "53e84575-6413-456e-f1f9-167e92424d0a"
      },
      "source": [
        "\n",
        "df.info()"
      ],
      "execution_count": 178,
      "outputs": [
        {
          "output_type": "stream",
          "text": [
            "<class 'pandas.core.frame.DataFrame'>\n",
            "RangeIndex: 21 entries, 0 to 20\n",
            "Data columns (total 24 columns):\n",
            " #   Column                      Non-Null Count  Dtype \n",
            "---  ------                      --------------  ----- \n",
            " 0   Unnamed: 0                  21 non-null     int64 \n",
            " 1   Company_Name                21 non-null     object\n",
            " 2   Based in                    21 non-null     object\n",
            " 3   Company_type                21 non-null     object\n",
            " 4   Business_type               21 non-null     object\n",
            " 5   Description                 21 non-null     object\n",
            " 6   Launch                      21 non-null     object\n",
            " 7   Closure                     21 non-null     object\n",
            " 8   Duration (months)           21 non-null     object\n",
            " 9   Reason                      21 non-null     object\n",
            " 10  Failure categories          21 non-null     object\n",
            " 11  Number of investors         21 non-null     object\n",
            " 12  Accelerator program         21 non-null     object\n",
            " 13  Acquisition status          21 non-null     object\n",
            " 14  Acquisition date            21 non-null     object\n",
            " 15  Employee count              21 non-null     object\n",
            " 16  Founders                    21 non-null     object\n",
            " 17  Total funding               21 non-null     object\n",
            " 18  Number of funding rounds    21 non-null     object\n",
            " 19  Funding round(s) amount(s)  21 non-null     object\n",
            " 20  Last funding                21 non-null     object\n",
            " 21  Last funding date           21 non-null     object\n",
            " 22  Last funding type           21 non-null     object\n",
            " 23  Funding Status              21 non-null     object\n",
            "dtypes: int64(1), object(23)\n",
            "memory usage: 4.1+ KB\n"
          ],
          "name": "stdout"
        }
      ]
    },
    {
      "cell_type": "code",
      "metadata": {
        "id": "JXEZlLmxRB5y"
      },
      "source": [
        "def extract_city(text):\n",
        "\n",
        "  city = text.replace(\"United States\",\" \").strip().split(',')[0]\n",
        "  return city"
      ],
      "execution_count": 179,
      "outputs": []
    },
    {
      "cell_type": "code",
      "metadata": {
        "id": "Wjiqp6AnRQHu"
      },
      "source": [
        "df['City'] = df['Based in'].apply(extract_city)"
      ],
      "execution_count": 180,
      "outputs": []
    },
    {
      "cell_type": "code",
      "metadata": {
        "id": "MVR5OwnX02Yf"
      },
      "source": [
        "def extract_year(text):\n",
        "\n",
        "  year = re.search(r\"\\d{4}\",text).group(0)\n",
        "  return year\n",
        "\n",
        "\n",
        "df['Launch_Year'] = df['Launch'].apply(extract_year) \n",
        "df['Close Year']  = df['Closure'].apply(extract_year)"
      ],
      "execution_count": 181,
      "outputs": []
    },
    {
      "cell_type": "code",
      "metadata": {
        "colab": {
          "base_uri": "https://localhost:8080/"
        },
        "id": "nrFsu5Lk1lRu",
        "outputId": "4dd393bf-8390-4236-f9ce-8f6cd665454d"
      },
      "source": [
        "df['Accelerator program'].value_counts()"
      ],
      "execution_count": 182,
      "outputs": [
        {
          "output_type": "execute_result",
          "data": {
            "text/plain": [
              "-                              17\n",
              "Y Combinator & 500 Startups     1\n",
              "500 Startups                    1\n",
              "Y Combinator                    1\n",
              "Techstars 2016 cohort           1\n",
              "Name: Accelerator program, dtype: int64"
            ]
          },
          "metadata": {
            "tags": []
          },
          "execution_count": 182
        }
      ]
    },
    {
      "cell_type": "code",
      "metadata": {
        "id": "Gg4ipz4lWOR7"
      },
      "source": [
        "df['Acquisition_status(y/n)'] = df['Acquisition status'].apply(lambda x: \"no\" if x=='-' else \"yes\")"
      ],
      "execution_count": 183,
      "outputs": []
    },
    {
      "cell_type": "code",
      "metadata": {
        "id": "EfN4C9VO1lPH"
      },
      "source": [
        "remove_cols = ['Unnamed: 0','Based in','Launch','Closure','Duration (months)','Accelerator program','Acquisition status','Acquisition date','Funding round(s) amount(s)', 'Last funding date', 'Last funding type']\n",
        "df.drop(columns = remove_cols,axis=1,inplace=True)"
      ],
      "execution_count": 184,
      "outputs": []
    },
    {
      "cell_type": "code",
      "metadata": {
        "id": "1okrXDDn1lKJ"
      },
      "source": [
        "df.drop(columns = [df.columns[-6]],axis = 1,inplace=True)"
      ],
      "execution_count": 185,
      "outputs": []
    },
    {
      "cell_type": "markdown",
      "metadata": {
        "id": "oVgMThD_Z4_c"
      },
      "source": [
        "- modifying employee count"
      ]
    },
    {
      "cell_type": "code",
      "metadata": {
        "id": "JFql9cePZiMv"
      },
      "source": [
        "def avg_employee_count(count):\n",
        "\n",
        "  min_ = float(count.split('-')[0])\n",
        "  max_ = float(count.split('-')[1])\n",
        "\n",
        "  return (min_ + max_)/2.0\n",
        "  \n"
      ],
      "execution_count": 186,
      "outputs": []
    },
    {
      "cell_type": "code",
      "metadata": {
        "id": "IfMCQwL8aW0-"
      },
      "source": [
        "df['avg_employee_count'] = df['Employee count'].apply(avg_employee_count)"
      ],
      "execution_count": 187,
      "outputs": []
    },
    {
      "cell_type": "code",
      "metadata": {
        "colab": {
          "base_uri": "https://localhost:8080/"
        },
        "id": "aqgVOFo0aygQ",
        "outputId": "f05bab91-7736-4979-a2f4-0060c5be13d7"
      },
      "source": [
        "df['avg_employee_count']"
      ],
      "execution_count": 188,
      "outputs": [
        {
          "output_type": "execute_result",
          "data": {
            "text/plain": [
              "0        5.5\n",
              "1       30.5\n",
              "2       30.5\n",
              "3       30.5\n",
              "4       30.5\n",
              "5       75.5\n",
              "6      175.5\n",
              "7       30.5\n",
              "8        5.5\n",
              "9     7500.5\n",
              "10     175.5\n",
              "11      75.5\n",
              "12      75.5\n",
              "13       5.5\n",
              "14      30.5\n",
              "15      30.5\n",
              "16       5.5\n",
              "17      75.5\n",
              "18    3000.5\n",
              "19      30.5\n",
              "20       5.5\n",
              "Name: avg_employee_count, dtype: float64"
            ]
          },
          "metadata": {
            "tags": []
          },
          "execution_count": 188
        }
      ]
    },
    {
      "cell_type": "code",
      "metadata": {
        "id": "0keLcINqbDpn"
      },
      "source": [
        "df.replace('-','no_data',inplace=True)"
      ],
      "execution_count": 189,
      "outputs": []
    },
    {
      "cell_type": "code",
      "metadata": {
        "id": "CNZkdr7EcrqZ"
      },
      "source": [
        "space = df['Failure categories'].value_counts().index[0]\n",
        "\n",
        "df.replace(space,\"no_data\",inplace=True)"
      ],
      "execution_count": 190,
      "outputs": []
    },
    {
      "cell_type": "code",
      "metadata": {
        "id": "3KYrcoemdAnU"
      },
      "source": [
        "min_investors = df['Number of investors'].min()\n",
        "df['Number of investors'].replace(\"no_data\",min_investors,inplace=True)"
      ],
      "execution_count": 191,
      "outputs": []
    },
    {
      "cell_type": "code",
      "metadata": {
        "id": "sHTRxpsjdZMo"
      },
      "source": [
        "df.drop(columns = ['Employee count'],axis = 1,inplace=True)"
      ],
      "execution_count": 193,
      "outputs": []
    },
    {
      "cell_type": "code",
      "metadata": {
        "id": "EzrGvrVPg1u1"
      },
      "source": [
        "def extract_funding(fund):\n",
        "   \n",
        "  if fund != \"no_data\":\n",
        "\n",
        "    funding = float(fund.replace(',','').replace('$',''))\n",
        "\n",
        "    return funding"
      ],
      "execution_count": 213,
      "outputs": []
    },
    {
      "cell_type": "code",
      "metadata": {
        "colab": {
          "base_uri": "https://localhost:8080/"
        },
        "id": "P_tAohFZhtBl",
        "outputId": "ff118fc4-735a-46e3-d952-b08bb14f822c"
      },
      "source": [
        "df['Total funding'][1:]"
      ],
      "execution_count": 203,
      "outputs": [
        {
          "output_type": "execute_result",
          "data": {
            "text/plain": [
              "1       $3,000,000\n",
              "2       $4,737,750\n",
              "3       $9,646,024\n",
              "4       $8,100,000\n",
              "5      $65,890,945\n",
              "6     $118,500,000\n",
              "7       $8,100,000\n",
              "8       $3,200,000\n",
              "9      $21,600,000\n",
              "10     $88,600,000\n",
              "11    $118,100,000\n",
              "12     $66,150,000\n",
              "13         $15,000\n",
              "14     $62,100,000\n",
              "15     $14,950,000\n",
              "16         no_data\n",
              "17      $1,800,000\n",
              "18    $194,600,000\n",
              "19     $73,500,000\n",
              "20         no_data\n",
              "Name: Total funding, dtype: object"
            ]
          },
          "metadata": {
            "tags": []
          },
          "execution_count": 203
        }
      ]
    },
    {
      "cell_type": "code",
      "metadata": {
        "id": "uh_4q6-FhmZ7"
      },
      "source": [
        "df['total_funding(in $)'] = df['Total funding'][1:].apply(extract_funding)"
      ],
      "execution_count": 214,
      "outputs": []
    },
    {
      "cell_type": "code",
      "metadata": {
        "colab": {
          "base_uri": "https://localhost:8080/"
        },
        "id": "KmKzB0FeiKZt",
        "outputId": "332b23d4-d534-40ac-df1c-273e66461795"
      },
      "source": [
        "df['total_funding(in $)']"
      ],
      "execution_count": 215,
      "outputs": [
        {
          "output_type": "execute_result",
          "data": {
            "text/plain": [
              "0             NaN\n",
              "1       3000000.0\n",
              "2       4737750.0\n",
              "3       9646024.0\n",
              "4       8100000.0\n",
              "5      65890945.0\n",
              "6     118500000.0\n",
              "7       8100000.0\n",
              "8       3200000.0\n",
              "9      21600000.0\n",
              "10     88600000.0\n",
              "11    118100000.0\n",
              "12     66150000.0\n",
              "13        15000.0\n",
              "14     62100000.0\n",
              "15     14950000.0\n",
              "16            NaN\n",
              "17      1800000.0\n",
              "18    194600000.0\n",
              "19     73500000.0\n",
              "20            NaN\n",
              "Name: total_funding(in $), dtype: float64"
            ]
          },
          "metadata": {
            "tags": []
          },
          "execution_count": 215
        }
      ]
    },
    {
      "cell_type": "code",
      "metadata": {
        "id": "raDNdZyVjBX_"
      },
      "source": [
        "min_fund = df['total_funding(in $)'].min()\n",
        "df['total_funding(in $)'].fillna(min_fund,inplace=True)"
      ],
      "execution_count": 217,
      "outputs": []
    },
    {
      "cell_type": "code",
      "metadata": {
        "id": "MmHE-E5Mg1kD"
      },
      "source": [
        ""
      ],
      "execution_count": null,
      "outputs": []
    },
    {
      "cell_type": "code",
      "metadata": {
        "id": "zRfKTTY9g1hy"
      },
      "source": [
        "df.drop(columns = ['Total funding'],axis = 1,inplace=True)"
      ],
      "execution_count": 221,
      "outputs": []
    },
    {
      "cell_type": "code",
      "metadata": {
        "id": "QXttJyGJjd7Q"
      },
      "source": [
        "df.to_csv(\"cleaned_failure_startup_autopsy_data.csv\")"
      ],
      "execution_count": 223,
      "outputs": []
    },
    {
      "cell_type": "code",
      "metadata": {
        "id": "CdOt5IIbkQnc"
      },
      "source": [
        ""
      ],
      "execution_count": null,
      "outputs": []
    },
    {
      "cell_type": "code",
      "metadata": {
        "id": "MsUeLycakQlI"
      },
      "source": [
        ""
      ],
      "execution_count": null,
      "outputs": []
    },
    {
      "cell_type": "code",
      "metadata": {
        "id": "ItrUuaKkkQih"
      },
      "source": [
        ""
      ],
      "execution_count": null,
      "outputs": []
    },
    {
      "cell_type": "markdown",
      "metadata": {
        "id": "ZCDxduptkEBq"
      },
      "source": [
        "- failed regex experiments"
      ]
    },
    {
      "cell_type": "code",
      "metadata": {
        "id": "7s4ujzYVPrct"
      },
      "source": [
        "#import re\n",
        "#s1 = re.sub(r'United States\\s+',\"\",s)"
      ],
      "execution_count": null,
      "outputs": []
    },
    {
      "cell_type": "code",
      "metadata": {
        "id": "hZHvhNSnQUwf"
      },
      "source": [
        "#s2 = df['Launch'].str.extract(r'^(\\d{4})',expand=False)\n",
        "\n",
        "##extr = df['Date of Publication'].str.extract(r'^(\\d{4})', expand=False)"
      ],
      "execution_count": null,
      "outputs": []
    },
    {
      "cell_type": "code",
      "metadata": {
        "id": "vvLbiS_VXieq"
      },
      "source": [
        "#s2 = df['Launch'][0]"
      ],
      "execution_count": null,
      "outputs": []
    },
    {
      "cell_type": "code",
      "metadata": {
        "id": "sillrIby0pc1"
      },
      "source": [
        "#year = re.search(r\"\\d{4}\", df['Launch'][0]).group(0)"
      ],
      "execution_count": null,
      "outputs": []
    },
    {
      "cell_type": "code",
      "metadata": {
        "id": "edzNxE3z0udj"
      },
      "source": [
        "#year"
      ],
      "execution_count": null,
      "outputs": []
    },
    {
      "cell_type": "code",
      "metadata": {
        "id": "ew5QlYdCXjd4"
      },
      "source": [
        "#s2_ = re.sub(r'\\d+ .* \\d{4}',\"\",(s2))"
      ],
      "execution_count": null,
      "outputs": []
    },
    {
      "cell_type": "code",
      "metadata": {
        "colab": {
          "base_uri": "https://localhost:8080/",
          "height": 35
        },
        "id": "UKsIrmcHYpJy",
        "outputId": "7179b25b-0e96-4405-fcb8-8366e28bf9a8"
      },
      "source": [
        "#s2_ = df['Launch'][0].replace(r\"\\d+.*\")"
      ],
      "execution_count": null,
      "outputs": [
        {
          "output_type": "execute_result",
          "data": {
            "application/vnd.google.colaboratory.intrinsic+json": {
              "type": "string"
            },
            "text/plain": [
              "''"
            ]
          },
          "metadata": {
            "tags": []
          },
          "execution_count": 35
        }
      ]
    },
    {
      "cell_type": "code",
      "metadata": {
        "id": "ickK_M2YtJkH"
      },
      "source": [
        "#s2 = df['Duration (months)'][0]"
      ],
      "execution_count": 47,
      "outputs": []
    },
    {
      "cell_type": "code",
      "metadata": {
        "id": "JHRBVxjvJC2F"
      },
      "source": [
        "#s2"
      ],
      "execution_count": null,
      "outputs": []
    },
    {
      "cell_type": "code",
      "metadata": {
        "id": "bIfRfZdeJDoZ"
      },
      "source": [
        "#year = int(re.search(r\"(\\d?) (years?)\",s2).group(1))\n",
        "#month = re.search(r\"(\\d+) (months?)\",s2)"
      ],
      "execution_count": 90,
      "outputs": []
    },
    {
      "cell_type": "code",
      "metadata": {
        "id": "IaNgL15fJP-1"
      },
      "source": [
        "#year"
      ],
      "execution_count": null,
      "outputs": []
    },
    {
      "cell_type": "code",
      "metadata": {
        "id": "3aZKf_kaJQ0z"
      },
      "source": [
        "#month"
      ],
      "execution_count": null,
      "outputs": []
    },
    {
      "cell_type": "code",
      "metadata": {
        "id": "wr0_ogLgJ4y4"
      },
      "source": [
        "#month = re.search(r\"((\\d+) (months?))?\",s2).groups()"
      ],
      "execution_count": 92,
      "outputs": []
    },
    {
      "cell_type": "code",
      "metadata": {
        "id": "oRQUVRLmP_FX"
      },
      "source": [
        "#month"
      ],
      "execution_count": null,
      "outputs": []
    },
    {
      "cell_type": "code",
      "metadata": {
        "id": "qyfJ3OigQD6z"
      },
      "source": [
        ""
      ],
      "execution_count": null,
      "outputs": []
    }
  ]
}