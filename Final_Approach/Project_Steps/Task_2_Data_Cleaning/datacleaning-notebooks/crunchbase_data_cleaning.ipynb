{
  "nbformat": 4,
  "nbformat_minor": 0,
  "metadata": {
    "colab": {
      "name": "crunchbase_data_cleaning.ipynb",
      "provenance": [],
      "collapsed_sections": []
    },
    "kernelspec": {
      "name": "python3",
      "display_name": "Python 3"
    },
    "language_info": {
      "name": "python"
    }
  },
  "cells": [
    {
      "cell_type": "markdown",
      "metadata": {
        "id": "3ePYRV4t5mEP"
      },
      "source": [
        "1. Reading from the original dataset"
      ]
    },
    {
      "cell_type": "code",
      "metadata": {
        "id": "9y02yBiI5vsO"
      },
      "source": [
        "import pandas as pd\n",
        "import numpy as np\n",
        "df= pd.read_excel('data.xlsx')\n",
        "df.head(2)"
      ],
      "execution_count": null,
      "outputs": []
    },
    {
      "cell_type": "markdown",
      "metadata": {
        "id": "DvM37u6F5qjZ"
      },
      "source": [
        "2. Filtering out the non US startups"
      ]
    },
    {
      "cell_type": "code",
      "metadata": {
        "id": "nQAAgxR281jk"
      },
      "source": [
        "df_final=df[(df.iloc[:]['headquarters'].str.contains(\"United States\"))]"
      ],
      "execution_count": null,
      "outputs": []
    },
    {
      "cell_type": "code",
      "metadata": {
        "colab": {
          "base_uri": "https://localhost:8080/"
        },
        "id": "IDkM8_rx9TDD",
        "outputId": "8e897353-8c9a-4f69-a1f1-dc417ff0b053"
      },
      "source": [
        "print(df_final.head())\n",
        "df_final.reset_index(inplace= True)\n",
        "df_final.drop(labels='index', axis=1,inplace= True)\n",
        "df_final.head(30), len(df_final)"
      ],
      "execution_count": null,
      "outputs": [
        {
          "output_type": "stream",
          "text": [
            "             company_name  ...         filter\n",
            "3   1 Accord Technologies  ...  Software-2018\n",
            "5           1005 Ventures  ...  Software-2018\n",
            "7     1533 Systems, Inc.   ...  Software-2018\n",
            "9            17 TeraWatts  ...  Software-2018\n",
            "17            360 Privacy  ...  Software-2018\n",
            "\n",
            "[5 rows x 11 columns]\n"
          ],
          "name": "stdout"
        },
        {
          "output_type": "stream",
          "text": [
            "/usr/local/lib/python3.7/dist-packages/pandas/core/frame.py:4174: SettingWithCopyWarning: \n",
            "A value is trying to be set on a copy of a slice from a DataFrame\n",
            "\n",
            "See the caveats in the documentation: https://pandas.pydata.org/pandas-docs/stable/user_guide/indexing.html#returning-a-view-versus-a-copy\n",
            "  errors=errors,\n"
          ],
          "name": "stderr"
        },
        {
          "output_type": "execute_result",
          "data": {
            "text/plain": [
              "(             company_name  ...         filter\n",
              " 0   1 Accord Technologies  ...  Software-2018\n",
              " 1           1005 Ventures  ...  Software-2018\n",
              " 2     1533 Systems, Inc.   ...  Software-2018\n",
              " 3            17 TeraWatts  ...  Software-2018\n",
              " 4             360 Privacy  ...  Software-2018\n",
              " 5                    3DIQ  ...  Software-2018\n",
              " 6          3P Touch Media  ...  Software-2018\n",
              " 7                     4Di  ...  Software-2018\n",
              " 8                    ABYA  ...  Software-2018\n",
              " 9          Accelitude LLC  ...  Software-2018\n",
              " 10                Accelor  ...  Software-2018\n",
              " 11       Accounting Panel  ...  Software-2018\n",
              " 12      ACE IoT Solutions  ...  Software-2018\n",
              " 13         Acsibi Studios  ...  Software-2018\n",
              " 14                  ACTIO  ...  Software-2018\n",
              " 15          Activeconnect  ...  Software-2018\n",
              " 16             Acuity PPM  ...  Software-2018\n",
              " 17          ACW Analytics  ...  Software-2018\n",
              " 18        Ad Fontes Media  ...  Software-2018\n",
              " 19              Ad Genius  ...  Software-2018\n",
              " 20            Aersys Inc.  ...  Software-2018\n",
              " 21                 Agamon  ...  Software-2018\n",
              " 22                  Agape  ...  Software-2018\n",
              " 23                  Agave  ...  Software-2018\n",
              " 24             Agita Labs  ...  Software-2018\n",
              " 25     Agnes Intelligence  ...  Software-2018\n",
              " 26                 Agoric  ...  Software-2018\n",
              " 27              Agreemint  ...  Software-2018\n",
              " 28                  Akava  ...  Software-2018\n",
              " 29         Akita Software  ...  Software-2018\n",
              " \n",
              " [30 rows x 11 columns], 3008)"
            ]
          },
          "metadata": {
            "tags": []
          },
          "execution_count": 3
        }
      ]
    },
    {
      "cell_type": "markdown",
      "metadata": {
        "id": "hRG8RJ-T51zs"
      },
      "source": [
        "3. Dropping those rows which contain null or vague small description "
      ]
    },
    {
      "cell_type": "code",
      "metadata": {
        "id": "8xuG5gO2-X5W"
      },
      "source": [
        "drop=[]\n",
        "for i in range(len(df_final)):\n",
        "  #print(df_final.iloc[i]['description'])\n",
        "  if len(df_final.iloc[i]['description'])<5:\n",
        "    drop.append(i)\n",
        "    \n"
      ],
      "execution_count": null,
      "outputs": []
    },
    {
      "cell_type": "code",
      "metadata": {
        "colab": {
          "base_uri": "https://localhost:8080/"
        },
        "id": "ZXSTk5HnDoj2",
        "outputId": "d4793281-a626-46e4-f98f-4cca8e99afb8"
      },
      "source": [
        "df_final.drop(drop, axis=0, inplace= True)"
      ],
      "execution_count": null,
      "outputs": [
        {
          "output_type": "stream",
          "text": [
            "/usr/local/lib/python3.7/dist-packages/pandas/core/frame.py:4174: SettingWithCopyWarning: \n",
            "A value is trying to be set on a copy of a slice from a DataFrame\n",
            "\n",
            "See the caveats in the documentation: https://pandas.pydata.org/pandas-docs/stable/user_guide/indexing.html#returning-a-view-versus-a-copy\n",
            "  errors=errors,\n"
          ],
          "name": "stderr"
        }
      ]
    },
    {
      "cell_type": "code",
      "metadata": {
        "colab": {
          "base_uri": "https://localhost:8080/"
        },
        "id": "ss0ALSC18_af",
        "outputId": "0ce1d74b-9d78-4907-a728-82186e4c289d"
      },
      "source": [
        "df_final.reset_index(inplace= True)\n",
        "df_final.drop(labels='index', axis=1,inplace= True)"
      ],
      "execution_count": null,
      "outputs": [
        {
          "output_type": "stream",
          "text": [
            "/usr/local/lib/python3.7/dist-packages/pandas/core/frame.py:4174: SettingWithCopyWarning: \n",
            "A value is trying to be set on a copy of a slice from a DataFrame\n",
            "\n",
            "See the caveats in the documentation: https://pandas.pydata.org/pandas-docs/stable/user_guide/indexing.html#returning-a-view-versus-a-copy\n",
            "  errors=errors,\n"
          ],
          "name": "stderr"
        }
      ]
    },
    {
      "cell_type": "code",
      "metadata": {
        "colab": {
          "base_uri": "https://localhost:8080/",
          "height": 449
        },
        "id": "opRORla-9EqW",
        "outputId": "cd5062ce-0bdf-41fb-a828-043b79bf22ca"
      },
      "source": [
        "df_final.head()"
      ],
      "execution_count": null,
      "outputs": [
        {
          "output_type": "execute_result",
          "data": {
            "text/html": [
              "<div>\n",
              "<style scoped>\n",
              "    .dataframe tbody tr th:only-of-type {\n",
              "        vertical-align: middle;\n",
              "    }\n",
              "\n",
              "    .dataframe tbody tr th {\n",
              "        vertical-align: top;\n",
              "    }\n",
              "\n",
              "    .dataframe thead th {\n",
              "        text-align: right;\n",
              "    }\n",
              "</style>\n",
              "<table border=\"1\" class=\"dataframe\">\n",
              "  <thead>\n",
              "    <tr style=\"text-align: right;\">\n",
              "      <th></th>\n",
              "      <th>company_name</th>\n",
              "      <th>description</th>\n",
              "      <th>website</th>\n",
              "      <th>funding</th>\n",
              "      <th>industries</th>\n",
              "      <th>num_employees</th>\n",
              "      <th>headquarters</th>\n",
              "      <th>founded_date</th>\n",
              "      <th>industry_groups</th>\n",
              "      <th>full_description</th>\n",
              "      <th>filter</th>\n",
              "    </tr>\n",
              "  </thead>\n",
              "  <tbody>\n",
              "    <tr>\n",
              "      <th>0</th>\n",
              "      <td>1 Accord Technologies</td>\n",
              "      <td>1 Accord Technologies has been providing profe...</td>\n",
              "      <td>https://www.ashton-group.com/</td>\n",
              "      <td>Na</td>\n",
              "      <td>Consulting, Cyber Security, Hardware, IT Mana...</td>\n",
              "      <td>2021-01-10 00:00:00</td>\n",
              "      <td>Eatonton, Georgia, United States</td>\n",
              "      <td>2018</td>\n",
              "      <td>Hardware, Information Technology, Privacy and...</td>\n",
              "      <td>—</td>\n",
              "      <td>Software-2018</td>\n",
              "    </tr>\n",
              "    <tr>\n",
              "      <th>1</th>\n",
              "      <td>1005 Ventures</td>\n",
              "      <td>Venture Capital</td>\n",
              "      <td>http://www.1005ventures.com</td>\n",
              "      <td>Na</td>\n",
              "      <td>Information Technology, Internet, Venture Cap...</td>\n",
              "      <td>2021-01-10 00:00:00</td>\n",
              "      <td>San Francisco, California, United States</td>\n",
              "      <td>2018</td>\n",
              "      <td>Financial Services, Information Technology, I...</td>\n",
              "      <td>1005 ventures is set up to invest in start-ups...</td>\n",
              "      <td>Software-2018</td>\n",
              "    </tr>\n",
              "    <tr>\n",
              "      <th>2</th>\n",
              "      <td>1533 Systems, Inc.</td>\n",
              "      <td>Live Data platform, ingest, process, respond a...</td>\n",
              "      <td>http://1533.io</td>\n",
              "      <td>Na</td>\n",
              "      <td>Analytics, Information Technology, Software, ...</td>\n",
              "      <td>2021-01-10 00:00:00</td>\n",
              "      <td>Campbell, California, United States</td>\n",
              "      <td>2018</td>\n",
              "      <td>Content and Publishing, Data and Analytics, I...</td>\n",
              "      <td>1533 Systems is building the next generation d...</td>\n",
              "      <td>Software-2018</td>\n",
              "    </tr>\n",
              "    <tr>\n",
              "      <th>3</th>\n",
              "      <td>17 TeraWatts</td>\n",
              "      <td>17 TeraWatts is a clean energy software company.</td>\n",
              "      <td>https://www.17terawatts.com/</td>\n",
              "      <td>Na</td>\n",
              "      <td>Clean Energy, Energy, Information Technology,...</td>\n",
              "      <td>2021-01-10 00:00:00</td>\n",
              "      <td>Austin, Texas, United States</td>\n",
              "      <td>2018-01-01 00:00:00</td>\n",
              "      <td>Energy, Information Technology, Software, Sus...</td>\n",
              "      <td>—</td>\n",
              "      <td>Software-2018</td>\n",
              "    </tr>\n",
              "    <tr>\n",
              "      <th>4</th>\n",
              "      <td>3DIQ</td>\n",
              "      <td>3DIQ makes it beyond easy for recruiters to ed...</td>\n",
              "      <td>https://www.3diq.com</td>\n",
              "      <td>Na</td>\n",
              "      <td>Recruiting, Software</td>\n",
              "      <td>2021-01-10 00:00:00</td>\n",
              "      <td>Knoxville, Tennessee, United States</td>\n",
              "      <td>2018</td>\n",
              "      <td>Professional Services, Software</td>\n",
              "      <td>3DIQ is a recruiter’s secret weapon. We make i...</td>\n",
              "      <td>Software-2018</td>\n",
              "    </tr>\n",
              "  </tbody>\n",
              "</table>\n",
              "</div>"
            ],
            "text/plain": [
              "            company_name  ...         filter\n",
              "0  1 Accord Technologies  ...  Software-2018\n",
              "1          1005 Ventures  ...  Software-2018\n",
              "2    1533 Systems, Inc.   ...  Software-2018\n",
              "3           17 TeraWatts  ...  Software-2018\n",
              "4                   3DIQ  ...  Software-2018\n",
              "\n",
              "[5 rows x 11 columns]"
            ]
          },
          "metadata": {
            "tags": []
          },
          "execution_count": 7
        }
      ]
    },
    {
      "cell_type": "markdown",
      "metadata": {
        "id": "KR3_2btA6Hkr"
      },
      "source": [
        "4. Converting excel formatted datetime to number of employees in string format"
      ]
    },
    {
      "cell_type": "code",
      "metadata": {
        "id": "s2h1tLzvD4Pg"
      },
      "source": [
        "import datetime\n",
        "for i,date in enumerate(df_final['num_employees']):\n",
        "  if isinstance(date, datetime.datetime):\n",
        "    #print(df_final.iloc[i]['num_employees'])\n",
        "    df_final.iloc[i]['num_employees']=date.strftime('%m/%d/%Y')"
      ],
      "execution_count": null,
      "outputs": []
    },
    {
      "cell_type": "code",
      "metadata": {
        "id": "DQ-UlHJT-vvn"
      },
      "source": [
        "#in the num employee column, replace -,/ with ' to ' and remove year\n",
        "\n",
        "for i,date in enumerate(df_final['num_employees']):\n",
        "   if '/' in date:# or '-' in date:\n",
        "     df_final.iloc[i]['num_employees']=date.replace('/', ' to ')\n",
        "   if '-' in date:\n",
        "     df_final.iloc[i]['num_employees']=date.replace(\"-\", \" to \")\n",
        "\n",
        "for i,date in enumerate(df_final['num_employees']):\n",
        "   if \"to 2021\" in date:\n",
        "     df_final.iloc[i]['num_employees']=date.replace('to 2021', '')"
      ],
      "execution_count": null,
      "outputs": []
    },
    {
      "cell_type": "code",
      "metadata": {
        "colab": {
          "base_uri": "https://localhost:8080/",
          "height": 192
        },
        "id": "lpbOCPKuZy7I",
        "outputId": "bcbc37be-eefd-43a1-dcf3-76a8b9f935cb"
      },
      "source": [
        "df_final.describe()"
      ],
      "execution_count": null,
      "outputs": [
        {
          "output_type": "execute_result",
          "data": {
            "text/html": [
              "<div>\n",
              "<style scoped>\n",
              "    .dataframe tbody tr th:only-of-type {\n",
              "        vertical-align: middle;\n",
              "    }\n",
              "\n",
              "    .dataframe tbody tr th {\n",
              "        vertical-align: top;\n",
              "    }\n",
              "\n",
              "    .dataframe thead th {\n",
              "        text-align: right;\n",
              "    }\n",
              "</style>\n",
              "<table border=\"1\" class=\"dataframe\">\n",
              "  <thead>\n",
              "    <tr style=\"text-align: right;\">\n",
              "      <th></th>\n",
              "      <th>company_name</th>\n",
              "      <th>description</th>\n",
              "      <th>website</th>\n",
              "      <th>funding</th>\n",
              "      <th>industries</th>\n",
              "      <th>num_employees</th>\n",
              "      <th>headquarters</th>\n",
              "      <th>founded_date</th>\n",
              "      <th>industry_groups</th>\n",
              "      <th>full_description</th>\n",
              "      <th>filter</th>\n",
              "    </tr>\n",
              "  </thead>\n",
              "  <tbody>\n",
              "    <tr>\n",
              "      <th>count</th>\n",
              "      <td>2996</td>\n",
              "      <td>2996</td>\n",
              "      <td>2996</td>\n",
              "      <td>2996</td>\n",
              "      <td>2996</td>\n",
              "      <td>2996</td>\n",
              "      <td>2996</td>\n",
              "      <td>2996</td>\n",
              "      <td>2996</td>\n",
              "      <td>2996</td>\n",
              "      <td>2996</td>\n",
              "    </tr>\n",
              "    <tr>\n",
              "      <th>unique</th>\n",
              "      <td>2787</td>\n",
              "      <td>2786</td>\n",
              "      <td>2741</td>\n",
              "      <td>388</td>\n",
              "      <td>2321</td>\n",
              "      <td>7</td>\n",
              "      <td>632</td>\n",
              "      <td>10</td>\n",
              "      <td>1419</td>\n",
              "      <td>1826</td>\n",
              "      <td>5</td>\n",
              "    </tr>\n",
              "    <tr>\n",
              "      <th>top</th>\n",
              "      <td>Sweave</td>\n",
              "      <td>Discover meaningful and actionable value from ...</td>\n",
              "      <td>Na</td>\n",
              "      <td>Na</td>\n",
              "      <td>Software</td>\n",
              "      <td>01 to 10</td>\n",
              "      <td>San Francisco, California, United States</td>\n",
              "      <td>2017</td>\n",
              "      <td>Software</td>\n",
              "      <td>—</td>\n",
              "      <td>software_2017</td>\n",
              "    </tr>\n",
              "    <tr>\n",
              "      <th>freq</th>\n",
              "      <td>3</td>\n",
              "      <td>5</td>\n",
              "      <td>52</td>\n",
              "      <td>2093</td>\n",
              "      <td>56</td>\n",
              "      <td>2862</td>\n",
              "      <td>389</td>\n",
              "      <td>950</td>\n",
              "      <td>79</td>\n",
              "      <td>1028</td>\n",
              "      <td>1344</td>\n",
              "    </tr>\n",
              "  </tbody>\n",
              "</table>\n",
              "</div>"
            ],
            "text/plain": [
              "       company_name  ...         filter\n",
              "count          2996  ...           2996\n",
              "unique         2787  ...              5\n",
              "top          Sweave  ...  software_2017\n",
              "freq              3  ...           1344\n",
              "\n",
              "[4 rows x 11 columns]"
            ]
          },
          "metadata": {
            "tags": []
          },
          "execution_count": 11
        }
      ]
    },
    {
      "cell_type": "code",
      "metadata": {
        "colab": {
          "base_uri": "https://localhost:8080/",
          "height": 449
        },
        "id": "ourpLQDcdqG4",
        "outputId": "c22eda68-157c-4bce-bcae-6e0fb07463da"
      },
      "source": [
        "df_final.head()"
      ],
      "execution_count": null,
      "outputs": [
        {
          "output_type": "execute_result",
          "data": {
            "text/html": [
              "<div>\n",
              "<style scoped>\n",
              "    .dataframe tbody tr th:only-of-type {\n",
              "        vertical-align: middle;\n",
              "    }\n",
              "\n",
              "    .dataframe tbody tr th {\n",
              "        vertical-align: top;\n",
              "    }\n",
              "\n",
              "    .dataframe thead th {\n",
              "        text-align: right;\n",
              "    }\n",
              "</style>\n",
              "<table border=\"1\" class=\"dataframe\">\n",
              "  <thead>\n",
              "    <tr style=\"text-align: right;\">\n",
              "      <th></th>\n",
              "      <th>company_name</th>\n",
              "      <th>description</th>\n",
              "      <th>website</th>\n",
              "      <th>funding</th>\n",
              "      <th>industries</th>\n",
              "      <th>num_employees</th>\n",
              "      <th>headquarters</th>\n",
              "      <th>founded_date</th>\n",
              "      <th>industry_groups</th>\n",
              "      <th>full_description</th>\n",
              "      <th>filter</th>\n",
              "    </tr>\n",
              "  </thead>\n",
              "  <tbody>\n",
              "    <tr>\n",
              "      <th>0</th>\n",
              "      <td>1 Accord Technologies</td>\n",
              "      <td>1 Accord Technologies has been providing profe...</td>\n",
              "      <td>https://www.ashton-group.com/</td>\n",
              "      <td>Na</td>\n",
              "      <td>Consulting, Cyber Security, Hardware, IT Mana...</td>\n",
              "      <td>01 to 10</td>\n",
              "      <td>Eatonton, Georgia, United States</td>\n",
              "      <td>2018</td>\n",
              "      <td>Hardware, Information Technology, Privacy and...</td>\n",
              "      <td>—</td>\n",
              "      <td>Software-2018</td>\n",
              "    </tr>\n",
              "    <tr>\n",
              "      <th>1</th>\n",
              "      <td>1005 Ventures</td>\n",
              "      <td>Venture Capital</td>\n",
              "      <td>http://www.1005ventures.com</td>\n",
              "      <td>Na</td>\n",
              "      <td>Information Technology, Internet, Venture Cap...</td>\n",
              "      <td>01 to 10</td>\n",
              "      <td>San Francisco, California, United States</td>\n",
              "      <td>2018</td>\n",
              "      <td>Financial Services, Information Technology, I...</td>\n",
              "      <td>1005 ventures is set up to invest in start-ups...</td>\n",
              "      <td>Software-2018</td>\n",
              "    </tr>\n",
              "    <tr>\n",
              "      <th>2</th>\n",
              "      <td>1533 Systems, Inc.</td>\n",
              "      <td>Live Data platform, ingest, process, respond a...</td>\n",
              "      <td>http://1533.io</td>\n",
              "      <td>Na</td>\n",
              "      <td>Analytics, Information Technology, Software, ...</td>\n",
              "      <td>01 to 10</td>\n",
              "      <td>Campbell, California, United States</td>\n",
              "      <td>2018</td>\n",
              "      <td>Content and Publishing, Data and Analytics, I...</td>\n",
              "      <td>1533 Systems is building the next generation d...</td>\n",
              "      <td>Software-2018</td>\n",
              "    </tr>\n",
              "    <tr>\n",
              "      <th>3</th>\n",
              "      <td>17 TeraWatts</td>\n",
              "      <td>17 TeraWatts is a clean energy software company.</td>\n",
              "      <td>https://www.17terawatts.com/</td>\n",
              "      <td>Na</td>\n",
              "      <td>Clean Energy, Energy, Information Technology,...</td>\n",
              "      <td>01 to 10</td>\n",
              "      <td>Austin, Texas, United States</td>\n",
              "      <td>2018-01-01 00:00:00</td>\n",
              "      <td>Energy, Information Technology, Software, Sus...</td>\n",
              "      <td>—</td>\n",
              "      <td>Software-2018</td>\n",
              "    </tr>\n",
              "    <tr>\n",
              "      <th>4</th>\n",
              "      <td>3DIQ</td>\n",
              "      <td>3DIQ makes it beyond easy for recruiters to ed...</td>\n",
              "      <td>https://www.3diq.com</td>\n",
              "      <td>Na</td>\n",
              "      <td>Recruiting, Software</td>\n",
              "      <td>01 to 10</td>\n",
              "      <td>Knoxville, Tennessee, United States</td>\n",
              "      <td>2018</td>\n",
              "      <td>Professional Services, Software</td>\n",
              "      <td>3DIQ is a recruiter’s secret weapon. We make i...</td>\n",
              "      <td>Software-2018</td>\n",
              "    </tr>\n",
              "  </tbody>\n",
              "</table>\n",
              "</div>"
            ],
            "text/plain": [
              "            company_name  ...         filter\n",
              "0  1 Accord Technologies  ...  Software-2018\n",
              "1          1005 Ventures  ...  Software-2018\n",
              "2    1533 Systems, Inc.   ...  Software-2018\n",
              "3           17 TeraWatts  ...  Software-2018\n",
              "4                   3DIQ  ...  Software-2018\n",
              "\n",
              "[5 rows x 11 columns]"
            ]
          },
          "metadata": {
            "tags": []
          },
          "execution_count": 12
        }
      ]
    },
    {
      "cell_type": "markdown",
      "metadata": {
        "id": "2N4RtNOw6Rix"
      },
      "source": [
        "5. Replace values which have string '—' and 'Na' to np.nan for getting the missing values"
      ]
    },
    {
      "cell_type": "code",
      "metadata": {
        "colab": {
          "base_uri": "https://localhost:8080/"
        },
        "id": "AoSabN71mtnj",
        "outputId": "9f35bbcd-06b3-4612-e32a-6400c5dd3662"
      },
      "source": [
        "df_final.replace(to_replace= ['—','Na'], value= np.nan,  inplace=True)"
      ],
      "execution_count": null,
      "outputs": [
        {
          "output_type": "stream",
          "text": [
            "/usr/local/lib/python3.7/dist-packages/pandas/core/frame.py:4389: SettingWithCopyWarning: \n",
            "A value is trying to be set on a copy of a slice from a DataFrame\n",
            "\n",
            "See the caveats in the documentation: https://pandas.pydata.org/pandas-docs/stable/user_guide/indexing.html#returning-a-view-versus-a-copy\n",
            "  method=method,\n"
          ],
          "name": "stderr"
        }
      ]
    },
    {
      "cell_type": "code",
      "metadata": {
        "colab": {
          "base_uri": "https://localhost:8080/"
        },
        "id": "ohCpPt-EmWND",
        "outputId": "7af55e2b-08b8-465b-e238-bc67a0a5b15c"
      },
      "source": [
        "df_final.info()"
      ],
      "execution_count": null,
      "outputs": [
        {
          "output_type": "stream",
          "text": [
            "<class 'pandas.core.frame.DataFrame'>\n",
            "RangeIndex: 2996 entries, 0 to 2995\n",
            "Data columns (total 11 columns):\n",
            " #   Column            Non-Null Count  Dtype  \n",
            "---  ------            --------------  -----  \n",
            " 0   company_name      2996 non-null   object \n",
            " 1   description       2996 non-null   object \n",
            " 2   website           2944 non-null   object \n",
            " 3   funding           903 non-null    float64\n",
            " 4   industries        2987 non-null   object \n",
            " 5   num_employees     2987 non-null   object \n",
            " 6   headquarters      2996 non-null   object \n",
            " 7   founded_date      2996 non-null   object \n",
            " 8   industry_groups   2987 non-null   object \n",
            " 9   full_description  1968 non-null   object \n",
            " 10  filter            2996 non-null   object \n",
            "dtypes: float64(1), object(10)\n",
            "memory usage: 257.6+ KB\n"
          ],
          "name": "stdout"
        }
      ]
    },
    {
      "cell_type": "markdown",
      "metadata": {
        "id": "wKKPGSuFpArq"
      },
      "source": [
        "# Filling the null values for, number of null \n",
        "\n",
        "1.   website: 52 null values (not a necessary feature so wont be filled)\n",
        "2.   funding: 2093 null values (70% data is missing so imputation will lead to noise\n",
        "3.   industries: 9 null values (manually fill) \n",
        "4.   num_employees: 9 null values (manually fill)\n",
        "5.   industry_groups: 9 null values (manually fill)\n",
        "6.   full_description: (to be filled if needed by task 7)\n",
        "\n",
        "\n"
      ]
    },
    {
      "cell_type": "code",
      "metadata": {
        "id": "J3tHzen2pvuu"
      },
      "source": [
        "df_final.head(40)"
      ],
      "execution_count": null,
      "outputs": []
    },
    {
      "cell_type": "code",
      "metadata": {
        "id": "2WJjxWUGKrx_"
      },
      "source": [
        "df_final.to_csv(\"data.csv\")"
      ],
      "execution_count": null,
      "outputs": []
    },
    {
      "cell_type": "markdown",
      "metadata": {
        "id": "sJul9QKp6wtc"
      },
      "source": [
        "6. Here we download the dataset to manually fill 3,4,5"
      ]
    },
    {
      "cell_type": "code",
      "metadata": {
        "colab": {
          "base_uri": "https://localhost:8080/"
        },
        "id": "H_zCuKaKLdsS",
        "outputId": "91665edc-7abc-480b-819b-5f55fd2f907e"
      },
      "source": [
        "df_final.iloc[df_final[df_final['industries'].isnull()].index.tolist()]['company_name']"
      ],
      "execution_count": null,
      "outputs": [
        {
          "output_type": "execute_result",
          "data": {
            "text/plain": [
              "2866                            TimeTackle\n",
              "2870                            Theo Build\n",
              "2899                              Parallel\n",
              "2908                       Neoportals 2021\n",
              "2914                             Mountains\n",
              "2962                        Delivery Co-op\n",
              "2969    Cognizant Microsoft Business Group\n",
              "2985                                BNK-UP\n",
              "2995                                  1520\n",
              "Name: company_name, dtype: object"
            ]
          },
          "metadata": {
            "tags": []
          },
          "execution_count": 19
        }
      ]
    },
    {
      "cell_type": "code",
      "metadata": {
        "colab": {
          "base_uri": "https://localhost:8080/"
        },
        "id": "mIix_Vb9L0S6",
        "outputId": "4bb0c1a2-e821-4192-cc7c-ca6835b2dc77"
      },
      "source": [
        "df_t= pd.read_csv(\"data_t.csv\")\n",
        "df_t.drop(labels='Unnamed: 0', axis=1,inplace= True)\n",
        "df_t.info()"
      ],
      "execution_count": null,
      "outputs": [
        {
          "output_type": "stream",
          "text": [
            "<class 'pandas.core.frame.DataFrame'>\n",
            "RangeIndex: 2993 entries, 0 to 2992\n",
            "Data columns (total 11 columns):\n",
            " #   Column            Non-Null Count  Dtype  \n",
            "---  ------            --------------  -----  \n",
            " 0   company_name      2993 non-null   object \n",
            " 1   description       2993 non-null   object \n",
            " 2   website           2941 non-null   object \n",
            " 3   funding           903 non-null    float64\n",
            " 4   industries        2993 non-null   object \n",
            " 5   num_employees     2993 non-null   object \n",
            " 6   headquarters      2993 non-null   object \n",
            " 7   founded_date      2993 non-null   object \n",
            " 8   industry_groups   2993 non-null   object \n",
            " 9   full_description  1968 non-null   object \n",
            " 10  filter            2993 non-null   object \n",
            "dtypes: float64(1), object(10)\n",
            "memory usage: 257.3+ KB\n"
          ],
          "name": "stdout"
        }
      ]
    },
    {
      "cell_type": "markdown",
      "metadata": {
        "id": "3Jjcf-1f6_-j"
      },
      "source": [
        "7. checking if num_employees contain any null values post manual filling."
      ]
    },
    {
      "cell_type": "code",
      "metadata": {
        "colab": {
          "base_uri": "https://localhost:8080/"
        },
        "id": "OVPIDDxlT9X3",
        "outputId": "fae73afd-49b0-4c01-e445-b91dd90ed7f5"
      },
      "source": [
        "df_t.iloc[df_t[df_t['num_employees'].isnull()].index.tolist()]['company_name']"
      ],
      "execution_count": null,
      "outputs": [
        {
          "output_type": "execute_result",
          "data": {
            "text/plain": [
              "Series([], Name: company_name, dtype: object)"
            ]
          },
          "metadata": {
            "tags": []
          },
          "execution_count": 4
        }
      ]
    },
    {
      "cell_type": "markdown",
      "metadata": {
        "id": "_miwLO53-aSH"
      },
      "source": [
        "8. Processing founding date string to date format and removing time"
      ]
    },
    {
      "cell_type": "code",
      "metadata": {
        "id": "-rM1128hxjYI"
      },
      "source": [
        "print(df_t['founded_date'].unique())\n",
        "import datetime\n",
        "for i,date in enumerate(df_t['founded_date']):\n",
        "    print(df_t.iloc[i]['founded_date'])\n",
        "    df_t.loc[i, 'founded_date'] = date.replace(' 0:00', '')\n",
        "    print(df_t.iloc[i]['founded_date'])\n",
        "    print()\n",
        "    #df_t.iloc[i]['founded_date']=date.strftime(\"%Y\")"
      ],
      "execution_count": null,
      "outputs": []
    },
    {
      "cell_type": "code",
      "metadata": {
        "colab": {
          "base_uri": "https://localhost:8080/"
        },
        "id": "eMAua3I1DpHB",
        "outputId": "cd51ecf5-522a-4025-9c3a-c7735e74e744"
      },
      "source": [
        "print(df_t['founded_date'].unique())"
      ],
      "execution_count": null,
      "outputs": [
        {
          "output_type": "stream",
          "text": [
            "['2018' '01-01-18' '2017' '01-01-17' '2019' '01-01-19' '2020' '01-01-20'\n",
            " '2021' '01-01-21']\n"
          ],
          "name": "stdout"
        }
      ]
    },
    {
      "cell_type": "code",
      "metadata": {
        "colab": {
          "base_uri": "https://localhost:8080/",
          "height": 432
        },
        "id": "hEO_c0HKIak-",
        "outputId": "d822b1c5-a4ca-45c8-d538-20f76ac5ce46"
      },
      "source": [
        "#make a new column to store in date time format\n",
        "df_t['founded']=pd.to_datetime(df_t['founded_date'], infer_datetime_format=True, format='%Y%m%d')\n",
        "df_t.drop(labels='founded_date', axis=1,inplace= True)\n",
        "df_t.head()"
      ],
      "execution_count": null,
      "outputs": [
        {
          "output_type": "execute_result",
          "data": {
            "text/html": [
              "<div>\n",
              "<style scoped>\n",
              "    .dataframe tbody tr th:only-of-type {\n",
              "        vertical-align: middle;\n",
              "    }\n",
              "\n",
              "    .dataframe tbody tr th {\n",
              "        vertical-align: top;\n",
              "    }\n",
              "\n",
              "    .dataframe thead th {\n",
              "        text-align: right;\n",
              "    }\n",
              "</style>\n",
              "<table border=\"1\" class=\"dataframe\">\n",
              "  <thead>\n",
              "    <tr style=\"text-align: right;\">\n",
              "      <th></th>\n",
              "      <th>company_name</th>\n",
              "      <th>description</th>\n",
              "      <th>website</th>\n",
              "      <th>funding</th>\n",
              "      <th>industries</th>\n",
              "      <th>num_employees</th>\n",
              "      <th>headquarters</th>\n",
              "      <th>industry_groups</th>\n",
              "      <th>full_description</th>\n",
              "      <th>filter</th>\n",
              "      <th>founded</th>\n",
              "    </tr>\n",
              "  </thead>\n",
              "  <tbody>\n",
              "    <tr>\n",
              "      <th>0</th>\n",
              "      <td>1 Accord Technologies</td>\n",
              "      <td>1 Accord Technologies has been providing profe...</td>\n",
              "      <td>https://www.ashton-group.com/</td>\n",
              "      <td>NaN</td>\n",
              "      <td>Consulting, Cyber Security, Hardware, IT Mana...</td>\n",
              "      <td>01 to 10</td>\n",
              "      <td>Eatonton, Georgia, United States</td>\n",
              "      <td>Hardware, Information Technology, Privacy and...</td>\n",
              "      <td>NaN</td>\n",
              "      <td>Software-2018</td>\n",
              "      <td>2018-01-01</td>\n",
              "    </tr>\n",
              "    <tr>\n",
              "      <th>1</th>\n",
              "      <td>1005 Ventures</td>\n",
              "      <td>Venture Capital</td>\n",
              "      <td>http://www.1005ventures.com</td>\n",
              "      <td>NaN</td>\n",
              "      <td>Information Technology, Internet, Venture Cap...</td>\n",
              "      <td>01 to 10</td>\n",
              "      <td>San Francisco, California, United States</td>\n",
              "      <td>Financial Services, Information Technology, I...</td>\n",
              "      <td>1005 ventures is set up to invest in start-ups...</td>\n",
              "      <td>Software-2018</td>\n",
              "      <td>2018-01-01</td>\n",
              "    </tr>\n",
              "    <tr>\n",
              "      <th>2</th>\n",
              "      <td>1533 Systems, Inc.</td>\n",
              "      <td>Live Data platform, ingest, process, respond a...</td>\n",
              "      <td>http://1533.io</td>\n",
              "      <td>NaN</td>\n",
              "      <td>Analytics, Information Technology, Software, ...</td>\n",
              "      <td>01 to 10</td>\n",
              "      <td>Campbell, California, United States</td>\n",
              "      <td>Content and Publishing, Data and Analytics, I...</td>\n",
              "      <td>1533 Systems is building the next generation d...</td>\n",
              "      <td>Software-2018</td>\n",
              "      <td>2018-01-01</td>\n",
              "    </tr>\n",
              "    <tr>\n",
              "      <th>3</th>\n",
              "      <td>17 TeraWatts</td>\n",
              "      <td>17 TeraWatts is a clean energy software company.</td>\n",
              "      <td>https://www.17terawatts.com/</td>\n",
              "      <td>NaN</td>\n",
              "      <td>Clean Energy, Energy, Information Technology,...</td>\n",
              "      <td>01 to 10</td>\n",
              "      <td>Austin, Texas, United States</td>\n",
              "      <td>Energy, Information Technology, Software, Sus...</td>\n",
              "      <td>NaN</td>\n",
              "      <td>Software-2018</td>\n",
              "      <td>2018-01-01</td>\n",
              "    </tr>\n",
              "    <tr>\n",
              "      <th>4</th>\n",
              "      <td>3DIQ</td>\n",
              "      <td>3DIQ makes it beyond easy for recruiters to ed...</td>\n",
              "      <td>https://www.3diq.com</td>\n",
              "      <td>NaN</td>\n",
              "      <td>Recruiting, Software</td>\n",
              "      <td>01 to 10</td>\n",
              "      <td>Knoxville, Tennessee, United States</td>\n",
              "      <td>Professional Services, Software</td>\n",
              "      <td>3DIQ is a recruiter’s secret weapon. We make i...</td>\n",
              "      <td>Software-2018</td>\n",
              "      <td>2018-01-01</td>\n",
              "    </tr>\n",
              "  </tbody>\n",
              "</table>\n",
              "</div>"
            ],
            "text/plain": [
              "            company_name  ...    founded\n",
              "0  1 Accord Technologies  ... 2018-01-01\n",
              "1          1005 Ventures  ... 2018-01-01\n",
              "2    1533 Systems, Inc.   ... 2018-01-01\n",
              "3           17 TeraWatts  ... 2018-01-01\n",
              "4                   3DIQ  ... 2018-01-01\n",
              "\n",
              "[5 rows x 11 columns]"
            ]
          },
          "metadata": {
            "tags": []
          },
          "execution_count": 10
        }
      ]
    },
    {
      "cell_type": "code",
      "metadata": {
        "colab": {
          "base_uri": "https://localhost:8080/"
        },
        "id": "GLFceF3eNEvF",
        "outputId": "1358414e-f0de-4665-fa6e-637f7027ad60"
      },
      "source": [
        "print(df_t['founded'].unique())"
      ],
      "execution_count": null,
      "outputs": [
        {
          "output_type": "stream",
          "text": [
            "['2018-01-01T00:00:00.000000000' '2017-01-01T00:00:00.000000000'\n",
            " '2019-01-01T00:00:00.000000000' '2020-01-01T00:00:00.000000000'\n",
            " '2021-01-01T00:00:00.000000000']\n"
          ],
          "name": "stdout"
        }
      ]
    },
    {
      "cell_type": "markdown",
      "metadata": {
        "id": "117CAKt0gftI"
      },
      "source": [
        "Since the funding column has 70% of the features missing, filling the na values will result in a lot of noise in the dataset. The data is being partitioned into 2 datasets for cleaning:\n",
        "\n",
        "\n",
        "1.   Dataset with 903 rows having the funding column\n",
        "2.   Dataset with 2993 rows with the funding column dropped.\n",
        "\n",
        "\n"
      ]
    },
    {
      "cell_type": "code",
      "metadata": {
        "colab": {
          "base_uri": "https://localhost:8080/"
        },
        "id": "jkv8g1UchiSa",
        "outputId": "76fdc18c-a8dd-4b0d-e53f-c23aeab5772f"
      },
      "source": [
        "df_funding= df_t.dropna(subset= ['funding'])\n",
        "df_funding.reset_index(inplace= True)\n",
        "df_funding= df_funding.drop(labels= ['index'], axis=1)\n",
        "df_funding.info()"
      ],
      "execution_count": null,
      "outputs": [
        {
          "output_type": "stream",
          "text": [
            "<class 'pandas.core.frame.DataFrame'>\n",
            "RangeIndex: 903 entries, 0 to 902\n",
            "Data columns (total 11 columns):\n",
            " #   Column            Non-Null Count  Dtype  \n",
            "---  ------            --------------  -----  \n",
            " 0   company_name      903 non-null    object \n",
            " 1   description       903 non-null    object \n",
            " 2   website           886 non-null    object \n",
            " 3   funding           903 non-null    float64\n",
            " 4   industries        903 non-null    object \n",
            " 5   num_employees     903 non-null    object \n",
            " 6   headquarters      903 non-null    object \n",
            " 7   founded_date      903 non-null    object \n",
            " 8   industry_groups   903 non-null    object \n",
            " 9   full_description  807 non-null    object \n",
            " 10  filter            903 non-null    object \n",
            "dtypes: float64(1), object(10)\n",
            "memory usage: 77.7+ KB\n"
          ],
          "name": "stdout"
        }
      ]
    },
    {
      "cell_type": "code",
      "metadata": {
        "colab": {
          "base_uri": "https://localhost:8080/",
          "height": 466
        },
        "id": "6Cnm86aawbZt",
        "outputId": "c9db31b6-2339-4e3d-be8d-435b27345c0d"
      },
      "source": [
        "df_funding.head()"
      ],
      "execution_count": null,
      "outputs": [
        {
          "output_type": "execute_result",
          "data": {
            "text/html": [
              "<div>\n",
              "<style scoped>\n",
              "    .dataframe tbody tr th:only-of-type {\n",
              "        vertical-align: middle;\n",
              "    }\n",
              "\n",
              "    .dataframe tbody tr th {\n",
              "        vertical-align: top;\n",
              "    }\n",
              "\n",
              "    .dataframe thead th {\n",
              "        text-align: right;\n",
              "    }\n",
              "</style>\n",
              "<table border=\"1\" class=\"dataframe\">\n",
              "  <thead>\n",
              "    <tr style=\"text-align: right;\">\n",
              "      <th></th>\n",
              "      <th>company_name</th>\n",
              "      <th>description</th>\n",
              "      <th>website</th>\n",
              "      <th>funding</th>\n",
              "      <th>industries</th>\n",
              "      <th>num_employees</th>\n",
              "      <th>headquarters</th>\n",
              "      <th>founded_date</th>\n",
              "      <th>industry_groups</th>\n",
              "      <th>full_description</th>\n",
              "      <th>filter</th>\n",
              "    </tr>\n",
              "  </thead>\n",
              "  <tbody>\n",
              "    <tr>\n",
              "      <th>0</th>\n",
              "      <td>ABYA</td>\n",
              "      <td>ABYA is a developer and provider technological...</td>\n",
              "      <td>https://www.abya.tech/</td>\n",
              "      <td>750000.0</td>\n",
              "      <td>Media and Entertainment, Software</td>\n",
              "      <td>01 to 10</td>\n",
              "      <td>East Setauket, New York, United States</td>\n",
              "      <td>2018</td>\n",
              "      <td>Media and Entertainment, Software</td>\n",
              "      <td>ABYA is a developer and provider of technologi...</td>\n",
              "      <td>Software-2018</td>\n",
              "    </tr>\n",
              "    <tr>\n",
              "      <th>1</th>\n",
              "      <td>Agamon</td>\n",
              "      <td>Agamon is an AI-powered healthcare platform th...</td>\n",
              "      <td>https://www.agamonhealth.com</td>\n",
              "      <td>3000000.0</td>\n",
              "      <td>Artificial Intelligence, Big Data, Health Car...</td>\n",
              "      <td>01 to 10</td>\n",
              "      <td>New York, New York, United States</td>\n",
              "      <td>2018</td>\n",
              "      <td>Artificial Intelligence, Data and Analytics, ...</td>\n",
              "      <td>Agamon is a healthcare AI platform uses advanc...</td>\n",
              "      <td>Software-2018</td>\n",
              "    </tr>\n",
              "    <tr>\n",
              "      <th>2</th>\n",
              "      <td>Agape</td>\n",
              "      <td>Agape is a platform scientifically designed to...</td>\n",
              "      <td>https://www.theagapeapp.com/</td>\n",
              "      <td>75000.0</td>\n",
              "      <td>Developer Platform, Information Services, Inf...</td>\n",
              "      <td>01 to 10</td>\n",
              "      <td>Rochester, New York, United States</td>\n",
              "      <td>2018</td>\n",
              "      <td>Health Care, Information Technology, Software</td>\n",
              "      <td>Agapé is a platform scientifically designed to...</td>\n",
              "      <td>Software-2018</td>\n",
              "    </tr>\n",
              "    <tr>\n",
              "      <th>3</th>\n",
              "      <td>Agave</td>\n",
              "      <td>Agave is a free hiring platform that offers jo...</td>\n",
              "      <td>https://www.agave.com/</td>\n",
              "      <td>1000000.0</td>\n",
              "      <td>Recruiting, SaaS, Software, Staffing Agency</td>\n",
              "      <td>01 to 10</td>\n",
              "      <td>Palo Alto, California, United States</td>\n",
              "      <td>01-01-18 0:00</td>\n",
              "      <td>Administrative Services, Professional Service...</td>\n",
              "      <td>Agave is a free hiring platform that offers jo...</td>\n",
              "      <td>Software-2018</td>\n",
              "    </tr>\n",
              "    <tr>\n",
              "      <th>4</th>\n",
              "      <td>Agita Labs</td>\n",
              "      <td>Agita Labs develops privacy-enhanced computing...</td>\n",
              "      <td>http://www.agitalabs.com/</td>\n",
              "      <td>3149992.0</td>\n",
              "      <td>Cloud Computing, Cyber Security, Privacy</td>\n",
              "      <td>01 to 10</td>\n",
              "      <td>Ann Arbor, Michigan, United States</td>\n",
              "      <td>2018</td>\n",
              "      <td>Information Technology, Internet Services, Pr...</td>\n",
              "      <td>Agita Labs is a new startup in Ann Arbor, Mich...</td>\n",
              "      <td>Software-2018</td>\n",
              "    </tr>\n",
              "  </tbody>\n",
              "</table>\n",
              "</div>"
            ],
            "text/plain": [
              "  company_name  ...         filter\n",
              "0         ABYA  ...  Software-2018\n",
              "1       Agamon  ...  Software-2018\n",
              "2        Agape  ...  Software-2018\n",
              "3        Agave  ...  Software-2018\n",
              "4   Agita Labs  ...  Software-2018\n",
              "\n",
              "[5 rows x 11 columns]"
            ]
          },
          "metadata": {
            "tags": []
          },
          "execution_count": 39
        }
      ]
    },
    {
      "cell_type": "code",
      "metadata": {
        "id": "_z7WvAm2jaF9"
      },
      "source": [
        "df_no_funding= df_t.drop(labels= ['funding'], axis=1)"
      ],
      "execution_count": null,
      "outputs": []
    },
    {
      "cell_type": "code",
      "metadata": {
        "colab": {
          "base_uri": "https://localhost:8080/"
        },
        "id": "R91HH4qtnhmk",
        "outputId": "2053f9f3-df89-440b-8446-2b8766a60366"
      },
      "source": [
        "df_no_funding.info(), df_funding.info()"
      ],
      "execution_count": null,
      "outputs": [
        {
          "output_type": "stream",
          "text": [
            "<class 'pandas.core.frame.DataFrame'>\n",
            "RangeIndex: 2993 entries, 0 to 2992\n",
            "Data columns (total 10 columns):\n",
            " #   Column            Non-Null Count  Dtype \n",
            "---  ------            --------------  ----- \n",
            " 0   company_name      2993 non-null   object\n",
            " 1   description       2993 non-null   object\n",
            " 2   website           2941 non-null   object\n",
            " 3   industries        2993 non-null   object\n",
            " 4   num_employees     2993 non-null   object\n",
            " 5   headquarters      2993 non-null   object\n",
            " 6   founded_date      2993 non-null   object\n",
            " 7   industry_groups   2993 non-null   object\n",
            " 8   full_description  1968 non-null   object\n",
            " 9   filter            2993 non-null   object\n",
            "dtypes: object(10)\n",
            "memory usage: 234.0+ KB\n",
            "<class 'pandas.core.frame.DataFrame'>\n",
            "RangeIndex: 903 entries, 0 to 902\n",
            "Data columns (total 11 columns):\n",
            " #   Column            Non-Null Count  Dtype  \n",
            "---  ------            --------------  -----  \n",
            " 0   company_name      903 non-null    object \n",
            " 1   description       903 non-null    object \n",
            " 2   website           886 non-null    object \n",
            " 3   funding           903 non-null    float64\n",
            " 4   industries        903 non-null    object \n",
            " 5   num_employees     903 non-null    object \n",
            " 6   headquarters      903 non-null    object \n",
            " 7   founded_date      903 non-null    object \n",
            " 8   industry_groups   903 non-null    object \n",
            " 9   full_description  807 non-null    object \n",
            " 10  filter            903 non-null    object \n",
            "dtypes: float64(1), object(10)\n",
            "memory usage: 77.7+ KB\n"
          ],
          "name": "stdout"
        },
        {
          "output_type": "execute_result",
          "data": {
            "text/plain": [
              "(None, None)"
            ]
          },
          "metadata": {
            "tags": []
          },
          "execution_count": 63
        }
      ]
    },
    {
      "cell_type": "code",
      "metadata": {
        "id": "nr4Wx_Ss-x5v"
      },
      "source": [
        "df_no_funding.to_csv('crunchbase_with_nofunding.csv')\n",
        "df_funding.to_csv('filtered_crunchbase_with_funding.csv')"
      ],
      "execution_count": null,
      "outputs": []
    }
  ]
}