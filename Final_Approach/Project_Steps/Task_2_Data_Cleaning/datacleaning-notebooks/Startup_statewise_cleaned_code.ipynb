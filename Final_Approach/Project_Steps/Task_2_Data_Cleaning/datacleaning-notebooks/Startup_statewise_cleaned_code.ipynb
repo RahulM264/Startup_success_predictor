{
 "metadata": {
  "language_info": {
   "codemirror_mode": {
    "name": "ipython",
    "version": 3
   },
   "file_extension": ".py",
   "mimetype": "text/x-python",
   "name": "python",
   "nbconvert_exporter": "python",
   "pygments_lexer": "ipython3",
   "version": "3.8.10"
  },
  "orig_nbformat": 4,
  "kernelspec": {
   "name": "python3",
   "display_name": "Python 3.8.10 64-bit"
  },
  "interpreter": {
   "hash": "31f2aee4e71d21fbe5cf8b01ff0e069b9275f58929596ceb00d14d90e3e16cd6"
  }
 },
 "nbformat": 4,
 "nbformat_minor": 2,
 "cells": [
  {
   "source": [
    "##Approach\n",
    "--> first combined all 51 state's different csv to one csv file\n",
    "--> get the basic stats and null value report\n",
    "--> deleted coloumn with more than 70% null values\n",
    "--> fill the null value with best possible way."
   ],
   "cell_type": "markdown",
   "metadata": {}
  },
  {
   "cell_type": "code",
   "execution_count": 1,
   "metadata": {},
   "outputs": [],
   "source": [
    "import os\n",
    "import glob\n",
    "import pandas as pd\n",
    "import numpy as np"
   ]
  },
  {
   "cell_type": "code",
   "execution_count": 2,
   "metadata": {},
   "outputs": [],
   "source": [
    "cwd = os.getcwd()\n",
    "os.chdir(cwd)"
   ]
  },
  {
   "cell_type": "code",
   "execution_count": 3,
   "metadata": {},
   "outputs": [],
   "source": [
    "extension = 'csv'\n",
    "all_filenames = [i for i in glob.glob('*.{}'.format(extension))]"
   ]
  },
  {
   "cell_type": "code",
   "execution_count": 4,
   "metadata": {},
   "outputs": [],
   "source": [
    "#combine all files in the list\n",
    "combined_csv = pd.concat([pd.read_csv(f,lineterminator='\\n') for f in all_filenames ])\n",
    "#export to csv\n",
    "combined_csv.to_csv( \"combined_csv.csv\", index=False, encoding='utf-8')"
   ]
  },
  {
   "cell_type": "code",
   "execution_count": 25,
   "metadata": {},
   "outputs": [],
   "source": [
    "df = pd.read_csv('combined_csv.csv',lineterminator='\\n')\n",
    "df_check = pd.read_csv('Alaska.csv',lineterminator='\\n')"
   ]
  },
  {
   "cell_type": "code",
   "execution_count": 15,
   "metadata": {},
   "outputs": [
    {
     "output_type": "execute_result",
     "data": {
      "text/plain": [
       "         employees      founded  CityRanking  estimated_revenues  \\\n",
       "count  3672.000000  2936.000000  3672.000000        3.280000e+03   \n",
       "mean    148.497004  2002.762943  1737.099401        3.173374e+07   \n",
       "std     159.355941    23.618901  2293.206667        5.183300e+07   \n",
       "min      23.000000  1790.000000     1.000000        0.000000e+00   \n",
       "25%      57.000000  2001.000000    34.000000        1.145125e+07   \n",
       "50%      88.000000  2011.500000   189.500000        1.836000e+07   \n",
       "75%     167.000000  2015.000000  3231.500000        3.410000e+07   \n",
       "max     990.000000  2020.000000  8024.000000        2.070000e+09   \n",
       "\n",
       "       job_openings     valuation  \n",
       "count   3672.000000  1.020000e+02  \n",
       "mean       6.854575  1.427894e+09  \n",
       "std       19.267521  7.942911e+08  \n",
       "min        0.000000  0.000000e+00  \n",
       "25%        1.000000  1.000000e+09  \n",
       "50%        1.000000  1.200000e+09  \n",
       "75%        1.000000  1.700000e+09  \n",
       "max      220.000000  4.150000e+09  "
      ],
      "text/html": "<div>\n<style scoped>\n    .dataframe tbody tr th:only-of-type {\n        vertical-align: middle;\n    }\n\n    .dataframe tbody tr th {\n        vertical-align: top;\n    }\n\n    .dataframe thead th {\n        text-align: right;\n    }\n</style>\n<table border=\"1\" class=\"dataframe\">\n  <thead>\n    <tr style=\"text-align: right;\">\n      <th></th>\n      <th>employees</th>\n      <th>founded</th>\n      <th>CityRanking</th>\n      <th>estimated_revenues</th>\n      <th>job_openings</th>\n      <th>valuation</th>\n    </tr>\n  </thead>\n  <tbody>\n    <tr>\n      <th>count</th>\n      <td>3672.000000</td>\n      <td>2936.000000</td>\n      <td>3672.000000</td>\n      <td>3.280000e+03</td>\n      <td>3672.000000</td>\n      <td>1.020000e+02</td>\n    </tr>\n    <tr>\n      <th>mean</th>\n      <td>148.497004</td>\n      <td>2002.762943</td>\n      <td>1737.099401</td>\n      <td>3.173374e+07</td>\n      <td>6.854575</td>\n      <td>1.427894e+09</td>\n    </tr>\n    <tr>\n      <th>std</th>\n      <td>159.355941</td>\n      <td>23.618901</td>\n      <td>2293.206667</td>\n      <td>5.183300e+07</td>\n      <td>19.267521</td>\n      <td>7.942911e+08</td>\n    </tr>\n    <tr>\n      <th>min</th>\n      <td>23.000000</td>\n      <td>1790.000000</td>\n      <td>1.000000</td>\n      <td>0.000000e+00</td>\n      <td>0.000000</td>\n      <td>0.000000e+00</td>\n    </tr>\n    <tr>\n      <th>25%</th>\n      <td>57.000000</td>\n      <td>2001.000000</td>\n      <td>34.000000</td>\n      <td>1.145125e+07</td>\n      <td>1.000000</td>\n      <td>1.000000e+09</td>\n    </tr>\n    <tr>\n      <th>50%</th>\n      <td>88.000000</td>\n      <td>2011.500000</td>\n      <td>189.500000</td>\n      <td>1.836000e+07</td>\n      <td>1.000000</td>\n      <td>1.200000e+09</td>\n    </tr>\n    <tr>\n      <th>75%</th>\n      <td>167.000000</td>\n      <td>2015.000000</td>\n      <td>3231.500000</td>\n      <td>3.410000e+07</td>\n      <td>1.000000</td>\n      <td>1.700000e+09</td>\n    </tr>\n    <tr>\n      <th>max</th>\n      <td>990.000000</td>\n      <td>2020.000000</td>\n      <td>8024.000000</td>\n      <td>2.070000e+09</td>\n      <td>220.000000</td>\n      <td>4.150000e+09</td>\n    </tr>\n  </tbody>\n</table>\n</div>"
     },
     "metadata": {},
     "execution_count": 15
    }
   ],
   "source": [
    "#get basic stats\n",
    "df.describe()"
   ]
  },
  {
   "cell_type": "code",
   "execution_count": 3,
   "metadata": {},
   "outputs": [
    {
     "output_type": "stream",
     "name": "stdout",
     "text": [
      "(3672, 22)\ncompany_name           object\nurl                    object\ncity                   object\nstate                  object\ncountry                object\nemployees               int64\nlinkedin_url           object\nfounded               float64\nIndustry               object\nCityRanking             int64\nestimated_revenues    float64\njob_openings            int64\nkeywords               object\nLeadInvestors          object\nAccelerator            object\nbtype                  object\nvaluation             float64\ntotal_funding          object\nproduct_url            object\nindeed_url             object\ngrowth_percentage      object\ncontact_info           object\ndtype: object\n"
     ]
    }
   ],
   "source": [
    "#get shape and data type\n",
    "print(df.shape)\n",
    "print(df.dtypes)"
   ]
  },
  {
   "cell_type": "code",
   "execution_count": 4,
   "metadata": {},
   "outputs": [
    {
     "output_type": "stream",
     "name": "stdout",
     "text": [
      "Here are numeric features:  ['employees' 'founded' 'CityRanking' 'estimated_revenues' 'job_openings'\n 'valuation']\nHere are non-numeric features:  ['company_name' 'url' 'city' 'state' 'country' 'linkedin_url' 'Industry'\n 'keywords' 'LeadInvestors' 'Accelerator' 'btype' 'total_funding'\n 'product_url' 'indeed_url' 'growth_percentage' 'contact_info']\n"
     ]
    }
   ],
   "source": [
    "# select numeric columns\n",
    "df_numeric = df.select_dtypes(include=[np.number])\n",
    "numeric_cols = df_numeric.columns.values\n",
    "print(\"Here are numeric features: \",numeric_cols)\n",
    "\n",
    "# select non numeric columns\n",
    "df_non_numeric = df.select_dtypes(exclude=[np.number])\n",
    "non_numeric_cols = df_non_numeric.columns.values\n",
    "print(\"Here are non-numeric features: \",non_numeric_cols)"
   ]
  },
  {
   "cell_type": "code",
   "execution_count": 5,
   "metadata": {},
   "outputs": [
    {
     "output_type": "display_data",
     "data": {
      "text/plain": "'NULL Values'"
     },
     "metadata": {}
    },
    {
     "output_type": "display_data",
     "data": {
      "text/plain": "company_name             0\nurl                     16\ncity                    27\nstate                    0\ncountry                126\nemployees                0\nlinkedin_url             3\nfounded                736\nIndustry                 3\nCityRanking              0\nestimated_revenues     392\njob_openings             0\nkeywords              2671\nLeadInvestors         3394\nAccelerator           3654\nbtype                 3401\nvaluation             3570\ntotal_funding         2494\nproduct_url              0\nindeed_url               0\ngrowth_percentage        0\ncontact_info             0\ndtype: int64"
     },
     "metadata": {}
    }
   ],
   "source": [
    "#no of null values in the column\n",
    "display(\"NULL Values\", df.isnull().sum())"
   ]
  },
  {
   "cell_type": "code",
   "execution_count": 21,
   "metadata": {},
   "outputs": [
    {
     "output_type": "stream",
     "name": "stdout",
     "text": [
      "company_name - 0%\nurl - 0%\ncity - 1%\nstate - 0%\ncountry - 3%\nemployees - 0%\nlinkedin_url - 0%\nfounded - 20%\nIndustry - 0%\nCityRanking - 0%\nestimated_revenues - 11%\njob_openings - 0%\nkeywords - 73%\nLeadInvestors - 92%\nAccelerator - 100%\nbtype - 93%\nvaluation - 97%\ntotal_funding - 68%\nproduct_url - 0%\nindeed_url - 0%\ngrowth_percentage - 0%\ncontact_info - 0%\n"
     ]
    }
   ],
   "source": [
    "#percentage of null values in each column\n",
    "for col in df.columns:\n",
    "    pct_missing = np.mean(df[col].isnull())\n",
    "    print('{} - {}%'.format(col, round(pct_missing*100)))"
   ]
  },
  {
   "cell_type": "code",
   "execution_count": 26,
   "metadata": {},
   "outputs": [],
   "source": [
    "#removing unneccesury features\n",
    "df_new = df.drop(['Accelerator','url','country','linkedin_url','btype','valuation','product_url','indeed_url','contact_info','keywords','total_funding','LeadInvestors'],axis=1)"
   ]
  },
  {
   "cell_type": "code",
   "execution_count": 23,
   "metadata": {},
   "outputs": [
    {
     "output_type": "stream",
     "name": "stdout",
     "text": [
      "company_name           object\ncity                   object\nstate                  object\nemployees               int64\nfounded               float64\nIndustry               object\nCityRanking             int64\nestimated_revenues    float64\njob_openings            int64\ngrowth_percentage      object\ndtype: object\n"
     ]
    }
   ],
   "source": [
    "print(df_new.dtypes)"
   ]
  },
  {
   "cell_type": "code",
   "execution_count": 48,
   "metadata": {},
   "outputs": [
    {
     "output_type": "stream",
     "name": "stdout",
     "text": [
      "Tech Services          0.144999\nHospital/Healthcare    0.073317\nConstruction           0.035977\nFinance                0.033252\nDigital Health         0.032979\n                         ...   \nSalesTech              0.000273\nPrivately Held         0.000273\nAdtech                 0.000273\nAdTech                 0.000273\nEntertainmentSanta     0.000273\nName: Industry, Length: 142, dtype: float64\n\" Insurance \" : \" 0 \" ,\n\" Digital Health \" : \" 1 \" ,\n\" Fintech \" : \" 2 \" ,\n\" Real Estate Tech \" : \" 3 \" ,\n\" Tech Services \" : \" 4 \" ,\n\" Consumer \" : \" 5 \" ,\n\" Finance \" : \" 6 \" ,\n\" Medical Equip \" : \" 7 \" ,\n\" Hospital/Healthcare \" : \" 8 \" ,\n\" Hardware \" : \" 9 \" ,\n\" Sports \" : \" 10 \" ,\n\" Real Estate \" : \" 11 \" ,\n\" Logistics \" : \" 12 \" ,\n\" Furniture \" : \" 13 \" ,\n\" Biotech \" : \" 14 \" ,\n\" Engineering \" : \" 15 \" ,\n\" Telecom \" : \" 16 \" ,\n\" Construction \" : \" 17 \" ,\n\" Marketing \" : \" 18 \" ,\n\" Health \" : \" 19 \" ,\n\" Martech \" : \" 20 \" ,\n\" IT Security \" : \" 21 \" ,\n\" Medical Offices \" : \" 22 \" ,\n\" Food \" : \" 23 \" ,\n\" Technology \" : \" 24 \" ,\n\" Consulting \" : \" 25 \" ,\n\" Beverages \" : \" 26 \" ,\n\" Accounting \" : \" 27 \" ,\n\" Environmental \" : \" 28 \" ,\n\" Social Services \" : \" 29 \" ,\n\" Design \" : \" 30 \" ,\n\" Networking \" : \" 31 \" ,\n\" Banking \" : \" 32 \" ,\n\" Investments \" : \" 33 \" ,\n\" Mining \" : \" 34 \" ,\n\" Retail \" : \" 35 \" ,\n\" Veterinary \" : \" 36 \" ,\n\" Industrial \" : \" 37 \" ,\n\" Education \" : \" 38 \" ,\n\" Recruiting \" : \" 39 \" ,\n\" Pharma \" : \" 40 \" ,\n\" Transportation \" : \" 41 \" ,\n\" Automotive \" : \" 42 \" ,\n\" Materials \" : \" 43 \" ,\n\" Chemicals \" : \" 44 \" ,\n\" Hospitality \" : \" 45 \" ,\n\" Machinery \" : \" 46 \" ,\n\" HR \" : \" 47 \" ,\n\" Outsource \" : \" 48 \" ,\n\" Research \" : \" 49 \" ,\n\" NonProfit \" : \" 50 \" ,\n\" Facilities \" : \" 51 \" ,\n\" Restaurants \" : \" 52 \" ,\n\" Farming \" : \" 53 \" ,\n\" Legal \" : \" 54 \" ,\n\" Media \" : \" 55 \" ,\n\" Photography \" : \" 56 \" ,\n\" Cosmetics \" : \" 57 \" ,\n\" EntertainmentSanta \" : \" 58 \" ,\n\" Publishing \" : \" 59 \" ,\n\" Supplies \" : \" 60 \" ,\n\" Apparel \" : \" 61 \" ,\n\" Trade \" : \" 62 \" ,\n\" Semiconductors \" : \" 63 \" ,\n\" Analytics \" : \" 64 \" ,\n\" HRTech \" : \" 65 \" ,\n\" Events \" : \" 66 \" ,\n\" Learning \" : \" 67 \" ,\n\" Electronics \" : \" 68 \" ,\n\" Utilities \" : \" 69 \" ,\n\" Defense \" : \" 70 \" ,\n\" Textiles \" : \" 71 \" ,\n\" Warehousing \" : \" 72 \" ,\n\" Energy/Oil \" : \" 73 \" ,\n\" Leisure \" : \" 74 \" ,\n\" Religious \" : \" 75 \" ,\n\" EdTech \" : \" 76 \" ,\n\" Gaming \" : \" 77 \" ,\n\" Entertainment \" : \" 78 \" ,\n\" Training \" : \" 79 \" ,\n\" eCommerceTech \" : \" 80 \" ,\n\" Civil \" : \" 81 \" ,\n\" ProductivityTech \" : \" 82 \" ,\n\" PR/Comm \" : \" 83 \" ,\n\" Museums \" : \" 84 \" ,\n\" Privately Held \" : \" 85 \" ,\n\" Medical Device \" : \" 86 \" ,\n\" Cannabis \" : \" 87 \" ,\n\" Salestech \" : \" 88 \" ,\n\" Security \" : \" 89 \" ,\n\" Wireless \" : \" 90 \" ,\n\" Printing \" : \" 91 \" ,\n\" AI \" : \" 92 \" ,\n\" LegalTech \" : \" 93 \" ,\n\" Wholesale \" : \" 94 \" ,\n\" Newspapers \" : \" 95 \" ,\n\" Paper \" : \" 96 \" ,\n\" Casinos \" : \" 97 \" ,\n\" Philanthropy \" : \" 98 \" ,\n\" Think Tanks \" : \" 99 \" ,\n\" Information Technology & Services \" : \" 100 \" ,\n\" Health, Wellness & Fitness \" : \" 101 \" ,\n\" nan \" : \" 102 \" ,\n\" Healthcare \" : \" 103 \" ,\n\" Shipbuilding \" : \" 104 \" ,\n\" Recreation \" : \" 105 \" ,\n\" Packaging \" : \" 106 \" ,\n\" Plastics \" : \" 107 \" ,\n\" Maritime \" : \" 108 \" ,\n\" Executive \" : \" 109 \" ,\n\" Medical \" : \" 110 \" ,\n\" Military \" : \" 111 \" ,\n\" Writing \" : \" 112 \" ,\n\" Music \" : \" 113 \" ,\n\" Hospital/Health \" : \" 114 \" ,\n\" IT Consulting \" : \" 115 \" ,\n\" Event Tech \" : \" 116 \" ,\n\" Marketing & Advertising \" : \" 117 \" ,\n\" IoT \" : \" 118 \" ,\n\" Support/CRM Tech \" : \" 119 \" ,\n\" Architecture \" : \" 120 \" ,\n\" DevOps \" : \" 121 \" ,\n\" Adtech \" : \" 122 \" ,\n\" Electrical & Electronic Manufacturing \" : \" 123 \" ,\n\" Legaltech \" : \" 124 \" ,\n\" eCommerce \" : \" 125 \" ,\n\" Robotics \" : \" 126 \" ,\n\" FinTech \" : \" 127 \" ,\n\" Arts \" : \" 128 \" ,\n\" Tobacco \" : \" 129 \" ,\n\" Fund-Raising \" : \" 130 \" ,\n\" Fishery \" : \" 131 \" ,\n\" Supermarkets \" : \" 132 \" ,\n\" Dairy \" : \" 133 \" ,\n\" Staffing & Recruiting \" : \" 134 \" ,\n\" Concreate \" : \" 135 \" ,\n\" Investment Banks \" : \" 136 \" ,\n\" Law \" : \" 137 \" ,\n\" Animation \" : \" 138 \" ,\n\" AdTech \" : \" 139 \" ,\n\" Cloud \" : \" 140 \" ,\n\" PaaS \" : \" 141 \" ,\n\" SalesTech \" : \" 142 \" ,\n"
     ]
    }
   ],
   "source": [
    "#percentage of unique industry\n",
    "ind_count = df_new['Industry'].value_counts(normalize=True)#.unique()\n",
    "print(ind_count)\n",
    "#unique industry\n",
    "check = df_new['Industry'].unique()\n",
    "for i in range(0,143):\n",
    "    print('\"',check[i],'\"',':','\"',i,'\"',',')\n",
    "#print(df_new['Industry'].unique())"
   ]
  },
  {
   "cell_type": "code",
   "execution_count": 27,
   "metadata": {},
   "outputs": [],
   "source": [
    "df_new['Industry'].replace({\"Insurance\" : \"0\",\n",
    "\"Digital Health\":\"1\" ,\n",
    "\"Fintech\":\"2\",\n",
    "\"Real Estate Tech\":\"3\",\n",
    "\"Tech Services\":\"4\",\n",
    "\"Consumer\":\"5\",\n",
    "\"Finance\":\"6\",\n",
    "\"Medical Equip\":\"7\",\n",
    "\"Hospital/Healthcare\":\"8\",\n",
    "\"Hardware\":\"9\" ,\n",
    "\"Sports\":\"10\",\n",
    "\"Real Estate\":\"11\",\n",
    "\"Logistics\":\"12\",\n",
    "\"Furniture\":\"13\",\n",
    "\"Biotech\":\"14\" ,\n",
    "\"Engineering\":\"15\" ,\n",
    "\"Telecom\":\"16\" ,\n",
    "\"Construction\":\"17\" ,\n",
    "\"Marketing\":\"18\",\n",
    "\"Health\":\"19\" ,\n",
    "\"Martech\":\"20\" ,\n",
    "\"IT Security\":\"21\",\n",
    "\"Medical Offices\":\"22\",\n",
    "\"Food\":\"23\",\n",
    "\"Technology\":\"24\",\n",
    "\"Consulting\":\"25\",\n",
    "\"Beverages\":\"26\" ,\n",
    "\"Accounting\":\"27\" ,\n",
    "\"Environmental\":\"28\" ,\n",
    "\"Social Services\":\"29\" ,\n",
    "\"Design\":\"30\" ,\n",
    "\"Networking\":\"31\" ,\n",
    "\"Banking\":\"32\" ,\n",
    "\"Investments\":\"33\" ,\n",
    "\"Mining\":\"34\" ,\n",
    "\"Retail\":\"35\" ,\n",
    "\"Veterinary\":\"36\",\n",
    "\"Industrial\":\"37\",\n",
    "\"Education\":\"38 \" ,\n",
    "\"Recruiting\":\"39\",\n",
    "\"Pharma\":\"40\" ,\n",
    "\"Transportation\":\"41\" ,\n",
    "\"Automotive\":\"42\" ,\n",
    "\"Materials\":\"43\" ,\n",
    "\"Chemicals\":\"44\" ,\n",
    "\"Hospitality\":\"45\" ,\n",
    "\"Machinery\":\"46\" ,\n",
    "\"HR\":\"47\" ,\n",
    "\"Outsource\":\"48\" ,\n",
    "\"Research\":\"49\" ,\n",
    "\"NonProfit\":\"50\" ,\n",
    "\"Facilities\":\"51\" ,\n",
    "\"Restaurants\":\"52\" ,\n",
    "\"Farming\":\"53\" ,\n",
    "\"Legal\":\"54\" ,\n",
    "\"Media\":\"55\" ,\n",
    "\"Photography\":\"56\",\n",
    "\"Cosmetics\":\"57\" ,\n",
    "\"EntertainmentSanta\":\"58\" ,\n",
    "\"Publishing\":\"59\" ,\n",
    "\"Supplies\":\"60\" ,\n",
    "\"Apparel\":\"61\" ,\n",
    "\"Trade\":\"62\" ,\n",
    "\"Semiconductors\":\"63\" ,\n",
    "\"Analytics\":\"64\" ,\n",
    "\"HRTech\":\"65\",\n",
    "\"Events\":\" 66\" ,\n",
    "\"Learning\":\"67\" ,\n",
    "\"Electronics\":\"68\" ,\n",
    "\"Utilities\":\"69\" ,\n",
    "\"Defense\":\"70\" ,\n",
    "\"Textiles\":\"71\" ,\n",
    "\"Warehousing\":\"72\" ,\n",
    "\"Energy/Oil\":\"73\" ,\n",
    "\"Leisure\":\"74\" ,\n",
    "\"Religious\":\"75\" ,\n",
    "\"EdTech\":\"76\" ,\n",
    "\"Gaming\":\"77\" ,\n",
    "\"Entertainment\":\"78\" ,\n",
    "\"Training\":\"79\" ,\n",
    "\"eCommerceTech\":\"80\" ,\n",
    "\"Civil\":\"81\" ,\n",
    "\"ProductivityTech\":\"82\" ,\n",
    "\"PR/Comm\":\"83\" ,\n",
    "\"Museums\":\"84\" ,\n",
    "\"Privately Held\":\"85\" ,\n",
    "\"Medical Device\":\"86\" ,\n",
    "\"Cannabis\":\"87\" ,\n",
    "\"Salestech\":\"88\" ,\n",
    "\"Security\":\"89\" ,\n",
    "\"Wireless\":\"90\" ,\n",
    "\"Printing\":\"91\" ,\n",
    "\"AI\":\"92\" ,\n",
    "\"LegalTech\":\"93\" ,\n",
    "\"Wholesale\":\"94\" ,\n",
    "\"Newspapers\":\"95\" ,\n",
    "\"Paper\":\"96\" ,\n",
    "\"Casinos\":\"97\" ,\n",
    "\"Philanthropy\":\"98\" ,\n",
    "\"Think Tanks\":\"99\" ,\n",
    "\"Information Technology & Services\":\"100\" ,\n",
    "\"Health, Wellness & Fitness\":\"101\" ,\n",
    "\"nan\":\"102\" ,\n",
    "\"Healthcare\":\"103\" ,\n",
    "\"Shipbuilding\":\"104\" ,\n",
    "\"Recreation\":\"105\" ,\n",
    "\"Packaging\":\"106\" ,\n",
    "\"Plastics\":\"107\" ,\n",
    "\"Maritime\":\"108\" ,\n",
    "\"Executive\":\"109\" ,\n",
    "\"Medical\":\"110\" ,\n",
    "\"Military\":\"111\" ,\n",
    "\"Writing\":\"112\" ,\n",
    "\"Music\":\"113\" ,\n",
    "\"Hospital/Health\":\"114\" ,\n",
    "\"IT Consulting\":\"115\" ,\n",
    "\"Event Tech\":\"116\" ,\n",
    "\"Marketing & Advertising\":\"117\" ,\n",
    "\"IoT\":\"118\",\n",
    "\"Support/CRM Tech\":\"119\" ,\n",
    "\"Architecture\":\"120\" ,\n",
    "\"DevOps\":\"121\" ,\n",
    "\"Adtech\":\"122\",\n",
    "\"Electrical & Electronic Manufacturing\":\"123\" ,\n",
    "\"Legaltech\":\"124\" ,\n",
    "\"eCommerce\":\"125\" ,\n",
    "\"Robotics\":\"126\" ,\n",
    "\"FinTech\":\"127 \" ,\n",
    "\"Arts\":\"128\" ,\n",
    "\"Tobacco\":\"129\" ,\n",
    "\"Fund-Raising\":\"130 \" ,\n",
    "\"Fishery\":\"131\" ,\n",
    "\"Supermarkets\":\"132\" ,\n",
    "\"Dairy\":\"133\" ,\n",
    "\"Staffing & Recruiting\":\"134\" ,\n",
    "\"Concreate\":\"135\" ,\n",
    "\"Investment Banks\":\"136\" ,\n",
    "\"Law\":\"137\" ,\n",
    "\"Animation\":\"138\" ,\n",
    "\"AdTech\":\"139\" ,\n",
    "\"Cloud\":\"140\" ,\n",
    "\"PaaS\":\"141\" ,\n",
    "\"SalesTech\":\"142\"},inplace=True)"
   ]
  },
  {
   "cell_type": "code",
   "execution_count": 92,
   "metadata": {},
   "outputs": [
    {
     "output_type": "stream",
     "name": "stdout",
     "text": [
      "[]\n"
     ]
    },
    {
     "output_type": "error",
     "ename": "IndexError",
     "evalue": "index 0 is out of bounds for axis 0 with size 0",
     "traceback": [
      "\u001b[0;31m---------------------------------------------------------------------------\u001b[0m",
      "\u001b[0;31mIndexError\u001b[0m                                Traceback (most recent call last)",
      "\u001b[0;32m<ipython-input-92-aceaceb6f01f>\u001b[0m in \u001b[0;36m<module>\u001b[0;34m\u001b[0m\n\u001b[1;32m      3\u001b[0m \u001b[0;32mfor\u001b[0m \u001b[0mi\u001b[0m \u001b[0;32min\u001b[0m \u001b[0mrange\u001b[0m\u001b[0;34m(\u001b[0m\u001b[0;36m0\u001b[0m\u001b[0;34m,\u001b[0m\u001b[0;36m3\u001b[0m\u001b[0;34m)\u001b[0m\u001b[0;34m:\u001b[0m\u001b[0;34m\u001b[0m\u001b[0;34m\u001b[0m\u001b[0m\n\u001b[1;32m      4\u001b[0m     \u001b[0;31m#print(check_city[update_city[i]-1])\u001b[0m\u001b[0;34m\u001b[0m\u001b[0;34m\u001b[0m\u001b[0;34m\u001b[0m\u001b[0m\n\u001b[0;32m----> 5\u001b[0;31m     \u001b[0mdf_new\u001b[0m\u001b[0;34m.\u001b[0m\u001b[0mat\u001b[0m\u001b[0;34m[\u001b[0m\u001b[0mupdate_indu\u001b[0m\u001b[0;34m[\u001b[0m\u001b[0mi\u001b[0m\u001b[0;34m]\u001b[0m\u001b[0;34m,\u001b[0m\u001b[0;34m'Industry'\u001b[0m\u001b[0;34m]\u001b[0m\u001b[0;34m=\u001b[0m\u001b[0;34m'142'\u001b[0m\u001b[0;34m\u001b[0m\u001b[0;34m\u001b[0m\u001b[0m\n\u001b[0m",
      "\u001b[0;31mIndexError\u001b[0m: index 0 is out of bounds for axis 0 with size 0"
     ]
    }
   ],
   "source": [
    "update_indu = np.where(df_new['Industry'].isnull())[0]\n",
    "print(update_indu)\n",
    "for i in range(0,3):\n",
    "    #print(check_city[update_city[i]-1])\n",
    "    df_new.at[update_indu[i],'Industry']='142'"
   ]
  },
  {
   "cell_type": "code",
   "execution_count": 28,
   "metadata": {},
   "outputs": [
    {
     "output_type": "execute_result",
     "data": {
      "text/plain": [
       "0        31240000\n",
       "1        32130000\n",
       "2       200340000\n",
       "3        40690000\n",
       "4        20580000\n",
       "          ...    \n",
       "3667            0\n",
       "3668    173512000\n",
       "3669            0\n",
       "3670     64815000\n",
       "3671     13230000\n",
       "Name: estimated_revenues, Length: 3672, dtype: int64"
      ]
     },
     "metadata": {},
     "execution_count": 28
    }
   ],
   "source": [
    "#converting estimated_Revenues to int \n",
    "df_new['estimated_revenues'] = df_new['estimated_revenues'].fillna(0)\n",
    "df_new['estimated_revenues'].astype(int)"
   ]
  },
  {
   "cell_type": "code",
   "execution_count": 72,
   "metadata": {},
   "outputs": [
    {
     "output_type": "stream",
     "name": "stdout",
     "text": [
      "[  55  162  163  164  172  174  179  191  216  680  950 1175 1176 1177\n 1186 1190 1207 1334 1453 1462 1579 2157 2261 2602 2643 2837 3334]\n"
     ]
    }
   ],
   "source": [
    "#getting index of null values\n",
    "update_city = np.where(df_new['city'].isnull())[0]\n",
    "print(update_city)"
   ]
  },
  {
   "cell_type": "code",
   "execution_count": 83,
   "metadata": {},
   "outputs": [],
   "source": [
    "#updating null value with it's previous value of city as same city startup are in row.\n",
    "for i in range(0,27):\n",
    "    #print(check_city[update_city[i]-1])\n",
    "    df_new.at[update_city[i],'city']=check_city[update_city[i]-1]\n",
    "\n",
    "df_new['city'].isnull().sum()"
   ]
  },
  {
   "cell_type": "code",
   "execution_count": 94,
   "metadata": {},
   "outputs": [],
   "source": [
    "df_new.to_csv('Startup_statewise_cleaned.csv',index=False)"
   ]
  },
  {
   "cell_type": "code",
   "execution_count": 93,
   "metadata": {},
   "outputs": [
    {
     "output_type": "execute_result",
     "data": {
      "text/plain": [
       "company_name            0\n",
       "city                    0\n",
       "state                   0\n",
       "employees               0\n",
       "founded               736\n",
       "Industry                0\n",
       "CityRanking             0\n",
       "estimated_revenues      0\n",
       "job_openings            0\n",
       "growth_percentage       0\n",
       "dtype: int64"
      ]
     },
     "metadata": {},
     "execution_count": 93
    }
   ],
   "source": [
    "df_new.isnull().sum()"
   ]
  }
 ]
}