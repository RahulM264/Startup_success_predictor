{
  "nbformat": 4,
  "nbformat_minor": 0,
  "metadata": {
    "colab": {
      "name": "startup_list_by_cities_cleaned.ipynb",
      "provenance": [],
      "collapsed_sections": []
    },
    "kernelspec": {
      "display_name": "Python 3",
      "name": "python3"
    },
    "language_info": {
      "name": "python"
    }
  },
  "cells": [
    {
      "cell_type": "markdown",
      "metadata": {
        "id": "QofUM-OnvAIX"
      },
      "source": [
        "**Documentaion**\n",
        "* Data id 20\n",
        "* Columns are: city,name,link,description\n",
        "* Dropped link because it's a redundant feature\n",
        "* We have a result of 2 datasets in this cleaning\n",
        "* First one with 22526 rows not containing null values\n",
        "* Second one with 2894 rows containing startups with missing descriptions\n",
        "* Uncomment the last section if you need better Text cleaning: For cleaned_description column: Removed punctuations+stop words+lowercase+removed diacritics"
      ]
    },
    {
      "cell_type": "code",
      "metadata": {
        "id": "AGoQx72gz3sg"
      },
      "source": [
        "import pandas as pd"
      ],
      "execution_count": 1,
      "outputs": []
    },
    {
      "cell_type": "code",
      "metadata": {
        "colab": {
          "base_uri": "https://localhost:8080/",
          "height": 206
        },
        "id": "1glzdQiyz6f7",
        "outputId": "84ec75bf-de99-4590-b9e4-d7d10024a282"
      },
      "source": [
        "df=pd.read_csv(\"/content/startup_list_by_cities.csv\",engine=\"c\")\n",
        "df.head()"
      ],
      "execution_count": 8,
      "outputs": [
        {
          "output_type": "execute_result",
          "data": {
            "text/html": [
              "<div>\n",
              "<style scoped>\n",
              "    .dataframe tbody tr th:only-of-type {\n",
              "        vertical-align: middle;\n",
              "    }\n",
              "\n",
              "    .dataframe tbody tr th {\n",
              "        vertical-align: top;\n",
              "    }\n",
              "\n",
              "    .dataframe thead th {\n",
              "        text-align: right;\n",
              "    }\n",
              "</style>\n",
              "<table border=\"1\" class=\"dataframe\">\n",
              "  <thead>\n",
              "    <tr style=\"text-align: right;\">\n",
              "      <th></th>\n",
              "      <th>city</th>\n",
              "      <th>name</th>\n",
              "      <th>link</th>\n",
              "      <th>description</th>\n",
              "    </tr>\n",
              "  </thead>\n",
              "  <tbody>\n",
              "    <tr>\n",
              "      <th>0</th>\n",
              "      <td>Atlanta</td>\n",
              "      <td>SaferCodes Vovid QR codes</td>\n",
              "      <td>https://parser.run</td>\n",
              "      <td>\\nData as a service.\\nSimple, custom web scrap...</td>\n",
              "    </tr>\n",
              "    <tr>\n",
              "      <th>1</th>\n",
              "      <td>Atlanta</td>\n",
              "      <td>EarthLink</td>\n",
              "      <td>http://www.earthlink.net/</td>\n",
              "      <td>\\n \\n</td>\n",
              "    </tr>\n",
              "    <tr>\n",
              "      <th>2</th>\n",
              "      <td>Atlanta</td>\n",
              "      <td>Ionic Security</td>\n",
              "      <td>http://ionicsecurity.com/</td>\n",
              "      <td>\\n The Unified Data and Mobility Security Plat...</td>\n",
              "    </tr>\n",
              "    <tr>\n",
              "      <th>3</th>\n",
              "      <td>Atlanta</td>\n",
              "      <td>TripLingo</td>\n",
              "      <td>http://www.triplingo.com</td>\n",
              "      <td>\\n Customized language and culture learning fo...</td>\n",
              "    </tr>\n",
              "    <tr>\n",
              "      <th>4</th>\n",
              "      <td>Atlanta</td>\n",
              "      <td>invitation codes app referral</td>\n",
              "      <td>https://invitation.codes</td>\n",
              "      <td>\\nThe referral community\\nInvitation App is a ...</td>\n",
              "    </tr>\n",
              "  </tbody>\n",
              "</table>\n",
              "</div>"
            ],
            "text/plain": [
              "      city  ...                                        description\n",
              "0  Atlanta  ...  \\nData as a service.\\nSimple, custom web scrap...\n",
              "1  Atlanta  ...                                              \\n \\n\n",
              "2  Atlanta  ...  \\n The Unified Data and Mobility Security Plat...\n",
              "3  Atlanta  ...  \\n Customized language and culture learning fo...\n",
              "4  Atlanta  ...  \\nThe referral community\\nInvitation App is a ...\n",
              "\n",
              "[5 rows x 4 columns]"
            ]
          },
          "metadata": {
            "tags": []
          },
          "execution_count": 8
        }
      ]
    },
    {
      "cell_type": "markdown",
      "metadata": {
        "id": "jvYjzCCc38_S"
      },
      "source": [
        "### All of the 11 cities we have are located in the US"
      ]
    },
    {
      "cell_type": "code",
      "metadata": {
        "colab": {
          "base_uri": "https://localhost:8080/"
        },
        "id": "3iDBlyQf1El-",
        "outputId": "66a4e13d-d308-4f32-c4f7-b12c767228b8"
      },
      "source": [
        "list_of_cities=df[\"city\"].unique()\n",
        "total_number_of_cities=len(list_of_cities)\n",
        "print('total_number_of_cities : {} ---- list_of_cities: {}' .format(total_number_of_cities,list_of_cities))"
      ],
      "execution_count": 9,
      "outputs": [
        {
          "output_type": "stream",
          "text": [
            "total_number_of_cities : 11 ---- list_of_cities: ['Atlanta' 'Austin' 'Boston' 'Boulder' 'Chicago' 'Houston' 'Los Angeles'\n",
            " 'New York' 'San Francisco' 'Seattle' 'Washington DC']\n"
          ],
          "name": "stdout"
        }
      ]
    },
    {
      "cell_type": "markdown",
      "metadata": {
        "id": "5Sz4R_ES4KVb"
      },
      "source": [
        "### Link is a redundant feature that will give us no insights ==> Drop it"
      ]
    },
    {
      "cell_type": "code",
      "metadata": {
        "id": "cwrWMVvX2_4Q"
      },
      "source": [
        "df.drop(columns=\"link\", inplace=True)"
      ],
      "execution_count": 10,
      "outputs": []
    },
    {
      "cell_type": "code",
      "metadata": {
        "colab": {
          "base_uri": "https://localhost:8080/",
          "height": 206
        },
        "id": "I3lViNzJ4ktv",
        "outputId": "d3cb9e4c-6393-4131-f027-434ce85ea437"
      },
      "source": [
        "df.head()"
      ],
      "execution_count": 11,
      "outputs": [
        {
          "output_type": "execute_result",
          "data": {
            "text/html": [
              "<div>\n",
              "<style scoped>\n",
              "    .dataframe tbody tr th:only-of-type {\n",
              "        vertical-align: middle;\n",
              "    }\n",
              "\n",
              "    .dataframe tbody tr th {\n",
              "        vertical-align: top;\n",
              "    }\n",
              "\n",
              "    .dataframe thead th {\n",
              "        text-align: right;\n",
              "    }\n",
              "</style>\n",
              "<table border=\"1\" class=\"dataframe\">\n",
              "  <thead>\n",
              "    <tr style=\"text-align: right;\">\n",
              "      <th></th>\n",
              "      <th>city</th>\n",
              "      <th>name</th>\n",
              "      <th>description</th>\n",
              "    </tr>\n",
              "  </thead>\n",
              "  <tbody>\n",
              "    <tr>\n",
              "      <th>0</th>\n",
              "      <td>Atlanta</td>\n",
              "      <td>SaferCodes Vovid QR codes</td>\n",
              "      <td>\\nData as a service.\\nSimple, custom web scrap...</td>\n",
              "    </tr>\n",
              "    <tr>\n",
              "      <th>1</th>\n",
              "      <td>Atlanta</td>\n",
              "      <td>EarthLink</td>\n",
              "      <td>\\n \\n</td>\n",
              "    </tr>\n",
              "    <tr>\n",
              "      <th>2</th>\n",
              "      <td>Atlanta</td>\n",
              "      <td>Ionic Security</td>\n",
              "      <td>\\n The Unified Data and Mobility Security Plat...</td>\n",
              "    </tr>\n",
              "    <tr>\n",
              "      <th>3</th>\n",
              "      <td>Atlanta</td>\n",
              "      <td>TripLingo</td>\n",
              "      <td>\\n Customized language and culture learning fo...</td>\n",
              "    </tr>\n",
              "    <tr>\n",
              "      <th>4</th>\n",
              "      <td>Atlanta</td>\n",
              "      <td>invitation codes app referral</td>\n",
              "      <td>\\nThe referral community\\nInvitation App is a ...</td>\n",
              "    </tr>\n",
              "  </tbody>\n",
              "</table>\n",
              "</div>"
            ],
            "text/plain": [
              "      city  ...                                        description\n",
              "0  Atlanta  ...  \\nData as a service.\\nSimple, custom web scrap...\n",
              "1  Atlanta  ...                                              \\n \\n\n",
              "2  Atlanta  ...  \\n The Unified Data and Mobility Security Plat...\n",
              "3  Atlanta  ...  \\n Customized language and culture learning fo...\n",
              "4  Atlanta  ...  \\nThe referral community\\nInvitation App is a ...\n",
              "\n",
              "[5 rows x 3 columns]"
            ]
          },
          "metadata": {
            "tags": []
          },
          "execution_count": 11
        }
      ]
    },
    {
      "cell_type": "markdown",
      "metadata": {
        "id": "AaOz2cOf5CcL"
      },
      "source": [
        "### checking for missing data\n"
      ]
    },
    {
      "cell_type": "code",
      "metadata": {
        "colab": {
          "base_uri": "https://localhost:8080/"
        },
        "id": "cgsCvVxe4mJ5",
        "outputId": "33c301c5-730f-4e06-8b63-fffffe908df2"
      },
      "source": [
        "df.isna().sum()\n",
        "print(df.shape)"
      ],
      "execution_count": 12,
      "outputs": [
        {
          "output_type": "stream",
          "text": [
            "(25421, 3)\n"
          ],
          "name": "stdout"
        }
      ]
    },
    {
      "cell_type": "code",
      "metadata": {
        "colab": {
          "base_uri": "https://localhost:8080/"
        },
        "id": "h71AI1Op4uao",
        "outputId": "2f230735-6eb5-4fa4-b2d3-e7b1eb218d14"
      },
      "source": [
        "#we have a column that has no name or description so we're droping it\n",
        "df[df[\"name\"].isna()==True]\n",
        "indexName = df[ df['name'].isna()==True].index\n",
        "df.drop(indexName , inplace=True)\n",
        "print(df.shape)"
      ],
      "execution_count": 13,
      "outputs": [
        {
          "output_type": "stream",
          "text": [
            "(25420, 3)\n"
          ],
          "name": "stdout"
        }
      ]
    },
    {
      "cell_type": "code",
      "metadata": {
        "colab": {
          "base_uri": "https://localhost:8080/"
        },
        "id": "hwWPAtz15RFv",
        "outputId": "bb684043-6770-4fa5-dc17-5912d75d1151"
      },
      "source": [
        "df.isna().sum()"
      ],
      "execution_count": 14,
      "outputs": [
        {
          "output_type": "execute_result",
          "data": {
            "text/plain": [
              "city           0\n",
              "name           0\n",
              "description    0\n",
              "dtype: int64"
            ]
          },
          "metadata": {
            "tags": []
          },
          "execution_count": 14
        }
      ]
    },
    {
      "cell_type": "code",
      "metadata": {
        "colab": {
          "background_save": true
        },
        "id": "Tj84ucsW769e"
      },
      "source": [
        "df.head()"
      ],
      "execution_count": null,
      "outputs": []
    },
    {
      "cell_type": "code",
      "metadata": {
        "colab": {
          "background_save": true
        },
        "id": "r1OI1aga79TL"
      },
      "source": [
        "#the isna().sum() functions returns 0 null values but if we took a look at the \n",
        "#description columns we find that we have null values as a format of \\n\\n"
      ],
      "execution_count": null,
      "outputs": []
    },
    {
      "cell_type": "code",
      "metadata": {
        "colab": {
          "base_uri": "https://localhost:8080/",
          "height": 206
        },
        "id": "42MeS7Gc8O4B",
        "outputId": "d0630a6c-35b9-4e3f-a572-0b118bfc8fbc"
      },
      "source": [
        "df = df.replace('\\n','', regex=True)\n",
        "df.head()"
      ],
      "execution_count": 15,
      "outputs": [
        {
          "output_type": "execute_result",
          "data": {
            "text/html": [
              "<div>\n",
              "<style scoped>\n",
              "    .dataframe tbody tr th:only-of-type {\n",
              "        vertical-align: middle;\n",
              "    }\n",
              "\n",
              "    .dataframe tbody tr th {\n",
              "        vertical-align: top;\n",
              "    }\n",
              "\n",
              "    .dataframe thead th {\n",
              "        text-align: right;\n",
              "    }\n",
              "</style>\n",
              "<table border=\"1\" class=\"dataframe\">\n",
              "  <thead>\n",
              "    <tr style=\"text-align: right;\">\n",
              "      <th></th>\n",
              "      <th>city</th>\n",
              "      <th>name</th>\n",
              "      <th>description</th>\n",
              "    </tr>\n",
              "  </thead>\n",
              "  <tbody>\n",
              "    <tr>\n",
              "      <th>0</th>\n",
              "      <td>Atlanta</td>\n",
              "      <td>SaferCodes Vovid QR codes</td>\n",
              "      <td>Data as a service.Simple, custom web scraping ...</td>\n",
              "    </tr>\n",
              "    <tr>\n",
              "      <th>1</th>\n",
              "      <td>Atlanta</td>\n",
              "      <td>EarthLink</td>\n",
              "      <td></td>\n",
              "    </tr>\n",
              "    <tr>\n",
              "      <th>2</th>\n",
              "      <td>Atlanta</td>\n",
              "      <td>Ionic Security</td>\n",
              "      <td>The Unified Data and Mobility Security Platfo...</td>\n",
              "    </tr>\n",
              "    <tr>\n",
              "      <th>3</th>\n",
              "      <td>Atlanta</td>\n",
              "      <td>TripLingo</td>\n",
              "      <td>Customized language and culture learning for ...</td>\n",
              "    </tr>\n",
              "    <tr>\n",
              "      <th>4</th>\n",
              "      <td>Atlanta</td>\n",
              "      <td>invitation codes app referral</td>\n",
              "      <td>The referral communityInvitation App is a soci...</td>\n",
              "    </tr>\n",
              "  </tbody>\n",
              "</table>\n",
              "</div>"
            ],
            "text/plain": [
              "      city  ...                                        description\n",
              "0  Atlanta  ...  Data as a service.Simple, custom web scraping ...\n",
              "1  Atlanta  ...                                                   \n",
              "2  Atlanta  ...   The Unified Data and Mobility Security Platfo...\n",
              "3  Atlanta  ...   Customized language and culture learning for ...\n",
              "4  Atlanta  ...  The referral communityInvitation App is a soci...\n",
              "\n",
              "[5 rows x 3 columns]"
            ]
          },
          "metadata": {
            "tags": []
          },
          "execution_count": 15
        }
      ]
    },
    {
      "cell_type": "code",
      "metadata": {
        "colab": {
          "base_uri": "https://localhost:8080/"
        },
        "id": "mE3gKUSr8OJI",
        "outputId": "3252e50b-e42e-40d1-a2aa-2cc47f127200"
      },
      "source": [
        "#checking description column with void values\n",
        "index_list_missing_description=df[df['description'] == ' '].index\n",
        "print(len(index_list_missing_description),index_list_missing_description )"
      ],
      "execution_count": 16,
      "outputs": [
        {
          "output_type": "stream",
          "text": [
            "2894 Int64Index([    1,    11,    17,    26,    28,    31,    42,    60,    61,\n",
            "               67,\n",
            "            ...\n",
            "            25295, 25313, 25331, 25349, 25370, 25389, 25401, 25404, 25413,\n",
            "            25414],\n",
            "           dtype='int64', length=2894)\n"
          ],
          "name": "stdout"
        }
      ]
    },
    {
      "cell_type": "code",
      "metadata": {
        "colab": {
          "background_save": true
        },
        "id": "cvINyV1WP-9A"
      },
      "source": [
        "#we have 2894 missing descriptions"
      ],
      "execution_count": null,
      "outputs": []
    },
    {
      "cell_type": "code",
      "metadata": {
        "colab": {
          "base_uri": "https://localhost:8080/"
        },
        "id": "5qm0UppFUwGZ",
        "outputId": "b61da86b-f915-4dee-960e-0ca06a06de13"
      },
      "source": [
        "index_list_missing_name=df[df['name'] == ' '].index\n",
        "print(len(index_list_missing_name))\n",
        "#we have 0 column name with void values"
      ],
      "execution_count": 17,
      "outputs": [
        {
          "output_type": "stream",
          "text": [
            "0\n"
          ],
          "name": "stdout"
        }
      ]
    },
    {
      "cell_type": "code",
      "metadata": {
        "colab": {
          "base_uri": "https://localhost:8080/",
          "height": 206
        },
        "id": "Q0kSYcB0U5Os",
        "outputId": "f44ca6c3-5e62-49c6-b13a-e4aa39b5c6b7"
      },
      "source": [
        "names_of_missing_startups = list(df['name'].values[index_list_missing_description])\n",
        "names_of_missing_startups\n",
        "startups_with_missing_description=pd.DataFrame(names_of_missing_startups)\n",
        "startups_with_missing_description.head()"
      ],
      "execution_count": 20,
      "outputs": [
        {
          "output_type": "execute_result",
          "data": {
            "text/html": [
              "<div>\n",
              "<style scoped>\n",
              "    .dataframe tbody tr th:only-of-type {\n",
              "        vertical-align: middle;\n",
              "    }\n",
              "\n",
              "    .dataframe tbody tr th {\n",
              "        vertical-align: top;\n",
              "    }\n",
              "\n",
              "    .dataframe thead th {\n",
              "        text-align: right;\n",
              "    }\n",
              "</style>\n",
              "<table border=\"1\" class=\"dataframe\">\n",
              "  <thead>\n",
              "    <tr style=\"text-align: right;\">\n",
              "      <th></th>\n",
              "      <th>0</th>\n",
              "    </tr>\n",
              "  </thead>\n",
              "  <tbody>\n",
              "    <tr>\n",
              "      <th>0</th>\n",
              "      <td>EarthLink</td>\n",
              "    </tr>\n",
              "    <tr>\n",
              "      <th>1</th>\n",
              "      <td>The Home Depot</td>\n",
              "    </tr>\n",
              "    <tr>\n",
              "      <th>2</th>\n",
              "      <td>Turner Broadcasting System</td>\n",
              "    </tr>\n",
              "    <tr>\n",
              "      <th>3</th>\n",
              "      <td>Seraph Group</td>\n",
              "    </tr>\n",
              "    <tr>\n",
              "      <th>4</th>\n",
              "      <td>First Data Corporation</td>\n",
              "    </tr>\n",
              "  </tbody>\n",
              "</table>\n",
              "</div>"
            ],
            "text/plain": [
              "                            0\n",
              "0                   EarthLink\n",
              "1              The Home Depot\n",
              "2  Turner Broadcasting System\n",
              "3                Seraph Group\n",
              "4      First Data Corporation"
            ]
          },
          "metadata": {
            "tags": []
          },
          "execution_count": 20
        }
      ]
    },
    {
      "cell_type": "code",
      "metadata": {
        "colab": {
          "base_uri": "https://localhost:8080/"
        },
        "id": "duba2IEXWjRt",
        "outputId": "4636a59a-4749-4c1c-cc31-beb5f02e10ef"
      },
      "source": [
        "#dropping rows with missing descriptions\n",
        "df = df.drop(df[df['description'] == ' '].index, axis=0)\n",
        "df.shape"
      ],
      "execution_count": 25,
      "outputs": [
        {
          "output_type": "execute_result",
          "data": {
            "text/plain": [
              "(22526, 3)"
            ]
          },
          "metadata": {
            "tags": []
          },
          "execution_count": 25
        }
      ]
    },
    {
      "cell_type": "markdown",
      "metadata": {
        "id": "y2MKMPqcf0Fz"
      },
      "source": [
        "#uncomment this section for better text visualization"
      ]
    },
    {
      "cell_type": "code",
      "metadata": {
        "id": "t_z8zHxTgBkp"
      },
      "source": [
        "# # let's do text preprocessing\n",
        "# from texthero import preprocessing\n",
        "\n",
        "# # creating a custom pipeline to preprocess the raw text we have\n",
        "# custom_pipeline = [preprocessing.fillna\n",
        "#                    , preprocessing.lowercase\n",
        "#                   #  , preprocessing.remove_digits # you can uncomment this if you want to remove digits as well.\n",
        "#                    , preprocessing.remove_punctuation\n",
        "#                    , preprocessing.remove_diacritics\n",
        "#                    , preprocessing.remove_stopwords\n",
        "#                    , preprocessing.remove_whitespace\n",
        "#                    , preprocessing.stem]\n",
        "\n",
        "# # simply call clean() method to clean the raw text in 'tweet' col and pass the custom_pipeline to pipeline argument\n",
        "# df['clean_descr'] = hero.clean(df['description'], pipeline = custom_pipeline)\n",
        "\n",
        "# df"
      ],
      "execution_count": 27,
      "outputs": []
    },
    {
      "cell_type": "code",
      "metadata": {
        "id": "z-QL5SIWfZtm"
      },
      "source": [
        "df.to_csv(\"startup_list_by_cities_cleaned_data20.csv\")\n",
        "startups_with_missing_description.to_csv(\"startups_with_missing_description_listbycities_data20.csv\")"
      ],
      "execution_count": 26,
      "outputs": []
    }
  ]
}