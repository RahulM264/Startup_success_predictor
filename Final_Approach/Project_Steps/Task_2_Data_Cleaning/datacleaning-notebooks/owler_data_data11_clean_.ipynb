{
  "nbformat": 4,
  "nbformat_minor": 0,
  "metadata": {
    "colab": {
      "name": "owler data - data11 clean .ipynb",
      "provenance": []
    },
    "kernelspec": {
      "name": "python3",
      "display_name": "Python 3"
    },
    "language_info": {
      "name": "python"
    }
  },
  "cells": [
    {
      "cell_type": "markdown",
      "metadata": {
        "id": "DqDGoAsTipoj"
      },
      "source": [
        "#### Documentation:\n",
        "\n",
        "- intially,thought of Modifying competitors revenue {1_10} to avg. competitors revenue but competitor revenue is already present,so no need to create the avg . revenue\n",
        "\n",
        "- dropped **owler connection** as only 88% are missing\n",
        "\n",
        "- dropped **notes** as all the values are NULL\n",
        "\n",
        "- dropped **potential crawl failing point** as 90% values are 0 and seems to be un-important\n",
        "\n",
        "- dropped **crawl_tried** as all values are 0\n",
        "\n",
        "- removed 736 rows as they don't have **HHI** and **Company Revenue**\n"
      ]
    },
    {
      "cell_type": "code",
      "metadata": {
        "id": "ImsGgEWIiGNU"
      },
      "source": [
        "import pandas as pd"
      ],
      "execution_count": 1,
      "outputs": []
    },
    {
      "cell_type": "code",
      "metadata": {
        "colab": {
          "base_uri": "https://localhost:8080/",
          "height": 405
        },
        "id": "ry3kXJikiSBT",
        "outputId": "31b2a5ca-bb3a-445d-be86-d5b84430f99f"
      },
      "source": [
        "path_to_file = '/content/whole_info_v4.csv'\n",
        "df = pd.read_csv(path_to_file)\n",
        "\n",
        "original_df = df.copy()\n",
        "df.head()"
      ],
      "execution_count": 10,
      "outputs": [
        {
          "output_type": "execute_result",
          "data": {
            "text/html": [
              "<div>\n",
              "<style scoped>\n",
              "    .dataframe tbody tr th:only-of-type {\n",
              "        vertical-align: middle;\n",
              "    }\n",
              "\n",
              "    .dataframe tbody tr th {\n",
              "        vertical-align: top;\n",
              "    }\n",
              "\n",
              "    .dataframe thead th {\n",
              "        text-align: right;\n",
              "    }\n",
              "</style>\n",
              "<table border=\"1\" class=\"dataframe\">\n",
              "  <thead>\n",
              "    <tr style=\"text-align: right;\">\n",
              "      <th></th>\n",
              "      <th>Company.name</th>\n",
              "      <th>owler corrrectionn</th>\n",
              "      <th>Company Business</th>\n",
              "      <th>Category</th>\n",
              "      <th>Company Revenue</th>\n",
              "      <th>Competitor count (cap at 10)</th>\n",
              "      <th>Competitor Revenue in Total</th>\n",
              "      <th>HHI</th>\n",
              "      <th>crawl_tried</th>\n",
              "      <th>potential crawl failing point</th>\n",
              "      <th>notes</th>\n",
              "      <th>competitors revenue 1</th>\n",
              "      <th>competitors revenue 2</th>\n",
              "      <th>competitors revenue 3</th>\n",
              "      <th>competitors revenue 4</th>\n",
              "      <th>competitors revenue 5</th>\n",
              "      <th>competitors revenue 6</th>\n",
              "      <th>competitors revenue 7</th>\n",
              "      <th>competitors revenue 8</th>\n",
              "      <th>competitors revenue 9</th>\n",
              "      <th>competitors revenue 10</th>\n",
              "    </tr>\n",
              "  </thead>\n",
              "  <tbody>\n",
              "    <tr>\n",
              "      <th>0</th>\n",
              "      <td>buildingrobotics</td>\n",
              "      <td>NaN</td>\n",
              "      <td>Comfy is changing the way people interact with...</td>\n",
              "      <td>Artificial Intelligence, Business Intelligence...</td>\n",
              "      <td>NaN</td>\n",
              "      <td>0</td>\n",
              "      <td>0.0</td>\n",
              "      <td>NaN</td>\n",
              "      <td>0</td>\n",
              "      <td>0</td>\n",
              "      <td>NaN</td>\n",
              "      <td>0.0</td>\n",
              "      <td>0.0</td>\n",
              "      <td>0.0</td>\n",
              "      <td>0.0</td>\n",
              "      <td>0.0</td>\n",
              "      <td>0.0</td>\n",
              "      <td>0.0</td>\n",
              "      <td>0.0</td>\n",
              "      <td>0.0</td>\n",
              "      <td>0.0</td>\n",
              "    </tr>\n",
              "    <tr>\n",
              "      <th>1</th>\n",
              "      <td>medicalsimulation</td>\n",
              "      <td>medsimulation</td>\n",
              "      <td>Medical Simulation provides full-service simul...</td>\n",
              "      <td>Biotechnology, Health Care, Hospital</td>\n",
              "      <td>10.7</td>\n",
              "      <td>10</td>\n",
              "      <td>36076.2</td>\n",
              "      <td>0.257775</td>\n",
              "      <td>0</td>\n",
              "      <td>0</td>\n",
              "      <td>NaN</td>\n",
              "      <td>10.0</td>\n",
              "      <td>16.3</td>\n",
              "      <td>7100.0</td>\n",
              "      <td>12200.0</td>\n",
              "      <td>10300.0</td>\n",
              "      <td>995.0</td>\n",
              "      <td>1.0</td>\n",
              "      <td>21.7</td>\n",
              "      <td>32.2</td>\n",
              "      <td>5400.0</td>\n",
              "    </tr>\n",
              "    <tr>\n",
              "      <th>2</th>\n",
              "      <td>cancergenetics</td>\n",
              "      <td>NaN</td>\n",
              "      <td>NaN</td>\n",
              "      <td>NaN</td>\n",
              "      <td>24.2</td>\n",
              "      <td>10</td>\n",
              "      <td>652.2</td>\n",
              "      <td>0.462750</td>\n",
              "      <td>0</td>\n",
              "      <td>0</td>\n",
              "      <td>NaN</td>\n",
              "      <td>3.8</td>\n",
              "      <td>1.0</td>\n",
              "      <td>394.1</td>\n",
              "      <td>3.7</td>\n",
              "      <td>1.0</td>\n",
              "      <td>28.2</td>\n",
              "      <td>3.5</td>\n",
              "      <td>6.5</td>\n",
              "      <td>9.0</td>\n",
              "      <td>201.4</td>\n",
              "    </tr>\n",
              "    <tr>\n",
              "      <th>3</th>\n",
              "      <td>kindredbiosciences</td>\n",
              "      <td>kindredbio</td>\n",
              "      <td>NaN</td>\n",
              "      <td>NaN</td>\n",
              "      <td>NaN</td>\n",
              "      <td>0</td>\n",
              "      <td>0.0</td>\n",
              "      <td>NaN</td>\n",
              "      <td>0</td>\n",
              "      <td>0</td>\n",
              "      <td>NaN</td>\n",
              "      <td>0.0</td>\n",
              "      <td>0.0</td>\n",
              "      <td>0.0</td>\n",
              "      <td>0.0</td>\n",
              "      <td>0.0</td>\n",
              "      <td>0.0</td>\n",
              "      <td>0.0</td>\n",
              "      <td>0.0</td>\n",
              "      <td>0.0</td>\n",
              "      <td>0.0</td>\n",
              "    </tr>\n",
              "    <tr>\n",
              "      <th>4</th>\n",
              "      <td>topgifter</td>\n",
              "      <td>NaN</td>\n",
              "      <td>Search and get Gift Recommendations</td>\n",
              "      <td>E-Commerce, Gift, Shopping</td>\n",
              "      <td>2.6</td>\n",
              "      <td>6</td>\n",
              "      <td>82.5</td>\n",
              "      <td>0.326575</td>\n",
              "      <td>0</td>\n",
              "      <td>0</td>\n",
              "      <td>NaN</td>\n",
              "      <td>3.3</td>\n",
              "      <td>3.6</td>\n",
              "      <td>37.6</td>\n",
              "      <td>25.7</td>\n",
              "      <td>11.1</td>\n",
              "      <td>1.2</td>\n",
              "      <td>0.0</td>\n",
              "      <td>0.0</td>\n",
              "      <td>0.0</td>\n",
              "      <td>0.0</td>\n",
              "    </tr>\n",
              "  </tbody>\n",
              "</table>\n",
              "</div>"
            ],
            "text/plain": [
              "         Company.name  ... competitors revenue 10\n",
              "0    buildingrobotics  ...                    0.0\n",
              "1   medicalsimulation  ...                 5400.0\n",
              "2      cancergenetics  ...                  201.4\n",
              "3  kindredbiosciences  ...                    0.0\n",
              "4           topgifter  ...                    0.0\n",
              "\n",
              "[5 rows x 21 columns]"
            ]
          },
          "metadata": {
            "tags": []
          },
          "execution_count": 10
        }
      ]
    },
    {
      "cell_type": "code",
      "metadata": {
        "colab": {
          "base_uri": "https://localhost:8080/"
        },
        "id": "oe6zBnWfiZ4y",
        "outputId": "a2589547-3e20-4303-d69e-9631629a66b0"
      },
      "source": [
        "df.info()"
      ],
      "execution_count": 3,
      "outputs": [
        {
          "output_type": "stream",
          "text": [
            "<class 'pandas.core.frame.DataFrame'>\n",
            "RangeIndex: 1414 entries, 0 to 1413\n",
            "Data columns (total 21 columns):\n",
            " #   Column                         Non-Null Count  Dtype  \n",
            "---  ------                         --------------  -----  \n",
            " 0   Company.name                   1414 non-null   object \n",
            " 1   owler corrrectionn             172 non-null    object \n",
            " 2   Company Business               1389 non-null   object \n",
            " 3   Category                       1368 non-null   object \n",
            " 4   Company Revenue                736 non-null    float64\n",
            " 5   Competitor count (cap at 10)   1414 non-null   int64  \n",
            " 6   Competitor Revenue in Total    1414 non-null   float64\n",
            " 7   HHI                            736 non-null    float64\n",
            " 8   crawl_tried                    1414 non-null   int64  \n",
            " 9   potential crawl failing point  1414 non-null   int64  \n",
            " 10  notes                          0 non-null      float64\n",
            " 11  competitors revenue 1          1414 non-null   float64\n",
            " 12  competitors revenue 2          1414 non-null   float64\n",
            " 13  competitors revenue 3          1414 non-null   float64\n",
            " 14  competitors revenue 4          1414 non-null   float64\n",
            " 15  competitors revenue 5          1414 non-null   float64\n",
            " 16  competitors revenue 6          1414 non-null   float64\n",
            " 17  competitors revenue 7          1414 non-null   float64\n",
            " 18  competitors revenue 8          1414 non-null   float64\n",
            " 19  competitors revenue 9          1414 non-null   float64\n",
            " 20  competitors revenue 10         1414 non-null   float64\n",
            "dtypes: float64(14), int64(3), object(4)\n",
            "memory usage: 232.1+ KB\n"
          ],
          "name": "stdout"
        }
      ]
    },
    {
      "cell_type": "code",
      "metadata": {
        "colab": {
          "base_uri": "https://localhost:8080/"
        },
        "id": "UdgL7bCrj8IN",
        "outputId": "dc347626-3e4d-4ae1-bae9-3c46e619e156"
      },
      "source": [
        "df['potential crawl failing point'].value_counts()"
      ],
      "execution_count": 5,
      "outputs": [
        {
          "output_type": "execute_result",
          "data": {
            "text/plain": [
              "0    1377\n",
              "1      37\n",
              "Name: potential crawl failing point, dtype: int64"
            ]
          },
          "metadata": {
            "tags": []
          },
          "execution_count": 5
        }
      ]
    },
    {
      "cell_type": "code",
      "metadata": {
        "colab": {
          "base_uri": "https://localhost:8080/"
        },
        "id": "pXkBjqQ6ifYV",
        "outputId": "9b3cf0ce-2eee-49bb-f134-ac5e89762dcb"
      },
      "source": [
        "df['crawl_tried'].value_counts()"
      ],
      "execution_count": 6,
      "outputs": [
        {
          "output_type": "execute_result",
          "data": {
            "text/plain": [
              "0    1414\n",
              "Name: crawl_tried, dtype: int64"
            ]
          },
          "metadata": {
            "tags": []
          },
          "execution_count": 6
        }
      ]
    },
    {
      "cell_type": "code",
      "metadata": {
        "id": "dXaJ4DI_oTGP"
      },
      "source": [
        "remove_cols = ['owler corrrectionn','crawl_tried','potential crawl failing point','notes']\n",
        "\n",
        "df.drop(columns = remove_cols,axis = 1,inplace=True)"
      ],
      "execution_count": 12,
      "outputs": []
    },
    {
      "cell_type": "code",
      "metadata": {
        "id": "I7rhdvt9rUO1"
      },
      "source": [
        "df1 = df.iloc[:,:-10]"
      ],
      "execution_count": 14,
      "outputs": []
    },
    {
      "cell_type": "code",
      "metadata": {
        "colab": {
          "base_uri": "https://localhost:8080/",
          "height": 564
        },
        "id": "H5fDU58XrZT8",
        "outputId": "7d0c5550-8ab6-4862-b4f1-db2821d3a5a5"
      },
      "source": [
        "df1"
      ],
      "execution_count": 15,
      "outputs": [
        {
          "output_type": "execute_result",
          "data": {
            "text/html": [
              "<div>\n",
              "<style scoped>\n",
              "    .dataframe tbody tr th:only-of-type {\n",
              "        vertical-align: middle;\n",
              "    }\n",
              "\n",
              "    .dataframe tbody tr th {\n",
              "        vertical-align: top;\n",
              "    }\n",
              "\n",
              "    .dataframe thead th {\n",
              "        text-align: right;\n",
              "    }\n",
              "</style>\n",
              "<table border=\"1\" class=\"dataframe\">\n",
              "  <thead>\n",
              "    <tr style=\"text-align: right;\">\n",
              "      <th></th>\n",
              "      <th>Company.name</th>\n",
              "      <th>Company Business</th>\n",
              "      <th>Category</th>\n",
              "      <th>Company Revenue</th>\n",
              "      <th>Competitor count (cap at 10)</th>\n",
              "      <th>Competitor Revenue in Total</th>\n",
              "      <th>HHI</th>\n",
              "    </tr>\n",
              "  </thead>\n",
              "  <tbody>\n",
              "    <tr>\n",
              "      <th>0</th>\n",
              "      <td>buildingrobotics</td>\n",
              "      <td>Comfy is changing the way people interact with...</td>\n",
              "      <td>Artificial Intelligence, Business Intelligence...</td>\n",
              "      <td>NaN</td>\n",
              "      <td>0</td>\n",
              "      <td>0.0</td>\n",
              "      <td>NaN</td>\n",
              "    </tr>\n",
              "    <tr>\n",
              "      <th>1</th>\n",
              "      <td>medicalsimulation</td>\n",
              "      <td>Medical Simulation provides full-service simul...</td>\n",
              "      <td>Biotechnology, Health Care, Hospital</td>\n",
              "      <td>10.7</td>\n",
              "      <td>10</td>\n",
              "      <td>36076.2</td>\n",
              "      <td>0.257775</td>\n",
              "    </tr>\n",
              "    <tr>\n",
              "      <th>2</th>\n",
              "      <td>cancergenetics</td>\n",
              "      <td>NaN</td>\n",
              "      <td>NaN</td>\n",
              "      <td>24.2</td>\n",
              "      <td>10</td>\n",
              "      <td>652.2</td>\n",
              "      <td>0.462750</td>\n",
              "    </tr>\n",
              "    <tr>\n",
              "      <th>3</th>\n",
              "      <td>kindredbiosciences</td>\n",
              "      <td>NaN</td>\n",
              "      <td>NaN</td>\n",
              "      <td>NaN</td>\n",
              "      <td>0</td>\n",
              "      <td>0.0</td>\n",
              "      <td>NaN</td>\n",
              "    </tr>\n",
              "    <tr>\n",
              "      <th>4</th>\n",
              "      <td>topgifter</td>\n",
              "      <td>Search and get Gift Recommendations</td>\n",
              "      <td>E-Commerce, Gift, Shopping</td>\n",
              "      <td>2.6</td>\n",
              "      <td>6</td>\n",
              "      <td>82.5</td>\n",
              "      <td>0.326575</td>\n",
              "    </tr>\n",
              "    <tr>\n",
              "      <th>...</th>\n",
              "      <td>...</td>\n",
              "      <td>...</td>\n",
              "      <td>...</td>\n",
              "      <td>...</td>\n",
              "      <td>...</td>\n",
              "      <td>...</td>\n",
              "      <td>...</td>\n",
              "    </tr>\n",
              "    <tr>\n",
              "      <th>1409</th>\n",
              "      <td>colonialbankfsb</td>\n",
              "      <td>Colonial Bank FSB began in 1913 as a mortgage ...</td>\n",
              "      <td>Banking, Finance, Financial Services</td>\n",
              "      <td>17.9</td>\n",
              "      <td>10</td>\n",
              "      <td>913.8</td>\n",
              "      <td>0.743084</td>\n",
              "    </tr>\n",
              "    <tr>\n",
              "      <th>1410</th>\n",
              "      <td>livongohealth</td>\n",
              "      <td>Livongo is empowering people with chronic cond...</td>\n",
              "      <td>Health Care, Health Diagnostics, Information T...</td>\n",
              "      <td>30.0</td>\n",
              "      <td>9</td>\n",
              "      <td>96.8</td>\n",
              "      <td>0.245516</td>\n",
              "    </tr>\n",
              "    <tr>\n",
              "      <th>1411</th>\n",
              "      <td>paracosm</td>\n",
              "      <td>Paracosm develops mobile 3D scanning, progress...</td>\n",
              "      <td>3D Technology, Augmented Reality, Real Estate,...</td>\n",
              "      <td>1.2</td>\n",
              "      <td>9</td>\n",
              "      <td>77.2</td>\n",
              "      <td>0.344617</td>\n",
              "    </tr>\n",
              "    <tr>\n",
              "      <th>1412</th>\n",
              "      <td>extremeplasticsplus</td>\n",
              "      <td>Extreme Plastics Plus is a family-owned compan...</td>\n",
              "      <td>Advanced Materials, Fashion, Service Industry</td>\n",
              "      <td>5.0</td>\n",
              "      <td>3</td>\n",
              "      <td>34.0</td>\n",
              "      <td>0.437716</td>\n",
              "    </tr>\n",
              "    <tr>\n",
              "      <th>1413</th>\n",
              "      <td>pronutria</td>\n",
              "      <td>Pronutria Biosciences is developing new nutrit...</td>\n",
              "      <td>Biotechnology, Life Science, Therapeutics</td>\n",
              "      <td>NaN</td>\n",
              "      <td>0</td>\n",
              "      <td>0.0</td>\n",
              "      <td>NaN</td>\n",
              "    </tr>\n",
              "  </tbody>\n",
              "</table>\n",
              "<p>1414 rows × 7 columns</p>\n",
              "</div>"
            ],
            "text/plain": [
              "             Company.name  ...       HHI\n",
              "0        buildingrobotics  ...       NaN\n",
              "1       medicalsimulation  ...  0.257775\n",
              "2          cancergenetics  ...  0.462750\n",
              "3      kindredbiosciences  ...       NaN\n",
              "4               topgifter  ...  0.326575\n",
              "...                   ...  ...       ...\n",
              "1409      colonialbankfsb  ...  0.743084\n",
              "1410        livongohealth  ...  0.245516\n",
              "1411             paracosm  ...  0.344617\n",
              "1412  extremeplasticsplus  ...  0.437716\n",
              "1413            pronutria  ...       NaN\n",
              "\n",
              "[1414 rows x 7 columns]"
            ]
          },
          "metadata": {
            "tags": []
          },
          "execution_count": 15
        }
      ]
    },
    {
      "cell_type": "code",
      "metadata": {
        "id": "ZAOL3ZikrjtU"
      },
      "source": [
        "df1.dropna(subset = ['Company Revenue','HHI'],inplace=True)\n",
        "\n",
        "df1 = df1.reset_index(drop=True)"
      ],
      "execution_count": 20,
      "outputs": []
    },
    {
      "cell_type": "code",
      "metadata": {
        "colab": {
          "base_uri": "https://localhost:8080/",
          "height": 581
        },
        "id": "Wu0LK-60s7Vp",
        "outputId": "3a2f5014-59c1-4f01-d7c9-67c4ac810a4b"
      },
      "source": [
        "df1"
      ],
      "execution_count": 21,
      "outputs": [
        {
          "output_type": "execute_result",
          "data": {
            "text/html": [
              "<div>\n",
              "<style scoped>\n",
              "    .dataframe tbody tr th:only-of-type {\n",
              "        vertical-align: middle;\n",
              "    }\n",
              "\n",
              "    .dataframe tbody tr th {\n",
              "        vertical-align: top;\n",
              "    }\n",
              "\n",
              "    .dataframe thead th {\n",
              "        text-align: right;\n",
              "    }\n",
              "</style>\n",
              "<table border=\"1\" class=\"dataframe\">\n",
              "  <thead>\n",
              "    <tr style=\"text-align: right;\">\n",
              "      <th></th>\n",
              "      <th>Company.name</th>\n",
              "      <th>Company Business</th>\n",
              "      <th>Category</th>\n",
              "      <th>Company Revenue</th>\n",
              "      <th>Competitor count (cap at 10)</th>\n",
              "      <th>Competitor Revenue in Total</th>\n",
              "      <th>HHI</th>\n",
              "    </tr>\n",
              "  </thead>\n",
              "  <tbody>\n",
              "    <tr>\n",
              "      <th>0</th>\n",
              "      <td>medicalsimulation</td>\n",
              "      <td>Medical Simulation provides full-service simul...</td>\n",
              "      <td>Biotechnology, Health Care, Hospital</td>\n",
              "      <td>10.7</td>\n",
              "      <td>10</td>\n",
              "      <td>36076.2</td>\n",
              "      <td>0.257775</td>\n",
              "    </tr>\n",
              "    <tr>\n",
              "      <th>1</th>\n",
              "      <td>cancergenetics</td>\n",
              "      <td>NaN</td>\n",
              "      <td>NaN</td>\n",
              "      <td>24.2</td>\n",
              "      <td>10</td>\n",
              "      <td>652.2</td>\n",
              "      <td>0.462750</td>\n",
              "    </tr>\n",
              "    <tr>\n",
              "      <th>2</th>\n",
              "      <td>topgifter</td>\n",
              "      <td>Search and get Gift Recommendations</td>\n",
              "      <td>E-Commerce, Gift, Shopping</td>\n",
              "      <td>2.6</td>\n",
              "      <td>6</td>\n",
              "      <td>82.5</td>\n",
              "      <td>0.326575</td>\n",
              "    </tr>\n",
              "    <tr>\n",
              "      <th>3</th>\n",
              "      <td>pica9</td>\n",
              "      <td>The leading SaaS Brand Management Platform emp...</td>\n",
              "      <td>Advertising, Brand Marketing, Digital Media, D...</td>\n",
              "      <td>7.0</td>\n",
              "      <td>10</td>\n",
              "      <td>214.8</td>\n",
              "      <td>0.187524</td>\n",
              "    </tr>\n",
              "    <tr>\n",
              "      <th>4</th>\n",
              "      <td>actionx</td>\n",
              "      <td>ActionX_connects gaps between mobile customer ...</td>\n",
              "      <td>Ad Retargeting, Mobile</td>\n",
              "      <td>1.0</td>\n",
              "      <td>8</td>\n",
              "      <td>3477.9</td>\n",
              "      <td>0.479244</td>\n",
              "    </tr>\n",
              "    <tr>\n",
              "      <th>...</th>\n",
              "      <td>...</td>\n",
              "      <td>...</td>\n",
              "      <td>...</td>\n",
              "      <td>...</td>\n",
              "      <td>...</td>\n",
              "      <td>...</td>\n",
              "      <td>...</td>\n",
              "    </tr>\n",
              "    <tr>\n",
              "      <th>731</th>\n",
              "      <td>bioconsortia</td>\n",
              "      <td>BioConsortia, based in Davis, California, is a...</td>\n",
              "      <td>Agriculture, Biotechnology, Farming</td>\n",
              "      <td>1.0</td>\n",
              "      <td>8</td>\n",
              "      <td>13436.7</td>\n",
              "      <td>0.994546</td>\n",
              "    </tr>\n",
              "    <tr>\n",
              "      <th>732</th>\n",
              "      <td>colonialbankfsb</td>\n",
              "      <td>Colonial Bank FSB began in 1913 as a mortgage ...</td>\n",
              "      <td>Banking, Finance, Financial Services</td>\n",
              "      <td>17.9</td>\n",
              "      <td>10</td>\n",
              "      <td>913.8</td>\n",
              "      <td>0.743084</td>\n",
              "    </tr>\n",
              "    <tr>\n",
              "      <th>733</th>\n",
              "      <td>livongohealth</td>\n",
              "      <td>Livongo is empowering people with chronic cond...</td>\n",
              "      <td>Health Care, Health Diagnostics, Information T...</td>\n",
              "      <td>30.0</td>\n",
              "      <td>9</td>\n",
              "      <td>96.8</td>\n",
              "      <td>0.245516</td>\n",
              "    </tr>\n",
              "    <tr>\n",
              "      <th>734</th>\n",
              "      <td>paracosm</td>\n",
              "      <td>Paracosm develops mobile 3D scanning, progress...</td>\n",
              "      <td>3D Technology, Augmented Reality, Real Estate,...</td>\n",
              "      <td>1.2</td>\n",
              "      <td>9</td>\n",
              "      <td>77.2</td>\n",
              "      <td>0.344617</td>\n",
              "    </tr>\n",
              "    <tr>\n",
              "      <th>735</th>\n",
              "      <td>extremeplasticsplus</td>\n",
              "      <td>Extreme Plastics Plus is a family-owned compan...</td>\n",
              "      <td>Advanced Materials, Fashion, Service Industry</td>\n",
              "      <td>5.0</td>\n",
              "      <td>3</td>\n",
              "      <td>34.0</td>\n",
              "      <td>0.437716</td>\n",
              "    </tr>\n",
              "  </tbody>\n",
              "</table>\n",
              "<p>736 rows × 7 columns</p>\n",
              "</div>"
            ],
            "text/plain": [
              "            Company.name  ...       HHI\n",
              "0      medicalsimulation  ...  0.257775\n",
              "1         cancergenetics  ...  0.462750\n",
              "2              topgifter  ...  0.326575\n",
              "3                  pica9  ...  0.187524\n",
              "4                actionx  ...  0.479244\n",
              "..                   ...  ...       ...\n",
              "731         bioconsortia  ...  0.994546\n",
              "732      colonialbankfsb  ...  0.743084\n",
              "733        livongohealth  ...  0.245516\n",
              "734             paracosm  ...  0.344617\n",
              "735  extremeplasticsplus  ...  0.437716\n",
              "\n",
              "[736 rows x 7 columns]"
            ]
          },
          "metadata": {
            "tags": []
          },
          "execution_count": 21
        }
      ]
    },
    {
      "cell_type": "code",
      "metadata": {
        "id": "7sktKsyJtHXz"
      },
      "source": [
        "df1.to_csv(\"owler_data_cleaned.csv\")"
      ],
      "execution_count": 22,
      "outputs": []
    },
    {
      "cell_type": "code",
      "metadata": {
        "id": "B_EoB25xtT6f"
      },
      "source": [
        ""
      ],
      "execution_count": null,
      "outputs": []
    }
  ]
}