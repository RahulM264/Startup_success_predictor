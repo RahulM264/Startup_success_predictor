{
  "nbformat": 4,
  "nbformat_minor": 0,
  "metadata": {
    "colab": {
      "name": "data_cleaning.ipynb",
      "provenance": []
    },
    "kernelspec": {
      "name": "python3",
      "display_name": "Python 3"
    },
    "language_info": {
      "name": "python"
    }
  },
  "cells": [
    {
      "cell_type": "code",
      "metadata": {
        "colab": {
          "resources": {
            "http://localhost:8080/nbextensions/google.colab/files.js": {
              "data": "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",
              "ok": true,
              "headers": [
                [
                  "content-type",
                  "application/javascript"
                ]
              ],
              "status": 200,
              "status_text": ""
            }
          },
          "base_uri": "https://localhost:8080/",
          "height": 110
        },
        "id": "563lZdfgEnMw",
        "outputId": "0f7d734f-79b5-4759-fb1e-e1c18e592be8"
      },
      "source": [
        "from google.colab import files\n",
        "files.upload()"
      ],
      "execution_count": 65,
      "outputs": [
        {
          "output_type": "display_data",
          "data": {
            "text/html": [
              "\n",
              "     <input type=\"file\" id=\"files-cac1f609-fdfd-4a81-b913-35ca570574e6\" name=\"files[]\" multiple disabled\n",
              "        style=\"border:none\" />\n",
              "     <output id=\"result-cac1f609-fdfd-4a81-b913-35ca570574e6\">\n",
              "      Upload widget is only available when the cell has been executed in the\n",
              "      current browser session. Please rerun this cell to enable.\n",
              "      </output>\n",
              "      <script src=\"/nbextensions/google.colab/files.js\"></script> "
            ],
            "text/plain": [
              "<IPython.core.display.HTML object>"
            ]
          },
          "metadata": {
            "tags": []
          }
        },
        {
          "output_type": "stream",
          "text": [
            "Saving failed_startup_list.csv to failed_startup_list (1).csv\n"
          ],
          "name": "stdout"
        },
        {
          "output_type": "execute_result",
          "data": {
            "text/plain": [
              "{'failed_startup_list.csv': b'company_name,company_desc,Category,Country,Started,Outcome,Cause,Closed,Number of Founders,Name of Founders,Number of Employees,Number of Funding Rounds,Total Funding Amount,Number of Investors\\r\\nYik Yak,Anonymous location-based social network,Social Media,United States,2013,Shut Down,Legal Challenges,2017,3,\"Brooks Buffington, Tyler Droll, Will Jamieson\",10-50,3,$73.5M,11\\r\\nVine,Platform to share short looping video clips,Social Media,United States,2012,Shut Down,Multiple Reasons,2017,3,\"Colin Kroll, Dom Hofmann, Rus Yusupov\",50-100,1,No Data,2\\r\\nPixate,Platform for mobile interaction design,Design,United States,2012,Shut Down,Acquisition Flu,2016,2,\"Kevin Lindsey, Paul Colton\",10-50,1,$3.8M,1\\r\\nQuibi,Short-form streaming platform,Entertainment,United States,2018,Shut Down,Multiple Reasons,2020,1,Jeffrey Katzenberg,250-500,2,$1.8B,14\\r\\nScaleFactor,Finance and accounting software for SMEs,Finances,United States,2014,Shut Down,Poor Product,2020,1,Kurt Rathmann,100-250,7,$103M,17\\r\\nDesti,Online travel guide app,Travel,United States,2011,Acquired,Bad Business Model,2014,3,\"Imri Goldberg, Mosi Shuchman, Nadav Gur\",1-10,2,$2M,3\\r\\nHiGear,Private car-sharing club for luxury and sports cars,Transportation,United States,2011,Acquired,Legal Challenges,2011,2,\"Ali Moiz, Murtaza Hussain\",1-10,2,$1.3M,4\\r\\nZirtual,Dedicated virtual assistants for busy professionals,Software & Hardware,United States,2011,Shut Down,Mismanagement of Funds,2015,3,\"Collin Vine, Erik Jensen, Maren Kate Donovan\",100-250,4,$5.5M,10\\r\\nSecret,Online platform to share personal secrets,Social Media,United States,2013,Shut Down,Legal Challenges,2015,2,\"Chrys Bader-Wechseler, David Byttow\",10-50,3,$35M,21\\r\\nRafter,Textbook and course material provider for schools,Education,United States,2006,Acquired,Competition,2016,1,Sara Leoni,50-100,7,$86M,7\\r\\nNetscape,Developed enterprise software solutions,Productivity,United States,1994,Shut Down,Poor Product,2008,3,\"James Clark, Jon Mittelhauser, Marc Andreessen\",\"5,000-10,000\",1,No Data,1\\r\\nZulily,Online retailer that offered daily deals,e-Commerce,United States,2009,Shut Down,Bad Marketing,Active,2,\"Darrell Cavens, Mark Vadon\",\"1,000-5,000\",5,$194.6M,7\\r\\nEventVue,Built online communities for conferences,Finances,United States,2007,Shut Down,Lack of PMF,2010,2,\"Josh Fraser, Rob Johnson\",1-10,2,$455K,9\\r\\nTotsy,E-commerce selling prenatal care products,e-Commerce,United States,2009,Shut Down,Poor Product,2013,2,\"Christophe Garnier, Guillaume Gauthereau\",50-100,4,$29.5M,4\\r\\nSkully,Augmented reality motorcycle helmets,Transportation,United States,2013,Shut Down,Mismanagement of Funds,2016,1,\"Marcus Weller, Mitch Weller\",10-50,4,$15M,13\\r\\nWantful,Online gift-giving service,e-Commerce,United States,2011,Shut Down,Competition,2013,1,John Poisson,\"+10,000\",1,$5.5M,8\\r\\nGowalla,Social Guide to world\\'s cities,Social Media,United States,2007,Acquired,Competition,2013,2,\"Josh Williams, Scott Raymond\",10-50,3,$10.4M,11\\r\\nPostRocket,Facebook page marketing platform,Analytics,United States,2010,Shut Down,Poor Product,2013,2,\"Murry Ivanoff, Tim Chae\",1-10,2,$610K,7\\r\\nWesabe,Personal finance management website,Finances,United States,2005,Shut Down,Bad Management,2010,2,\"Jason Knight, Marc Hedlund\",10-50,2,$4.7M,2\\r\\nLookery,Demographic marketing services in social networks,Marketing,United States,2007,Acquired,Dependence on Others,2009,3,\"David Cancel, Rex Dixon, Todd Sawicki\",1-10,2,$3.2M,22\\r\\nArgyle Social,Provided social media management tools,Marketing,United States,2010,Shut Down,Competition,2014,1,Adam Covati,10-50,2,$1.6M,2\\r\\nArsDigita,Agency that built solutions for e-commerce,e-Commerce,United States,1997,Shut Down,Lack of Experience,2002,7,\"Philip Greenspun, Tracy Adams, Ben Adida, Eve Andersson, Olin Shivers, Aurelius Prochazka, Jin Choi\",50-100,1,$35M,3\\r\\nPoliMobile,Empowered campaigns with the power of mobile,Marketing,United States,2011,Shut Down,No Market Need,2015,1,Curt Prins,1-10,0,-,0\\r\\nTilt,Social payment startup focused on crowd-funding,Finances,United States,2012,Acquired,Lack of Focus,2017,3,\"James Beshara, Karolyn Baxter, Khaled Hussein\",100-250,4,$62.1M,26\\r\\nDelicious,\"Bookmarking website to save, organize and discover links\",Productivity,United States,2003,Still Active,Acquisition Flu,2017,1,Joshua Schachter,50-100,1,No Data,10\\r\\nMove Loot,Furniture online marketplace,e-Commerce,United States,2013,Shut Down,Bad Business Model,2016,4,\"Bill Bobbitt, Jenny Karin Morrill, Ryan Smith, Shruti Shah\",50-100,3,$21.8M,18\\r\\nQBotix,Solar panels attached and regulated by robots,Software & Hardware,United States,2010,Shut Down,Competition,2015,1,Wasiq Bokhari,10-50,3,$23.5M,7\\r\\nFuhu,Designer and seller of cloud-served softwares,Software & Hardware,United States,2006,Acquired,Mismanagement of Funds,2015,3,\"John Hui, Robb Fujioka, Steve Hui\",\"500-1,000\",5,$66.2M,8\\r\\nFormspring,Encouraged people to get to know each other,Social Media,United States,2009,Shut Down,Legal Challenges,2013,2,\"Ade Olonoh, John Wechsler\",10-50,2,$14.3M,13\\r\\nFoundationDB,Scalable NoSQL layered database,Software & Hardware,United States,2009,Acquired,Acquisition Flu,2015,3,\"Dave Rosenthal, Dave Scherer, Nick Lavezzo\",10-50,2,$22.7M,3\\r\\nTutorspree,Web-based tuition services,Education,United States,2010,Acquired,Bad Marketing,2013,3,\"Aaron Harris, Josh Abrams, Ryan Bednar\",50-100,2,$1.8M,10\\r\\nGrooveshark,Web-based on-demand music application,Music,United States,2006,Shut Down,Legal Challenges,2015,3,\"Andres Barreto, Josh Greenberg, Sam Tarantino\",50-100,3,$4.6M,No Data\\r\\nTranspose,Smart workspace for businesses to manage projects,Productivity,United States,2015,Shut Down,Bad Business Model,2015,4,\"Hussein Ahmed, Matt Goyer, Samah Gad, Skyler Johnson-Wagner\",10-50,1,$1.5M,2\\r\\nRewardMe,Intelligent CRM solution for local commerce,Marketing,United States,2010,Shut Down,Lack of Funds,2015,3,\"Jun Loayza, Stephen Johnson, Yu-kai Chou\",10-50,1,$1.1M,2\\r\\nMaple,High-quality food delivery startup,Food & Beverage,United States,2014,Acquired,Bad Business Model,2017,2,\"Akshay Navle, Caleb Merkl\",100-250,2,$29M,8\\r\\nTeeBeeDee,Network for people over 40 to share experiences,Social Media,United States,2007,Shut Down,Bad Business Model,2009,4,\"David Markus, Jon Brandt, Robin Wolaner, Todd Basche\",10-50,1,$4.8M,2\\r\\nYik Yak,Anonymous location-based social network,Social Media,United States,2013,Shut Down,Legal Challenges,2017,3,\"Brooks Buffington, Tyler Droll, Will Jamieson\",10-50,3,$73.5M,11\\r\\nBitPass,Online payment system for digital content,Finances,United States,2002,Shut Down,Competition,2007,1,Kurt Huang,50-100,2,$13.3M,6\\r\\nFlowtab,Mobile app to order drinks on nightclubs,Food & Beverage,United States,2011,Shut Down,Bad Business Model,2013,1,Mike Townsend,50-100,0,-,0\\r\\nRethinkDB,Scalable database for the real-time web,Software & Hardware,United States,2009,Acquired,Lack of PMF,2016,2,\"Michael Glukhovsky, Slava Akhmechet\",10-50,4,$12.2M,16\\r\\nLeap Transit,Provider of private transit and offers bus services,Transportation,United States,2013,Shut Down,Legal Challenges,2015,1,Kyle Kirchhoff,50-100,1,$2.5M,4\\r\\nTeforia,A tea brewer machine connected with an application,Food & Beverage,United States,2014,Shut Down,No Market Need,2017,2,\"Allen Han, Kris Efland\",10-50,2,$17.1M,9\\r\\nRdio,Digital music service provider,Music,United States,2008,Bankruptcy,Competition,2015,3,\"Carter Adamson, Janus Friis, Niklas Zennstr\\xc3\\xb6m\",50-100,6,$125.7M,5\\r\\nOpTier,Cloud-based enterprise software business,Analytics,United States,2002,Shut Down,Lack of PMF,2014,2,\"Amir Alon, Motti Tal\",50-100,9,$118.1M,8\\r\\nFab,Online design marketplace,e-Commerce,United States,2009,Acquired,Multiple Reasons,2013,5,\"Bradford Shane Shellhammer, Deepa Shah, Jason Goldberg, Nishith Shah, Sunil Khedar\",\"500-1,000\",11,$336.3M,34\\r\\n37Coins,Startup that developed Bitcoin technologies,Finances,United States,2014,Shut Down,Lack of Funds,2015,3,\"Johann Barbie, Jonathan Zobro, Songyi Lee\",1-10,2,$525K,4\\r\\nParse,Cloud-based software developer kits,Software & Hardware,United States,2011,Shut Down,Acquisition Flu,2016,4,\"Ilya Sukhar, James Yu, Kevin Lacker, Tikhon Bernstam\",10-50,2,$7M,17\\r\\nSpringpad,\"Allowed users organize projects, ideas and to-do\\xe2\\x80\\x99s\",Productivity,United States,2008,Acquired,Lack of Focus,2014,1,Jason Horman,10-50,3,$7.3M,1\\r\\nMySpace,Social network based on personal user pages,Social Media,United States,2003,Still Active,Multiple Reasons,Active,7,\"Aber Whitcomb, Brad Greenspan, Chris DeWolfe, Colin Digiaro, Josh Berman, Michael Addicott, Tom Anderson\",250-500,1,$37.8M,2\\r\\nShuddle,Safe on-demand transportation for families,Transportation,United States,2014,Shut Down,Lack of Funds,2016,2,\"Nick Allen, Rodrigo Prudencio\",10-50,2,$12.2M,6\\r\\nCirca,Mobile news app on diverse topics,Entertainment,United States,2011,Acquired,Lack of Funds,2015,3,\"Arsenio Santos, Ben Huh, Matt Galligan\",10-50,8,$4.7M,39\\r\\nPoliana,Web application that simplified the legislative system,Analytics,United States,2013,Shut Down,Bad Business Model,2015,4,\"Grayson Carroll, Patrick Cason, Seth Whiting, Shawn Whiting\",1-10,1,$15K,2\\r\\nDesign Inc.,Marketplace for high-quality design work,Design,United States,2016,Shut Down,Bad Business Model,2017,2,\"Bjoern Zinssmeister, Marc Hemeon\",1-10,1,$2.3M,No Data\\r\\nVine,Platform to share short looping video clips,Social Media,United States,2012,Shut Down,Multiple Reasons,2017,3,\"Colin Kroll, Dom Hofmann, Rus Yusupov\",50-100,1,No Data,2\\r\\nAppiterate,Mobile marketing automation platform,Marketing,United States,2013,Acquired,Acquisition Flu,2015,4,\"Anuj Bhargava, Mayank Kumar, Tanuj Mendiratta, Varun Sharma\",1-10,1,$500K,3\\r\\nKiko,Ajax-style online calendar application,Productivity,United States,2003,Acquired,Bad Management,2008,2,\"Emmett Shear, Justin Kan\",10-50,1,$50K,1\\r\\nMonitor110,Real-time internet monitoring services,Analytics,United States,2003,Shut Down,Multiple Reasons,2008,1,Roger Ehrenberg,1-10,3,$17.3M,4\\r\\nSpoonRocket,\"Next-gen, ultra-fast delivery platform\",Food & Beverage,United States,2013,Shut Down,Competition,2016,2,\"Anson Tsui, Steven Hsiao\",10-50,2,$13.5M,9\\r\\nJuicero,First home cold-pressed juicing system,Food & Beverage,United States,2013,Bankruptcy,Bad Business Model,2017,1,Doug Evans,100-250,4,$118.5M,16\\r\\nSalorix,Online social network engagement platform,Analytics,United States,2009,Shut Down,Bad Management,2014,1,Santanu Bhattacharya,10-50,2,$3.5M,2\\r\\nDopplr,Social travel network service,Travel,United States,2007,Shut Down,Acquisition Flu,Active,5,\"Dan Gillmor, Lisa Sounio, Marko Ahtisaari, Matt Jones, Taneli Tikka\",1-10,3,No Data,16\\r\\nKitchit,Brought local chefs to private households,Food & Beverage,United States,2011,Shut Down,Competition,2016,2,\"Brendan Marshall, Ian Ferguson\",10-50,3,$8.1M,20\\r\\nKno,Education software startup,Education,United States,2009,Acquired,Competition,2013,2,\"Babur Habib, Osman Rashid\",\"+10,000\",7,$94.9M,10\\r\\nBeepi,P2P used car online marketplace,Transportation,United States,2013,Acquired,Mismanagement of Funds,2016,2,\"Ale Resnik, Owen Savir\",100-250,6,$149M,31\\r\\nPixate,Platform for mobile interaction design,Design,United States,2012,Shut Down,Acquisition Flu,2016,2,\"Kevin Lindsey, Paul Colton\",10-50,1,$3.8M,1\\r\\nMailbox,\"Inbox that made email light, fast, and mobile-friendly.\",Productivity,United States,2011,Shut Down,Bad Business Model,2015,2,\"Gentry Underwood, Scott Cannon\",\"500-1,000\",1,$5M,6\\r\\nDotCloud,\"Enabled developers to host, assemble and run their applications\",Software & Hardware,United States,2008,Bankruptcy,Mismanagement of Funds,2016,1,Solomon Hykes,250-500,3,$13.7M,15\\r\\nLayerVault,Allowed users to store and collaborate on design work,Design,United States,2011,Shut Down,Lack of Funds,2014,2,\"Allan Grinshtein, Kelly Sutton\",10-50,1,$535K,3\\r\\nDinner Lab,Membership-based social dining experiment,Food & Beverage,United States,2011,Shut Down,Bad Business Model,2016,3,\"Brian Bordainick, Francisco Robert, Zach Kupperman\",10-50,2,$9.1M,5\\r\\nDigg,Enables users to share interesting stories,Social Media,United States,2004,Still Active,Competition,Active,1,Kevin Rose,50-100,6,$49M,14\\r\\nTurntable.fm,Online interactive platform for DJs and listeners,Music,United States,2011,Shut Down,Bad Business Model,2013,1,Billy Chasen,1-10,1,$7M,10\\r\\nSidecar,Provided B2B delivery transportation network,Transportation,United States,2011,Acquired,Competition,2015,2,\"Jahan Khanna, Sunil Paul\",50-100,5,$45.5M,21\\r\\nFlud,Social news reader for different platforms,Productivity,United States,2010,Shut Down,Multiple Reasons,2013,2,\"Bobby Ghoshal, Matthew Ausonio\",10-50,3,$3.1M,4\\r\\nSprig,Online app that provided healthy organic meals,Food & Beverage,United States,2013,Shut Down,Competition,2017,4,\"Gagan Biyani, Matt Kent, Morgan Springer, Neeraj Berry\",50-100,4,$56.7M,26\\r\\nSip,Daily tappable tech news and stories,Productivity,United States,2018,Shut Down,Multiple Reasons,2019,3,\"Ryan Hoover, Nick Abouzeid, Chad Whitaker\",1-10,0,Nothing,0\\r\\nMatterFab,Selling affordable solutions for metal 3-D printing,Software & Hardware,United States,2013,Shut Down,Bad Business Model,2019,1,Matthew Burris,1-10,3,$13.2M,7\\r\\nCircleBack Lending,A P2P marketplace for online lending,Finances,United States,2012,Shut Down,Bad Business Model,2016,2,Manoj Ramnani & Patrick Questembert,10-50,1,$12M,4\\r\\nAria Insights,Air vehicles for search and rescue missions,Software & Hardware,United States,2008,Shut Down,Multiple Reasons,2019,1,Helen Greiner,10-50,7,$39M,8\\r\\nChaCha,Search engine with a live human being,Software & Hardware,United States,2005,Shut Down,Competition,2016,2,Brad Bostic & Scott Jones,50-100,9,$96M,9\\r\\nCall9,On-demand doctors in emergency situations,Health,United States,2015,Shut Down,Bad Business Model,2019,3,\"Celina Tenev, Timothy Peck, XiaoSong Mu\",100-250,3,$34M,10\\r\\nVreal,VR game-streaming platform,Entertainment,United States,2015,Shut Down,Bad Timing,Active,1,Todd Hooper,10-50,3,$15M,13\\r\\nUtrip,AI-powered travel planning services,Travel,United States,2012,Shut Down,Mismanagement of Funds,2019,2,\"Gilad Berenstein, Yair Berenstein\",10-50,4,$6M,13\\r\\nShyp,On-demand shipping startup,Transportation,United States,2013,Shut Down,Multiple Reasons,2018,3,\"Jack Smith, Joshua Scott, Kevin Gibbon\",10-50,3,$62.1M,34\\r\\nTheranos,Consumer healthcare technology company,Health,United States,2003,Shut Down,Legal Challenges,2018,1,Elizabeth Holmes,10-50,10,$1.4B,16\\r\\nLaurel & Wolf,Online interior design marketplace,e-Commerce,United States,2014,Shut Down,Multiple Reasons,Active,2,\"Brandon Kleinman, Leura Fine\",50-100,4,$25.5M,14\\r\\nStratolaunch,Launching rockets into space from airplanes,Transportation,United States,2010,Shut Down,Lack of Focus,2019,1,Paul Allen,\"500-1,000\",0,-,0\\r\\nNavdy,Augmented driving device for cars,Transportation,United States,2013,Shut Down,Multiple Reasons,2018,2,\"Doug Simpson, Karl Guttag\",50-100,4,$41.8M,20\\r\\nAnki,Building emotionally intelligent robots,Software & Hardware,United States,2010,Shut Down,Lack of Funds,2019,3,\"Boris Sofman, Hanns Tappeiner, Mark Palatucci\",100-250,5,$182M,6\\r\\nMunchery,Gourmet meals at your doorstep,Food & Beverage,United States,2011,Bankruptcy,Multiple Reasons,2019,3,\"Conrad Chu, Tri Tran, Van Tran\",100-250,8,$125.4M,20\\r\\nQuibi,Short-form streaming platform,Entertainment,United States,2018,Shut Down,Multiple Reasons,2020,1,Jeffrey Katzenberg,250-500,2,$1.8B,14\\r\\n'}"
            ]
          },
          "metadata": {
            "tags": []
          },
          "execution_count": 65
        }
      ]
    },
    {
      "cell_type": "code",
      "metadata": {
        "id": "bb5KF-gmEy3d"
      },
      "source": [
        "import pandas as pd\n",
        "import numpy as np\n",
        "\n",
        "import matplotlib.pyplot as plt\n",
        "import seaborn as sns\n",
        "\n",
        "import string\n",
        "import os\n",
        "\n",
        "%matplotlib inline"
      ],
      "execution_count": 66,
      "outputs": []
    },
    {
      "cell_type": "code",
      "metadata": {
        "colab": {
          "base_uri": "https://localhost:8080/",
          "height": 371
        },
        "id": "BqXUL3mkFCLB",
        "outputId": "4e038fb2-b501-4f12-ece9-29bc9c3f2cdc"
      },
      "source": [
        "df = pd.read_csv('failed_startup_list.csv')\n",
        "df.head()"
      ],
      "execution_count": 67,
      "outputs": [
        {
          "output_type": "execute_result",
          "data": {
            "text/html": [
              "<div>\n",
              "<style scoped>\n",
              "    .dataframe tbody tr th:only-of-type {\n",
              "        vertical-align: middle;\n",
              "    }\n",
              "\n",
              "    .dataframe tbody tr th {\n",
              "        vertical-align: top;\n",
              "    }\n",
              "\n",
              "    .dataframe thead th {\n",
              "        text-align: right;\n",
              "    }\n",
              "</style>\n",
              "<table border=\"1\" class=\"dataframe\">\n",
              "  <thead>\n",
              "    <tr style=\"text-align: right;\">\n",
              "      <th></th>\n",
              "      <th>company_name</th>\n",
              "      <th>company_desc</th>\n",
              "      <th>Category</th>\n",
              "      <th>Country</th>\n",
              "      <th>Started</th>\n",
              "      <th>Outcome</th>\n",
              "      <th>Cause</th>\n",
              "      <th>Closed</th>\n",
              "      <th>Number of Founders</th>\n",
              "      <th>Name of Founders</th>\n",
              "      <th>Number of Employees</th>\n",
              "      <th>Number of Funding Rounds</th>\n",
              "      <th>Total Funding Amount</th>\n",
              "      <th>Number of Investors</th>\n",
              "    </tr>\n",
              "  </thead>\n",
              "  <tbody>\n",
              "    <tr>\n",
              "      <th>0</th>\n",
              "      <td>Yik Yak</td>\n",
              "      <td>Anonymous location-based social network</td>\n",
              "      <td>Social Media</td>\n",
              "      <td>United States</td>\n",
              "      <td>2013</td>\n",
              "      <td>Shut Down</td>\n",
              "      <td>Legal Challenges</td>\n",
              "      <td>2017</td>\n",
              "      <td>3</td>\n",
              "      <td>Brooks Buffington, Tyler Droll, Will Jamieson</td>\n",
              "      <td>10-50</td>\n",
              "      <td>3</td>\n",
              "      <td>$73.5M</td>\n",
              "      <td>11</td>\n",
              "    </tr>\n",
              "    <tr>\n",
              "      <th>1</th>\n",
              "      <td>Vine</td>\n",
              "      <td>Platform to share short looping video clips</td>\n",
              "      <td>Social Media</td>\n",
              "      <td>United States</td>\n",
              "      <td>2012</td>\n",
              "      <td>Shut Down</td>\n",
              "      <td>Multiple Reasons</td>\n",
              "      <td>2017</td>\n",
              "      <td>3</td>\n",
              "      <td>Colin Kroll, Dom Hofmann, Rus Yusupov</td>\n",
              "      <td>50-100</td>\n",
              "      <td>1</td>\n",
              "      <td>No Data</td>\n",
              "      <td>2</td>\n",
              "    </tr>\n",
              "    <tr>\n",
              "      <th>2</th>\n",
              "      <td>Pixate</td>\n",
              "      <td>Platform for mobile interaction design</td>\n",
              "      <td>Design</td>\n",
              "      <td>United States</td>\n",
              "      <td>2012</td>\n",
              "      <td>Shut Down</td>\n",
              "      <td>Acquisition Flu</td>\n",
              "      <td>2016</td>\n",
              "      <td>2</td>\n",
              "      <td>Kevin Lindsey, Paul Colton</td>\n",
              "      <td>10-50</td>\n",
              "      <td>1</td>\n",
              "      <td>$3.8M</td>\n",
              "      <td>1</td>\n",
              "    </tr>\n",
              "    <tr>\n",
              "      <th>3</th>\n",
              "      <td>Quibi</td>\n",
              "      <td>Short-form streaming platform</td>\n",
              "      <td>Entertainment</td>\n",
              "      <td>United States</td>\n",
              "      <td>2018</td>\n",
              "      <td>Shut Down</td>\n",
              "      <td>Multiple Reasons</td>\n",
              "      <td>2020</td>\n",
              "      <td>1</td>\n",
              "      <td>Jeffrey Katzenberg</td>\n",
              "      <td>250-500</td>\n",
              "      <td>2</td>\n",
              "      <td>$1.8B</td>\n",
              "      <td>14</td>\n",
              "    </tr>\n",
              "    <tr>\n",
              "      <th>4</th>\n",
              "      <td>ScaleFactor</td>\n",
              "      <td>Finance and accounting software for SMEs</td>\n",
              "      <td>Finances</td>\n",
              "      <td>United States</td>\n",
              "      <td>2014</td>\n",
              "      <td>Shut Down</td>\n",
              "      <td>Poor Product</td>\n",
              "      <td>2020</td>\n",
              "      <td>1</td>\n",
              "      <td>Kurt Rathmann</td>\n",
              "      <td>100-250</td>\n",
              "      <td>7</td>\n",
              "      <td>$103M</td>\n",
              "      <td>17</td>\n",
              "    </tr>\n",
              "  </tbody>\n",
              "</table>\n",
              "</div>"
            ],
            "text/plain": [
              "  company_name  ... Number of Investors\n",
              "0      Yik Yak  ...                  11\n",
              "1         Vine  ...                   2\n",
              "2       Pixate  ...                   1\n",
              "3        Quibi  ...                  14\n",
              "4  ScaleFactor  ...                  17\n",
              "\n",
              "[5 rows x 14 columns]"
            ]
          },
          "metadata": {
            "tags": []
          },
          "execution_count": 67
        }
      ]
    },
    {
      "cell_type": "code",
      "metadata": {
        "colab": {
          "base_uri": "https://localhost:8080/",
          "height": 147
        },
        "id": "SsalxOOXG1M3",
        "outputId": "362cc50a-4439-4468-b561-73c7f44c3146"
      },
      "source": [
        "#the header names are inconsistent -- some small some caps -- to make things easier rename then\n",
        "df.rename(columns={'company_name': 'Company Name', 'company_desc': 'Company Description'}, inplace=True)\n",
        "df.head(1) #much better now"
      ],
      "execution_count": 68,
      "outputs": [
        {
          "output_type": "execute_result",
          "data": {
            "text/html": [
              "<div>\n",
              "<style scoped>\n",
              "    .dataframe tbody tr th:only-of-type {\n",
              "        vertical-align: middle;\n",
              "    }\n",
              "\n",
              "    .dataframe tbody tr th {\n",
              "        vertical-align: top;\n",
              "    }\n",
              "\n",
              "    .dataframe thead th {\n",
              "        text-align: right;\n",
              "    }\n",
              "</style>\n",
              "<table border=\"1\" class=\"dataframe\">\n",
              "  <thead>\n",
              "    <tr style=\"text-align: right;\">\n",
              "      <th></th>\n",
              "      <th>Company Name</th>\n",
              "      <th>Company Description</th>\n",
              "      <th>Category</th>\n",
              "      <th>Country</th>\n",
              "      <th>Started</th>\n",
              "      <th>Outcome</th>\n",
              "      <th>Cause</th>\n",
              "      <th>Closed</th>\n",
              "      <th>Number of Founders</th>\n",
              "      <th>Name of Founders</th>\n",
              "      <th>Number of Employees</th>\n",
              "      <th>Number of Funding Rounds</th>\n",
              "      <th>Total Funding Amount</th>\n",
              "      <th>Number of Investors</th>\n",
              "    </tr>\n",
              "  </thead>\n",
              "  <tbody>\n",
              "    <tr>\n",
              "      <th>0</th>\n",
              "      <td>Yik Yak</td>\n",
              "      <td>Anonymous location-based social network</td>\n",
              "      <td>Social Media</td>\n",
              "      <td>United States</td>\n",
              "      <td>2013</td>\n",
              "      <td>Shut Down</td>\n",
              "      <td>Legal Challenges</td>\n",
              "      <td>2017</td>\n",
              "      <td>3</td>\n",
              "      <td>Brooks Buffington, Tyler Droll, Will Jamieson</td>\n",
              "      <td>10-50</td>\n",
              "      <td>3</td>\n",
              "      <td>$73.5M</td>\n",
              "      <td>11</td>\n",
              "    </tr>\n",
              "  </tbody>\n",
              "</table>\n",
              "</div>"
            ],
            "text/plain": [
              "  Company Name  ... Number of Investors\n",
              "0      Yik Yak  ...                  11\n",
              "\n",
              "[1 rows x 14 columns]"
            ]
          },
          "metadata": {
            "tags": []
          },
          "execution_count": 68
        }
      ]
    },
    {
      "cell_type": "code",
      "metadata": {
        "colab": {
          "base_uri": "https://localhost:8080/"
        },
        "id": "NVS9caUQFo3x",
        "outputId": "29c16949-78f8-45e5-f8ce-7eac0ada2aad"
      },
      "source": [
        "print(\"we have {} rows and {} columns\".format(df.shape[0], df.shape[1]))"
      ],
      "execution_count": 69,
      "outputs": [
        {
          "output_type": "stream",
          "text": [
            "we have 90 rows and 14 columns\n"
          ],
          "name": "stdout"
        }
      ]
    },
    {
      "cell_type": "code",
      "metadata": {
        "colab": {
          "base_uri": "https://localhost:8080/"
        },
        "id": "9MwglWIqFNup",
        "outputId": "e1375b77-ba8d-4bc1-e283-a9d21c73c6f8"
      },
      "source": [
        "df.info() #we have no null values --"
      ],
      "execution_count": 70,
      "outputs": [
        {
          "output_type": "stream",
          "text": [
            "<class 'pandas.core.frame.DataFrame'>\n",
            "RangeIndex: 90 entries, 0 to 89\n",
            "Data columns (total 14 columns):\n",
            " #   Column                    Non-Null Count  Dtype \n",
            "---  ------                    --------------  ----- \n",
            " 0   Company Name              90 non-null     object\n",
            " 1   Company Description       90 non-null     object\n",
            " 2   Category                  90 non-null     object\n",
            " 3   Country                   90 non-null     object\n",
            " 4   Started                   90 non-null     int64 \n",
            " 5   Outcome                   90 non-null     object\n",
            " 6   Cause                     90 non-null     object\n",
            " 7   Closed                    90 non-null     object\n",
            " 8   Number of Founders        90 non-null     int64 \n",
            " 9   Name of Founders          90 non-null     object\n",
            " 10  Number of Employees       90 non-null     object\n",
            " 11  Number of Funding Rounds  90 non-null     int64 \n",
            " 12  Total Funding Amount      90 non-null     object\n",
            " 13  Number of Investors       90 non-null     object\n",
            "dtypes: int64(3), object(11)\n",
            "memory usage: 10.0+ KB\n"
          ],
          "name": "stdout"
        }
      ]
    },
    {
      "cell_type": "code",
      "metadata": {
        "id": "mxkK5FhZFWfI"
      },
      "source": [
        "df = df.drop('Country', axis = 1) #drop this since we already know this project is about us-data"
      ],
      "execution_count": 71,
      "outputs": []
    },
    {
      "cell_type": "code",
      "metadata": {
        "id": "mwLYy8DvIXeu"
      },
      "source": [
        "df.Started = df.Started.astype('object') #it is pointless for it to be in int64 format"
      ],
      "execution_count": 72,
      "outputs": []
    },
    {
      "cell_type": "code",
      "metadata": {
        "colab": {
          "base_uri": "https://localhost:8080/"
        },
        "id": "qCNP0yY8Gl_h",
        "outputId": "b1d2e06f-8f46-41d0-d970-5517067b0cf4"
      },
      "source": [
        "cat_columns = ['Company Name','Category','Started','Outcome','Cause','Closed']\n",
        "for column in cat_columns:\n",
        "  print(\"the unique values in {} are {}\".format(column,df[column].unique()))\n",
        "  print('--------------------------------------------------------------')"
      ],
      "execution_count": 73,
      "outputs": [
        {
          "output_type": "stream",
          "text": [
            "the unique values in Company Name are ['Yik Yak' 'Vine' 'Pixate' 'Quibi' 'ScaleFactor' 'Desti' 'HiGear'\n",
            " 'Zirtual' 'Secret' 'Rafter' 'Netscape' 'Zulily' 'EventVue' 'Totsy'\n",
            " 'Skully' 'Wantful' 'Gowalla' 'PostRocket' 'Wesabe' 'Lookery'\n",
            " 'Argyle Social' 'ArsDigita' 'PoliMobile' 'Tilt' 'Delicious' 'Move Loot'\n",
            " 'QBotix' 'Fuhu' 'Formspring' 'FoundationDB' 'Tutorspree' 'Grooveshark'\n",
            " 'Transpose' 'RewardMe' 'Maple' 'TeeBeeDee' 'BitPass' 'Flowtab'\n",
            " 'RethinkDB' 'Leap Transit' 'Teforia' 'Rdio' 'OpTier' 'Fab' '37Coins'\n",
            " 'Parse' 'Springpad' 'MySpace' 'Shuddle' 'Circa' 'Poliana' 'Design Inc.'\n",
            " 'Appiterate' 'Kiko' 'Monitor110' 'SpoonRocket' 'Juicero' 'Salorix'\n",
            " 'Dopplr' 'Kitchit' 'Kno' 'Beepi' 'Mailbox' 'DotCloud' 'LayerVault'\n",
            " 'Dinner Lab' 'Digg' 'Turntable.fm' 'Sidecar' 'Flud' 'Sprig' 'Sip'\n",
            " 'MatterFab' 'CircleBack Lending' 'Aria Insights' 'ChaCha' 'Call9' 'Vreal'\n",
            " 'Utrip' 'Shyp' 'Theranos' 'Laurel & Wolf' 'Stratolaunch' 'Navdy' 'Anki'\n",
            " 'Munchery']\n",
            "--------------------------------------------------------------\n",
            "the unique values in Category are ['Social Media' 'Design' 'Entertainment' 'Finances' 'Travel'\n",
            " 'Transportation' 'Software & Hardware' 'Education' 'Productivity'\n",
            " 'e-Commerce' 'Analytics' 'Marketing' 'Music' 'Food & Beverage' 'Health']\n",
            "--------------------------------------------------------------\n",
            "the unique values in Started are [2013 2012 2018 2014 2011 2006 1994 2009 2007 2010 2005 1997 2003 2015\n",
            " 2002 2008 2016 2004]\n",
            "--------------------------------------------------------------\n",
            "the unique values in Outcome are ['Shut Down' 'Acquired' 'Still Active' 'Bankruptcy']\n",
            "--------------------------------------------------------------\n",
            "the unique values in Cause are ['Legal Challenges' 'Multiple Reasons' 'Acquisition Flu' 'Poor Product'\n",
            " 'Bad Business Model' 'Mismanagement of Funds' 'Competition'\n",
            " 'Bad Marketing' 'Lack of PMF' 'Bad Management' 'Dependence on Others'\n",
            " 'Lack of Experience' 'No Market Need' 'Lack of Focus' 'Lack of Funds'\n",
            " 'Bad Timing']\n",
            "--------------------------------------------------------------\n",
            "the unique values in Closed are ['2017' '2016' '2020' '2014' '2011' '2015' '2008' 'Active' '2010' '2013'\n",
            " '2009' '2002' '2007' '2019' '2018']\n",
            "--------------------------------------------------------------\n"
          ],
          "name": "stdout"
        }
      ]
    },
    {
      "cell_type": "code",
      "metadata": {
        "id": "ozIgTp3BI8Iy"
      },
      "source": [
        "df = df.drop('Name of Founders', axis = 1) #this shouldnt matter much to us"
      ],
      "execution_count": 74,
      "outputs": []
    },
    {
      "cell_type": "code",
      "metadata": {
        "colab": {
          "base_uri": "https://localhost:8080/",
          "height": 114
        },
        "id": "UutRevf8MOS2",
        "outputId": "9a2441a3-99d3-4334-df2e-1bd8c298f5f6"
      },
      "source": [
        "df.head(1)"
      ],
      "execution_count": 75,
      "outputs": [
        {
          "output_type": "execute_result",
          "data": {
            "text/html": [
              "<div>\n",
              "<style scoped>\n",
              "    .dataframe tbody tr th:only-of-type {\n",
              "        vertical-align: middle;\n",
              "    }\n",
              "\n",
              "    .dataframe tbody tr th {\n",
              "        vertical-align: top;\n",
              "    }\n",
              "\n",
              "    .dataframe thead th {\n",
              "        text-align: right;\n",
              "    }\n",
              "</style>\n",
              "<table border=\"1\" class=\"dataframe\">\n",
              "  <thead>\n",
              "    <tr style=\"text-align: right;\">\n",
              "      <th></th>\n",
              "      <th>Company Name</th>\n",
              "      <th>Company Description</th>\n",
              "      <th>Category</th>\n",
              "      <th>Started</th>\n",
              "      <th>Outcome</th>\n",
              "      <th>Cause</th>\n",
              "      <th>Closed</th>\n",
              "      <th>Number of Founders</th>\n",
              "      <th>Number of Employees</th>\n",
              "      <th>Number of Funding Rounds</th>\n",
              "      <th>Total Funding Amount</th>\n",
              "      <th>Number of Investors</th>\n",
              "    </tr>\n",
              "  </thead>\n",
              "  <tbody>\n",
              "    <tr>\n",
              "      <th>0</th>\n",
              "      <td>Yik Yak</td>\n",
              "      <td>Anonymous location-based social network</td>\n",
              "      <td>Social Media</td>\n",
              "      <td>2013</td>\n",
              "      <td>Shut Down</td>\n",
              "      <td>Legal Challenges</td>\n",
              "      <td>2017</td>\n",
              "      <td>3</td>\n",
              "      <td>10-50</td>\n",
              "      <td>3</td>\n",
              "      <td>$73.5M</td>\n",
              "      <td>11</td>\n",
              "    </tr>\n",
              "  </tbody>\n",
              "</table>\n",
              "</div>"
            ],
            "text/plain": [
              "  Company Name  ... Number of Investors\n",
              "0      Yik Yak  ...                  11\n",
              "\n",
              "[1 rows x 12 columns]"
            ]
          },
          "metadata": {
            "tags": []
          },
          "execution_count": 75
        }
      ]
    },
    {
      "cell_type": "code",
      "metadata": {
        "colab": {
          "base_uri": "https://localhost:8080/"
        },
        "id": "XzbWgJ7dOCIv",
        "outputId": "e75ebebb-bfe5-430c-f929-fb932613f498"
      },
      "source": [
        "for x in df['Number of Employees']: #couple of outliers\n",
        "  if '-' not in x:\n",
        "    print(x)"
      ],
      "execution_count": 76,
      "outputs": [
        {
          "output_type": "stream",
          "text": [
            "+10,000\n",
            "+10,000\n"
          ],
          "name": "stdout"
        }
      ]
    },
    {
      "cell_type": "code",
      "metadata": {
        "colab": {
          "base_uri": "https://localhost:8080/",
          "height": 161
        },
        "id": "e6XiXwgRO2-v",
        "outputId": "e6c9e43f-668a-47b9-9d55-985264e8d7db"
      },
      "source": [
        "df[df['Number of Employees'] == '+10,000']"
      ],
      "execution_count": 77,
      "outputs": [
        {
          "output_type": "execute_result",
          "data": {
            "text/html": [
              "<div>\n",
              "<style scoped>\n",
              "    .dataframe tbody tr th:only-of-type {\n",
              "        vertical-align: middle;\n",
              "    }\n",
              "\n",
              "    .dataframe tbody tr th {\n",
              "        vertical-align: top;\n",
              "    }\n",
              "\n",
              "    .dataframe thead th {\n",
              "        text-align: right;\n",
              "    }\n",
              "</style>\n",
              "<table border=\"1\" class=\"dataframe\">\n",
              "  <thead>\n",
              "    <tr style=\"text-align: right;\">\n",
              "      <th></th>\n",
              "      <th>Company Name</th>\n",
              "      <th>Company Description</th>\n",
              "      <th>Category</th>\n",
              "      <th>Started</th>\n",
              "      <th>Outcome</th>\n",
              "      <th>Cause</th>\n",
              "      <th>Closed</th>\n",
              "      <th>Number of Founders</th>\n",
              "      <th>Number of Employees</th>\n",
              "      <th>Number of Funding Rounds</th>\n",
              "      <th>Total Funding Amount</th>\n",
              "      <th>Number of Investors</th>\n",
              "    </tr>\n",
              "  </thead>\n",
              "  <tbody>\n",
              "    <tr>\n",
              "      <th>15</th>\n",
              "      <td>Wantful</td>\n",
              "      <td>Online gift-giving service</td>\n",
              "      <td>e-Commerce</td>\n",
              "      <td>2011</td>\n",
              "      <td>Shut Down</td>\n",
              "      <td>Competition</td>\n",
              "      <td>2013</td>\n",
              "      <td>1</td>\n",
              "      <td>+10,000</td>\n",
              "      <td>1</td>\n",
              "      <td>$5.5M</td>\n",
              "      <td>8</td>\n",
              "    </tr>\n",
              "    <tr>\n",
              "      <th>62</th>\n",
              "      <td>Kno</td>\n",
              "      <td>Education software startup</td>\n",
              "      <td>Education</td>\n",
              "      <td>2009</td>\n",
              "      <td>Acquired</td>\n",
              "      <td>Competition</td>\n",
              "      <td>2013</td>\n",
              "      <td>2</td>\n",
              "      <td>+10,000</td>\n",
              "      <td>7</td>\n",
              "      <td>$94.9M</td>\n",
              "      <td>10</td>\n",
              "    </tr>\n",
              "  </tbody>\n",
              "</table>\n",
              "</div>"
            ],
            "text/plain": [
              "   Company Name  ... Number of Investors\n",
              "15      Wantful  ...                   8\n",
              "62          Kno  ...                  10\n",
              "\n",
              "[2 rows x 12 columns]"
            ]
          },
          "metadata": {
            "tags": []
          },
          "execution_count": 77
        }
      ]
    },
    {
      "cell_type": "code",
      "metadata": {
        "id": "EuaTtq3mQHD7"
      },
      "source": [
        "df['Number of Employees'] = df['Number of Employees'].replace('+10,000', '10,000-15,000')"
      ],
      "execution_count": 78,
      "outputs": []
    },
    {
      "cell_type": "code",
      "metadata": {
        "colab": {
          "base_uri": "https://localhost:8080/"
        },
        "id": "nQ4c1LnkQZei",
        "outputId": "7742f569-8c7f-44ab-ee10-6b0626370f3d"
      },
      "source": [
        "df.iloc[15] #transformation applied"
      ],
      "execution_count": 79,
      "outputs": [
        {
          "output_type": "execute_result",
          "data": {
            "text/plain": [
              "Company Name                                   Wantful\n",
              "Company Description         Online gift-giving service\n",
              "Category                                    e-Commerce\n",
              "Started                                           2011\n",
              "Outcome                                      Shut Down\n",
              "Cause                                      Competition\n",
              "Closed                                            2013\n",
              "Number of Founders                                   1\n",
              "Number of Employees                      10,000-15,000\n",
              "Number of Funding Rounds                             1\n",
              "Total Funding Amount                             $5.5M\n",
              "Number of Investors                                  8\n",
              "Name: 15, dtype: object"
            ]
          },
          "metadata": {
            "tags": []
          },
          "execution_count": 79
        }
      ]
    },
    {
      "cell_type": "code",
      "metadata": {
        "id": "h4FhSsJFMfGa"
      },
      "source": [
        "df[['Min Employees','Max Employees']] = [x.split('-') for x in df['Number of Employees']]"
      ],
      "execution_count": 80,
      "outputs": []
    },
    {
      "cell_type": "code",
      "metadata": {
        "id": "aiVao8eHNALk"
      },
      "source": [
        "df['Min Employees'] = df['Min Employees'].replace('5,000','5000')\n",
        "df['Min Employees'] = df['Min Employees'].replace('1,000','1000')\n",
        "df['Min Employees'] = df['Min Employees'].replace('10,000','10000')\n",
        "\n",
        "df['Max Employees'] = df['Max Employees'].replace('10,000','10000')\n",
        "df['Max Employees'] = df['Max Employees'].replace('5,000','5000')\n",
        "df['Max Employees'] = df['Max Employees'].replace('15,000','15000')\n",
        "df['Max Employees'] = df['Max Employees'].replace('1,000','1000')"
      ],
      "execution_count": 81,
      "outputs": []
    },
    {
      "cell_type": "code",
      "metadata": {
        "id": "UyF7BXEjQ7zx"
      },
      "source": [
        "df['Min Employees'] = df['Min Employees'].astype('int')\n",
        "df['Max Employees'] = df['Max Employees'].astype('int')"
      ],
      "execution_count": 82,
      "outputs": []
    },
    {
      "cell_type": "code",
      "metadata": {
        "colab": {
          "base_uri": "https://localhost:8080/",
          "height": 285
        },
        "id": "XPwpQ6H0NAOM",
        "outputId": "309e790e-3ecd-4ad7-804a-f386f2c4cd1e"
      },
      "source": [
        "_ = df['Min Employees'].plot(kind = 'box', figsize=(12, 4), title = 'Minimum Employees', fontsize=14) # we have outliers"
      ],
      "execution_count": 83,
      "outputs": [
        {
          "output_type": "display_data",
          "data": {
            "image/png": "[encoded data removed]",
            "text/plain": [
              "<Figure size 864x288 with 1 Axes>"
            ]
          },
          "metadata": {
            "tags": [],
            "needs_background": "light"
          }
        }
      ]
    },
    {
      "cell_type": "code",
      "metadata": {
        "colab": {
          "base_uri": "https://localhost:8080/",
          "height": 285
        },
        "id": "7kE8yA73Q6au",
        "outputId": "330db4ac-9098-419a-ade9-0ef49f6d5d21"
      },
      "source": [
        "_ = df['Max Employees'].plot(kind = 'box', figsize=(12, 4), title = 'Maximum Employees', fontsize=14) #we have outliers"
      ],
      "execution_count": 84,
      "outputs": [
        {
          "output_type": "display_data",
          "data": {
            "image/png": "[encoded data removed]",
            "text/plain": [
              "<Figure size 864x288 with 1 Axes>"
            ]
          },
          "metadata": {
            "tags": [],
            "needs_background": "light"
          }
        }
      ]
    },
    {
      "cell_type": "code",
      "metadata": {
        "id": "mR8zrDzUSbHa"
      },
      "source": [
        "df['Average Employees'] = (df['Min Employees'] + df['Max Employees']) // 2"
      ],
      "execution_count": 85,
      "outputs": []
    },
    {
      "cell_type": "code",
      "metadata": {
        "colab": {
          "base_uri": "https://localhost:8080/",
          "height": 285
        },
        "id": "zThoiae-SpRr",
        "outputId": "0f874258-3767-4c57-bc0f-0231ba38de33"
      },
      "source": [
        "_ = df['Average Employees'].plot(kind = 'box', figsize=(12, 4), title = 'Average Employees', fontsize=14) #we have outliers"
      ],
      "execution_count": 86,
      "outputs": [
        {
          "output_type": "display_data",
          "data": {
            "image/png": "[encoded data removed]",
            "text/plain": [
              "<Figure size 864x288 with 1 Axes>"
            ]
          },
          "metadata": {
            "tags": [],
            "needs_background": "light"
          }
        }
      ]
    },
    {
      "cell_type": "code",
      "metadata": {
        "colab": {
          "base_uri": "https://localhost:8080/",
          "height": 276
        },
        "id": "K-Eie8hdUK_Z",
        "outputId": "2c9520b4-73c9-47fe-f35b-08875d3ea0d0"
      },
      "source": [
        "df.sample(3)"
      ],
      "execution_count": 87,
      "outputs": [
        {
          "output_type": "execute_result",
          "data": {
            "text/html": [
              "<div>\n",
              "<style scoped>\n",
              "    .dataframe tbody tr th:only-of-type {\n",
              "        vertical-align: middle;\n",
              "    }\n",
              "\n",
              "    .dataframe tbody tr th {\n",
              "        vertical-align: top;\n",
              "    }\n",
              "\n",
              "    .dataframe thead th {\n",
              "        text-align: right;\n",
              "    }\n",
              "</style>\n",
              "<table border=\"1\" class=\"dataframe\">\n",
              "  <thead>\n",
              "    <tr style=\"text-align: right;\">\n",
              "      <th></th>\n",
              "      <th>Company Name</th>\n",
              "      <th>Company Description</th>\n",
              "      <th>Category</th>\n",
              "      <th>Started</th>\n",
              "      <th>Outcome</th>\n",
              "      <th>Cause</th>\n",
              "      <th>Closed</th>\n",
              "      <th>Number of Founders</th>\n",
              "      <th>Number of Employees</th>\n",
              "      <th>Number of Funding Rounds</th>\n",
              "      <th>Total Funding Amount</th>\n",
              "      <th>Number of Investors</th>\n",
              "      <th>Min Employees</th>\n",
              "      <th>Max Employees</th>\n",
              "      <th>Average Employees</th>\n",
              "    </tr>\n",
              "  </thead>\n",
              "  <tbody>\n",
              "    <tr>\n",
              "      <th>43</th>\n",
              "      <td>OpTier</td>\n",
              "      <td>Cloud-based enterprise software business</td>\n",
              "      <td>Analytics</td>\n",
              "      <td>2002</td>\n",
              "      <td>Shut Down</td>\n",
              "      <td>Lack of PMF</td>\n",
              "      <td>2014</td>\n",
              "      <td>2</td>\n",
              "      <td>50-100</td>\n",
              "      <td>9</td>\n",
              "      <td>$118.1M</td>\n",
              "      <td>8</td>\n",
              "      <td>50</td>\n",
              "      <td>100</td>\n",
              "      <td>75</td>\n",
              "    </tr>\n",
              "    <tr>\n",
              "      <th>36</th>\n",
              "      <td>Yik Yak</td>\n",
              "      <td>Anonymous location-based social network</td>\n",
              "      <td>Social Media</td>\n",
              "      <td>2013</td>\n",
              "      <td>Shut Down</td>\n",
              "      <td>Legal Challenges</td>\n",
              "      <td>2017</td>\n",
              "      <td>3</td>\n",
              "      <td>10-50</td>\n",
              "      <td>3</td>\n",
              "      <td>$73.5M</td>\n",
              "      <td>11</td>\n",
              "      <td>10</td>\n",
              "      <td>50</td>\n",
              "      <td>30</td>\n",
              "    </tr>\n",
              "    <tr>\n",
              "      <th>58</th>\n",
              "      <td>Juicero</td>\n",
              "      <td>First home cold-pressed juicing system</td>\n",
              "      <td>Food &amp; Beverage</td>\n",
              "      <td>2013</td>\n",
              "      <td>Bankruptcy</td>\n",
              "      <td>Bad Business Model</td>\n",
              "      <td>2017</td>\n",
              "      <td>1</td>\n",
              "      <td>100-250</td>\n",
              "      <td>4</td>\n",
              "      <td>$118.5M</td>\n",
              "      <td>16</td>\n",
              "      <td>100</td>\n",
              "      <td>250</td>\n",
              "      <td>175</td>\n",
              "    </tr>\n",
              "  </tbody>\n",
              "</table>\n",
              "</div>"
            ],
            "text/plain": [
              "   Company Name  ... Average Employees\n",
              "43       OpTier  ...                75\n",
              "36      Yik Yak  ...                30\n",
              "58      Juicero  ...               175\n",
              "\n",
              "[3 rows x 15 columns]"
            ]
          },
          "metadata": {
            "tags": []
          },
          "execution_count": 87
        }
      ]
    },
    {
      "cell_type": "code",
      "metadata": {
        "id": "W2DeBfGRUcBq"
      },
      "source": [
        "df = df.drop('Number of Employees',axis = 1)"
      ],
      "execution_count": 88,
      "outputs": []
    },
    {
      "cell_type": "code",
      "metadata": {
        "colab": {
          "base_uri": "https://localhost:8080/"
        },
        "id": "pjPnLHDb6fii",
        "outputId": "4fe8d9bd-3257-4b58-f7f6-bf44657dd3bc"
      },
      "source": [
        "df['Number of Investors'].unique()"
      ],
      "execution_count": 89,
      "outputs": [
        {
          "output_type": "execute_result",
          "data": {
            "text/plain": [
              "array(['11', '2', '1', '14', '17', '3', '4', '10', '21', '7', '9', '13',\n",
              "       '8', '22', '0', '26', '18', 'No Data', '6', '16', '5', '34', '39',\n",
              "       '20', '31', '15'], dtype=object)"
            ]
          },
          "metadata": {
            "tags": []
          },
          "execution_count": 89
        }
      ]
    },
    {
      "cell_type": "code",
      "metadata": {
        "id": "ZxWKTFD063Pe"
      },
      "source": [
        "df['Number of Investors'] = df['Number of Investors'].replace('No Data', '-999')"
      ],
      "execution_count": 90,
      "outputs": []
    },
    {
      "cell_type": "code",
      "metadata": {
        "id": "ymVZBLXw7Fny"
      },
      "source": [
        "df['Number of Investors'] = df['Number of Investors'].astype('int')"
      ],
      "execution_count": 91,
      "outputs": []
    },
    {
      "cell_type": "code",
      "metadata": {
        "id": "pkBtXyoc9Ud6"
      },
      "source": [
        "df=df.replace('\\$','',regex=True)"
      ],
      "execution_count": 92,
      "outputs": []
    },
    {
      "cell_type": "code",
      "metadata": {
        "colab": {
          "base_uri": "https://localhost:8080/"
        },
        "id": "vfuFpNiB8dz_",
        "outputId": "477e07cd-0464-4f2c-a251-2558ab5a71ee"
      },
      "source": [
        "df['Total Funding Amount'].unique()"
      ],
      "execution_count": 93,
      "outputs": [
        {
          "output_type": "execute_result",
          "data": {
            "text/plain": [
              "array(['73.5M', 'No Data', '3.8M', '1.8B', '103M', '2M', '1.3M', '5.5M',\n",
              "       '35M', '86M', '194.6M', '455K', '29.5M', '15M', '10.4M', '610K',\n",
              "       '4.7M', '3.2M', '1.6M', '-', '62.1M', '21.8M', '23.5M', '66.2M',\n",
              "       '14.3M', '22.7M', '1.8M', '4.6M', '1.5M', '1.1M', '29M', '4.8M',\n",
              "       '13.3M', '12.2M', '2.5M', '17.1M', '125.7M', '118.1M', '336.3M',\n",
              "       '525K', '7M', '7.3M', '37.8M', '15K', '2.3M', '500K', '50K',\n",
              "       '17.3M', '13.5M', '118.5M', '3.5M', '8.1M', '94.9M', '149M', '5M',\n",
              "       '13.7M', '535K', '9.1M', '49M', '45.5M', '3.1M', '56.7M',\n",
              "       'Nothing', '13.2M', '12M', '39M', '96M', '34M', '6M', '1.4B',\n",
              "       '25.5M', '41.8M', '182M', '125.4M'], dtype=object)"
            ]
          },
          "metadata": {
            "tags": []
          },
          "execution_count": 93
        }
      ]
    },
    {
      "cell_type": "code",
      "metadata": {
        "id": "Ya_vWwsG8-NF"
      },
      "source": [
        "df['Unit'] = [x[-1] for x in df['Total Funding Amount']]"
      ],
      "execution_count": 113,
      "outputs": []
    },
    {
      "cell_type": "code",
      "metadata": {
        "colab": {
          "base_uri": "https://localhost:8080/"
        },
        "id": "LNs3wLXWH_DC",
        "outputId": "cc0cfb50-eb7e-4eae-f98a-d4d5c163a72e"
      },
      "source": [
        "df['Unit'].unique()"
      ],
      "execution_count": 116,
      "outputs": [
        {
          "output_type": "execute_result",
          "data": {
            "text/plain": [
              "array(['M', 'a', 'B', 'K', '-', 'g'], dtype=object)"
            ]
          },
          "metadata": {
            "tags": []
          },
          "execution_count": 116
        }
      ]
    },
    {
      "cell_type": "code",
      "metadata": {
        "id": "6TVFZm8bJRVl"
      },
      "source": [
        "df['Total Funding Amount'] = df['Total Funding Amount'].replace('M','',regex=True)\n",
        "df['Total Funding Amount'] = df['Total Funding Amount'].replace('K','',regex=True)\n",
        "df['Total Funding Amount'] = df['Total Funding Amount'].replace('B','',regex=True)\n",
        "df['Total Funding Amount'] = df['Total Funding Amount'].replace('No Data','1',regex=True)\n",
        "df['Total Funding Amount'] = df['Total Funding Amount'].replace('-','1',regex=True)\n",
        "df['Total Funding Amount'] = df['Total Funding Amount'].replace('Nothing','1',regex=True)"
      ],
      "execution_count": 117,
      "outputs": []
    },
    {
      "cell_type": "code",
      "metadata": {
        "id": "-7KXh7i1KMPo"
      },
      "source": [
        "df['Unit'] = df['Unit'].replace('M',1000000)\n",
        "df['Unit'] = df['Unit'].replace('B',1000000000)\n",
        "df['Unit'] = df['Unit'].replace('K',1000)\n",
        "\n",
        "df['Unit'] = df['Unit'].replace('a',-999)\n",
        "df['Unit'] = df['Unit'].replace('-',-999)\n",
        "df['Unit'] = df['Unit'].replace('g',-999)"
      ],
      "execution_count": 120,
      "outputs": []
    },
    {
      "cell_type": "code",
      "metadata": {
        "id": "ltdLMHZQKObF"
      },
      "source": [
        "df['Total Funding Amount'] = df['Total Funding Amount'].astype('float')\n",
        "df['Unit'] = df['Unit'].astype('float')"
      ],
      "execution_count": 123,
      "outputs": []
    },
    {
      "cell_type": "code",
      "metadata": {
        "id": "VrnvU45XLJ8E"
      },
      "source": [
        "df['Total Funding Amount'] = df['Total Funding Amount'] * df['Unit']"
      ],
      "execution_count": 125,
      "outputs": []
    },
    {
      "cell_type": "code",
      "metadata": {
        "id": "8GhM_H_fLZnD"
      },
      "source": [
        "df = df.drop('Unit',axis = 1)"
      ],
      "execution_count": 127,
      "outputs": []
    },
    {
      "cell_type": "code",
      "metadata": {
        "colab": {
          "base_uri": "https://localhost:8080/",
          "height": 226
        },
        "id": "oe-FYyTVLeXg",
        "outputId": "f872eda9-bdec-4e87-9012-bd3409a76aaa"
      },
      "source": [
        "df.head(3)"
      ],
      "execution_count": 132,
      "outputs": [
        {
          "output_type": "execute_result",
          "data": {
            "text/html": [
              "<div>\n",
              "<style scoped>\n",
              "    .dataframe tbody tr th:only-of-type {\n",
              "        vertical-align: middle;\n",
              "    }\n",
              "\n",
              "    .dataframe tbody tr th {\n",
              "        vertical-align: top;\n",
              "    }\n",
              "\n",
              "    .dataframe thead th {\n",
              "        text-align: right;\n",
              "    }\n",
              "</style>\n",
              "<table border=\"1\" class=\"dataframe\">\n",
              "  <thead>\n",
              "    <tr style=\"text-align: right;\">\n",
              "      <th></th>\n",
              "      <th>Company Name</th>\n",
              "      <th>Company Description</th>\n",
              "      <th>Category</th>\n",
              "      <th>Started</th>\n",
              "      <th>Outcome</th>\n",
              "      <th>Cause</th>\n",
              "      <th>Closed</th>\n",
              "      <th>Number of Founders</th>\n",
              "      <th>Number of Funding Rounds</th>\n",
              "      <th>Total Funding Amount</th>\n",
              "      <th>Number of Investors</th>\n",
              "      <th>Min Employees</th>\n",
              "      <th>Max Employees</th>\n",
              "      <th>Average Employees</th>\n",
              "    </tr>\n",
              "  </thead>\n",
              "  <tbody>\n",
              "    <tr>\n",
              "      <th>0</th>\n",
              "      <td>Yik Yak</td>\n",
              "      <td>Anonymous location-based social network</td>\n",
              "      <td>Social Media</td>\n",
              "      <td>2013</td>\n",
              "      <td>Shut Down</td>\n",
              "      <td>Legal Challenges</td>\n",
              "      <td>2017</td>\n",
              "      <td>3</td>\n",
              "      <td>3</td>\n",
              "      <td>73500000.0</td>\n",
              "      <td>11</td>\n",
              "      <td>10</td>\n",
              "      <td>50</td>\n",
              "      <td>30</td>\n",
              "    </tr>\n",
              "    <tr>\n",
              "      <th>1</th>\n",
              "      <td>Vine</td>\n",
              "      <td>Platform to share short looping video clips</td>\n",
              "      <td>Social Media</td>\n",
              "      <td>2012</td>\n",
              "      <td>Shut Down</td>\n",
              "      <td>Multiple Reasons</td>\n",
              "      <td>2017</td>\n",
              "      <td>3</td>\n",
              "      <td>1</td>\n",
              "      <td>-999.0</td>\n",
              "      <td>2</td>\n",
              "      <td>50</td>\n",
              "      <td>100</td>\n",
              "      <td>75</td>\n",
              "    </tr>\n",
              "    <tr>\n",
              "      <th>2</th>\n",
              "      <td>Pixate</td>\n",
              "      <td>Platform for mobile interaction design</td>\n",
              "      <td>Design</td>\n",
              "      <td>2012</td>\n",
              "      <td>Shut Down</td>\n",
              "      <td>Acquisition Flu</td>\n",
              "      <td>2016</td>\n",
              "      <td>2</td>\n",
              "      <td>1</td>\n",
              "      <td>3800000.0</td>\n",
              "      <td>1</td>\n",
              "      <td>10</td>\n",
              "      <td>50</td>\n",
              "      <td>30</td>\n",
              "    </tr>\n",
              "  </tbody>\n",
              "</table>\n",
              "</div>"
            ],
            "text/plain": [
              "  Company Name  ... Average Employees\n",
              "0      Yik Yak  ...                30\n",
              "1         Vine  ...                75\n",
              "2       Pixate  ...                30\n",
              "\n",
              "[3 rows x 14 columns]"
            ]
          },
          "metadata": {
            "tags": []
          },
          "execution_count": 132
        }
      ]
    },
    {
      "cell_type": "code",
      "metadata": {
        "colab": {
          "base_uri": "https://localhost:8080/"
        },
        "id": "Xs8qFNQ9N5ZH",
        "outputId": "6ac64034-595d-4a4f-d9c3-2f9b4eed4837"
      },
      "source": [
        "df['Closed'].unique()"
      ],
      "execution_count": 138,
      "outputs": [
        {
          "output_type": "execute_result",
          "data": {
            "text/plain": [
              "array(['2017', '2016', '2020', '2014', '2011', '2015', '2008', 'Active',\n",
              "       '2010', '2013', '2009', '2002', '2007', '2019', '2018'],\n",
              "      dtype=object)"
            ]
          },
          "metadata": {
            "tags": []
          },
          "execution_count": 138
        }
      ]
    },
    {
      "cell_type": "code",
      "metadata": {
        "id": "IYQvC4zaN85j"
      },
      "source": [
        "df = df[df.Closed != 'Active']  #if the status is active, the startup never failed, so get rid of it"
      ],
      "execution_count": 139,
      "outputs": []
    },
    {
      "cell_type": "code",
      "metadata": {
        "id": "AMt65Z-cOYNh"
      },
      "source": [
        "df['Closed'] = df['Closed'].astype('int')"
      ],
      "execution_count": 142,
      "outputs": []
    },
    {
      "cell_type": "code",
      "metadata": {
        "colab": {
          "base_uri": "https://localhost:8080/"
        },
        "id": "TGGMQa7OL3qG",
        "outputId": "25c2bc78-c8d9-438b-972f-8ab1cabc938f"
      },
      "source": [
        "df.info()"
      ],
      "execution_count": 143,
      "outputs": [
        {
          "output_type": "stream",
          "text": [
            "<class 'pandas.core.frame.DataFrame'>\n",
            "Int64Index: 84 entries, 0 to 89\n",
            "Data columns (total 14 columns):\n",
            " #   Column                    Non-Null Count  Dtype  \n",
            "---  ------                    --------------  -----  \n",
            " 0   Company Name              84 non-null     object \n",
            " 1   Company Description       84 non-null     object \n",
            " 2   Category                  84 non-null     object \n",
            " 3   Started                   84 non-null     int64  \n",
            " 4   Outcome                   84 non-null     object \n",
            " 5   Cause                     84 non-null     object \n",
            " 6   Closed                    84 non-null     int64  \n",
            " 7   Number of Founders        84 non-null     int64  \n",
            " 8   Number of Funding Rounds  84 non-null     int64  \n",
            " 9   Total Funding Amount      84 non-null     float64\n",
            " 10  Number of Investors       84 non-null     int64  \n",
            " 11  Min Employees             84 non-null     int64  \n",
            " 12  Max Employees             84 non-null     int64  \n",
            " 13  Average Employees         84 non-null     int64  \n",
            "dtypes: float64(1), int64(8), object(5)\n",
            "memory usage: 9.8+ KB\n"
          ],
          "name": "stdout"
        }
      ]
    },
    {
      "cell_type": "code",
      "metadata": {
        "id": "Foc2blQVNXoY"
      },
      "source": [
        "df.to_csv('cleaned.csv')"
      ],
      "execution_count": 144,
      "outputs": []
    },
    {
      "cell_type": "code",
      "metadata": {
        "id": "UPqyiYhXO7_5"
      },
      "source": [
        ""
      ],
      "execution_count": null,
      "outputs": []
    }
  ]
}