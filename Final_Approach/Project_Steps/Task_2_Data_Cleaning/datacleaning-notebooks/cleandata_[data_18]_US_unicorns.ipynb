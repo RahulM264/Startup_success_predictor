{
  "nbformat": 4,
  "nbformat_minor": 0,
  "metadata": {
    "colab": {
      "name": "Task 2 - [data 18] US unicorns.ipynb",
      "provenance": []
    },
    "kernelspec": {
      "name": "python3",
      "display_name": "Python 3"
    },
    "language_info": {
      "name": "python"
    }
  },
  "cells": [
    {
      "cell_type": "markdown",
      "metadata": {
        "id": "n3REXaxfkB69"
      },
      "source": [
        "Documentation :\n",
        "\n",
        "- the ordering is from oldest to latest\n",
        "- Removed the $ from valuation\n",
        "- Dropped Country and Date as it's redundant"
      ]
    },
    {
      "cell_type": "code",
      "metadata": {
        "id": "HuLCUa5Njfbq"
      },
      "source": [
        "import pandas as pd\n",
        "import numpy as np\n",
        "import re "
      ],
      "execution_count": 58,
      "outputs": []
    },
    {
      "cell_type": "code",
      "metadata": {
        "colab": {
          "base_uri": "https://localhost:8080/",
          "height": 597
        },
        "id": "2soIgK7qkKLw",
        "outputId": "04a9e721-a305-416b-812d-580824845f80"
      },
      "source": [
        "df = pd.read_csv(\"Unicorns_US.csv\")\n",
        "df.head()\n",
        "original_df = df.copy()\n",
        "\n",
        "original_df"
      ],
      "execution_count": 59,
      "outputs": [
        {
          "output_type": "execute_result",
          "data": {
            "text/html": [
              "<div>\n",
              "<style scoped>\n",
              "    .dataframe tbody tr th:only-of-type {\n",
              "        vertical-align: middle;\n",
              "    }\n",
              "\n",
              "    .dataframe tbody tr th {\n",
              "        vertical-align: top;\n",
              "    }\n",
              "\n",
              "    .dataframe thead th {\n",
              "        text-align: right;\n",
              "    }\n",
              "</style>\n",
              "<table border=\"1\" class=\"dataframe\">\n",
              "  <thead>\n",
              "    <tr style=\"text-align: right;\">\n",
              "      <th></th>\n",
              "      <th>Unnamed: 0</th>\n",
              "      <th>Company</th>\n",
              "      <th>Valuation ($B)</th>\n",
              "      <th>Date Joined</th>\n",
              "      <th>Country</th>\n",
              "      <th>City</th>\n",
              "      <th>Industry</th>\n",
              "      <th>Select Investors</th>\n",
              "    </tr>\n",
              "  </thead>\n",
              "  <tbody>\n",
              "    <tr>\n",
              "      <th>0</th>\n",
              "      <td>1</td>\n",
              "      <td>Stripe</td>\n",
              "      <td>$95</td>\n",
              "      <td>1/23/2014</td>\n",
              "      <td>United States</td>\n",
              "      <td>San Francisco</td>\n",
              "      <td>Fintech</td>\n",
              "      <td>Khosla Ventures, LowercaseCapital, capitalG</td>\n",
              "    </tr>\n",
              "    <tr>\n",
              "      <th>1</th>\n",
              "      <td>2</td>\n",
              "      <td>SpaceX</td>\n",
              "      <td>$74</td>\n",
              "      <td>12/1/2012</td>\n",
              "      <td>United States</td>\n",
              "      <td>Hawthorne</td>\n",
              "      <td>Other</td>\n",
              "      <td>Founders Fund, Draper Fisher Jurvetson, Rothen...</td>\n",
              "    </tr>\n",
              "    <tr>\n",
              "      <th>2</th>\n",
              "      <td>5</td>\n",
              "      <td>Instacart</td>\n",
              "      <td>$39</td>\n",
              "      <td>12/30/2014</td>\n",
              "      <td>United States</td>\n",
              "      <td>San Francisco</td>\n",
              "      <td>Supply chain, logistics, &amp; delivery</td>\n",
              "      <td>Khosla Ventures, Kleiner Perkins Caufield &amp; By...</td>\n",
              "    </tr>\n",
              "    <tr>\n",
              "      <th>3</th>\n",
              "      <td>7</td>\n",
              "      <td>Epic Games</td>\n",
              "      <td>$28.7</td>\n",
              "      <td>10/26/2018</td>\n",
              "      <td>United States</td>\n",
              "      <td>Cary</td>\n",
              "      <td>Other</td>\n",
              "      <td>Tencent Holdings, KKR, Smash Ventures</td>\n",
              "    </tr>\n",
              "    <tr>\n",
              "      <th>4</th>\n",
              "      <td>8</td>\n",
              "      <td>Databricks</td>\n",
              "      <td>$28</td>\n",
              "      <td>2/5/2019</td>\n",
              "      <td>United States</td>\n",
              "      <td>San Francisco</td>\n",
              "      <td>Data management &amp; analytics</td>\n",
              "      <td>Andreessen Horowitz, New Enterprise Associates...</td>\n",
              "    </tr>\n",
              "    <tr>\n",
              "      <th>...</th>\n",
              "      <td>...</td>\n",
              "      <td>...</td>\n",
              "      <td>...</td>\n",
              "      <td>...</td>\n",
              "      <td>...</td>\n",
              "      <td>...</td>\n",
              "      <td>...</td>\n",
              "      <td>...</td>\n",
              "    </tr>\n",
              "    <tr>\n",
              "      <th>369</th>\n",
              "      <td>731</td>\n",
              "      <td>Aura</td>\n",
              "      <td>$1</td>\n",
              "      <td>6/9/2021</td>\n",
              "      <td>United States</td>\n",
              "      <td>Burlington</td>\n",
              "      <td>Cybersecurity</td>\n",
              "      <td>Warburg Pincus, General Catalyst</td>\n",
              "    </tr>\n",
              "    <tr>\n",
              "      <th>370</th>\n",
              "      <td>736</td>\n",
              "      <td>Claroty</td>\n",
              "      <td>$1</td>\n",
              "      <td>6/17/2021</td>\n",
              "      <td>United States</td>\n",
              "      <td>New York</td>\n",
              "      <td>Cybersecurity</td>\n",
              "      <td>Bessemer Venture Partners, MoreVC, Team8</td>\n",
              "    </tr>\n",
              "    <tr>\n",
              "      <th>371</th>\n",
              "      <td>738</td>\n",
              "      <td>Aircall</td>\n",
              "      <td>$1</td>\n",
              "      <td>6/23/2021</td>\n",
              "      <td>United States</td>\n",
              "      <td>New York</td>\n",
              "      <td>Internet software &amp; services</td>\n",
              "      <td>Balderton Capital, Next World Capital, Draper ...</td>\n",
              "    </tr>\n",
              "    <tr>\n",
              "      <th>372</th>\n",
              "      <td>739</td>\n",
              "      <td>SmartAsset</td>\n",
              "      <td>$1</td>\n",
              "      <td>6/24/2021</td>\n",
              "      <td>United States</td>\n",
              "      <td>New York</td>\n",
              "      <td>Fintech</td>\n",
              "      <td>Javelin Venture Partners, TTV Capital, Peterso...</td>\n",
              "    </tr>\n",
              "    <tr>\n",
              "      <th>373</th>\n",
              "      <td>740</td>\n",
              "      <td>Morning Consult</td>\n",
              "      <td>$1</td>\n",
              "      <td>6/8/2021</td>\n",
              "      <td>United States</td>\n",
              "      <td>Washington DC</td>\n",
              "      <td>Internet software &amp; services</td>\n",
              "      <td>Advance Venture Partners, Susquehanna Growth E...</td>\n",
              "    </tr>\n",
              "  </tbody>\n",
              "</table>\n",
              "<p>374 rows × 8 columns</p>\n",
              "</div>"
            ],
            "text/plain": [
              "     Unnamed: 0  ...                                   Select Investors\n",
              "0             1  ...        Khosla Ventures, LowercaseCapital, capitalG\n",
              "1             2  ...  Founders Fund, Draper Fisher Jurvetson, Rothen...\n",
              "2             5  ...  Khosla Ventures, Kleiner Perkins Caufield & By...\n",
              "3             7  ...              Tencent Holdings, KKR, Smash Ventures\n",
              "4             8  ...  Andreessen Horowitz, New Enterprise Associates...\n",
              "..          ...  ...                                                ...\n",
              "369         731  ...                   Warburg Pincus, General Catalyst\n",
              "370         736  ...           Bessemer Venture Partners, MoreVC, Team8\n",
              "371         738  ...  Balderton Capital, Next World Capital, Draper ...\n",
              "372         739  ...  Javelin Venture Partners, TTV Capital, Peterso...\n",
              "373         740  ...  Advance Venture Partners, Susquehanna Growth E...\n",
              "\n",
              "[374 rows x 8 columns]"
            ]
          },
          "metadata": {
            "tags": []
          },
          "execution_count": 59
        }
      ]
    },
    {
      "cell_type": "code",
      "metadata": {
        "id": "ssM7DhtWlJpF"
      },
      "source": [
        "df.columns[0]"
      ],
      "execution_count": null,
      "outputs": []
    },
    {
      "cell_type": "code",
      "metadata": {
        "id": "4_hUnmq8kSOY"
      },
      "source": [
        "remove_cols = ['Country','Date Joined',df.columns[0]]\n",
        "df.drop(columns = remove_cols,axis=1,inplace=True)"
      ],
      "execution_count": 61,
      "outputs": []
    },
    {
      "cell_type": "code",
      "metadata": {
        "id": "MOQRWyoJlQ98"
      },
      "source": [
        "def extract_value(value):\n",
        "\n",
        "  valuation = float(value.strip('$'))\n",
        "  return valuation"
      ],
      "execution_count": 62,
      "outputs": []
    },
    {
      "cell_type": "code",
      "metadata": {
        "id": "XsDp7dFqlSus"
      },
      "source": [
        "df['Valuation ($B)'] = df['Valuation ($B)'].apply(extract_value)"
      ],
      "execution_count": 63,
      "outputs": []
    },
    {
      "cell_type": "code",
      "metadata": {
        "id": "EldNfPppmMmD"
      },
      "source": [
        "def extract_industries(indust):\n",
        "\n",
        "  indust_list = [ind.strip() for ind in indust.split('&')]\n",
        "  fill_value = ','.join(indust_list)\n",
        "  return fill_value\n"
      ],
      "execution_count": 75,
      "outputs": []
    },
    {
      "cell_type": "code",
      "metadata": {
        "id": "yJ7lC0eamNWG"
      },
      "source": [
        "df['Industry'] = df['Industry'].apply(extract_industries)"
      ],
      "execution_count": 76,
      "outputs": []
    },
    {
      "cell_type": "code",
      "metadata": {
        "colab": {
          "base_uri": "https://localhost:8080/",
          "height": 414
        },
        "id": "rhWyLIxvm31R",
        "outputId": "14941824-e08d-49d2-ff17-e62d50e89f86"
      },
      "source": [
        "df"
      ],
      "execution_count": 77,
      "outputs": [
        {
          "output_type": "execute_result",
          "data": {
            "text/html": [
              "<div>\n",
              "<style scoped>\n",
              "    .dataframe tbody tr th:only-of-type {\n",
              "        vertical-align: middle;\n",
              "    }\n",
              "\n",
              "    .dataframe tbody tr th {\n",
              "        vertical-align: top;\n",
              "    }\n",
              "\n",
              "    .dataframe thead th {\n",
              "        text-align: right;\n",
              "    }\n",
              "</style>\n",
              "<table border=\"1\" class=\"dataframe\">\n",
              "  <thead>\n",
              "    <tr style=\"text-align: right;\">\n",
              "      <th></th>\n",
              "      <th>Company</th>\n",
              "      <th>Valuation ($B)</th>\n",
              "      <th>City</th>\n",
              "      <th>Industry</th>\n",
              "      <th>Select Investors</th>\n",
              "    </tr>\n",
              "  </thead>\n",
              "  <tbody>\n",
              "    <tr>\n",
              "      <th>0</th>\n",
              "      <td>Stripe</td>\n",
              "      <td>95.0</td>\n",
              "      <td>San Francisco</td>\n",
              "      <td>Fintech</td>\n",
              "      <td>Khosla Ventures, LowercaseCapital, capitalG</td>\n",
              "    </tr>\n",
              "    <tr>\n",
              "      <th>1</th>\n",
              "      <td>SpaceX</td>\n",
              "      <td>74.0</td>\n",
              "      <td>Hawthorne</td>\n",
              "      <td>Other</td>\n",
              "      <td>Founders Fund, Draper Fisher Jurvetson, Rothen...</td>\n",
              "    </tr>\n",
              "    <tr>\n",
              "      <th>2</th>\n",
              "      <td>Instacart</td>\n",
              "      <td>39.0</td>\n",
              "      <td>San Francisco</td>\n",
              "      <td>Supply chain, logistics,,delivery</td>\n",
              "      <td>Khosla Ventures, Kleiner Perkins Caufield &amp; By...</td>\n",
              "    </tr>\n",
              "    <tr>\n",
              "      <th>3</th>\n",
              "      <td>Epic Games</td>\n",
              "      <td>28.7</td>\n",
              "      <td>Cary</td>\n",
              "      <td>Other</td>\n",
              "      <td>Tencent Holdings, KKR, Smash Ventures</td>\n",
              "    </tr>\n",
              "    <tr>\n",
              "      <th>4</th>\n",
              "      <td>Databricks</td>\n",
              "      <td>28.0</td>\n",
              "      <td>San Francisco</td>\n",
              "      <td>Data management,analytics</td>\n",
              "      <td>Andreessen Horowitz, New Enterprise Associates...</td>\n",
              "    </tr>\n",
              "    <tr>\n",
              "      <th>...</th>\n",
              "      <td>...</td>\n",
              "      <td>...</td>\n",
              "      <td>...</td>\n",
              "      <td>...</td>\n",
              "      <td>...</td>\n",
              "    </tr>\n",
              "    <tr>\n",
              "      <th>369</th>\n",
              "      <td>Aura</td>\n",
              "      <td>1.0</td>\n",
              "      <td>Burlington</td>\n",
              "      <td>Cybersecurity</td>\n",
              "      <td>Warburg Pincus, General Catalyst</td>\n",
              "    </tr>\n",
              "    <tr>\n",
              "      <th>370</th>\n",
              "      <td>Claroty</td>\n",
              "      <td>1.0</td>\n",
              "      <td>New York</td>\n",
              "      <td>Cybersecurity</td>\n",
              "      <td>Bessemer Venture Partners, MoreVC, Team8</td>\n",
              "    </tr>\n",
              "    <tr>\n",
              "      <th>371</th>\n",
              "      <td>Aircall</td>\n",
              "      <td>1.0</td>\n",
              "      <td>New York</td>\n",
              "      <td>Internet software,services</td>\n",
              "      <td>Balderton Capital, Next World Capital, Draper ...</td>\n",
              "    </tr>\n",
              "    <tr>\n",
              "      <th>372</th>\n",
              "      <td>SmartAsset</td>\n",
              "      <td>1.0</td>\n",
              "      <td>New York</td>\n",
              "      <td>Fintech</td>\n",
              "      <td>Javelin Venture Partners, TTV Capital, Peterso...</td>\n",
              "    </tr>\n",
              "    <tr>\n",
              "      <th>373</th>\n",
              "      <td>Morning Consult</td>\n",
              "      <td>1.0</td>\n",
              "      <td>Washington DC</td>\n",
              "      <td>Internet software,services</td>\n",
              "      <td>Advance Venture Partners, Susquehanna Growth E...</td>\n",
              "    </tr>\n",
              "  </tbody>\n",
              "</table>\n",
              "<p>374 rows × 5 columns</p>\n",
              "</div>"
            ],
            "text/plain": [
              "             Company  ...                                   Select Investors\n",
              "0             Stripe  ...        Khosla Ventures, LowercaseCapital, capitalG\n",
              "1             SpaceX  ...  Founders Fund, Draper Fisher Jurvetson, Rothen...\n",
              "2          Instacart  ...  Khosla Ventures, Kleiner Perkins Caufield & By...\n",
              "3         Epic Games  ...              Tencent Holdings, KKR, Smash Ventures\n",
              "4         Databricks  ...  Andreessen Horowitz, New Enterprise Associates...\n",
              "..               ...  ...                                                ...\n",
              "369             Aura  ...                   Warburg Pincus, General Catalyst\n",
              "370          Claroty  ...           Bessemer Venture Partners, MoreVC, Team8\n",
              "371          Aircall  ...  Balderton Capital, Next World Capital, Draper ...\n",
              "372       SmartAsset  ...  Javelin Venture Partners, TTV Capital, Peterso...\n",
              "373  Morning Consult  ...  Advance Venture Partners, Susquehanna Growth E...\n",
              "\n",
              "[374 rows x 5 columns]"
            ]
          },
          "metadata": {
            "tags": []
          },
          "execution_count": 77
        }
      ]
    },
    {
      "cell_type": "code",
      "metadata": {
        "id": "HvzLEsLXne9B"
      },
      "source": [
        "df.to_csv(\"cleaned_unicorns_us_[data16].csv\")"
      ],
      "execution_count": 78,
      "outputs": []
    },
    {
      "cell_type": "code",
      "metadata": {
        "id": "9Im-tDdAuuiV"
      },
      "source": [
        ""
      ],
      "execution_count": null,
      "outputs": []
    }
  ]
}