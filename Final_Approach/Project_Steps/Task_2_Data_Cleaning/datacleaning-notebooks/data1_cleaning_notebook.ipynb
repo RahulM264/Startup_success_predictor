{
  "nbformat": 4,
  "nbformat_minor": 0,
  "metadata": {
    "colab": {
      "name": "data1-cleaning-notebook.ipynb",
      "provenance": [],
      "collapsed_sections": []
    },
    "kernelspec": {
      "name": "python3",
      "display_name": "Python 3"
    },
    "language_info": {
      "name": "python"
    }
  },
  "cells": [
    {
      "cell_type": "markdown",
      "metadata": {
        "id": "p6PVdSUc_swj"
      },
      "source": [
        "## Data Cleaning"
      ]
    },
    {
      "cell_type": "code",
      "metadata": {
        "id": "fcvwhsSoF78k"
      },
      "source": [
        "import pandas as pd"
      ],
      "execution_count": null,
      "outputs": []
    },
    {
      "cell_type": "code",
      "metadata": {
        "id": "4vlbRnbFtgHE"
      },
      "source": [
        "df = pd.read_csv('/content/StartUps-RawData.csv')"
      ],
      "execution_count": null,
      "outputs": []
    },
    {
      "cell_type": "code",
      "metadata": {
        "colab": {
          "base_uri": "https://localhost:8080/",
          "height": 408
        },
        "id": "KmF8L2_H_4U2",
        "outputId": "ba37704d-62a4-4d00-d1e0-80e451910e78"
      },
      "source": [
        "df.head()"
      ],
      "execution_count": null,
      "outputs": [
        {
          "output_type": "execute_result",
          "data": {
            "text/html": [
              "<div>\n",
              "<style scoped>\n",
              "    .dataframe tbody tr th:only-of-type {\n",
              "        vertical-align: middle;\n",
              "    }\n",
              "\n",
              "    .dataframe tbody tr th {\n",
              "        vertical-align: top;\n",
              "    }\n",
              "\n",
              "    .dataframe thead th {\n",
              "        text-align: right;\n",
              "    }\n",
              "</style>\n",
              "<table border=\"1\" class=\"dataframe\">\n",
              "  <thead>\n",
              "    <tr style=\"text-align: right;\">\n",
              "      <th></th>\n",
              "      <th>LB ID</th>\n",
              "      <th>Primary name</th>\n",
              "      <th>Batch</th>\n",
              "      <th>URL</th>\n",
              "      <th>Region</th>\n",
              "      <th>Country</th>\n",
              "      <th>Parent sector</th>\n",
              "      <th>Initial invest date</th>\n",
              "      <th>PrimarySector_API</th>\n",
              "      <th>Platform zaps</th>\n",
              "      <th>Fund(s)</th>\n",
              "      <th>date modified</th>\n",
              "      <th>creation date</th>\n",
              "      <th>OffsetId</th>\n",
              "      <th>CreationTime</th>\n",
              "      <th>Brazil Site</th>\n",
              "      <th>Publicity/Confidentiality concerns</th>\n",
              "      <th>Deal confidentiality</th>\n",
              "      <th>Durians Site</th>\n",
              "    </tr>\n",
              "  </thead>\n",
              "  <tbody>\n",
              "    <tr>\n",
              "      <th>0</th>\n",
              "      <td>A11869</td>\n",
              "      <td>1Huddle</td>\n",
              "      <td>15</td>\n",
              "      <td>https://1huddle.co/</td>\n",
              "      <td>US - Non CA</td>\n",
              "      <td>US</td>\n",
              "      <td>HR / Education</td>\n",
              "      <td>2015-11-06</td>\n",
              "      <td>Professional training</td>\n",
              "      <td>SaaS</td>\n",
              "      <td>Fund III</td>\n",
              "      <td>2020-11-17T03:39:18.000Z</td>\n",
              "      <td>2020-05-01T19:15:55.000Z</td>\n",
              "      <td>recclopZLBiGKa56q</td>\n",
              "      <td>2020-05-01T19:15:55.000Z</td>\n",
              "      <td>NaN</td>\n",
              "      <td>NaN</td>\n",
              "      <td>NaN</td>\n",
              "      <td>NaN</td>\n",
              "    </tr>\n",
              "    <tr>\n",
              "      <th>1</th>\n",
              "      <td>A11789</td>\n",
              "      <td>3D Look</td>\n",
              "      <td>NaN</td>\n",
              "      <td>https://3dlook.me/</td>\n",
              "      <td>US - Non CA</td>\n",
              "      <td>US</td>\n",
              "      <td>Retail / eCommerce</td>\n",
              "      <td>2018-06-19</td>\n",
              "      <td>Fashion</td>\n",
              "      <td>SaaS</td>\n",
              "      <td>Istanbul</td>\n",
              "      <td>2020-11-17T03:39:18.000Z</td>\n",
              "      <td>2020-05-01T19:15:55.000Z</td>\n",
              "      <td>recclopZLBiGKa56q</td>\n",
              "      <td>2020-05-01T19:15:55.000Z</td>\n",
              "      <td>NaN</td>\n",
              "      <td>NaN</td>\n",
              "      <td>NaN</td>\n",
              "      <td>NaN</td>\n",
              "    </tr>\n",
              "    <tr>\n",
              "      <th>2</th>\n",
              "      <td>A11353</td>\n",
              "      <td>3TEN8</td>\n",
              "      <td>NaN</td>\n",
              "      <td>http://www.3ten8.ai/</td>\n",
              "      <td>US - CA</td>\n",
              "      <td>US</td>\n",
              "      <td>IT / Security</td>\n",
              "      <td>2017-07-21</td>\n",
              "      <td>IT tools</td>\n",
              "      <td>SaaS</td>\n",
              "      <td>Falcons</td>\n",
              "      <td>2020-11-17T03:39:18.000Z</td>\n",
              "      <td>2020-05-01T19:15:55.000Z</td>\n",
              "      <td>recclopZLBiGKa56q</td>\n",
              "      <td>2020-05-01T19:15:55.000Z</td>\n",
              "      <td>NaN</td>\n",
              "      <td>NaN</td>\n",
              "      <td>NaN</td>\n",
              "      <td>NaN</td>\n",
              "    </tr>\n",
              "    <tr>\n",
              "      <th>3</th>\n",
              "      <td>A10019</td>\n",
              "      <td>4Vets</td>\n",
              "      <td>NaN</td>\n",
              "      <td>http://4vets.com.br</td>\n",
              "      <td>LatAm</td>\n",
              "      <td>Brazil</td>\n",
              "      <td>Retail / eCommerce</td>\n",
              "      <td>2013-08-16</td>\n",
              "      <td>Pets</td>\n",
              "      <td>On-demand / Delivery</td>\n",
              "      <td>Fund II</td>\n",
              "      <td>2020-11-17T03:39:18.000Z</td>\n",
              "      <td>2020-05-01T19:15:55.000Z</td>\n",
              "      <td>recclopZLBiGKa56q</td>\n",
              "      <td>2020-05-01T19:15:55.000Z</td>\n",
              "      <td>True</td>\n",
              "      <td>NaN</td>\n",
              "      <td>NaN</td>\n",
              "      <td>NaN</td>\n",
              "    </tr>\n",
              "    <tr>\n",
              "      <th>4</th>\n",
              "      <td>A10035</td>\n",
              "      <td>9Slides</td>\n",
              "      <td>NaN</td>\n",
              "      <td>http://9slides.com</td>\n",
              "      <td>US - Non CA</td>\n",
              "      <td>US</td>\n",
              "      <td>Media / Collaboration</td>\n",
              "      <td>2012-08-02</td>\n",
              "      <td>Media production</td>\n",
              "      <td>SaaS</td>\n",
              "      <td>Fund II</td>\n",
              "      <td>2020-11-17T03:39:18.000Z</td>\n",
              "      <td>2020-05-01T19:15:55.000Z</td>\n",
              "      <td>recclopZLBiGKa56q</td>\n",
              "      <td>2020-05-01T19:15:55.000Z</td>\n",
              "      <td>NaN</td>\n",
              "      <td>NaN</td>\n",
              "      <td>NaN</td>\n",
              "      <td>NaN</td>\n",
              "    </tr>\n",
              "  </tbody>\n",
              "</table>\n",
              "</div>"
            ],
            "text/plain": [
              "    LB ID Primary name  ... Deal confidentiality Durians Site\n",
              "0  A11869      1Huddle  ...                  NaN          NaN\n",
              "1  A11789      3D Look  ...                  NaN          NaN\n",
              "2  A11353        3TEN8  ...                  NaN          NaN\n",
              "3  A10019        4Vets  ...                  NaN          NaN\n",
              "4  A10035      9Slides  ...                  NaN          NaN\n",
              "\n",
              "[5 rows x 19 columns]"
            ]
          },
          "metadata": {
            "tags": []
          },
          "execution_count": 77
        }
      ]
    },
    {
      "cell_type": "code",
      "metadata": {
        "colab": {
          "base_uri": "https://localhost:8080/"
        },
        "id": "dlkUaMH5_5ks",
        "outputId": "a130d580-b7c9-4eac-b87d-37956ca29f04"
      },
      "source": [
        "df.isnull().sum()"
      ],
      "execution_count": null,
      "outputs": [
        {
          "output_type": "execute_result",
          "data": {
            "text/plain": [
              "LB ID                                    0\n",
              "Primary name                             0\n",
              "Batch                                  726\n",
              "URL                                      8\n",
              "Region                                   0\n",
              "Country                                  0\n",
              "Parent sector                           71\n",
              "Initial invest date                     14\n",
              "PrimarySector_API                       57\n",
              "Platform zaps                           77\n",
              "Fund(s)                                 13\n",
              "date modified                            0\n",
              "creation date                            0\n",
              "OffsetId                                 0\n",
              "CreationTime                             0\n",
              "Brazil Site                           1511\n",
              "Publicity/Confidentiality concerns    1538\n",
              "Deal confidentiality                  1546\n",
              "Durians Site                          1545\n",
              "dtype: int64"
            ]
          },
          "metadata": {
            "tags": []
          },
          "execution_count": 78
        }
      ]
    },
    {
      "cell_type": "markdown",
      "metadata": {
        "id": "1RF6H-lhb6Ts"
      },
      "source": [
        "Columns To be drop - Reason\n",
        "\n",
        "1. Brazil Site --> Null Values greater than 1500 so dropped\n",
        "2. Publicity/Confidentiality concerns --> Null Values greater than 1500 so dropped\n",
        "3. Deal confidentiality --> Null Values greater than 1500 so dropped\n",
        "4. Durians Site --> Null Values greater than 1500 so dropped\n",
        "5. Batch --> On Checking it was found it's not related to project aim\n",
        "6. date modified --> date when information is updated last on website, so not relevant\n",
        "7. creation date --> date when information is created on website, so not relevant\n",
        "8. CreationTime  --> Time when information was first created on site, so not relevant\n",
        "9. OffsetId --> URL Meta data which is fetch during scrapping, so not relevant "
      ]
    },
    {
      "cell_type": "code",
      "metadata": {
        "id": "fDdhfgqeBuk-"
      },
      "source": [
        "colstodrop = ['Brazil Site','Publicity/Confidentiality concerns','Deal confidentiality','Durians Site','Batch','date modified','creation date','CreationTime','OffsetId']\n",
        "df = df.drop(columns = colstodrop)"
      ],
      "execution_count": null,
      "outputs": []
    },
    {
      "cell_type": "code",
      "metadata": {
        "colab": {
          "base_uri": "https://localhost:8080/",
          "height": 508
        },
        "id": "z6Idr-LjDjSS",
        "outputId": "b2d0a693-00a2-49e5-8d01-77e85d1218bc"
      },
      "source": [
        "df.head(10)"
      ],
      "execution_count": null,
      "outputs": [
        {
          "output_type": "execute_result",
          "data": {
            "text/html": [
              "<div>\n",
              "<style scoped>\n",
              "    .dataframe tbody tr th:only-of-type {\n",
              "        vertical-align: middle;\n",
              "    }\n",
              "\n",
              "    .dataframe tbody tr th {\n",
              "        vertical-align: top;\n",
              "    }\n",
              "\n",
              "    .dataframe thead th {\n",
              "        text-align: right;\n",
              "    }\n",
              "</style>\n",
              "<table border=\"1\" class=\"dataframe\">\n",
              "  <thead>\n",
              "    <tr style=\"text-align: right;\">\n",
              "      <th></th>\n",
              "      <th>LB ID</th>\n",
              "      <th>Primary name</th>\n",
              "      <th>URL</th>\n",
              "      <th>Region</th>\n",
              "      <th>Country</th>\n",
              "      <th>Parent sector</th>\n",
              "      <th>Initial invest date</th>\n",
              "      <th>PrimarySector_API</th>\n",
              "      <th>Platform zaps</th>\n",
              "      <th>Fund(s)</th>\n",
              "    </tr>\n",
              "  </thead>\n",
              "  <tbody>\n",
              "    <tr>\n",
              "      <th>0</th>\n",
              "      <td>A11869</td>\n",
              "      <td>1Huddle</td>\n",
              "      <td>https://1huddle.co/</td>\n",
              "      <td>US - Non CA</td>\n",
              "      <td>US</td>\n",
              "      <td>HR / Education</td>\n",
              "      <td>2015-11-06</td>\n",
              "      <td>Professional training</td>\n",
              "      <td>SaaS</td>\n",
              "      <td>Fund III</td>\n",
              "    </tr>\n",
              "    <tr>\n",
              "      <th>1</th>\n",
              "      <td>A11789</td>\n",
              "      <td>3D Look</td>\n",
              "      <td>https://3dlook.me/</td>\n",
              "      <td>US - Non CA</td>\n",
              "      <td>US</td>\n",
              "      <td>Retail / eCommerce</td>\n",
              "      <td>2018-06-19</td>\n",
              "      <td>Fashion</td>\n",
              "      <td>SaaS</td>\n",
              "      <td>Istanbul</td>\n",
              "    </tr>\n",
              "    <tr>\n",
              "      <th>2</th>\n",
              "      <td>A11353</td>\n",
              "      <td>3TEN8</td>\n",
              "      <td>http://www.3ten8.ai/</td>\n",
              "      <td>US - CA</td>\n",
              "      <td>US</td>\n",
              "      <td>IT / Security</td>\n",
              "      <td>2017-07-21</td>\n",
              "      <td>IT tools</td>\n",
              "      <td>SaaS</td>\n",
              "      <td>Falcons</td>\n",
              "    </tr>\n",
              "    <tr>\n",
              "      <th>3</th>\n",
              "      <td>A10019</td>\n",
              "      <td>4Vets</td>\n",
              "      <td>http://4vets.com.br</td>\n",
              "      <td>LatAm</td>\n",
              "      <td>Brazil</td>\n",
              "      <td>Retail / eCommerce</td>\n",
              "      <td>2013-08-16</td>\n",
              "      <td>Pets</td>\n",
              "      <td>On-demand / Delivery</td>\n",
              "      <td>Fund II</td>\n",
              "    </tr>\n",
              "    <tr>\n",
              "      <th>4</th>\n",
              "      <td>A10035</td>\n",
              "      <td>9Slides</td>\n",
              "      <td>http://9slides.com</td>\n",
              "      <td>US - Non CA</td>\n",
              "      <td>US</td>\n",
              "      <td>Media / Collaboration</td>\n",
              "      <td>2012-08-02</td>\n",
              "      <td>Media production</td>\n",
              "      <td>SaaS</td>\n",
              "      <td>Fund II</td>\n",
              "    </tr>\n",
              "    <tr>\n",
              "      <th>5</th>\n",
              "      <td>A10005</td>\n",
              "      <td>15Five</td>\n",
              "      <td>http://15five.com</td>\n",
              "      <td>US - Non CA</td>\n",
              "      <td>US</td>\n",
              "      <td>HR / Education</td>\n",
              "      <td>2012-12-20</td>\n",
              "      <td>Personnel / Benefits</td>\n",
              "      <td>SaaS</td>\n",
              "      <td>Fund II</td>\n",
              "    </tr>\n",
              "    <tr>\n",
              "      <th>6</th>\n",
              "      <td>A10017</td>\n",
              "      <td>42</td>\n",
              "      <td>http://42technologies.com</td>\n",
              "      <td>Canada, US - CA</td>\n",
              "      <td>Canada, US</td>\n",
              "      <td>Marketing / Customer Success</td>\n",
              "      <td>2014-08-13</td>\n",
              "      <td>Market intel</td>\n",
              "      <td>SaaS</td>\n",
              "      <td>Fund III</td>\n",
              "    </tr>\n",
              "    <tr>\n",
              "      <th>7</th>\n",
              "      <td>A10016</td>\n",
              "      <td>42 Floors</td>\n",
              "      <td>http://42floors.com</td>\n",
              "      <td>US - Non CA</td>\n",
              "      <td>US</td>\n",
              "      <td>Real Estate / Transportation</td>\n",
              "      <td>2012-04-15</td>\n",
              "      <td>Realty / Rentals</td>\n",
              "      <td>Marketplace</td>\n",
              "      <td>Fund II</td>\n",
              "    </tr>\n",
              "    <tr>\n",
              "      <th>8</th>\n",
              "      <td>A10018</td>\n",
              "      <td>43Layers</td>\n",
              "      <td>http://43layers.com</td>\n",
              "      <td>US - CA</td>\n",
              "      <td>US</td>\n",
              "      <td>Retail / eCommerce</td>\n",
              "      <td>2015-08-13</td>\n",
              "      <td>Consumer eCom</td>\n",
              "      <td>On-demand / Delivery</td>\n",
              "      <td>Fund III</td>\n",
              "    </tr>\n",
              "    <tr>\n",
              "      <th>9</th>\n",
              "      <td>A10614</td>\n",
              "      <td>64 Pixels</td>\n",
              "      <td>http://64px.com</td>\n",
              "      <td>US - CA</td>\n",
              "      <td>US</td>\n",
              "      <td>Media / Collaboration</td>\n",
              "      <td>2010-10-06</td>\n",
              "      <td>Social media</td>\n",
              "      <td>SaaS</td>\n",
              "      <td>Fund I</td>\n",
              "    </tr>\n",
              "  </tbody>\n",
              "</table>\n",
              "</div>"
            ],
            "text/plain": [
              "    LB ID Primary name  ...         Platform zaps   Fund(s)\n",
              "0  A11869      1Huddle  ...                  SaaS  Fund III\n",
              "1  A11789      3D Look  ...                  SaaS  Istanbul\n",
              "2  A11353        3TEN8  ...                  SaaS   Falcons\n",
              "3  A10019        4Vets  ...  On-demand / Delivery   Fund II\n",
              "4  A10035      9Slides  ...                  SaaS   Fund II\n",
              "5  A10005       15Five  ...                  SaaS   Fund II\n",
              "6  A10017           42  ...                  SaaS  Fund III\n",
              "7  A10016    42 Floors  ...           Marketplace   Fund II\n",
              "8  A10018     43Layers  ...  On-demand / Delivery  Fund III\n",
              "9  A10614    64 Pixels  ...                  SaaS    Fund I\n",
              "\n",
              "[10 rows x 10 columns]"
            ]
          },
          "metadata": {
            "tags": []
          },
          "execution_count": 80
        }
      ]
    },
    {
      "cell_type": "code",
      "metadata": {
        "colab": {
          "base_uri": "https://localhost:8080/"
        },
        "id": "E5gMqQWDEVcL",
        "outputId": "6621df62-a604-4a34-bbe7-7935bfa2080f"
      },
      "source": [
        "df.info()"
      ],
      "execution_count": null,
      "outputs": [
        {
          "output_type": "stream",
          "text": [
            "<class 'pandas.core.frame.DataFrame'>\n",
            "RangeIndex: 1555 entries, 0 to 1554\n",
            "Data columns (total 10 columns):\n",
            " #   Column               Non-Null Count  Dtype \n",
            "---  ------               --------------  ----- \n",
            " 0   LB ID                1555 non-null   object\n",
            " 1   Primary name         1555 non-null   object\n",
            " 2   URL                  1547 non-null   object\n",
            " 3   Region               1555 non-null   object\n",
            " 4   Country              1555 non-null   object\n",
            " 5   Parent sector        1484 non-null   object\n",
            " 6   Initial invest date  1541 non-null   object\n",
            " 7   PrimarySector_API    1498 non-null   object\n",
            " 8   Platform zaps        1478 non-null   object\n",
            " 9   Fund(s)              1542 non-null   object\n",
            "dtypes: object(10)\n",
            "memory usage: 121.6+ KB\n"
          ],
          "name": "stdout"
        }
      ]
    },
    {
      "cell_type": "markdown",
      "metadata": {
        "id": "IdJ7rekBXfru"
      },
      "source": [
        ""
      ]
    },
    {
      "cell_type": "code",
      "metadata": {
        "colab": {
          "base_uri": "https://localhost:8080/",
          "height": 430
        },
        "id": "B_UjE5PcKEI9",
        "outputId": "c0ea9e6d-8203-46fa-9e1a-7bb34f20c60f"
      },
      "source": [
        "df[df.URL.notnull() == False]"
      ],
      "execution_count": null,
      "outputs": [
        {
          "output_type": "execute_result",
          "data": {
            "text/html": [
              "<div>\n",
              "<style scoped>\n",
              "    .dataframe tbody tr th:only-of-type {\n",
              "        vertical-align: middle;\n",
              "    }\n",
              "\n",
              "    .dataframe tbody tr th {\n",
              "        vertical-align: top;\n",
              "    }\n",
              "\n",
              "    .dataframe thead th {\n",
              "        text-align: right;\n",
              "    }\n",
              "</style>\n",
              "<table border=\"1\" class=\"dataframe\">\n",
              "  <thead>\n",
              "    <tr style=\"text-align: right;\">\n",
              "      <th></th>\n",
              "      <th>LB ID</th>\n",
              "      <th>Primary name</th>\n",
              "      <th>URL</th>\n",
              "      <th>Region</th>\n",
              "      <th>Country</th>\n",
              "      <th>Parent sector</th>\n",
              "      <th>Initial invest date</th>\n",
              "      <th>PrimarySector_API</th>\n",
              "      <th>Platform zaps</th>\n",
              "      <th>Fund(s)</th>\n",
              "    </tr>\n",
              "  </thead>\n",
              "  <tbody>\n",
              "    <tr>\n",
              "      <th>53</th>\n",
              "      <td>A12523</td>\n",
              "      <td>Ambience Healthcare</td>\n",
              "      <td>NaN</td>\n",
              "      <td>US - CA</td>\n",
              "      <td>US</td>\n",
              "      <td>NaN</td>\n",
              "      <td>2020-09-11</td>\n",
              "      <td>Healthcare Services &amp; Telehealth</td>\n",
              "      <td>NaN</td>\n",
              "      <td>Fund V</td>\n",
              "    </tr>\n",
              "    <tr>\n",
              "      <th>357</th>\n",
              "      <td>A12576</td>\n",
              "      <td>DBA BuiltFirst</td>\n",
              "      <td>NaN</td>\n",
              "      <td>US - CA</td>\n",
              "      <td>US</td>\n",
              "      <td>Software and Services</td>\n",
              "      <td>NaN</td>\n",
              "      <td>Productivity</td>\n",
              "      <td>NaN</td>\n",
              "      <td>NaN</td>\n",
              "    </tr>\n",
              "    <tr>\n",
              "      <th>428</th>\n",
              "      <td>A12552</td>\n",
              "      <td>EST</td>\n",
              "      <td>NaN</td>\n",
              "      <td>US - CA</td>\n",
              "      <td>US</td>\n",
              "      <td>Media / Collaboration</td>\n",
              "      <td>2020-10-17</td>\n",
              "      <td>Social media</td>\n",
              "      <td>Cloud / Content</td>\n",
              "      <td>TukTuks II,Durians III</td>\n",
              "    </tr>\n",
              "    <tr>\n",
              "      <th>501</th>\n",
              "      <td>A10707</td>\n",
              "      <td>Foundation Mobile</td>\n",
              "      <td>NaN</td>\n",
              "      <td>LatAm</td>\n",
              "      <td>Brazil</td>\n",
              "      <td>NaN</td>\n",
              "      <td>2011-05-16</td>\n",
              "      <td>NaN</td>\n",
              "      <td>NaN</td>\n",
              "      <td>Fund I</td>\n",
              "    </tr>\n",
              "    <tr>\n",
              "      <th>720</th>\n",
              "      <td>A12604</td>\n",
              "      <td>Knowtions</td>\n",
              "      <td>NaN</td>\n",
              "      <td>Canada</td>\n",
              "      <td>Canada</td>\n",
              "      <td>Financial Technology</td>\n",
              "      <td>NaN</td>\n",
              "      <td>Insurance</td>\n",
              "      <td>NaN</td>\n",
              "      <td>Fund V</td>\n",
              "    </tr>\n",
              "    <tr>\n",
              "      <th>865</th>\n",
              "      <td>A12165</td>\n",
              "      <td>Mod Snob</td>\n",
              "      <td>NaN</td>\n",
              "      <td>US - CA</td>\n",
              "      <td>US</td>\n",
              "      <td>Retail / eCommerce</td>\n",
              "      <td>2018-11-27</td>\n",
              "      <td>Fashion</td>\n",
              "      <td>NaN</td>\n",
              "      <td>Kimchi I</td>\n",
              "    </tr>\n",
              "    <tr>\n",
              "      <th>994</th>\n",
              "      <td>A12567</td>\n",
              "      <td>Pencil</td>\n",
              "      <td>NaN</td>\n",
              "      <td>US - CA</td>\n",
              "      <td>US</td>\n",
              "      <td>HR / Education</td>\n",
              "      <td>2020-11-16</td>\n",
              "      <td>Education ERP</td>\n",
              "      <td>NaN</td>\n",
              "      <td>Vietnam</td>\n",
              "    </tr>\n",
              "    <tr>\n",
              "      <th>1358</th>\n",
              "      <td>A12630</td>\n",
              "      <td>Ticketrev</td>\n",
              "      <td>NaN</td>\n",
              "      <td>US - CA</td>\n",
              "      <td>US</td>\n",
              "      <td>Consumer</td>\n",
              "      <td>2021-05-31</td>\n",
              "      <td>Gaming &amp; eSports</td>\n",
              "      <td>NaN</td>\n",
              "      <td>Fund V</td>\n",
              "    </tr>\n",
              "  </tbody>\n",
              "</table>\n",
              "</div>"
            ],
            "text/plain": [
              "       LB ID         Primary name  ...    Platform zaps                 Fund(s)\n",
              "53    A12523  Ambience Healthcare  ...              NaN                  Fund V\n",
              "357   A12576       DBA BuiltFirst  ...              NaN                     NaN\n",
              "428   A12552                  EST  ...  Cloud / Content  TukTuks II,Durians III\n",
              "501   A10707    Foundation Mobile  ...              NaN                  Fund I\n",
              "720   A12604            Knowtions  ...              NaN                  Fund V\n",
              "865   A12165             Mod Snob  ...              NaN                Kimchi I\n",
              "994   A12567               Pencil  ...              NaN                 Vietnam\n",
              "1358  A12630            Ticketrev  ...              NaN                  Fund V\n",
              "\n",
              "[8 rows x 10 columns]"
            ]
          },
          "metadata": {
            "tags": []
          },
          "execution_count": 82
        }
      ]
    },
    {
      "cell_type": "code",
      "metadata": {
        "id": "GqDldT86dAy7"
      },
      "source": [
        "countries = df.Country.unique()"
      ],
      "execution_count": null,
      "outputs": []
    },
    {
      "cell_type": "code",
      "metadata": {
        "colab": {
          "base_uri": "https://localhost:8080/"
        },
        "id": "k81ON7Yld2eF",
        "outputId": "3b97619a-0fad-42ca-e1d6-e9e32aeec1ff"
      },
      "source": [
        "len(countries)"
      ],
      "execution_count": null,
      "outputs": [
        {
          "output_type": "execute_result",
          "data": {
            "text/plain": [
              "17"
            ]
          },
          "metadata": {
            "tags": []
          },
          "execution_count": 84
        }
      ]
    },
    {
      "cell_type": "code",
      "metadata": {
        "colab": {
          "base_uri": "https://localhost:8080/"
        },
        "id": "88tSO7-Sfdiv",
        "outputId": "f5bd0089-d2ef-4533-de0d-7f41d45350a9"
      },
      "source": [
        "# Countries column contains all the countries where startup/ its services are present\n",
        "for con in countries:\n",
        "  print(con)"
      ],
      "execution_count": null,
      "outputs": [
        {
          "output_type": "stream",
          "text": [
            "US\n",
            "Brazil\n",
            "Canada, US\n",
            "Mexico\n",
            "Canada\n",
            "Russia,US\n",
            "Chile\n",
            "Peru\n",
            "Colombia\n",
            "US, US, US\n",
            "Argentina\n",
            "Ghana,US\n",
            "Uruguay\n",
            "Nigeria, US\n",
            "US, Russia\n",
            "US, Turkey\n",
            "US, South Africa\n"
          ],
          "name": "stdout"
        }
      ]
    },
    {
      "cell_type": "code",
      "metadata": {
        "id": "52fR2O1lflIT"
      },
      "source": [
        "df.Country = df.Country.replace({\"Canada, US\" : \"US\",\n",
        " \"Russia,US\" : \"US\",\n",
        " \"US, US, US\" : \"US\",\n",
        " \"Ghana,US\" : \"US\",\n",
        " \"Nigeria, US\" : \"US\",\n",
        " \"US, Russia\" : \"US\",\n",
        " \"US, Turkey\" : \"US\",\n",
        " \"US, South Africa\" : \"US\"})"
      ],
      "execution_count": null,
      "outputs": []
    },
    {
      "cell_type": "code",
      "metadata": {
        "colab": {
          "base_uri": "https://localhost:8080/"
        },
        "id": "ZqnZ0U72nsvV",
        "outputId": "17a13b2c-3a0c-45c7-cd13-87942249d1b7"
      },
      "source": [
        "df.Country.unique()"
      ],
      "execution_count": null,
      "outputs": [
        {
          "output_type": "execute_result",
          "data": {
            "text/plain": [
              "array(['US', 'Brazil', 'Mexico', 'Canada', 'Chile', 'Peru', 'Colombia',\n",
              "       'Argentina', 'Uruguay'], dtype=object)"
            ]
          },
          "metadata": {
            "tags": []
          },
          "execution_count": 87
        }
      ]
    },
    {
      "cell_type": "code",
      "metadata": {
        "colab": {
          "base_uri": "https://localhost:8080/"
        },
        "id": "QhaWU5ERzOkh",
        "outputId": "df2b4fec-adc5-449a-ecb6-e46b14ad9a40"
      },
      "source": [
        "df.columns"
      ],
      "execution_count": null,
      "outputs": [
        {
          "output_type": "execute_result",
          "data": {
            "text/plain": [
              "Index(['LB ID', 'Primary name', 'URL', 'Region', 'Country', 'Parent sector',\n",
              "       'Initial invest date', 'PrimarySector_API', 'Platform zaps', 'Fund(s)'],\n",
              "      dtype='object')"
            ]
          },
          "metadata": {
            "tags": []
          },
          "execution_count": 88
        }
      ]
    },
    {
      "cell_type": "code",
      "metadata": {
        "colab": {
          "base_uri": "https://localhost:8080/",
          "height": 1000
        },
        "id": "6S0oOYBYnw7s",
        "outputId": "8db58623-1cce-4a12-df00-fb1afbde037d"
      },
      "source": [
        "iterCols = ['LB ID', 'Primary name', 'URL', 'Region', 'Parent sector',\n",
        "       'Initial invest date', 'PrimarySector_API', 'Platform zaps', 'Fund(s)']\n",
        "grpbyObj = df.groupby('Country').count()\n",
        "for col in iterCols:\n",
        "  print(grpbyObj[col])\n",
        "  grpbyObj[col].plot(kind = 'barh',title = col)\n",
        "  plt.show()\n"
      ],
      "execution_count": null,
      "outputs": [
        {
          "output_type": "stream",
          "text": [
            "Country\n",
            "Argentina      27\n",
            "Brazil         44\n",
            "Canada        102\n",
            "Chile          17\n",
            "Colombia       16\n",
            "Mexico        112\n",
            "Peru           10\n",
            "US           1226\n",
            "Uruguay         1\n",
            "Name: LB ID, dtype: int64\n"
          ],
          "name": "stdout"
        },
        {
          "output_type": "display_data",
          "data": {
            "image/png": "[encoded data removed]",
            "text/plain": [
              "<Figure size 432x288 with 1 Axes>"
            ]
          },
          "metadata": {
            "tags": [],
            "needs_background": "light"
          }
        },
        {
          "output_type": "stream",
          "text": [
            "Country\n",
            "Argentina      27\n",
            "Brazil         44\n",
            "Canada        102\n",
            "Chile          17\n",
            "Colombia       16\n",
            "Mexico        112\n",
            "Peru           10\n",
            "US           1226\n",
            "Uruguay         1\n",
            "Name: Primary name, dtype: int64\n"
          ],
          "name": "stdout"
        },
        {
          "output_type": "display_data",
          "data": {
            "image/png": "[encoded data removed]",
            "text/plain": [
              "<Figure size 432x288 with 1 Axes>"
            ]
          },
          "metadata": {
            "tags": [],
            "needs_background": "light"
          }
        },
        {
          "output_type": "stream",
          "text": [
            "Country\n",
            "Argentina      27\n",
            "Brazil         43\n",
            "Canada        101\n",
            "Chile          17\n",
            "Colombia       16\n",
            "Mexico        112\n",
            "Peru           10\n",
            "US           1220\n",
            "Uruguay         1\n",
            "Name: URL, dtype: int64\n"
          ],
          "name": "stdout"
        },
        {
          "output_type": "display_data",
          "data": {
            "image/png": "[encoded data removed]",
            "text/plain": [
              "<Figure size 432x288 with 1 Axes>"
            ]
          },
          "metadata": {
            "tags": [],
            "needs_background": "light"
          }
        },
        {
          "output_type": "stream",
          "text": [
            "Country\n",
            "Argentina      27\n",
            "Brazil         44\n",
            "Canada        102\n",
            "Chile          17\n",
            "Colombia       16\n",
            "Mexico        112\n",
            "Peru           10\n",
            "US           1226\n",
            "Uruguay         1\n",
            "Name: Region, dtype: int64\n"
          ],
          "name": "stdout"
        },
        {
          "output_type": "display_data",
          "data": {
            "image/png": "[encoded data removed]",
            "text/plain": [
              "<Figure size 432x288 with 1 Axes>"
            ]
          },
          "metadata": {
            "tags": [],
            "needs_background": "light"
          }
        },
        {
          "output_type": "stream",
          "text": [
            "Country\n",
            "Argentina      25\n",
            "Brazil         43\n",
            "Canada        101\n",
            "Chile          13\n",
            "Colombia       12\n",
            "Mexico         94\n",
            "Peru            9\n",
            "US           1186\n",
            "Uruguay         1\n",
            "Name: Parent sector, dtype: int64\n"
          ],
          "name": "stdout"
        },
        {
          "output_type": "display_data",
          "data": {
            "image/png": "[encoded data removed]",
            "text/plain": [
              "<Figure size 432x288 with 1 Axes>"
            ]
          },
          "metadata": {
            "tags": [],
            "needs_background": "light"
          }
        },
        {
          "output_type": "stream",
          "text": [
            "Country\n",
            "Argentina      27\n",
            "Brazil         44\n",
            "Canada        101\n",
            "Chile          17\n",
            "Colombia       16\n",
            "Mexico        111\n",
            "Peru           10\n",
            "US           1214\n",
            "Uruguay         1\n",
            "Name: Initial invest date, dtype: int64\n"
          ],
          "name": "stdout"
        },
        {
          "output_type": "display_data",
          "data": {
            "image/png": "[encoded data removed]",
            "text/plain": [
              "<Figure size 432x288 with 1 Axes>"
            ]
          },
          "metadata": {
            "tags": [],
            "needs_background": "light"
          }
        },
        {
          "output_type": "stream",
          "text": [
            "Country\n",
            "Argentina      25\n",
            "Brazil         43\n",
            "Canada        101\n",
            "Chile          15\n",
            "Colombia       12\n",
            "Mexico         97\n",
            "Peru            9\n",
            "US           1195\n",
            "Uruguay         1\n",
            "Name: PrimarySector_API, dtype: int64\n"
          ],
          "name": "stdout"
        },
        {
          "output_type": "display_data",
          "data": {
            "image/png": "[encoded data removed]",
            "text/plain": [
              "<Figure size 432x288 with 1 Axes>"
            ]
          },
          "metadata": {
            "tags": [],
            "needs_background": "light"
          }
        },
        {
          "output_type": "stream",
          "text": [
            "Country\n",
            "Argentina      26\n",
            "Brazil         43\n",
            "Canada         97\n",
            "Chile          14\n",
            "Colombia       11\n",
            "Mexico         99\n",
            "Peru            9\n",
            "US           1178\n",
            "Uruguay         1\n",
            "Name: Platform zaps, dtype: int64\n"
          ],
          "name": "stdout"
        },
        {
          "output_type": "display_data",
          "data": {
            "image/png": "[encoded data removed]",
            "text/plain": [
              "<Figure size 432x288 with 1 Axes>"
            ]
          },
          "metadata": {
            "tags": [],
            "needs_background": "light"
          }
        },
        {
          "output_type": "stream",
          "text": [
            "Country\n",
            "Argentina      27\n",
            "Brazil         44\n",
            "Canada        102\n",
            "Chile          17\n",
            "Colombia       16\n",
            "Mexico        111\n",
            "Peru           10\n",
            "US           1214\n",
            "Uruguay         1\n",
            "Name: Fund(s), dtype: int64\n"
          ],
          "name": "stdout"
        },
        {
          "output_type": "display_data",
          "data": {
            "image/png": "[encoded data removed]",
            "text/plain": [
              "<Figure size 432x288 with 1 Axes>"
            ]
          },
          "metadata": {
            "tags": [],
            "needs_background": "light"
          }
        }
      ]
    },
    {
      "cell_type": "code",
      "metadata": {
        "id": "0ubhdnh1tY-p"
      },
      "source": [
        "# Filtering only US Region records\n",
        "df = df[df.Country == \"US\"]"
      ],
      "execution_count": null,
      "outputs": []
    },
    {
      "cell_type": "code",
      "metadata": {
        "colab": {
          "base_uri": "https://localhost:8080/",
          "height": 287
        },
        "id": "UIXFrRvl4IDM",
        "outputId": "838f2361-cf00-4fb0-feb3-a359f6179dc4"
      },
      "source": [
        "df.head()"
      ],
      "execution_count": null,
      "outputs": [
        {
          "output_type": "execute_result",
          "data": {
            "text/html": [
              "<div>\n",
              "<style scoped>\n",
              "    .dataframe tbody tr th:only-of-type {\n",
              "        vertical-align: middle;\n",
              "    }\n",
              "\n",
              "    .dataframe tbody tr th {\n",
              "        vertical-align: top;\n",
              "    }\n",
              "\n",
              "    .dataframe thead th {\n",
              "        text-align: right;\n",
              "    }\n",
              "</style>\n",
              "<table border=\"1\" class=\"dataframe\">\n",
              "  <thead>\n",
              "    <tr style=\"text-align: right;\">\n",
              "      <th></th>\n",
              "      <th>LB ID</th>\n",
              "      <th>Primary name</th>\n",
              "      <th>URL</th>\n",
              "      <th>Region</th>\n",
              "      <th>Country</th>\n",
              "      <th>Parent sector</th>\n",
              "      <th>Initial invest date</th>\n",
              "      <th>PrimarySector_API</th>\n",
              "      <th>Platform zaps</th>\n",
              "      <th>Fund(s)</th>\n",
              "    </tr>\n",
              "  </thead>\n",
              "  <tbody>\n",
              "    <tr>\n",
              "      <th>0</th>\n",
              "      <td>A11869</td>\n",
              "      <td>1Huddle</td>\n",
              "      <td>https://1huddle.co/</td>\n",
              "      <td>US - Non CA</td>\n",
              "      <td>US</td>\n",
              "      <td>HR / Education</td>\n",
              "      <td>2015-11-06</td>\n",
              "      <td>Professional training</td>\n",
              "      <td>SaaS</td>\n",
              "      <td>Fund III</td>\n",
              "    </tr>\n",
              "    <tr>\n",
              "      <th>1</th>\n",
              "      <td>A11789</td>\n",
              "      <td>3D Look</td>\n",
              "      <td>https://3dlook.me/</td>\n",
              "      <td>US - Non CA</td>\n",
              "      <td>US</td>\n",
              "      <td>Retail / eCommerce</td>\n",
              "      <td>2018-06-19</td>\n",
              "      <td>Fashion</td>\n",
              "      <td>SaaS</td>\n",
              "      <td>Istanbul</td>\n",
              "    </tr>\n",
              "    <tr>\n",
              "      <th>2</th>\n",
              "      <td>A11353</td>\n",
              "      <td>3TEN8</td>\n",
              "      <td>http://www.3ten8.ai/</td>\n",
              "      <td>US - CA</td>\n",
              "      <td>US</td>\n",
              "      <td>IT / Security</td>\n",
              "      <td>2017-07-21</td>\n",
              "      <td>IT tools</td>\n",
              "      <td>SaaS</td>\n",
              "      <td>Falcons</td>\n",
              "    </tr>\n",
              "    <tr>\n",
              "      <th>4</th>\n",
              "      <td>A10035</td>\n",
              "      <td>9Slides</td>\n",
              "      <td>http://9slides.com</td>\n",
              "      <td>US - Non CA</td>\n",
              "      <td>US</td>\n",
              "      <td>Media / Collaboration</td>\n",
              "      <td>2012-08-02</td>\n",
              "      <td>Media production</td>\n",
              "      <td>SaaS</td>\n",
              "      <td>Fund II</td>\n",
              "    </tr>\n",
              "    <tr>\n",
              "      <th>5</th>\n",
              "      <td>A10005</td>\n",
              "      <td>15Five</td>\n",
              "      <td>http://15five.com</td>\n",
              "      <td>US - Non CA</td>\n",
              "      <td>US</td>\n",
              "      <td>HR / Education</td>\n",
              "      <td>2012-12-20</td>\n",
              "      <td>Personnel / Benefits</td>\n",
              "      <td>SaaS</td>\n",
              "      <td>Fund II</td>\n",
              "    </tr>\n",
              "  </tbody>\n",
              "</table>\n",
              "</div>"
            ],
            "text/plain": [
              "    LB ID Primary name  ... Platform zaps   Fund(s)\n",
              "0  A11869      1Huddle  ...          SaaS  Fund III\n",
              "1  A11789      3D Look  ...          SaaS  Istanbul\n",
              "2  A11353        3TEN8  ...          SaaS   Falcons\n",
              "4  A10035      9Slides  ...          SaaS   Fund II\n",
              "5  A10005       15Five  ...          SaaS   Fund II\n",
              "\n",
              "[5 rows x 10 columns]"
            ]
          },
          "metadata": {
            "tags": []
          },
          "execution_count": 91
        }
      ]
    },
    {
      "cell_type": "code",
      "metadata": {
        "colab": {
          "base_uri": "https://localhost:8080/"
        },
        "id": "g6mzFwEx4I_E",
        "outputId": "33c39ac1-4730-424f-fec7-bd129d0fcbe3"
      },
      "source": [
        "df.isnull().sum()"
      ],
      "execution_count": null,
      "outputs": [
        {
          "output_type": "execute_result",
          "data": {
            "text/plain": [
              "LB ID                   0\n",
              "Primary name            0\n",
              "URL                     6\n",
              "Region                  0\n",
              "Country                 0\n",
              "Parent sector          40\n",
              "Initial invest date    12\n",
              "PrimarySector_API      31\n",
              "Platform zaps          48\n",
              "Fund(s)                12\n",
              "dtype: int64"
            ]
          },
          "metadata": {
            "tags": []
          },
          "execution_count": 92
        }
      ]
    },
    {
      "cell_type": "code",
      "metadata": {
        "id": "lLHwWQTn5eRF"
      },
      "source": [
        "df.to_csv('cleaned-data1.csv',index = False)"
      ],
      "execution_count": null,
      "outputs": []
    },
    {
      "cell_type": "markdown",
      "metadata": {
        "id": "XT7BkwNWhH7O"
      },
      "source": [
        "## LinkedIn Scrapping"
      ]
    },
    {
      "cell_type": "code",
      "metadata": {
        "id": "zMp9oFFRhK0M"
      },
      "source": [
        "dfl = pd.read_csv('StartUps-RawData.csv')"
      ],
      "execution_count": null,
      "outputs": []
    },
    {
      "cell_type": "code",
      "metadata": {
        "id": "XFeyCgEuhZHw",
        "colab": {
          "base_uri": "https://localhost:8080/",
          "height": 408
        },
        "outputId": "8c80b174-abdd-4d9e-b560-bcec4d0f9053"
      },
      "source": [
        "dfl.head()"
      ],
      "execution_count": null,
      "outputs": [
        {
          "output_type": "execute_result",
          "data": {
            "text/html": [
              "<div>\n",
              "<style scoped>\n",
              "    .dataframe tbody tr th:only-of-type {\n",
              "        vertical-align: middle;\n",
              "    }\n",
              "\n",
              "    .dataframe tbody tr th {\n",
              "        vertical-align: top;\n",
              "    }\n",
              "\n",
              "    .dataframe thead th {\n",
              "        text-align: right;\n",
              "    }\n",
              "</style>\n",
              "<table border=\"1\" class=\"dataframe\">\n",
              "  <thead>\n",
              "    <tr style=\"text-align: right;\">\n",
              "      <th></th>\n",
              "      <th>LB ID</th>\n",
              "      <th>Primary name</th>\n",
              "      <th>Batch</th>\n",
              "      <th>URL</th>\n",
              "      <th>Region</th>\n",
              "      <th>Country</th>\n",
              "      <th>Parent sector</th>\n",
              "      <th>Initial invest date</th>\n",
              "      <th>PrimarySector_API</th>\n",
              "      <th>Platform zaps</th>\n",
              "      <th>Fund(s)</th>\n",
              "      <th>date modified</th>\n",
              "      <th>creation date</th>\n",
              "      <th>OffsetId</th>\n",
              "      <th>CreationTime</th>\n",
              "      <th>Brazil Site</th>\n",
              "      <th>Publicity/Confidentiality concerns</th>\n",
              "      <th>Deal confidentiality</th>\n",
              "      <th>Durians Site</th>\n",
              "    </tr>\n",
              "  </thead>\n",
              "  <tbody>\n",
              "    <tr>\n",
              "      <th>0</th>\n",
              "      <td>A11869</td>\n",
              "      <td>1Huddle</td>\n",
              "      <td>15</td>\n",
              "      <td>https://1huddle.co/</td>\n",
              "      <td>US - Non CA</td>\n",
              "      <td>US</td>\n",
              "      <td>HR / Education</td>\n",
              "      <td>2015-11-06</td>\n",
              "      <td>Professional training</td>\n",
              "      <td>SaaS</td>\n",
              "      <td>Fund III</td>\n",
              "      <td>2020-11-17T03:39:18.000Z</td>\n",
              "      <td>2020-05-01T19:15:55.000Z</td>\n",
              "      <td>recclopZLBiGKa56q</td>\n",
              "      <td>2020-05-01T19:15:55.000Z</td>\n",
              "      <td>NaN</td>\n",
              "      <td>NaN</td>\n",
              "      <td>NaN</td>\n",
              "      <td>NaN</td>\n",
              "    </tr>\n",
              "    <tr>\n",
              "      <th>1</th>\n",
              "      <td>A11789</td>\n",
              "      <td>3D Look</td>\n",
              "      <td>NaN</td>\n",
              "      <td>https://3dlook.me/</td>\n",
              "      <td>US - Non CA</td>\n",
              "      <td>US</td>\n",
              "      <td>Retail / eCommerce</td>\n",
              "      <td>2018-06-19</td>\n",
              "      <td>Fashion</td>\n",
              "      <td>SaaS</td>\n",
              "      <td>Istanbul</td>\n",
              "      <td>2020-11-17T03:39:18.000Z</td>\n",
              "      <td>2020-05-01T19:15:55.000Z</td>\n",
              "      <td>recclopZLBiGKa56q</td>\n",
              "      <td>2020-05-01T19:15:55.000Z</td>\n",
              "      <td>NaN</td>\n",
              "      <td>NaN</td>\n",
              "      <td>NaN</td>\n",
              "      <td>NaN</td>\n",
              "    </tr>\n",
              "    <tr>\n",
              "      <th>2</th>\n",
              "      <td>A11353</td>\n",
              "      <td>3TEN8</td>\n",
              "      <td>NaN</td>\n",
              "      <td>http://www.3ten8.ai/</td>\n",
              "      <td>US - CA</td>\n",
              "      <td>US</td>\n",
              "      <td>IT / Security</td>\n",
              "      <td>2017-07-21</td>\n",
              "      <td>IT tools</td>\n",
              "      <td>SaaS</td>\n",
              "      <td>Falcons</td>\n",
              "      <td>2020-11-17T03:39:18.000Z</td>\n",
              "      <td>2020-05-01T19:15:55.000Z</td>\n",
              "      <td>recclopZLBiGKa56q</td>\n",
              "      <td>2020-05-01T19:15:55.000Z</td>\n",
              "      <td>NaN</td>\n",
              "      <td>NaN</td>\n",
              "      <td>NaN</td>\n",
              "      <td>NaN</td>\n",
              "    </tr>\n",
              "    <tr>\n",
              "      <th>3</th>\n",
              "      <td>A10019</td>\n",
              "      <td>4Vets</td>\n",
              "      <td>NaN</td>\n",
              "      <td>http://4vets.com.br</td>\n",
              "      <td>LatAm</td>\n",
              "      <td>Brazil</td>\n",
              "      <td>Retail / eCommerce</td>\n",
              "      <td>2013-08-16</td>\n",
              "      <td>Pets</td>\n",
              "      <td>On-demand / Delivery</td>\n",
              "      <td>Fund II</td>\n",
              "      <td>2020-11-17T03:39:18.000Z</td>\n",
              "      <td>2020-05-01T19:15:55.000Z</td>\n",
              "      <td>recclopZLBiGKa56q</td>\n",
              "      <td>2020-05-01T19:15:55.000Z</td>\n",
              "      <td>True</td>\n",
              "      <td>NaN</td>\n",
              "      <td>NaN</td>\n",
              "      <td>NaN</td>\n",
              "    </tr>\n",
              "    <tr>\n",
              "      <th>4</th>\n",
              "      <td>A10035</td>\n",
              "      <td>9Slides</td>\n",
              "      <td>NaN</td>\n",
              "      <td>http://9slides.com</td>\n",
              "      <td>US - Non CA</td>\n",
              "      <td>US</td>\n",
              "      <td>Media / Collaboration</td>\n",
              "      <td>2012-08-02</td>\n",
              "      <td>Media production</td>\n",
              "      <td>SaaS</td>\n",
              "      <td>Fund II</td>\n",
              "      <td>2020-11-17T03:39:18.000Z</td>\n",
              "      <td>2020-05-01T19:15:55.000Z</td>\n",
              "      <td>recclopZLBiGKa56q</td>\n",
              "      <td>2020-05-01T19:15:55.000Z</td>\n",
              "      <td>NaN</td>\n",
              "      <td>NaN</td>\n",
              "      <td>NaN</td>\n",
              "      <td>NaN</td>\n",
              "    </tr>\n",
              "  </tbody>\n",
              "</table>\n",
              "</div>"
            ],
            "text/plain": [
              "    LB ID Primary name  ... Deal confidentiality Durians Site\n",
              "0  A11869      1Huddle  ...                  NaN          NaN\n",
              "1  A11789      3D Look  ...                  NaN          NaN\n",
              "2  A11353        3TEN8  ...                  NaN          NaN\n",
              "3  A10019        4Vets  ...                  NaN          NaN\n",
              "4  A10035      9Slides  ...                  NaN          NaN\n",
              "\n",
              "[5 rows x 19 columns]"
            ]
          },
          "metadata": {
            "tags": []
          },
          "execution_count": 18
        }
      ]
    },
    {
      "cell_type": "code",
      "metadata": {
        "id": "PyPkL_y_haNb"
      },
      "source": [
        ""
      ],
      "execution_count": null,
      "outputs": []
    }
  ]
}