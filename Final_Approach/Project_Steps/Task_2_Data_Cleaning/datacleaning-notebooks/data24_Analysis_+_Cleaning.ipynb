{
  "nbformat": 4,
  "nbformat_minor": 0,
  "metadata": {
    "colab": {
      "name": "data24-Analysis + Cleaning.ipynb",
      "provenance": [],
      "collapsed_sections": []
    },
    "kernelspec": {
      "name": "python3",
      "display_name": "Python 3"
    },
    "language_info": {
      "name": "python"
    }
  },
  "cells": [
    {
      "cell_type": "markdown",
      "metadata": {
        "id": "mNcB3PUpgMj5"
      },
      "source": [
        "Description:\n",
        "1. Read the data and analyzed it.\n",
        "2. Changed columns dtypes from 'object' to meaningful dtypes. For example, for Date column, converted to datetime64 from object type.\n",
        "3. Created a text cleaning pipeline\n",
        "4. Save the cleaned the data."
      ]
    },
    {
      "cell_type": "code",
      "metadata": {
        "id": "mjlwjMaOKdnh"
      },
      "source": [
        "import pandas as pd"
      ],
      "execution_count": 1,
      "outputs": []
    },
    {
      "cell_type": "code",
      "metadata": {
        "id": "NHV7TGmdOX_p"
      },
      "source": [
        "df1 = pd.read_csv('/content/data/Combined_News_DJIA.csv')"
      ],
      "execution_count": 2,
      "outputs": []
    },
    {
      "cell_type": "code",
      "metadata": {
        "colab": {
          "base_uri": "https://localhost:8080/",
          "height": 694
        },
        "id": "teIi7lS3OdgE",
        "outputId": "d2e74674-260d-49fd-8134-eb0223d2e779"
      },
      "source": [
        "df1.head()"
      ],
      "execution_count": 3,
      "outputs": [
        {
          "output_type": "execute_result",
          "data": {
            "text/html": [
              "<div>\n",
              "<style scoped>\n",
              "    .dataframe tbody tr th:only-of-type {\n",
              "        vertical-align: middle;\n",
              "    }\n",
              "\n",
              "    .dataframe tbody tr th {\n",
              "        vertical-align: top;\n",
              "    }\n",
              "\n",
              "    .dataframe thead th {\n",
              "        text-align: right;\n",
              "    }\n",
              "</style>\n",
              "<table border=\"1\" class=\"dataframe\">\n",
              "  <thead>\n",
              "    <tr style=\"text-align: right;\">\n",
              "      <th></th>\n",
              "      <th>Date</th>\n",
              "      <th>Label</th>\n",
              "      <th>Top1</th>\n",
              "      <th>Top2</th>\n",
              "      <th>Top3</th>\n",
              "      <th>Top4</th>\n",
              "      <th>Top5</th>\n",
              "      <th>Top6</th>\n",
              "      <th>Top7</th>\n",
              "      <th>Top8</th>\n",
              "      <th>Top9</th>\n",
              "      <th>Top10</th>\n",
              "      <th>Top11</th>\n",
              "      <th>Top12</th>\n",
              "      <th>Top13</th>\n",
              "      <th>Top14</th>\n",
              "      <th>Top15</th>\n",
              "      <th>Top16</th>\n",
              "      <th>Top17</th>\n",
              "      <th>Top18</th>\n",
              "      <th>Top19</th>\n",
              "      <th>Top20</th>\n",
              "      <th>Top21</th>\n",
              "      <th>Top22</th>\n",
              "      <th>Top23</th>\n",
              "      <th>Top24</th>\n",
              "      <th>Top25</th>\n",
              "    </tr>\n",
              "  </thead>\n",
              "  <tbody>\n",
              "    <tr>\n",
              "      <th>0</th>\n",
              "      <td>2008-08-08</td>\n",
              "      <td>0</td>\n",
              "      <td>b\"Georgia 'downs two Russian warplanes' as cou...</td>\n",
              "      <td>b'BREAKING: Musharraf to be impeached.'</td>\n",
              "      <td>b'Russia Today: Columns of troops roll into So...</td>\n",
              "      <td>b'Russian tanks are moving towards the capital...</td>\n",
              "      <td>b\"Afghan children raped with 'impunity,' U.N. ...</td>\n",
              "      <td>b'150 Russian tanks have entered South Ossetia...</td>\n",
              "      <td>b\"Breaking: Georgia invades South Ossetia, Rus...</td>\n",
              "      <td>b\"The 'enemy combatent' trials are nothing but...</td>\n",
              "      <td>b'Georgian troops retreat from S. Osettain cap...</td>\n",
              "      <td>b'Did the U.S. Prep Georgia for War with Russia?'</td>\n",
              "      <td>b'Rice Gives Green Light for Israel to Attack ...</td>\n",
              "      <td>b'Announcing:Class Action Lawsuit on Behalf of...</td>\n",
              "      <td>b\"So---Russia and Georgia are at war and the N...</td>\n",
              "      <td>b\"China tells Bush to stay out of other countr...</td>\n",
              "      <td>b'Did World War III start today?'</td>\n",
              "      <td>b'Georgia Invades South Ossetia - if Russia ge...</td>\n",
              "      <td>b'Al-Qaeda Faces Islamist Backlash'</td>\n",
              "      <td>b'Condoleezza Rice: \"The US would not act to p...</td>\n",
              "      <td>b'This is a busy day:  The European Union has ...</td>\n",
              "      <td>b\"Georgia will withdraw 1,000 soldiers from Ir...</td>\n",
              "      <td>b'Why the Pentagon Thinks Attacking Iran is a ...</td>\n",
              "      <td>b'Caucasus in crisis: Georgia invades South Os...</td>\n",
              "      <td>b'Indian shoe manufactory  - And again in a se...</td>\n",
              "      <td>b'Visitors Suffering from Mental Illnesses Ban...</td>\n",
              "      <td>b\"No Help for Mexico's Kidnapping Surge\"</td>\n",
              "    </tr>\n",
              "    <tr>\n",
              "      <th>1</th>\n",
              "      <td>2008-08-11</td>\n",
              "      <td>1</td>\n",
              "      <td>b'Why wont America and Nato help us? If they w...</td>\n",
              "      <td>b'Bush puts foot down on Georgian conflict'</td>\n",
              "      <td>b\"Jewish Georgian minister: Thanks to Israeli ...</td>\n",
              "      <td>b'Georgian army flees in disarray as Russians ...</td>\n",
              "      <td>b\"Olympic opening ceremony fireworks 'faked'\"</td>\n",
              "      <td>b'What were the Mossad with fraudulent New Zea...</td>\n",
              "      <td>b'Russia angered by Israeli military sale to G...</td>\n",
              "      <td>b'An American citizen living in S.Ossetia blam...</td>\n",
              "      <td>b'Welcome To World War IV! Now In High Definit...</td>\n",
              "      <td>b\"Georgia's move, a mistake of monumental prop...</td>\n",
              "      <td>b'Russia presses deeper into Georgia; U.S. say...</td>\n",
              "      <td>b'Abhinav Bindra wins first ever Individual Ol...</td>\n",
              "      <td>b' U.S. ship heads for Arctic to define territ...</td>\n",
              "      <td>b'Drivers in a Jerusalem taxi station threaten...</td>\n",
              "      <td>b'The French Team is Stunned by Phelps and the...</td>\n",
              "      <td>b'Israel and the US behind the Georgian aggres...</td>\n",
              "      <td>b'\"Do not believe TV, neither Russian nor Geor...</td>\n",
              "      <td>b'Riots are still going on in Montreal (Canada...</td>\n",
              "      <td>b'China to overtake US as largest manufacturer'</td>\n",
              "      <td>b'War in South Ossetia [PICS]'</td>\n",
              "      <td>b'Israeli Physicians Group Condemns State Tort...</td>\n",
              "      <td>b' Russia has just beaten the United States ov...</td>\n",
              "      <td>b'Perhaps *the* question about the Georgia - R...</td>\n",
              "      <td>b'Russia is so much better at war'</td>\n",
              "      <td>b\"So this is what it's come to: trading sex fo...</td>\n",
              "    </tr>\n",
              "    <tr>\n",
              "      <th>2</th>\n",
              "      <td>2008-08-12</td>\n",
              "      <td>0</td>\n",
              "      <td>b'Remember that adorable 9-year-old who sang a...</td>\n",
              "      <td>b\"Russia 'ends Georgia operation'\"</td>\n",
              "      <td>b'\"If we had no sexual harassment we would hav...</td>\n",
              "      <td>b\"Al-Qa'eda is losing support in Iraq because ...</td>\n",
              "      <td>b'Ceasefire in Georgia: Putin Outmaneuvers the...</td>\n",
              "      <td>b'Why Microsoft and Intel tried to kill the XO...</td>\n",
              "      <td>b'Stratfor: The Russo-Georgian War and the Bal...</td>\n",
              "      <td>b\"I'm Trying to Get a Sense of This Whole Geor...</td>\n",
              "      <td>b\"The US military was surprised by the timing ...</td>\n",
              "      <td>b'U.S. Beats War Drum as Iran Dumps the Dollar'</td>\n",
              "      <td>b'Gorbachev: \"Georgian military attacked the S...</td>\n",
              "      <td>b'CNN use footage of Tskhinvali ruins to cover...</td>\n",
              "      <td>b'Beginning a war as the Olympics were opening...</td>\n",
              "      <td>b'55 pyramids as large as the Luxor stacked in...</td>\n",
              "      <td>b'The 11 Top Party Cities in the World'</td>\n",
              "      <td>b'U.S. troops still in Georgia (did you know t...</td>\n",
              "      <td>b'Why Russias response to Georgia was right'</td>\n",
              "      <td>b'Gorbachev accuses U.S. of making a \"serious ...</td>\n",
              "      <td>b'Russia, Georgia, and NATO: Cold War Two'</td>\n",
              "      <td>b'Remember that adorable 62-year-old who led y...</td>\n",
              "      <td>b'War in Georgia: The Israeli connection'</td>\n",
              "      <td>b'All signs point to the US encouraging Georgi...</td>\n",
              "      <td>b'Christopher King argues that the US and NATO...</td>\n",
              "      <td>b'America: The New Mexico?'</td>\n",
              "      <td>b\"BBC NEWS | Asia-Pacific | Extinction 'by man...</td>\n",
              "    </tr>\n",
              "    <tr>\n",
              "      <th>3</th>\n",
              "      <td>2008-08-13</td>\n",
              "      <td>0</td>\n",
              "      <td>b' U.S. refuses Israel weapons to attack Iran:...</td>\n",
              "      <td>b\"When the president ordered to attack Tskhinv...</td>\n",
              "      <td>b' Israel clears troops who killed Reuters cam...</td>\n",
              "      <td>b'Britain\\'s policy of being tough on drugs is...</td>\n",
              "      <td>b'Body of 14 year old found in trunk; Latest (...</td>\n",
              "      <td>b'China has moved 10 *million* quake survivors...</td>\n",
              "      <td>b\"Bush announces Operation Get All Up In Russi...</td>\n",
              "      <td>b'Russian forces sink Georgian ships '</td>\n",
              "      <td>b\"The commander of a Navy air reconnaissance s...</td>\n",
              "      <td>b\"92% of CNN readers: Russia's actions in Geor...</td>\n",
              "      <td>b'USA to send fleet into Black Sea to help Geo...</td>\n",
              "      <td>b\"US warns against Israeli plan to strike agai...</td>\n",
              "      <td>b\"In an intriguing cyberalliance, two Estonian...</td>\n",
              "      <td>b'The CNN Effect: Georgia Schools Russia in In...</td>\n",
              "      <td>b'Why Russias response to Georgia was right'</td>\n",
              "      <td>b'Elephants extinct by 2020?'</td>\n",
              "      <td>b'US humanitarian missions soon in Georgia - i...</td>\n",
              "      <td>b\"Georgia's DDOS came from US sources\"</td>\n",
              "      <td>b'Russian convoy heads into Georgia, violating...</td>\n",
              "      <td>b'Israeli defence minister: US against strike ...</td>\n",
              "      <td>b'Gorbachev: We Had No Choice'</td>\n",
              "      <td>b'Witness: Russian forces head towards Tbilisi...</td>\n",
              "      <td>b' Quarter of Russians blame U.S. for conflict...</td>\n",
              "      <td>b'Georgian president  says US military will ta...</td>\n",
              "      <td>b'2006: Nobel laureate Aleksander Solzhenitsyn...</td>\n",
              "    </tr>\n",
              "    <tr>\n",
              "      <th>4</th>\n",
              "      <td>2008-08-14</td>\n",
              "      <td>1</td>\n",
              "      <td>b'All the experts admit that we should legalis...</td>\n",
              "      <td>b'War in South Osetia - 89 pictures made by a ...</td>\n",
              "      <td>b'Swedish wrestler Ara Abrahamian throws away ...</td>\n",
              "      <td>b'Russia exaggerated the death toll in South O...</td>\n",
              "      <td>b'Missile That Killed 9 Inside Pakistan May Ha...</td>\n",
              "      <td>b\"Rushdie Condemns Random House's Refusal to P...</td>\n",
              "      <td>b'Poland and US agree to missle defense deal. ...</td>\n",
              "      <td>b'Will the Russians conquer Tblisi? Bet on it,...</td>\n",
              "      <td>b'Russia exaggerating South Ossetian death tol...</td>\n",
              "      <td>b' Musharraf expected to resign rather than fa...</td>\n",
              "      <td>b'Moscow Made Plans Months Ago to Invade Georgia'</td>\n",
              "      <td>b'Why Russias response to Georgia was right'</td>\n",
              "      <td>b'Nigeria has handed over the potentially oil-...</td>\n",
              "      <td>b'The US and Poland have agreed a preliminary ...</td>\n",
              "      <td>b'Russia apparently is sabotaging infrastructu...</td>\n",
              "      <td>b'Bank analyst forecast Georgian crisis 2 days...</td>\n",
              "      <td>b\"Georgia confict could set back Russia's US r...</td>\n",
              "      <td>b'War in the Caucasus is as much the product o...</td>\n",
              "      <td>b'\"Non-media\" photos of South Ossetia/Georgia ...</td>\n",
              "      <td>b'Georgian TV reporter shot by Russian sniper ...</td>\n",
              "      <td>b'Saudi Arabia: Mother moves to block child ma...</td>\n",
              "      <td>b'Taliban wages war on humanitarian aid workers'</td>\n",
              "      <td>b'Russia: World  \"can forget about\" Georgia\\'s...</td>\n",
              "      <td>b'Darfur rebels accuse Sudan of mounting major...</td>\n",
              "      <td>b'Philippines : Peace Advocate say Muslims nee...</td>\n",
              "    </tr>\n",
              "  </tbody>\n",
              "</table>\n",
              "</div>"
            ],
            "text/plain": [
              "         Date  ...                                              Top25\n",
              "0  2008-08-08  ...           b\"No Help for Mexico's Kidnapping Surge\"\n",
              "1  2008-08-11  ...  b\"So this is what it's come to: trading sex fo...\n",
              "2  2008-08-12  ...  b\"BBC NEWS | Asia-Pacific | Extinction 'by man...\n",
              "3  2008-08-13  ...  b'2006: Nobel laureate Aleksander Solzhenitsyn...\n",
              "4  2008-08-14  ...  b'Philippines : Peace Advocate say Muslims nee...\n",
              "\n",
              "[5 rows x 27 columns]"
            ]
          },
          "metadata": {
            "tags": []
          },
          "execution_count": 3
        }
      ]
    },
    {
      "cell_type": "code",
      "metadata": {
        "colab": {
          "base_uri": "https://localhost:8080/"
        },
        "id": "xSHum9hqOejR",
        "outputId": "03ef7e8d-04bc-48d1-8254-e7f49fe91ead"
      },
      "source": [
        " df1.info()"
      ],
      "execution_count": 4,
      "outputs": [
        {
          "output_type": "stream",
          "text": [
            "<class 'pandas.core.frame.DataFrame'>\n",
            "RangeIndex: 1989 entries, 0 to 1988\n",
            "Data columns (total 27 columns):\n",
            " #   Column  Non-Null Count  Dtype \n",
            "---  ------  --------------  ----- \n",
            " 0   Date    1989 non-null   object\n",
            " 1   Label   1989 non-null   int64 \n",
            " 2   Top1    1989 non-null   object\n",
            " 3   Top2    1989 non-null   object\n",
            " 4   Top3    1989 non-null   object\n",
            " 5   Top4    1989 non-null   object\n",
            " 6   Top5    1989 non-null   object\n",
            " 7   Top6    1989 non-null   object\n",
            " 8   Top7    1989 non-null   object\n",
            " 9   Top8    1989 non-null   object\n",
            " 10  Top9    1989 non-null   object\n",
            " 11  Top10   1989 non-null   object\n",
            " 12  Top11   1989 non-null   object\n",
            " 13  Top12   1989 non-null   object\n",
            " 14  Top13   1989 non-null   object\n",
            " 15  Top14   1989 non-null   object\n",
            " 16  Top15   1989 non-null   object\n",
            " 17  Top16   1989 non-null   object\n",
            " 18  Top17   1989 non-null   object\n",
            " 19  Top18   1989 non-null   object\n",
            " 20  Top19   1989 non-null   object\n",
            " 21  Top20   1989 non-null   object\n",
            " 22  Top21   1989 non-null   object\n",
            " 23  Top22   1989 non-null   object\n",
            " 24  Top23   1988 non-null   object\n",
            " 25  Top24   1986 non-null   object\n",
            " 26  Top25   1986 non-null   object\n",
            "dtypes: int64(1), object(26)\n",
            "memory usage: 419.7+ KB\n"
          ],
          "name": "stdout"
        }
      ]
    },
    {
      "cell_type": "markdown",
      "metadata": {
        "id": "Q6KylDJBhyzz"
      },
      "source": [
        "from above cell results, except label all columns are object type including date which is a mismatch according to its description"
      ]
    },
    {
      "cell_type": "code",
      "metadata": {
        "colab": {
          "base_uri": "https://localhost:8080/"
        },
        "id": "nTbWmdvSSpnK",
        "outputId": "87faed60-7ca3-452c-d740-0e26d5880ea3"
      },
      "source": [
        "# Checking null values\n",
        "df1.isnull().sum()"
      ],
      "execution_count": 5,
      "outputs": [
        {
          "output_type": "execute_result",
          "data": {
            "text/plain": [
              "Date     0\n",
              "Label    0\n",
              "Top1     0\n",
              "Top2     0\n",
              "Top3     0\n",
              "Top4     0\n",
              "Top5     0\n",
              "Top6     0\n",
              "Top7     0\n",
              "Top8     0\n",
              "Top9     0\n",
              "Top10    0\n",
              "Top11    0\n",
              "Top12    0\n",
              "Top13    0\n",
              "Top14    0\n",
              "Top15    0\n",
              "Top16    0\n",
              "Top17    0\n",
              "Top18    0\n",
              "Top19    0\n",
              "Top20    0\n",
              "Top21    0\n",
              "Top22    0\n",
              "Top23    1\n",
              "Top24    3\n",
              "Top25    3\n",
              "dtype: int64"
            ]
          },
          "metadata": {
            "tags": []
          },
          "execution_count": 5
        }
      ]
    },
    {
      "cell_type": "code",
      "metadata": {
        "colab": {
          "base_uri": "https://localhost:8080/"
        },
        "id": "TFEp5yLgStxE",
        "outputId": "bfeac41f-94a2-4332-a4fb-007ffd8815d3"
      },
      "source": [
        "# Checking Null Values\n",
        "\n",
        "print(df1[df1['Top23'].isnull()])\n",
        "print(df1[df1['Top24'].isnull()])\n",
        "print(df1[df1['Top25'].isnull()])"
      ],
      "execution_count": 6,
      "outputs": [
        {
          "output_type": "stream",
          "text": [
            "           Date  Label  ... Top24 Top25\n",
            "277  2009-09-15      1  ...   NaN   NaN\n",
            "\n",
            "[1 rows x 27 columns]\n",
            "           Date  Label  ... Top24 Top25\n",
            "277  2009-09-15      1  ...   NaN   NaN\n",
            "348  2009-12-24      1  ...   NaN   NaN\n",
            "681  2011-04-21      1  ...   NaN   NaN\n",
            "\n",
            "[3 rows x 27 columns]\n",
            "           Date  Label  ... Top24 Top25\n",
            "277  2009-09-15      1  ...   NaN   NaN\n",
            "348  2009-12-24      1  ...   NaN   NaN\n",
            "681  2011-04-21      1  ...   NaN   NaN\n",
            "\n",
            "[3 rows x 27 columns]\n"
          ],
          "name": "stdout"
        }
      ]
    },
    {
      "cell_type": "code",
      "metadata": {
        "id": "A5RlSaWUi9Zq"
      },
      "source": [
        "df1[['Top23','Top24','Top25']] = df1[['Top23','Top24','Top25']].fillna('')"
      ],
      "execution_count": 7,
      "outputs": []
    },
    {
      "cell_type": "code",
      "metadata": {
        "colab": {
          "base_uri": "https://localhost:8080/"
        },
        "id": "aT7RMKVCjTn4",
        "outputId": "88b1936e-305b-4c2d-bfa5-8b809eb9837d"
      },
      "source": [
        "print(df1[df1['Top23'].isnull()])\n",
        "print(df1[df1['Top24'].isnull()])\n",
        "print(df1[df1['Top25'].isnull()])"
      ],
      "execution_count": 8,
      "outputs": [
        {
          "output_type": "stream",
          "text": [
            "Empty DataFrame\n",
            "Columns: [Date, Label, Top1, Top2, Top3, Top4, Top5, Top6, Top7, Top8, Top9, Top10, Top11, Top12, Top13, Top14, Top15, Top16, Top17, Top18, Top19, Top20, Top21, Top22, Top23, Top24, Top25]\n",
            "Index: []\n",
            "Empty DataFrame\n",
            "Columns: [Date, Label, Top1, Top2, Top3, Top4, Top5, Top6, Top7, Top8, Top9, Top10, Top11, Top12, Top13, Top14, Top15, Top16, Top17, Top18, Top19, Top20, Top21, Top22, Top23, Top24, Top25]\n",
            "Index: []\n",
            "Empty DataFrame\n",
            "Columns: [Date, Label, Top1, Top2, Top3, Top4, Top5, Top6, Top7, Top8, Top9, Top10, Top11, Top12, Top13, Top14, Top15, Top16, Top17, Top18, Top19, Top20, Top21, Top22, Top23, Top24, Top25]\n",
            "Index: []\n"
          ],
          "name": "stdout"
        }
      ]
    },
    {
      "cell_type": "code",
      "metadata": {
        "id": "OjJCCxxOS-QF"
      },
      "source": [
        "df1.Date = df1.Date.astype('datetime64')"
      ],
      "execution_count": 9,
      "outputs": []
    },
    {
      "cell_type": "code",
      "metadata": {
        "colab": {
          "base_uri": "https://localhost:8080/"
        },
        "id": "7KnxZ8TEW4Ax",
        "outputId": "b4aef16b-65f2-41f2-94d2-6cf5a094a597"
      },
      "source": [
        "set([ch for ch in df1['Top1'][0]])"
      ],
      "execution_count": 10,
      "outputs": [
        {
          "output_type": "execute_result",
          "data": {
            "text/plain": [
              "{' ',\n",
              " '\"',\n",
              " \"'\",\n",
              " 'G',\n",
              " 'R',\n",
              " 'a',\n",
              " 'b',\n",
              " 'c',\n",
              " 'd',\n",
              " 'e',\n",
              " 'f',\n",
              " 'g',\n",
              " 'i',\n",
              " 'k',\n",
              " 'l',\n",
              " 'm',\n",
              " 'n',\n",
              " 'o',\n",
              " 'p',\n",
              " 'r',\n",
              " 's',\n",
              " 't',\n",
              " 'u',\n",
              " 'v',\n",
              " 'w'}"
            ]
          },
          "metadata": {
            "tags": []
          },
          "execution_count": 10
        }
      ]
    },
    {
      "cell_type": "code",
      "metadata": {
        "id": "mOlQB5_UpJBt"
      },
      "source": [
        "# Function to remove any punctuation\n",
        "import string\n",
        "\n",
        "def remove_punctuation(text):\n",
        "    no_punct=[words for words in text if words not in string.punctuation]\n",
        "    words_wo_punct=''.join(no_punct)\n",
        "    return words_wo_punct\n",
        "  \n"
      ],
      "execution_count": 11,
      "outputs": []
    },
    {
      "cell_type": "code",
      "metadata": {
        "colab": {
          "base_uri": "https://localhost:8080/",
          "height": 35
        },
        "id": "IW1EP-V7rurg",
        "outputId": "bf815261-4270-40e6-d3d0-3b5053e03f12"
      },
      "source": [
        "df1['Top1'][0]"
      ],
      "execution_count": 12,
      "outputs": [
        {
          "output_type": "execute_result",
          "data": {
            "application/vnd.google.colaboratory.intrinsic+json": {
              "type": "string"
            },
            "text/plain": [
              "'b\"Georgia \\'downs two Russian warplanes\\' as countries move to brink of war\"'"
            ]
          },
          "metadata": {
            "tags": []
          },
          "execution_count": 12
        }
      ]
    },
    {
      "cell_type": "code",
      "metadata": {
        "colab": {
          "base_uri": "https://localhost:8080/",
          "height": 35
        },
        "id": "OH5eTMMWriuk",
        "outputId": "49451d47-b7d9-4e9f-c62a-36e83f8ac245"
      },
      "source": [
        "remove_punctuation(df1['Top1'][0])"
      ],
      "execution_count": 13,
      "outputs": [
        {
          "output_type": "execute_result",
          "data": {
            "application/vnd.google.colaboratory.intrinsic+json": {
              "type": "string"
            },
            "text/plain": [
              "'bGeorgia downs two Russian warplanes as countries move to brink of war'"
            ]
          },
          "metadata": {
            "tags": []
          },
          "execution_count": 13
        }
      ]
    },
    {
      "cell_type": "code",
      "metadata": {
        "id": "iiHA4bzxp_pt"
      },
      "source": [
        "# Function for tokenization\n",
        "import re\n",
        "def tokenize(text):\n",
        "    split=re.split(\"\\W+\",text) \n",
        "    return split"
      ],
      "execution_count": 14,
      "outputs": []
    },
    {
      "cell_type": "code",
      "metadata": {
        "colab": {
          "base_uri": "https://localhost:8080/"
        },
        "id": "phDWx6Mor-Oz",
        "outputId": "2f906849-fa8d-4afc-8f41-1a7db6626602"
      },
      "source": [
        "tokenize(df1['Top1'][0])"
      ],
      "execution_count": 15,
      "outputs": [
        {
          "output_type": "execute_result",
          "data": {
            "text/plain": [
              "['b',\n",
              " 'Georgia',\n",
              " 'downs',\n",
              " 'two',\n",
              " 'Russian',\n",
              " 'warplanes',\n",
              " 'as',\n",
              " 'countries',\n",
              " 'move',\n",
              " 'to',\n",
              " 'brink',\n",
              " 'of',\n",
              " 'war',\n",
              " '']"
            ]
          },
          "metadata": {
            "tags": []
          },
          "execution_count": 15
        }
      ]
    },
    {
      "cell_type": "code",
      "metadata": {
        "colab": {
          "base_uri": "https://localhost:8080/"
        },
        "id": "wDzdFzQrsRag",
        "outputId": "e2c18e21-7ac0-4e7c-decd-0ff2ea00a895"
      },
      "source": [
        "import nltk\n",
        "nltk.download('stopwords')"
      ],
      "execution_count": 16,
      "outputs": [
        {
          "output_type": "stream",
          "text": [
            "[nltk_data] Downloading package stopwords to /root/nltk_data...\n",
            "[nltk_data]   Package stopwords is already up-to-date!\n"
          ],
          "name": "stdout"
        },
        {
          "output_type": "execute_result",
          "data": {
            "text/plain": [
              "True"
            ]
          },
          "metadata": {
            "tags": []
          },
          "execution_count": 16
        }
      ]
    },
    {
      "cell_type": "code",
      "metadata": {
        "id": "46fomD81sFCL"
      },
      "source": [
        "stopword = nltk.corpus.stopwords.words('english')"
      ],
      "execution_count": 17,
      "outputs": []
    },
    {
      "cell_type": "code",
      "metadata": {
        "id": "9GH0yBQgsXbT"
      },
      "source": [
        "def remove_stopwords(text):\n",
        "    text=[word for word in text.split() if word not in stopword]\n",
        "    return text"
      ],
      "execution_count": 18,
      "outputs": []
    },
    {
      "cell_type": "code",
      "metadata": {
        "colab": {
          "base_uri": "https://localhost:8080/"
        },
        "id": "zxiVyEEjsh9C",
        "outputId": "e6d0b5fd-d886-42e7-c9dc-2d06a306ca74"
      },
      "source": [
        "remove_stopwords(df1['Top1'][0])"
      ],
      "execution_count": 19,
      "outputs": [
        {
          "output_type": "execute_result",
          "data": {
            "text/plain": [
              "['b\"Georgia',\n",
              " \"'downs\",\n",
              " 'two',\n",
              " 'Russian',\n",
              " \"warplanes'\",\n",
              " 'countries',\n",
              " 'move',\n",
              " 'brink',\n",
              " 'war\"']"
            ]
          },
          "metadata": {
            "tags": []
          },
          "execution_count": 19
        }
      ]
    },
    {
      "cell_type": "code",
      "metadata": {
        "id": "fSUozW7jslil"
      },
      "source": [
        "from nltk.stem import WordNetLemmatizer\n",
        "  \n",
        "wn = WordNetLemmatizer()"
      ],
      "execution_count": 20,
      "outputs": []
    },
    {
      "cell_type": "code",
      "metadata": {
        "id": "WcaIdnSfuJm5",
        "colab": {
          "base_uri": "https://localhost:8080/"
        },
        "outputId": "515ce8b5-f069-4cfc-972a-5a4a3e026416"
      },
      "source": [
        "nltk.download('wordnet')"
      ],
      "execution_count": 21,
      "outputs": [
        {
          "output_type": "stream",
          "text": [
            "[nltk_data] Downloading package wordnet to /root/nltk_data...\n",
            "[nltk_data]   Package wordnet is already up-to-date!\n"
          ],
          "name": "stdout"
        },
        {
          "output_type": "execute_result",
          "data": {
            "text/plain": [
              "True"
            ]
          },
          "metadata": {
            "tags": []
          },
          "execution_count": 21
        }
      ]
    },
    {
      "cell_type": "code",
      "metadata": {
        "colab": {
          "base_uri": "https://localhost:8080/",
          "height": 35
        },
        "id": "Hm4vLteiuE5L",
        "outputId": "535338e0-60f4-4679-a90b-4bda62681934"
      },
      "source": [
        "wn.lemmatize(df1['Top1'][0])"
      ],
      "execution_count": 22,
      "outputs": [
        {
          "output_type": "execute_result",
          "data": {
            "application/vnd.google.colaboratory.intrinsic+json": {
              "type": "string"
            },
            "text/plain": [
              "'b\"Georgia \\'downs two Russian warplanes\\' as countries move to brink of war\"'"
            ]
          },
          "metadata": {
            "tags": []
          },
          "execution_count": 22
        }
      ]
    },
    {
      "cell_type": "code",
      "metadata": {
        "id": "s8jk4k75uSub"
      },
      "source": [
        "from nltk.stem import WordNetLemmatizer\n",
        "import nltk\n",
        "import string\n",
        "import re\n",
        "# Generized data cleaning pipeline \n",
        "def data_cleaning_pipeline(text):\n",
        "\n",
        "  stopword = nltk.corpus.stopwords.words('english')\\\n",
        "  \n",
        "  def remove_numerics(text):\n",
        "    pattern = r'[0-9]'\n",
        "\n",
        "    return re.sub(pattern,'',str(text))\n",
        "  \n",
        "  text_wo_nums = remove_numerics(text)\n",
        "\n",
        "  def cleanhtml(text):\n",
        "    cleanr = re.compile('<.*?>|&([a-z0-9]+|#[0-9]{1,6}|#x[0-9a-f]{1,6});')\n",
        "    return re.sub(cleanr, '', str(text))\n",
        "  \n",
        "  text_wo_html = cleanhtml(text_wo_nums)\n",
        "\n",
        "\n",
        "  def remove_punctuation(text):\n",
        "    no_punct=[words for words in text if words not in string.punctuation]\n",
        "    words_wo_punct=''.join(no_punct)\n",
        "    return words_wo_punct\n",
        "  \n",
        "  text_wo_punc = remove_punctuation(text_wo_html)\n",
        "  \n",
        "  def remove_stopwords(text):\n",
        "    text=[word for word in text.split() if word not in stopword]\n",
        "    return ' '.join(text)\n",
        "  \n",
        "  text_wo_stopwrds = remove_stopwords(text=text_wo_punc)\n",
        "\n",
        "  def lemmatization(text):\n",
        "    wn = WordNetLemmatizer()\n",
        "    return wn.lemmatize(text)\n",
        "  \n",
        "  lemm_text = lemmatization(text_wo_stopwrds)\n",
        "\n",
        "  def tokenization(text):\n",
        "    split=re.split(\"\\W+\",text) \n",
        "    return split\n",
        "  \n",
        "  cleaned_text = ' '.join(tokenization(lemm_text))[1:]\n",
        "  cleaned_text = cleaned_text.strip()\n",
        "  return cleaned_text.lower()\n"
      ],
      "execution_count": 23,
      "outputs": []
    },
    {
      "cell_type": "code",
      "metadata": {
        "colab": {
          "base_uri": "https://localhost:8080/",
          "height": 35
        },
        "id": "7gy4uLBO2Pvg",
        "outputId": "85b2bd69-869b-4ef8-bfd6-dba151edcafc"
      },
      "source": [
        "data_cleaning_pipeline(df1['Top1'][0])"
      ],
      "execution_count": 24,
      "outputs": [
        {
          "output_type": "execute_result",
          "data": {
            "application/vnd.google.colaboratory.intrinsic+json": {
              "type": "string"
            },
            "text/plain": [
              "'georgia downs two russian warplanes countries move brink war'"
            ]
          },
          "metadata": {
            "tags": []
          },
          "execution_count": 24
        }
      ]
    },
    {
      "cell_type": "code",
      "metadata": {
        "colab": {
          "base_uri": "https://localhost:8080/"
        },
        "id": "ligRPKdh3Cfp",
        "outputId": "6b442dd7-7fed-4b54-c5f2-9c598ea4108c"
      },
      "source": [
        "df1.columns"
      ],
      "execution_count": 25,
      "outputs": [
        {
          "output_type": "execute_result",
          "data": {
            "text/plain": [
              "Index(['Date', 'Label', 'Top1', 'Top2', 'Top3', 'Top4', 'Top5', 'Top6', 'Top7',\n",
              "       'Top8', 'Top9', 'Top10', 'Top11', 'Top12', 'Top13', 'Top14', 'Top15',\n",
              "       'Top16', 'Top17', 'Top18', 'Top19', 'Top20', 'Top21', 'Top22', 'Top23',\n",
              "       'Top24', 'Top25'],\n",
              "      dtype='object')"
            ]
          },
          "metadata": {
            "tags": []
          },
          "execution_count": 25
        }
      ]
    },
    {
      "cell_type": "code",
      "metadata": {
        "id": "Qn30-D013GeN"
      },
      "source": [
        " cols = ['Top1', 'Top2', 'Top3', 'Top4', 'Top5', 'Top6', 'Top7',\n",
        "       'Top8', 'Top9', 'Top10', 'Top11', 'Top12', 'Top13', 'Top14', 'Top15',\n",
        "       'Top16', 'Top17', 'Top18', 'Top19', 'Top20', 'Top21', 'Top22', 'Top23',\n",
        "       'Top24', 'Top25']"
      ],
      "execution_count": 26,
      "outputs": []
    },
    {
      "cell_type": "code",
      "metadata": {
        "id": "jcZwdOY12UrX"
      },
      "source": [
        "df2 = df1.copy()\n",
        "for col in cols:\n",
        "\n",
        "  df2[col] = df1[col].apply(lambda x : data_cleaning_pipeline(x))"
      ],
      "execution_count": 27,
      "outputs": []
    },
    {
      "cell_type": "code",
      "metadata": {
        "id": "-nF7Oqrm3Oxb",
        "colab": {
          "base_uri": "https://localhost:8080/",
          "height": 727
        },
        "outputId": "448f505f-53ff-42cc-ea30-3c453be3c82f"
      },
      "source": [
        "df2.head()"
      ],
      "execution_count": 28,
      "outputs": [
        {
          "output_type": "execute_result",
          "data": {
            "text/html": [
              "<div>\n",
              "<style scoped>\n",
              "    .dataframe tbody tr th:only-of-type {\n",
              "        vertical-align: middle;\n",
              "    }\n",
              "\n",
              "    .dataframe tbody tr th {\n",
              "        vertical-align: top;\n",
              "    }\n",
              "\n",
              "    .dataframe thead th {\n",
              "        text-align: right;\n",
              "    }\n",
              "</style>\n",
              "<table border=\"1\" class=\"dataframe\">\n",
              "  <thead>\n",
              "    <tr style=\"text-align: right;\">\n",
              "      <th></th>\n",
              "      <th>Date</th>\n",
              "      <th>Label</th>\n",
              "      <th>Top1</th>\n",
              "      <th>Top2</th>\n",
              "      <th>Top3</th>\n",
              "      <th>Top4</th>\n",
              "      <th>Top5</th>\n",
              "      <th>Top6</th>\n",
              "      <th>Top7</th>\n",
              "      <th>Top8</th>\n",
              "      <th>Top9</th>\n",
              "      <th>Top10</th>\n",
              "      <th>Top11</th>\n",
              "      <th>Top12</th>\n",
              "      <th>Top13</th>\n",
              "      <th>Top14</th>\n",
              "      <th>Top15</th>\n",
              "      <th>Top16</th>\n",
              "      <th>Top17</th>\n",
              "      <th>Top18</th>\n",
              "      <th>Top19</th>\n",
              "      <th>Top20</th>\n",
              "      <th>Top21</th>\n",
              "      <th>Top22</th>\n",
              "      <th>Top23</th>\n",
              "      <th>Top24</th>\n",
              "      <th>Top25</th>\n",
              "    </tr>\n",
              "  </thead>\n",
              "  <tbody>\n",
              "    <tr>\n",
              "      <th>0</th>\n",
              "      <td>2008-08-08</td>\n",
              "      <td>0</td>\n",
              "      <td>georgia downs two russian warplanes countries ...</td>\n",
              "      <td>breaking musharraf impeached</td>\n",
              "      <td>russia today columns troops roll south ossetia...</td>\n",
              "      <td>russian tanks moving towards capital south oss...</td>\n",
              "      <td>afghan children raped impunity un official say...</td>\n",
              "      <td>russian tanks entered south ossetia whilst geo...</td>\n",
              "      <td>breaking georgia invades south ossetia russia ...</td>\n",
              "      <td>the enemy combatent trials nothing sham salim ...</td>\n",
              "      <td>georgian troops retreat s osettain capital pre...</td>\n",
              "      <td>did us prep georgia war russia</td>\n",
              "      <td>rice gives green light israel attack iran says...</td>\n",
              "      <td>announcingclass action lawsuit behalf american...</td>\n",
              "      <td>sorussia georgia war nyts top story opening ce...</td>\n",
              "      <td>china tells bush stay countries affairs</td>\n",
              "      <td>did world war iii start today</td>\n",
              "      <td>georgia invades south ossetia russia gets invo...</td>\n",
              "      <td>alqaeda faces islamist backlash</td>\n",
              "      <td>condoleezza rice the us would act prevent isra...</td>\n",
              "      <td>this busy day the european union approved new ...</td>\n",
              "      <td>georgia withdraw soldiers iraq help fight russ...</td>\n",
              "      <td>why pentagon thinks attacking iran bad idea us...</td>\n",
              "      <td>caucasus crisis georgia invades south ossetia</td>\n",
              "      <td>indian shoe manufactory and series like work</td>\n",
              "      <td>visitors suffering mental illnesses banned oly...</td>\n",
              "      <td>no help mexicos kidnapping surge</td>\n",
              "    </tr>\n",
              "    <tr>\n",
              "      <th>1</th>\n",
              "      <td>2008-08-11</td>\n",
              "      <td>1</td>\n",
              "      <td>why wont america nato help us if wont help us ...</td>\n",
              "      <td>bush puts foot georgian conflict</td>\n",
              "      <td>jewish georgian minister thanks israeli traini...</td>\n",
              "      <td>georgian army flees disarray russians advance ...</td>\n",
              "      <td>olympic opening ceremony fireworks faked</td>\n",
              "      <td>what mossad fraudulent new zealand passports iraq</td>\n",
              "      <td>russia angered israeli military sale georgia</td>\n",
              "      <td>an american citizen living sossetia blames us ...</td>\n",
              "      <td>welcome to world war iv now in high definition</td>\n",
              "      <td>georgias move mistake monumental proportions</td>\n",
              "      <td>russia presses deeper georgia us says regime c...</td>\n",
              "      <td>abhinav bindra wins first ever individual olym...</td>\n",
              "      <td>us ship heads arctic define territory</td>\n",
              "      <td>drivers jerusalem taxi station threaten quit r...</td>\n",
              "      <td>the french team stunned phelps xm relay team</td>\n",
              "      <td>israel us behind georgian aggression</td>\n",
              "      <td>do believe tv neither russian georgian there m...</td>\n",
              "      <td>riots still going montreal canada police murde...</td>\n",
              "      <td>china overtake us largest manufacturer</td>\n",
              "      <td>war south ossetia pics</td>\n",
              "      <td>israeli physicians group condemns state torture</td>\n",
              "      <td>russia beaten united states head peak oil</td>\n",
              "      <td>perhaps question georgia russia conflict</td>\n",
              "      <td>russia much better war</td>\n",
              "      <td>so come trading sex food</td>\n",
              "    </tr>\n",
              "    <tr>\n",
              "      <th>2</th>\n",
              "      <td>2008-08-12</td>\n",
              "      <td>0</td>\n",
              "      <td>remember adorable yearold sang opening ceremon...</td>\n",
              "      <td>russia ends georgia operation</td>\n",
              "      <td>if sexual harassment would children</td>\n",
              "      <td>alqaeda losing support iraq brutal crackdown a...</td>\n",
              "      <td>ceasefire georgia putin outmaneuvers west</td>\n",
              "      <td>why microsoft intel tried kill xo laptop</td>\n",
              "      <td>stratfor the russogeorgian war balance power</td>\n",
              "      <td>im trying get sense this whole georgiarussia w...</td>\n",
              "      <td>the us military surprised timing swiftness rus...</td>\n",
              "      <td>us beats war drum iran dumps dollar</td>\n",
              "      <td>gorbachev georgian military attacked south oss...</td>\n",
              "      <td>cnn use footage tskhinvali ruins cover georgia...</td>\n",
              "      <td>beginning war olympics opening violates ancien...</td>\n",
              "      <td>pyramids large luxor stacked megacity pyramid ...</td>\n",
              "      <td>the top party cities world</td>\n",
              "      <td>us troops still georgia know georgia first place</td>\n",
              "      <td>why russias response georgia right</td>\n",
              "      <td>gorbachev accuses us making serious blunder pu...</td>\n",
              "      <td>russia georgia nato cold war two</td>\n",
              "      <td>remember adorable yearold led country war base...</td>\n",
              "      <td>war georgia the israeli connection</td>\n",
              "      <td>all signs point us encouraging georgia invade ...</td>\n",
              "      <td>christopher king argues us nato behind georgia...</td>\n",
              "      <td>america the new mexico</td>\n",
              "      <td>bbc news asiapacific extinction man climate</td>\n",
              "    </tr>\n",
              "    <tr>\n",
              "      <th>3</th>\n",
              "      <td>2008-08-13</td>\n",
              "      <td>0</td>\n",
              "      <td>us refuses israel weapons attack iran report</td>\n",
              "      <td>when president ordered attack tskhinvali capit...</td>\n",
              "      <td>israel clears troops killed reuters cameraman</td>\n",
              "      <td>britains policy tough drugs pointless says for...</td>\n",
              "      <td>body year old found trunk latest ransom paid k...</td>\n",
              "      <td>china moved million quake survivors prefab homes</td>\n",
              "      <td>bush announces operation get all up in russias...</td>\n",
              "      <td>russian forces sink georgian ships</td>\n",
              "      <td>the commander navy air reconnaissance squadron...</td>\n",
              "      <td>cnn readers russias actions georgia justified</td>\n",
              "      <td>usa send fleet black sea help georgia send tro...</td>\n",
              "      <td>us warns israeli plan strike irans nuclear fac...</td>\n",
              "      <td>in intriguing cyberalliance two estonian compu...</td>\n",
              "      <td>the cnn effect georgia schools russia informat...</td>\n",
              "      <td>why russias response georgia right</td>\n",
              "      <td>elephants extinct</td>\n",
              "      <td>us humanitarian missions soon georgia russia h...</td>\n",
              "      <td>georgias ddos came us sources</td>\n",
              "      <td>russian convoy heads georgia violating truce</td>\n",
              "      <td>israeli defence minister us strike iran</td>\n",
              "      <td>gorbachev we had no choice</td>\n",
              "      <td>witness russian forces head towards tbilisi br...</td>\n",
              "      <td>quarter russians blame us conflict poll</td>\n",
              "      <td>georgian president says us military take contr...</td>\n",
              "      <td>nobel laureate aleksander solzhenitsyn accuses...</td>\n",
              "    </tr>\n",
              "    <tr>\n",
              "      <th>4</th>\n",
              "      <td>2008-08-14</td>\n",
              "      <td>1</td>\n",
              "      <td>all experts admit legalise drugs</td>\n",
              "      <td>war south osetia pictures made russian soldier</td>\n",
              "      <td>swedish wrestler ara abrahamian throws away me...</td>\n",
              "      <td>russia exaggerated death toll south ossetia no...</td>\n",
              "      <td>missile that killed inside pakistan may have b...</td>\n",
              "      <td>rushdie condemns random houses refusal publish...</td>\n",
              "      <td>poland us agree missle defense deal interestin...</td>\n",
              "      <td>will russians conquer tblisi bet seriously bet</td>\n",
              "      <td>russia exaggerating south ossetian death toll ...</td>\n",
              "      <td>musharraf expected resign rather face impeachment</td>\n",
              "      <td>moscow made plans months ago invade georgia</td>\n",
              "      <td>why russias response georgia right</td>\n",
              "      <td>nigeria handed potentially oilrich bakassi pen...</td>\n",
              "      <td>the us poland agreed preliminary deal plans co...</td>\n",
              "      <td>russia apparently sabotaging infrastructure cr...</td>\n",
              "      <td>bank analyst forecast georgian crisis days early</td>\n",
              "      <td>georgia confict could set back russias us rela...</td>\n",
              "      <td>war caucasus much product american imperial dr...</td>\n",
              "      <td>nonmedia photos south ossetiageorgia conflict</td>\n",
              "      <td>georgian tv reporter shot russian sniper live ...</td>\n",
              "      <td>saudi arabia mother moves block child marriage</td>\n",
              "      <td>taliban wages war humanitarian aid workers</td>\n",
              "      <td>russia world forget georgias territorial integ...</td>\n",
              "      <td>darfur rebels accuse sudan mounting major attack</td>\n",
              "      <td>philippines peace advocate say muslims need as...</td>\n",
              "    </tr>\n",
              "  </tbody>\n",
              "</table>\n",
              "</div>"
            ],
            "text/plain": [
              "        Date  ...                                              Top25\n",
              "0 2008-08-08  ...                   no help mexicos kidnapping surge\n",
              "1 2008-08-11  ...                           so come trading sex food\n",
              "2 2008-08-12  ...        bbc news asiapacific extinction man climate\n",
              "3 2008-08-13  ...  nobel laureate aleksander solzhenitsyn accuses...\n",
              "4 2008-08-14  ...  philippines peace advocate say muslims need as...\n",
              "\n",
              "[5 rows x 27 columns]"
            ]
          },
          "metadata": {
            "tags": []
          },
          "execution_count": 28
        }
      ]
    },
    {
      "cell_type": "code",
      "metadata": {
        "id": "ocxRC71diNDH"
      },
      "source": [
        "df2.to_csv('/content/cleaned_data/cleaned_Combined_News_DJIA.csv')"
      ],
      "execution_count": 29,
      "outputs": []
    },
    {
      "cell_type": "code",
      "metadata": {
        "id": "rdd8U6dEYgh7"
      },
      "source": [
        "df3 = pd.read_csv('/content/data/upload_DJIA_table.csv')"
      ],
      "execution_count": 30,
      "outputs": []
    },
    {
      "cell_type": "code",
      "metadata": {
        "colab": {
          "base_uri": "https://localhost:8080/",
          "height": 203
        },
        "id": "o5FfpPWhbiUe",
        "outputId": "6f8dadb3-adfc-4a6a-84b9-44f89765a306"
      },
      "source": [
        "df3.head()"
      ],
      "execution_count": 31,
      "outputs": [
        {
          "output_type": "execute_result",
          "data": {
            "text/html": [
              "<div>\n",
              "<style scoped>\n",
              "    .dataframe tbody tr th:only-of-type {\n",
              "        vertical-align: middle;\n",
              "    }\n",
              "\n",
              "    .dataframe tbody tr th {\n",
              "        vertical-align: top;\n",
              "    }\n",
              "\n",
              "    .dataframe thead th {\n",
              "        text-align: right;\n",
              "    }\n",
              "</style>\n",
              "<table border=\"1\" class=\"dataframe\">\n",
              "  <thead>\n",
              "    <tr style=\"text-align: right;\">\n",
              "      <th></th>\n",
              "      <th>Date</th>\n",
              "      <th>Open</th>\n",
              "      <th>High</th>\n",
              "      <th>Low</th>\n",
              "      <th>Close</th>\n",
              "      <th>Volume</th>\n",
              "      <th>Adj Close</th>\n",
              "    </tr>\n",
              "  </thead>\n",
              "  <tbody>\n",
              "    <tr>\n",
              "      <th>0</th>\n",
              "      <td>2016-07-01</td>\n",
              "      <td>17924.240234</td>\n",
              "      <td>18002.380859</td>\n",
              "      <td>17916.910156</td>\n",
              "      <td>17949.369141</td>\n",
              "      <td>82160000</td>\n",
              "      <td>17949.369141</td>\n",
              "    </tr>\n",
              "    <tr>\n",
              "      <th>1</th>\n",
              "      <td>2016-06-30</td>\n",
              "      <td>17712.759766</td>\n",
              "      <td>17930.609375</td>\n",
              "      <td>17711.800781</td>\n",
              "      <td>17929.990234</td>\n",
              "      <td>133030000</td>\n",
              "      <td>17929.990234</td>\n",
              "    </tr>\n",
              "    <tr>\n",
              "      <th>2</th>\n",
              "      <td>2016-06-29</td>\n",
              "      <td>17456.019531</td>\n",
              "      <td>17704.509766</td>\n",
              "      <td>17456.019531</td>\n",
              "      <td>17694.679688</td>\n",
              "      <td>106380000</td>\n",
              "      <td>17694.679688</td>\n",
              "    </tr>\n",
              "    <tr>\n",
              "      <th>3</th>\n",
              "      <td>2016-06-28</td>\n",
              "      <td>17190.509766</td>\n",
              "      <td>17409.720703</td>\n",
              "      <td>17190.509766</td>\n",
              "      <td>17409.720703</td>\n",
              "      <td>112190000</td>\n",
              "      <td>17409.720703</td>\n",
              "    </tr>\n",
              "    <tr>\n",
              "      <th>4</th>\n",
              "      <td>2016-06-27</td>\n",
              "      <td>17355.210938</td>\n",
              "      <td>17355.210938</td>\n",
              "      <td>17063.080078</td>\n",
              "      <td>17140.240234</td>\n",
              "      <td>138740000</td>\n",
              "      <td>17140.240234</td>\n",
              "    </tr>\n",
              "  </tbody>\n",
              "</table>\n",
              "</div>"
            ],
            "text/plain": [
              "         Date          Open  ...     Volume     Adj Close\n",
              "0  2016-07-01  17924.240234  ...   82160000  17949.369141\n",
              "1  2016-06-30  17712.759766  ...  133030000  17929.990234\n",
              "2  2016-06-29  17456.019531  ...  106380000  17694.679688\n",
              "3  2016-06-28  17190.509766  ...  112190000  17409.720703\n",
              "4  2016-06-27  17355.210938  ...  138740000  17140.240234\n",
              "\n",
              "[5 rows x 7 columns]"
            ]
          },
          "metadata": {
            "tags": []
          },
          "execution_count": 31
        }
      ]
    },
    {
      "cell_type": "code",
      "metadata": {
        "colab": {
          "base_uri": "https://localhost:8080/"
        },
        "id": "ywYy4KjIbvJj",
        "outputId": "8e9c594c-619c-48a1-ba8c-eaf78f827b0e"
      },
      "source": [
        "df3.info()"
      ],
      "execution_count": 32,
      "outputs": [
        {
          "output_type": "stream",
          "text": [
            "<class 'pandas.core.frame.DataFrame'>\n",
            "RangeIndex: 1989 entries, 0 to 1988\n",
            "Data columns (total 7 columns):\n",
            " #   Column     Non-Null Count  Dtype  \n",
            "---  ------     --------------  -----  \n",
            " 0   Date       1989 non-null   object \n",
            " 1   Open       1989 non-null   float64\n",
            " 2   High       1989 non-null   float64\n",
            " 3   Low        1989 non-null   float64\n",
            " 4   Close      1989 non-null   float64\n",
            " 5   Volume     1989 non-null   int64  \n",
            " 6   Adj Close  1989 non-null   float64\n",
            "dtypes: float64(5), int64(1), object(1)\n",
            "memory usage: 108.9+ KB\n"
          ],
          "name": "stdout"
        }
      ]
    },
    {
      "cell_type": "code",
      "metadata": {
        "id": "6OfcNlVVcG-a"
      },
      "source": [
        "df3['Date'] = df3['Date'].astype('datetime64')"
      ],
      "execution_count": 33,
      "outputs": []
    },
    {
      "cell_type": "code",
      "metadata": {
        "colab": {
          "base_uri": "https://localhost:8080/"
        },
        "id": "10Kun0y6cM-h",
        "outputId": "47a9b4f4-48fa-4164-845c-3043e198b081"
      },
      "source": [
        "df3.isnull().sum()"
      ],
      "execution_count": 34,
      "outputs": [
        {
          "output_type": "execute_result",
          "data": {
            "text/plain": [
              "Date         0\n",
              "Open         0\n",
              "High         0\n",
              "Low          0\n",
              "Close        0\n",
              "Volume       0\n",
              "Adj Close    0\n",
              "dtype: int64"
            ]
          },
          "metadata": {
            "tags": []
          },
          "execution_count": 34
        }
      ]
    },
    {
      "cell_type": "code",
      "metadata": {
        "colab": {
          "base_uri": "https://localhost:8080/"
        },
        "id": "KI4XuBBZcRle",
        "outputId": "90c38de7-bb3c-464f-af94-b9e0095eb344"
      },
      "source": [
        "df3.shape"
      ],
      "execution_count": 35,
      "outputs": [
        {
          "output_type": "execute_result",
          "data": {
            "text/plain": [
              "(1989, 7)"
            ]
          },
          "metadata": {
            "tags": []
          },
          "execution_count": 35
        }
      ]
    },
    {
      "cell_type": "code",
      "metadata": {
        "colab": {
          "base_uri": "https://localhost:8080/"
        },
        "id": "wgvUu2zMcULh",
        "outputId": "c8cb65ce-7a1f-4673-d8c2-8ebfb0f0ba28"
      },
      "source": [
        "df2.shape"
      ],
      "execution_count": 36,
      "outputs": [
        {
          "output_type": "execute_result",
          "data": {
            "text/plain": [
              "(1989, 27)"
            ]
          },
          "metadata": {
            "tags": []
          },
          "execution_count": 36
        }
      ]
    },
    {
      "cell_type": "code",
      "metadata": {
        "colab": {
          "base_uri": "https://localhost:8080/"
        },
        "id": "fWyrJ4KHcVoc",
        "outputId": "939428be-b11a-4241-9884-5ee4933372d1"
      },
      "source": [
        "round(df3['Close'][0],2)"
      ],
      "execution_count": 37,
      "outputs": [
        {
          "output_type": "execute_result",
          "data": {
            "text/plain": [
              "17949.37"
            ]
          },
          "metadata": {
            "tags": []
          },
          "execution_count": 37
        }
      ]
    },
    {
      "cell_type": "code",
      "metadata": {
        "id": "Z__KMByKcyOv"
      },
      "source": [
        "def roundoff_2_decimals(num):\n",
        "\n",
        "  return round(num, 2)"
      ],
      "execution_count": 38,
      "outputs": []
    },
    {
      "cell_type": "code",
      "metadata": {
        "id": "F3NF9WvPdEkv"
      },
      "source": [
        "roundoffCols = []\n",
        "for col in df3.columns:\n",
        "\n",
        "  if df3[col].dtype == 'float64':\n",
        "    roundoffCols.append(col)"
      ],
      "execution_count": 39,
      "outputs": []
    },
    {
      "cell_type": "code",
      "metadata": {
        "colab": {
          "base_uri": "https://localhost:8080/"
        },
        "id": "A-vByXMVdREV",
        "outputId": "6b0f855b-886a-473d-a48e-f3350a351e5c"
      },
      "source": [
        "roundoffCols"
      ],
      "execution_count": 40,
      "outputs": [
        {
          "output_type": "execute_result",
          "data": {
            "text/plain": [
              "['Open', 'High', 'Low', 'Close', 'Adj Close']"
            ]
          },
          "metadata": {
            "tags": []
          },
          "execution_count": 40
        }
      ]
    },
    {
      "cell_type": "code",
      "metadata": {
        "id": "6kzFkIyjdWvi"
      },
      "source": [
        "df4 = df3.copy()\n",
        "for col in roundoffCols:\n",
        "\n",
        "  df4[col] = df4[col].apply(lambda x: roundoff_2_decimals(x))"
      ],
      "execution_count": 41,
      "outputs": []
    },
    {
      "cell_type": "code",
      "metadata": {
        "colab": {
          "base_uri": "https://localhost:8080/",
          "height": 203
        },
        "id": "9d1DY6eMdpsh",
        "outputId": "11576f3c-9b93-42a6-e32e-54268825a3e1"
      },
      "source": [
        "df4.head()"
      ],
      "execution_count": 42,
      "outputs": [
        {
          "output_type": "execute_result",
          "data": {
            "text/html": [
              "<div>\n",
              "<style scoped>\n",
              "    .dataframe tbody tr th:only-of-type {\n",
              "        vertical-align: middle;\n",
              "    }\n",
              "\n",
              "    .dataframe tbody tr th {\n",
              "        vertical-align: top;\n",
              "    }\n",
              "\n",
              "    .dataframe thead th {\n",
              "        text-align: right;\n",
              "    }\n",
              "</style>\n",
              "<table border=\"1\" class=\"dataframe\">\n",
              "  <thead>\n",
              "    <tr style=\"text-align: right;\">\n",
              "      <th></th>\n",
              "      <th>Date</th>\n",
              "      <th>Open</th>\n",
              "      <th>High</th>\n",
              "      <th>Low</th>\n",
              "      <th>Close</th>\n",
              "      <th>Volume</th>\n",
              "      <th>Adj Close</th>\n",
              "    </tr>\n",
              "  </thead>\n",
              "  <tbody>\n",
              "    <tr>\n",
              "      <th>0</th>\n",
              "      <td>2016-07-01</td>\n",
              "      <td>17924.24</td>\n",
              "      <td>18002.38</td>\n",
              "      <td>17916.91</td>\n",
              "      <td>17949.37</td>\n",
              "      <td>82160000</td>\n",
              "      <td>17949.37</td>\n",
              "    </tr>\n",
              "    <tr>\n",
              "      <th>1</th>\n",
              "      <td>2016-06-30</td>\n",
              "      <td>17712.76</td>\n",
              "      <td>17930.61</td>\n",
              "      <td>17711.80</td>\n",
              "      <td>17929.99</td>\n",
              "      <td>133030000</td>\n",
              "      <td>17929.99</td>\n",
              "    </tr>\n",
              "    <tr>\n",
              "      <th>2</th>\n",
              "      <td>2016-06-29</td>\n",
              "      <td>17456.02</td>\n",
              "      <td>17704.51</td>\n",
              "      <td>17456.02</td>\n",
              "      <td>17694.68</td>\n",
              "      <td>106380000</td>\n",
              "      <td>17694.68</td>\n",
              "    </tr>\n",
              "    <tr>\n",
              "      <th>3</th>\n",
              "      <td>2016-06-28</td>\n",
              "      <td>17190.51</td>\n",
              "      <td>17409.72</td>\n",
              "      <td>17190.51</td>\n",
              "      <td>17409.72</td>\n",
              "      <td>112190000</td>\n",
              "      <td>17409.72</td>\n",
              "    </tr>\n",
              "    <tr>\n",
              "      <th>4</th>\n",
              "      <td>2016-06-27</td>\n",
              "      <td>17355.21</td>\n",
              "      <td>17355.21</td>\n",
              "      <td>17063.08</td>\n",
              "      <td>17140.24</td>\n",
              "      <td>138740000</td>\n",
              "      <td>17140.24</td>\n",
              "    </tr>\n",
              "  </tbody>\n",
              "</table>\n",
              "</div>"
            ],
            "text/plain": [
              "        Date      Open      High       Low     Close     Volume  Adj Close\n",
              "0 2016-07-01  17924.24  18002.38  17916.91  17949.37   82160000   17949.37\n",
              "1 2016-06-30  17712.76  17930.61  17711.80  17929.99  133030000   17929.99\n",
              "2 2016-06-29  17456.02  17704.51  17456.02  17694.68  106380000   17694.68\n",
              "3 2016-06-28  17190.51  17409.72  17190.51  17409.72  112190000   17409.72\n",
              "4 2016-06-27  17355.21  17355.21  17063.08  17140.24  138740000   17140.24"
            ]
          },
          "metadata": {
            "tags": []
          },
          "execution_count": 42
        }
      ]
    },
    {
      "cell_type": "code",
      "metadata": {
        "id": "uFT4xI3xiiLF"
      },
      "source": [
        "df4.to_csv('/content/cleaned_data/cleaned_upload_DJIA_table.csv')"
      ],
      "execution_count": 43,
      "outputs": []
    },
    {
      "cell_type": "code",
      "metadata": {
        "id": "HMMnuIsJdusd"
      },
      "source": [
        "df5 = pd.read_csv('/content/data/RedditNews.csv')"
      ],
      "execution_count": 44,
      "outputs": []
    },
    {
      "cell_type": "code",
      "metadata": {
        "colab": {
          "base_uri": "https://localhost:8080/",
          "height": 203
        },
        "id": "60TY8hyefa8c",
        "outputId": "6bcc4634-e47f-4d1d-d8b7-e59fcfa99a0b"
      },
      "source": [
        "df5.head()"
      ],
      "execution_count": 45,
      "outputs": [
        {
          "output_type": "execute_result",
          "data": {
            "text/html": [
              "<div>\n",
              "<style scoped>\n",
              "    .dataframe tbody tr th:only-of-type {\n",
              "        vertical-align: middle;\n",
              "    }\n",
              "\n",
              "    .dataframe tbody tr th {\n",
              "        vertical-align: top;\n",
              "    }\n",
              "\n",
              "    .dataframe thead th {\n",
              "        text-align: right;\n",
              "    }\n",
              "</style>\n",
              "<table border=\"1\" class=\"dataframe\">\n",
              "  <thead>\n",
              "    <tr style=\"text-align: right;\">\n",
              "      <th></th>\n",
              "      <th>Date</th>\n",
              "      <th>News</th>\n",
              "    </tr>\n",
              "  </thead>\n",
              "  <tbody>\n",
              "    <tr>\n",
              "      <th>0</th>\n",
              "      <td>2016-07-01</td>\n",
              "      <td>A 117-year-old woman in Mexico City finally re...</td>\n",
              "    </tr>\n",
              "    <tr>\n",
              "      <th>1</th>\n",
              "      <td>2016-07-01</td>\n",
              "      <td>IMF chief backs Athens as permanent Olympic host</td>\n",
              "    </tr>\n",
              "    <tr>\n",
              "      <th>2</th>\n",
              "      <td>2016-07-01</td>\n",
              "      <td>The president of France says if Brexit won, so...</td>\n",
              "    </tr>\n",
              "    <tr>\n",
              "      <th>3</th>\n",
              "      <td>2016-07-01</td>\n",
              "      <td>British Man Who Must Give Police 24 Hours' Not...</td>\n",
              "    </tr>\n",
              "    <tr>\n",
              "      <th>4</th>\n",
              "      <td>2016-07-01</td>\n",
              "      <td>100+ Nobel laureates urge Greenpeace to stop o...</td>\n",
              "    </tr>\n",
              "  </tbody>\n",
              "</table>\n",
              "</div>"
            ],
            "text/plain": [
              "         Date                                               News\n",
              "0  2016-07-01  A 117-year-old woman in Mexico City finally re...\n",
              "1  2016-07-01   IMF chief backs Athens as permanent Olympic host\n",
              "2  2016-07-01  The president of France says if Brexit won, so...\n",
              "3  2016-07-01  British Man Who Must Give Police 24 Hours' Not...\n",
              "4  2016-07-01  100+ Nobel laureates urge Greenpeace to stop o..."
            ]
          },
          "metadata": {
            "tags": []
          },
          "execution_count": 45
        }
      ]
    },
    {
      "cell_type": "code",
      "metadata": {
        "colab": {
          "base_uri": "https://localhost:8080/"
        },
        "id": "5I1dk9gzfcSq",
        "outputId": "a20b2669-85c2-4a0a-ed79-c69c8b46e86e"
      },
      "source": [
        "df5.info()"
      ],
      "execution_count": 46,
      "outputs": [
        {
          "output_type": "stream",
          "text": [
            "<class 'pandas.core.frame.DataFrame'>\n",
            "RangeIndex: 73608 entries, 0 to 73607\n",
            "Data columns (total 2 columns):\n",
            " #   Column  Non-Null Count  Dtype \n",
            "---  ------  --------------  ----- \n",
            " 0   Date    73608 non-null  object\n",
            " 1   News    73608 non-null  object\n",
            "dtypes: object(2)\n",
            "memory usage: 1.1+ MB\n"
          ],
          "name": "stdout"
        }
      ]
    },
    {
      "cell_type": "code",
      "metadata": {
        "colab": {
          "base_uri": "https://localhost:8080/"
        },
        "id": "185uQuc3find",
        "outputId": "d334dce5-8b7d-45a5-e447-db522550b799"
      },
      "source": [
        "df5.shape"
      ],
      "execution_count": 47,
      "outputs": [
        {
          "output_type": "execute_result",
          "data": {
            "text/plain": [
              "(73608, 2)"
            ]
          },
          "metadata": {
            "tags": []
          },
          "execution_count": 47
        }
      ]
    },
    {
      "cell_type": "code",
      "metadata": {
        "id": "48z1mTFAflJj"
      },
      "source": [
        "df5['Date'] = df5['Date'].astype('datetime64')"
      ],
      "execution_count": 48,
      "outputs": []
    },
    {
      "cell_type": "code",
      "metadata": {
        "id": "FDVhoxCwfsxb"
      },
      "source": [
        "df6 = df5.copy()"
      ],
      "execution_count": 49,
      "outputs": []
    },
    {
      "cell_type": "code",
      "metadata": {
        "id": "qpUklliIfvWe"
      },
      "source": [
        "df6['News'] = df6['News'].apply(lambda x: data_cleaning_pipeline(x))"
      ],
      "execution_count": 50,
      "outputs": []
    },
    {
      "cell_type": "code",
      "metadata": {
        "colab": {
          "base_uri": "https://localhost:8080/",
          "height": 203
        },
        "id": "FGuBnvHqf3hC",
        "outputId": "5aa4fe30-e361-4d1f-e832-2acc20763c29"
      },
      "source": [
        "df6.head()"
      ],
      "execution_count": 51,
      "outputs": [
        {
          "output_type": "execute_result",
          "data": {
            "text/html": [
              "<div>\n",
              "<style scoped>\n",
              "    .dataframe tbody tr th:only-of-type {\n",
              "        vertical-align: middle;\n",
              "    }\n",
              "\n",
              "    .dataframe tbody tr th {\n",
              "        vertical-align: top;\n",
              "    }\n",
              "\n",
              "    .dataframe thead th {\n",
              "        text-align: right;\n",
              "    }\n",
              "</style>\n",
              "<table border=\"1\" class=\"dataframe\">\n",
              "  <thead>\n",
              "    <tr style=\"text-align: right;\">\n",
              "      <th></th>\n",
              "      <th>Date</th>\n",
              "      <th>News</th>\n",
              "    </tr>\n",
              "  </thead>\n",
              "  <tbody>\n",
              "    <tr>\n",
              "      <th>0</th>\n",
              "      <td>2016-07-01</td>\n",
              "      <td>yearold woman mexico city finally received bir...</td>\n",
              "    </tr>\n",
              "    <tr>\n",
              "      <th>1</th>\n",
              "      <td>2016-07-01</td>\n",
              "      <td>mf chief backs athens permanent olympic host</td>\n",
              "    </tr>\n",
              "    <tr>\n",
              "      <th>2</th>\n",
              "      <td>2016-07-01</td>\n",
              "      <td>he president france says brexit donald trump</td>\n",
              "    </tr>\n",
              "    <tr>\n",
              "      <th>3</th>\n",
              "      <td>2016-07-01</td>\n",
              "      <td>ritish man who must give police hours notice s...</td>\n",
              "    </tr>\n",
              "    <tr>\n",
              "      <th>4</th>\n",
              "      <td>2016-07-01</td>\n",
              "      <td>obel laureates urge greenpeace stop opposing gmos</td>\n",
              "    </tr>\n",
              "  </tbody>\n",
              "</table>\n",
              "</div>"
            ],
            "text/plain": [
              "        Date                                               News\n",
              "0 2016-07-01  yearold woman mexico city finally received bir...\n",
              "1 2016-07-01       mf chief backs athens permanent olympic host\n",
              "2 2016-07-01       he president france says brexit donald trump\n",
              "3 2016-07-01  ritish man who must give police hours notice s...\n",
              "4 2016-07-01  obel laureates urge greenpeace stop opposing gmos"
            ]
          },
          "metadata": {
            "tags": []
          },
          "execution_count": 51
        }
      ]
    },
    {
      "cell_type": "code",
      "metadata": {
        "id": "WO-o-OYIf-Yy"
      },
      "source": [
        "df6.to_csv('/content/cleaned_data/cleaned_RedditNews.csv')"
      ],
      "execution_count": 52,
      "outputs": []
    },
    {
      "cell_type": "code",
      "metadata": {
        "id": "mEHB8615i1q3"
      },
      "source": [
        ""
      ],
      "execution_count": 52,
      "outputs": []
    }
  ]
}