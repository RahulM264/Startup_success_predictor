{
  "nbformat": 4,
  "nbformat_minor": 0,
  "metadata": {
    "colab": {
      "name": "data_cleaning_y_combinator_data22.ipynb",
      "provenance": [],
      "collapsed_sections": []
    },
    "kernelspec": {
      "name": "python3",
      "display_name": "Python 3.8.10 64-bit"
    },
    "language_info": {
      "name": "python",
      "version": "3.8.10"
    },
    "widgets": {
      "application/vnd.jupyter.widget-state+json": {
        "2a7eb5b6525746e683fe356365c127ac": {
          "model_module": "@jupyter-widgets/controls",
          "model_name": "HBoxModel",
          "state": {
            "_view_name": "HBoxView",
            "_dom_classes": [],
            "_model_name": "HBoxModel",
            "_view_module": "@jupyter-widgets/controls",
            "_model_module_version": "1.5.0",
            "_view_count": null,
            "_view_module_version": "1.5.0",
            "box_style": "",
            "layout": "IPY_MODEL_3d76826e11c64443a50a829c3bf674ba",
            "_model_module": "@jupyter-widgets/controls",
            "children": [
              "IPY_MODEL_66ce4b3713a84b8bbc6e96979bfb187a",
              "IPY_MODEL_e7bbcf72088b4b6395df592be9909a2a",
              "IPY_MODEL_400928cc643e4653ba146c6ecc39e6d2"
            ]
          }
        },
        "3d76826e11c64443a50a829c3bf674ba": {
          "model_module": "@jupyter-widgets/base",
          "model_name": "LayoutModel",
          "state": {
            "_view_name": "LayoutView",
            "grid_template_rows": null,
            "right": null,
            "justify_content": null,
            "_view_module": "@jupyter-widgets/base",
            "overflow": null,
            "_model_module_version": "1.2.0",
            "_view_count": null,
            "flex_flow": null,
            "width": null,
            "min_width": null,
            "border": null,
            "align_items": null,
            "bottom": null,
            "_model_module": "@jupyter-widgets/base",
            "top": null,
            "grid_column": null,
            "overflow_y": null,
            "overflow_x": null,
            "grid_auto_flow": null,
            "grid_area": null,
            "grid_template_columns": null,
            "flex": null,
            "_model_name": "LayoutModel",
            "justify_items": null,
            "grid_row": null,
            "max_height": null,
            "align_content": null,
            "visibility": null,
            "align_self": null,
            "height": null,
            "min_height": null,
            "padding": null,
            "grid_auto_rows": null,
            "grid_gap": null,
            "max_width": null,
            "order": null,
            "_view_module_version": "1.2.0",
            "grid_template_areas": null,
            "object_position": null,
            "object_fit": null,
            "grid_auto_columns": null,
            "margin": null,
            "display": null,
            "left": null
          }
        },
        "66ce4b3713a84b8bbc6e96979bfb187a": {
          "model_module": "@jupyter-widgets/controls",
          "model_name": "HTMLModel",
          "state": {
            "_view_name": "HTMLView",
            "style": "IPY_MODEL_e2d2342d73734e04a2eea3fc04b602f3",
            "_dom_classes": [],
            "description": "",
            "_model_name": "HTMLModel",
            "placeholder": "​",
            "_view_module": "@jupyter-widgets/controls",
            "_model_module_version": "1.5.0",
            "value": "Summarize dataset: 100%",
            "_view_count": null,
            "_view_module_version": "1.5.0",
            "description_tooltip": null,
            "_model_module": "@jupyter-widgets/controls",
            "layout": "IPY_MODEL_ddb99bba48014901ae3a5e9a3d4c50b0"
          }
        },
        "e7bbcf72088b4b6395df592be9909a2a": {
          "model_module": "@jupyter-widgets/controls",
          "model_name": "FloatProgressModel",
          "state": {
            "_view_name": "ProgressView",
            "style": "IPY_MODEL_73dbf208d1d540bd858664b197a7e356",
            "_dom_classes": [],
            "description": "",
            "_model_name": "FloatProgressModel",
            "bar_style": "success",
            "max": 18,
            "_view_module": "@jupyter-widgets/controls",
            "_model_module_version": "1.5.0",
            "value": 18,
            "_view_count": null,
            "_view_module_version": "1.5.0",
            "orientation": "horizontal",
            "min": 0,
            "description_tooltip": null,
            "_model_module": "@jupyter-widgets/controls",
            "layout": "IPY_MODEL_48cc5336149646bb90c8701c213288e7"
          }
        },
        "400928cc643e4653ba146c6ecc39e6d2": {
          "model_module": "@jupyter-widgets/controls",
          "model_name": "HTMLModel",
          "state": {
            "_view_name": "HTMLView",
            "style": "IPY_MODEL_c7a0d72568a44e7a9c8b0c3aed0cd15c",
            "_dom_classes": [],
            "description": "",
            "_model_name": "HTMLModel",
            "placeholder": "​",
            "_view_module": "@jupyter-widgets/controls",
            "_model_module_version": "1.5.0",
            "value": " 18/18 [00:04&lt;00:00,  3.38it/s, Completed]",
            "_view_count": null,
            "_view_module_version": "1.5.0",
            "description_tooltip": null,
            "_model_module": "@jupyter-widgets/controls",
            "layout": "IPY_MODEL_b4822d4a3d2441bba7b4571ac7af3255"
          }
        },
        "e2d2342d73734e04a2eea3fc04b602f3": {
          "model_module": "@jupyter-widgets/controls",
          "model_name": "DescriptionStyleModel",
          "state": {
            "_view_name": "StyleView",
            "_model_name": "DescriptionStyleModel",
            "description_width": "",
            "_view_module": "@jupyter-widgets/base",
            "_model_module_version": "1.5.0",
            "_view_count": null,
            "_view_module_version": "1.2.0",
            "_model_module": "@jupyter-widgets/controls"
          }
        },
        "ddb99bba48014901ae3a5e9a3d4c50b0": {
          "model_module": "@jupyter-widgets/base",
          "model_name": "LayoutModel",
          "state": {
            "_view_name": "LayoutView",
            "grid_template_rows": null,
            "right": null,
            "justify_content": null,
            "_view_module": "@jupyter-widgets/base",
            "overflow": null,
            "_model_module_version": "1.2.0",
            "_view_count": null,
            "flex_flow": null,
            "width": null,
            "min_width": null,
            "border": null,
            "align_items": null,
            "bottom": null,
            "_model_module": "@jupyter-widgets/base",
            "top": null,
            "grid_column": null,
            "overflow_y": null,
            "overflow_x": null,
            "grid_auto_flow": null,
            "grid_area": null,
            "grid_template_columns": null,
            "flex": null,
            "_model_name": "LayoutModel",
            "justify_items": null,
            "grid_row": null,
            "max_height": null,
            "align_content": null,
            "visibility": null,
            "align_self": null,
            "height": null,
            "min_height": null,
            "padding": null,
            "grid_auto_rows": null,
            "grid_gap": null,
            "max_width": null,
            "order": null,
            "_view_module_version": "1.2.0",
            "grid_template_areas": null,
            "object_position": null,
            "object_fit": null,
            "grid_auto_columns": null,
            "margin": null,
            "display": null,
            "left": null
          }
        },
        "73dbf208d1d540bd858664b197a7e356": {
          "model_module": "@jupyter-widgets/controls",
          "model_name": "ProgressStyleModel",
          "state": {
            "_view_name": "StyleView",
            "_model_name": "ProgressStyleModel",
            "description_width": "",
            "_view_module": "@jupyter-widgets/base",
            "_model_module_version": "1.5.0",
            "_view_count": null,
            "_view_module_version": "1.2.0",
            "bar_color": null,
            "_model_module": "@jupyter-widgets/controls"
          }
        },
        "48cc5336149646bb90c8701c213288e7": {
          "model_module": "@jupyter-widgets/base",
          "model_name": "LayoutModel",
          "state": {
            "_view_name": "LayoutView",
            "grid_template_rows": null,
            "right": null,
            "justify_content": null,
            "_view_module": "@jupyter-widgets/base",
            "overflow": null,
            "_model_module_version": "1.2.0",
            "_view_count": null,
            "flex_flow": null,
            "width": null,
            "min_width": null,
            "border": null,
            "align_items": null,
            "bottom": null,
            "_model_module": "@jupyter-widgets/base",
            "top": null,
            "grid_column": null,
            "overflow_y": null,
            "overflow_x": null,
            "grid_auto_flow": null,
            "grid_area": null,
            "grid_template_columns": null,
            "flex": null,
            "_model_name": "LayoutModel",
            "justify_items": null,
            "grid_row": null,
            "max_height": null,
            "align_content": null,
            "visibility": null,
            "align_self": null,
            "height": null,
            "min_height": null,
            "padding": null,
            "grid_auto_rows": null,
            "grid_gap": null,
            "max_width": null,
            "order": null,
            "_view_module_version": "1.2.0",
            "grid_template_areas": null,
            "object_position": null,
            "object_fit": null,
            "grid_auto_columns": null,
            "margin": null,
            "display": null,
            "left": null
          }
        },
        "c7a0d72568a44e7a9c8b0c3aed0cd15c": {
          "model_module": "@jupyter-widgets/controls",
          "model_name": "DescriptionStyleModel",
          "state": {
            "_view_name": "StyleView",
            "_model_name": "DescriptionStyleModel",
            "description_width": "",
            "_view_module": "@jupyter-widgets/base",
            "_model_module_version": "1.5.0",
            "_view_count": null,
            "_view_module_version": "1.2.0",
            "_model_module": "@jupyter-widgets/controls"
          }
        },
        "b4822d4a3d2441bba7b4571ac7af3255": {
          "model_module": "@jupyter-widgets/base",
          "model_name": "LayoutModel",
          "state": {
            "_view_name": "LayoutView",
            "grid_template_rows": null,
            "right": null,
            "justify_content": null,
            "_view_module": "@jupyter-widgets/base",
            "overflow": null,
            "_model_module_version": "1.2.0",
            "_view_count": null,
            "flex_flow": null,
            "width": null,
            "min_width": null,
            "border": null,
            "align_items": null,
            "bottom": null,
            "_model_module": "@jupyter-widgets/base",
            "top": null,
            "grid_column": null,
            "overflow_y": null,
            "overflow_x": null,
            "grid_auto_flow": null,
            "grid_area": null,
            "grid_template_columns": null,
            "flex": null,
            "_model_name": "LayoutModel",
            "justify_items": null,
            "grid_row": null,
            "max_height": null,
            "align_content": null,
            "visibility": null,
            "align_self": null,
            "height": null,
            "min_height": null,
            "padding": null,
            "grid_auto_rows": null,
            "grid_gap": null,
            "max_width": null,
            "order": null,
            "_view_module_version": "1.2.0",
            "grid_template_areas": null,
            "object_position": null,
            "object_fit": null,
            "grid_auto_columns": null,
            "margin": null,
            "display": null,
            "left": null
          }
        },
        "d2921bdaa1aa4ba09d577e7ac4e83ee2": {
          "model_module": "@jupyter-widgets/controls",
          "model_name": "HBoxModel",
          "state": {
            "_view_name": "HBoxView",
            "_dom_classes": [],
            "_model_name": "HBoxModel",
            "_view_module": "@jupyter-widgets/controls",
            "_model_module_version": "1.5.0",
            "_view_count": null,
            "_view_module_version": "1.5.0",
            "box_style": "",
            "layout": "IPY_MODEL_b21408e53b6a4345905783c3bc53d2d5",
            "_model_module": "@jupyter-widgets/controls",
            "children": [
              "IPY_MODEL_5660bd789bd6408b986873ea7913aa63",
              "IPY_MODEL_a4934cd9b1fe40158b23b7e0559a4744",
              "IPY_MODEL_2f2eeda1597c49e2b857ac095045af38"
            ]
          }
        },
        "b21408e53b6a4345905783c3bc53d2d5": {
          "model_module": "@jupyter-widgets/base",
          "model_name": "LayoutModel",
          "state": {
            "_view_name": "LayoutView",
            "grid_template_rows": null,
            "right": null,
            "justify_content": null,
            "_view_module": "@jupyter-widgets/base",
            "overflow": null,
            "_model_module_version": "1.2.0",
            "_view_count": null,
            "flex_flow": null,
            "width": null,
            "min_width": null,
            "border": null,
            "align_items": null,
            "bottom": null,
            "_model_module": "@jupyter-widgets/base",
            "top": null,
            "grid_column": null,
            "overflow_y": null,
            "overflow_x": null,
            "grid_auto_flow": null,
            "grid_area": null,
            "grid_template_columns": null,
            "flex": null,
            "_model_name": "LayoutModel",
            "justify_items": null,
            "grid_row": null,
            "max_height": null,
            "align_content": null,
            "visibility": null,
            "align_self": null,
            "height": null,
            "min_height": null,
            "padding": null,
            "grid_auto_rows": null,
            "grid_gap": null,
            "max_width": null,
            "order": null,
            "_view_module_version": "1.2.0",
            "grid_template_areas": null,
            "object_position": null,
            "object_fit": null,
            "grid_auto_columns": null,
            "margin": null,
            "display": null,
            "left": null
          }
        },
        "5660bd789bd6408b986873ea7913aa63": {
          "model_module": "@jupyter-widgets/controls",
          "model_name": "HTMLModel",
          "state": {
            "_view_name": "HTMLView",
            "style": "IPY_MODEL_2316b740a8624ad4be4f318004fd23fd",
            "_dom_classes": [],
            "description": "",
            "_model_name": "HTMLModel",
            "placeholder": "​",
            "_view_module": "@jupyter-widgets/controls",
            "_model_module_version": "1.5.0",
            "value": "Generate report structure: 100%",
            "_view_count": null,
            "_view_module_version": "1.5.0",
            "description_tooltip": null,
            "_model_module": "@jupyter-widgets/controls",
            "layout": "IPY_MODEL_c26375ca0a394d279b9d8e58e0506cc7"
          }
        },
        "a4934cd9b1fe40158b23b7e0559a4744": {
          "model_module": "@jupyter-widgets/controls",
          "model_name": "FloatProgressModel",
          "state": {
            "_view_name": "ProgressView",
            "style": "IPY_MODEL_726bb27293ff46658716232d0f8851c0",
            "_dom_classes": [],
            "description": "",
            "_model_name": "FloatProgressModel",
            "bar_style": "success",
            "max": 1,
            "_view_module": "@jupyter-widgets/controls",
            "_model_module_version": "1.5.0",
            "value": 1,
            "_view_count": null,
            "_view_module_version": "1.5.0",
            "orientation": "horizontal",
            "min": 0,
            "description_tooltip": null,
            "_model_module": "@jupyter-widgets/controls",
            "layout": "IPY_MODEL_02aa752b859040a598caa8a8caef5b00"
          }
        },
        "2f2eeda1597c49e2b857ac095045af38": {
          "model_module": "@jupyter-widgets/controls",
          "model_name": "HTMLModel",
          "state": {
            "_view_name": "HTMLView",
            "style": "IPY_MODEL_2ffb287917fe427a8c0c5555e1bcc44e",
            "_dom_classes": [],
            "description": "",
            "_model_name": "HTMLModel",
            "placeholder": "​",
            "_view_module": "@jupyter-widgets/controls",
            "_model_module_version": "1.5.0",
            "value": " 1/1 [00:02&lt;00:00,  2.72s/it]",
            "_view_count": null,
            "_view_module_version": "1.5.0",
            "description_tooltip": null,
            "_model_module": "@jupyter-widgets/controls",
            "layout": "IPY_MODEL_c6c7b254083740b9920b1f8f12540ddc"
          }
        },
        "2316b740a8624ad4be4f318004fd23fd": {
          "model_module": "@jupyter-widgets/controls",
          "model_name": "DescriptionStyleModel",
          "state": {
            "_view_name": "StyleView",
            "_model_name": "DescriptionStyleModel",
            "description_width": "",
            "_view_module": "@jupyter-widgets/base",
            "_model_module_version": "1.5.0",
            "_view_count": null,
            "_view_module_version": "1.2.0",
            "_model_module": "@jupyter-widgets/controls"
          }
        },
        "c26375ca0a394d279b9d8e58e0506cc7": {
          "model_module": "@jupyter-widgets/base",
          "model_name": "LayoutModel",
          "state": {
            "_view_name": "LayoutView",
            "grid_template_rows": null,
            "right": null,
            "justify_content": null,
            "_view_module": "@jupyter-widgets/base",
            "overflow": null,
            "_model_module_version": "1.2.0",
            "_view_count": null,
            "flex_flow": null,
            "width": null,
            "min_width": null,
            "border": null,
            "align_items": null,
            "bottom": null,
            "_model_module": "@jupyter-widgets/base",
            "top": null,
            "grid_column": null,
            "overflow_y": null,
            "overflow_x": null,
            "grid_auto_flow": null,
            "grid_area": null,
            "grid_template_columns": null,
            "flex": null,
            "_model_name": "LayoutModel",
            "justify_items": null,
            "grid_row": null,
            "max_height": null,
            "align_content": null,
            "visibility": null,
            "align_self": null,
            "height": null,
            "min_height": null,
            "padding": null,
            "grid_auto_rows": null,
            "grid_gap": null,
            "max_width": null,
            "order": null,
            "_view_module_version": "1.2.0",
            "grid_template_areas": null,
            "object_position": null,
            "object_fit": null,
            "grid_auto_columns": null,
            "margin": null,
            "display": null,
            "left": null
          }
        },
        "726bb27293ff46658716232d0f8851c0": {
          "model_module": "@jupyter-widgets/controls",
          "model_name": "ProgressStyleModel",
          "state": {
            "_view_name": "StyleView",
            "_model_name": "ProgressStyleModel",
            "description_width": "",
            "_view_module": "@jupyter-widgets/base",
            "_model_module_version": "1.5.0",
            "_view_count": null,
            "_view_module_version": "1.2.0",
            "bar_color": null,
            "_model_module": "@jupyter-widgets/controls"
          }
        },
        "02aa752b859040a598caa8a8caef5b00": {
          "model_module": "@jupyter-widgets/base",
          "model_name": "LayoutModel",
          "state": {
            "_view_name": "LayoutView",
            "grid_template_rows": null,
            "right": null,
            "justify_content": null,
            "_view_module": "@jupyter-widgets/base",
            "overflow": null,
            "_model_module_version": "1.2.0",
            "_view_count": null,
            "flex_flow": null,
            "width": null,
            "min_width": null,
            "border": null,
            "align_items": null,
            "bottom": null,
            "_model_module": "@jupyter-widgets/base",
            "top": null,
            "grid_column": null,
            "overflow_y": null,
            "overflow_x": null,
            "grid_auto_flow": null,
            "grid_area": null,
            "grid_template_columns": null,
            "flex": null,
            "_model_name": "LayoutModel",
            "justify_items": null,
            "grid_row": null,
            "max_height": null,
            "align_content": null,
            "visibility": null,
            "align_self": null,
            "height": null,
            "min_height": null,
            "padding": null,
            "grid_auto_rows": null,
            "grid_gap": null,
            "max_width": null,
            "order": null,
            "_view_module_version": "1.2.0",
            "grid_template_areas": null,
            "object_position": null,
            "object_fit": null,
            "grid_auto_columns": null,
            "margin": null,
            "display": null,
            "left": null
          }
        },
        "2ffb287917fe427a8c0c5555e1bcc44e": {
          "model_module": "@jupyter-widgets/controls",
          "model_name": "DescriptionStyleModel",
          "state": {
            "_view_name": "StyleView",
            "_model_name": "DescriptionStyleModel",
            "description_width": "",
            "_view_module": "@jupyter-widgets/base",
            "_model_module_version": "1.5.0",
            "_view_count": null,
            "_view_module_version": "1.2.0",
            "_model_module": "@jupyter-widgets/controls"
          }
        },
        "c6c7b254083740b9920b1f8f12540ddc": {
          "model_module": "@jupyter-widgets/base",
          "model_name": "LayoutModel",
          "state": {
            "_view_name": "LayoutView",
            "grid_template_rows": null,
            "right": null,
            "justify_content": null,
            "_view_module": "@jupyter-widgets/base",
            "overflow": null,
            "_model_module_version": "1.2.0",
            "_view_count": null,
            "flex_flow": null,
            "width": null,
            "min_width": null,
            "border": null,
            "align_items": null,
            "bottom": null,
            "_model_module": "@jupyter-widgets/base",
            "top": null,
            "grid_column": null,
            "overflow_y": null,
            "overflow_x": null,
            "grid_auto_flow": null,
            "grid_area": null,
            "grid_template_columns": null,
            "flex": null,
            "_model_name": "LayoutModel",
            "justify_items": null,
            "grid_row": null,
            "max_height": null,
            "align_content": null,
            "visibility": null,
            "align_self": null,
            "height": null,
            "min_height": null,
            "padding": null,
            "grid_auto_rows": null,
            "grid_gap": null,
            "max_width": null,
            "order": null,
            "_view_module_version": "1.2.0",
            "grid_template_areas": null,
            "object_position": null,
            "object_fit": null,
            "grid_auto_columns": null,
            "margin": null,
            "display": null,
            "left": null
          }
        },
        "47895be1b19f4d9db306d8aad5a427c6": {
          "model_module": "@jupyter-widgets/controls",
          "model_name": "HBoxModel",
          "state": {
            "_view_name": "HBoxView",
            "_dom_classes": [],
            "_model_name": "HBoxModel",
            "_view_module": "@jupyter-widgets/controls",
            "_model_module_version": "1.5.0",
            "_view_count": null,
            "_view_module_version": "1.5.0",
            "box_style": "",
            "layout": "IPY_MODEL_f36b370a86434dccbb309ca95c19ca24",
            "_model_module": "@jupyter-widgets/controls",
            "children": [
              "IPY_MODEL_d63d2332f3b04fa4891ad4a6e622fa02",
              "IPY_MODEL_74afceded1ed41f7a9655375f390704f",
              "IPY_MODEL_2f3c1d60870b4e6abd0bea59c4bf23f3"
            ]
          }
        },
        "f36b370a86434dccbb309ca95c19ca24": {
          "model_module": "@jupyter-widgets/base",
          "model_name": "LayoutModel",
          "state": {
            "_view_name": "LayoutView",
            "grid_template_rows": null,
            "right": null,
            "justify_content": null,
            "_view_module": "@jupyter-widgets/base",
            "overflow": null,
            "_model_module_version": "1.2.0",
            "_view_count": null,
            "flex_flow": null,
            "width": null,
            "min_width": null,
            "border": null,
            "align_items": null,
            "bottom": null,
            "_model_module": "@jupyter-widgets/base",
            "top": null,
            "grid_column": null,
            "overflow_y": null,
            "overflow_x": null,
            "grid_auto_flow": null,
            "grid_area": null,
            "grid_template_columns": null,
            "flex": null,
            "_model_name": "LayoutModel",
            "justify_items": null,
            "grid_row": null,
            "max_height": null,
            "align_content": null,
            "visibility": null,
            "align_self": null,
            "height": null,
            "min_height": null,
            "padding": null,
            "grid_auto_rows": null,
            "grid_gap": null,
            "max_width": null,
            "order": null,
            "_view_module_version": "1.2.0",
            "grid_template_areas": null,
            "object_position": null,
            "object_fit": null,
            "grid_auto_columns": null,
            "margin": null,
            "display": null,
            "left": null
          }
        },
        "d63d2332f3b04fa4891ad4a6e622fa02": {
          "model_module": "@jupyter-widgets/controls",
          "model_name": "HTMLModel",
          "state": {
            "_view_name": "HTMLView",
            "style": "IPY_MODEL_db6b4f33a7a34ca185787d7c5d912654",
            "_dom_classes": [],
            "description": "",
            "_model_name": "HTMLModel",
            "placeholder": "​",
            "_view_module": "@jupyter-widgets/controls",
            "_model_module_version": "1.5.0",
            "value": "Render HTML: 100%",
            "_view_count": null,
            "_view_module_version": "1.5.0",
            "description_tooltip": null,
            "_model_module": "@jupyter-widgets/controls",
            "layout": "IPY_MODEL_426f87bd13bd49a6a79fc6c1f05b3ab0"
          }
        },
        "74afceded1ed41f7a9655375f390704f": {
          "model_module": "@jupyter-widgets/controls",
          "model_name": "FloatProgressModel",
          "state": {
            "_view_name": "ProgressView",
            "style": "IPY_MODEL_19724faf74a640c2a751497f5163cf67",
            "_dom_classes": [],
            "description": "",
            "_model_name": "FloatProgressModel",
            "bar_style": "success",
            "max": 1,
            "_view_module": "@jupyter-widgets/controls",
            "_model_module_version": "1.5.0",
            "value": 1,
            "_view_count": null,
            "_view_module_version": "1.5.0",
            "orientation": "horizontal",
            "min": 0,
            "description_tooltip": null,
            "_model_module": "@jupyter-widgets/controls",
            "layout": "IPY_MODEL_013bb8a06952493abf734226639ed4bb"
          }
        },
        "2f3c1d60870b4e6abd0bea59c4bf23f3": {
          "model_module": "@jupyter-widgets/controls",
          "model_name": "HTMLModel",
          "state": {
            "_view_name": "HTMLView",
            "style": "IPY_MODEL_572f2d9ef0af415187196842b67a1e8b",
            "_dom_classes": [],
            "description": "",
            "_model_name": "HTMLModel",
            "placeholder": "​",
            "_view_module": "@jupyter-widgets/controls",
            "_model_module_version": "1.5.0",
            "value": " 1/1 [00:00&lt;00:00,  1.96it/s]",
            "_view_count": null,
            "_view_module_version": "1.5.0",
            "description_tooltip": null,
            "_model_module": "@jupyter-widgets/controls",
            "layout": "IPY_MODEL_b49d77914e804a489e2072873cfbea29"
          }
        },
        "db6b4f33a7a34ca185787d7c5d912654": {
          "model_module": "@jupyter-widgets/controls",
          "model_name": "DescriptionStyleModel",
          "state": {
            "_view_name": "StyleView",
            "_model_name": "DescriptionStyleModel",
            "description_width": "",
            "_view_module": "@jupyter-widgets/base",
            "_model_module_version": "1.5.0",
            "_view_count": null,
            "_view_module_version": "1.2.0",
            "_model_module": "@jupyter-widgets/controls"
          }
        },
        "426f87bd13bd49a6a79fc6c1f05b3ab0": {
          "model_module": "@jupyter-widgets/base",
          "model_name": "LayoutModel",
          "state": {
            "_view_name": "LayoutView",
            "grid_template_rows": null,
            "right": null,
            "justify_content": null,
            "_view_module": "@jupyter-widgets/base",
            "overflow": null,
            "_model_module_version": "1.2.0",
            "_view_count": null,
            "flex_flow": null,
            "width": null,
            "min_width": null,
            "border": null,
            "align_items": null,
            "bottom": null,
            "_model_module": "@jupyter-widgets/base",
            "top": null,
            "grid_column": null,
            "overflow_y": null,
            "overflow_x": null,
            "grid_auto_flow": null,
            "grid_area": null,
            "grid_template_columns": null,
            "flex": null,
            "_model_name": "LayoutModel",
            "justify_items": null,
            "grid_row": null,
            "max_height": null,
            "align_content": null,
            "visibility": null,
            "align_self": null,
            "height": null,
            "min_height": null,
            "padding": null,
            "grid_auto_rows": null,
            "grid_gap": null,
            "max_width": null,
            "order": null,
            "_view_module_version": "1.2.0",
            "grid_template_areas": null,
            "object_position": null,
            "object_fit": null,
            "grid_auto_columns": null,
            "margin": null,
            "display": null,
            "left": null
          }
        },
        "19724faf74a640c2a751497f5163cf67": {
          "model_module": "@jupyter-widgets/controls",
          "model_name": "ProgressStyleModel",
          "state": {
            "_view_name": "StyleView",
            "_model_name": "ProgressStyleModel",
            "description_width": "",
            "_view_module": "@jupyter-widgets/base",
            "_model_module_version": "1.5.0",
            "_view_count": null,
            "_view_module_version": "1.2.0",
            "bar_color": null,
            "_model_module": "@jupyter-widgets/controls"
          }
        },
        "013bb8a06952493abf734226639ed4bb": {
          "model_module": "@jupyter-widgets/base",
          "model_name": "LayoutModel",
          "state": {
            "_view_name": "LayoutView",
            "grid_template_rows": null,
            "right": null,
            "justify_content": null,
            "_view_module": "@jupyter-widgets/base",
            "overflow": null,
            "_model_module_version": "1.2.0",
            "_view_count": null,
            "flex_flow": null,
            "width": null,
            "min_width": null,
            "border": null,
            "align_items": null,
            "bottom": null,
            "_model_module": "@jupyter-widgets/base",
            "top": null,
            "grid_column": null,
            "overflow_y": null,
            "overflow_x": null,
            "grid_auto_flow": null,
            "grid_area": null,
            "grid_template_columns": null,
            "flex": null,
            "_model_name": "LayoutModel",
            "justify_items": null,
            "grid_row": null,
            "max_height": null,
            "align_content": null,
            "visibility": null,
            "align_self": null,
            "height": null,
            "min_height": null,
            "padding": null,
            "grid_auto_rows": null,
            "grid_gap": null,
            "max_width": null,
            "order": null,
            "_view_module_version": "1.2.0",
            "grid_template_areas": null,
            "object_position": null,
            "object_fit": null,
            "grid_auto_columns": null,
            "margin": null,
            "display": null,
            "left": null
          }
        },
        "572f2d9ef0af415187196842b67a1e8b": {
          "model_module": "@jupyter-widgets/controls",
          "model_name": "DescriptionStyleModel",
          "state": {
            "_view_name": "StyleView",
            "_model_name": "DescriptionStyleModel",
            "description_width": "",
            "_view_module": "@jupyter-widgets/base",
            "_model_module_version": "1.5.0",
            "_view_count": null,
            "_view_module_version": "1.2.0",
            "_model_module": "@jupyter-widgets/controls"
          }
        },
        "b49d77914e804a489e2072873cfbea29": {
          "model_module": "@jupyter-widgets/base",
          "model_name": "LayoutModel",
          "state": {
            "_view_name": "LayoutView",
            "grid_template_rows": null,
            "right": null,
            "justify_content": null,
            "_view_module": "@jupyter-widgets/base",
            "overflow": null,
            "_model_module_version": "1.2.0",
            "_view_count": null,
            "flex_flow": null,
            "width": null,
            "min_width": null,
            "border": null,
            "align_items": null,
            "bottom": null,
            "_model_module": "@jupyter-widgets/base",
            "top": null,
            "grid_column": null,
            "overflow_y": null,
            "overflow_x": null,
            "grid_auto_flow": null,
            "grid_area": null,
            "grid_template_columns": null,
            "flex": null,
            "_model_name": "LayoutModel",
            "justify_items": null,
            "grid_row": null,
            "max_height": null,
            "align_content": null,
            "visibility": null,
            "align_self": null,
            "height": null,
            "min_height": null,
            "padding": null,
            "grid_auto_rows": null,
            "grid_gap": null,
            "max_width": null,
            "order": null,
            "_view_module_version": "1.2.0",
            "grid_template_areas": null,
            "object_position": null,
            "object_fit": null,
            "grid_auto_columns": null,
            "margin": null,
            "display": null,
            "left": null
          }
        }
      }
    },
    "interpreter": {
      "hash": "916dbcbb3f70747c44a77c7bcd40155683ae19c65e1c03b4aa3499c5328201f1"
    }
  },
  "cells": [
    {
      "cell_type": "markdown",
      "metadata": {
        "id": "mwuD5RYI2jEw"
      },
      "source": [
        "**Documentation**:\n",
        "\n",
        "*   we have a total of **962** sartup\n",
        "*   **columns** are: name, url , class, status , description\n",
        "*   we have 153 startups without url ==> 15.9%\n",
        "*   Dropped url column because it's redundant\n",
        "*   None of our class column is missing values\n",
        "*   For all of our 962 startups we have only 24 class\n",
        "*   77.75% of our data is missing status\n",
        "*   we have 2 status for startups : exited/ dead/nan\n",
        "*   we replaced nan values with -1 for the startup status column and exited with 1 and dead with 0\n",
        "*   we have 9 missing startups description; we're manually filling them\n",
        "*   we have 5 startups names that are being duplicated but they appear to not be the same check below for more details \n",
        "* **TEXT CLEANING**:\n",
        "*   For description column: Removed punctuations+stop words+lowercase+removed diacritics\n",
        "+ Profile Reporter\n",
        "\n",
        "\n",
        "\n"
      ]
    },
    {
      "cell_type": "code",
      "metadata": {
        "id": "LjjiMNDSsp2z"
      },
      "source": [
        "import pandas as pd\n",
        "import numpy as np\n",
        "import texthero as hero\n",
        "from pandas_profiling import ProfileReport"
      ],
      "execution_count": 64,
      "outputs": []
    },
    {
      "cell_type": "markdown",
      "metadata": {
        "id": "6fjCutAqu4XL"
      },
      "source": [
        "### We need to open the csv with an encoding of ***latin1*** else we'll face an error."
      ]
    },
    {
      "cell_type": "code",
      "metadata": {
        "colab": {
          "base_uri": "https://localhost:8080/",
          "height": 206
        },
        "id": "Sawv7zJAs4f8",
        "outputId": "2af8035d-cbd4-461a-e10a-673f1bafdb05"
      },
      "source": [
        "df=pd.read_csv(\"/home/seneca/Documents/Omdena/pennyslvenia_startupsucces/omdena-pennsylvania-startup/src/tasks/task-1-data-collection/YCombinatorCompanies.csv\", encoding=\"latin1\")\n",
        "df.head()\n"
      ],
      "execution_count": 65,
      "outputs": [
        {
          "output_type": "execute_result",
          "data": {
            "text/plain": [
              "            Name                          URL Class Status  \\\n",
              "0       Awesound         https://awesound.com    F2    NaN   \n",
              "1   BillionToOne  http://www.billiontoone.com    F2    NaN   \n",
              "2       Bulletin     http://shop-bulletin.com    F2    NaN   \n",
              "3        Cerplus    http://www.getcerplus.com    F2    NaN   \n",
              "4  ConnectHealth  http://www.connecthealth.io    F2    NaN   \n",
              "\n",
              "                                        Description  \n",
              "0                              AdWords for podcasts  \n",
              "1                    Fetal genetic testing in India  \n",
              "2                                 Airbnb for retail  \n",
              "3               B2B marketplace for surplus produce  \n",
              "4  Telemedicine and prescription delivery in Africa  "
            ],
            "text/html": "<div>\n<style scoped>\n    .dataframe tbody tr th:only-of-type {\n        vertical-align: middle;\n    }\n\n    .dataframe tbody tr th {\n        vertical-align: top;\n    }\n\n    .dataframe thead th {\n        text-align: right;\n    }\n</style>\n<table border=\"1\" class=\"dataframe\">\n  <thead>\n    <tr style=\"text-align: right;\">\n      <th></th>\n      <th>Name</th>\n      <th>URL</th>\n      <th>Class</th>\n      <th>Status</th>\n      <th>Description</th>\n    </tr>\n  </thead>\n  <tbody>\n    <tr>\n      <th>0</th>\n      <td>Awesound</td>\n      <td>https://awesound.com</td>\n      <td>F2</td>\n      <td>NaN</td>\n      <td>AdWords for podcasts</td>\n    </tr>\n    <tr>\n      <th>1</th>\n      <td>BillionToOne</td>\n      <td>http://www.billiontoone.com</td>\n      <td>F2</td>\n      <td>NaN</td>\n      <td>Fetal genetic testing in India</td>\n    </tr>\n    <tr>\n      <th>2</th>\n      <td>Bulletin</td>\n      <td>http://shop-bulletin.com</td>\n      <td>F2</td>\n      <td>NaN</td>\n      <td>Airbnb for retail</td>\n    </tr>\n    <tr>\n      <th>3</th>\n      <td>Cerplus</td>\n      <td>http://www.getcerplus.com</td>\n      <td>F2</td>\n      <td>NaN</td>\n      <td>B2B marketplace for surplus produce</td>\n    </tr>\n    <tr>\n      <th>4</th>\n      <td>ConnectHealth</td>\n      <td>http://www.connecthealth.io</td>\n      <td>F2</td>\n      <td>NaN</td>\n      <td>Telemedicine and prescription delivery in Africa</td>\n    </tr>\n  </tbody>\n</table>\n</div>"
          },
          "metadata": {},
          "execution_count": 65
        }
      ]
    },
    {
      "cell_type": "markdown",
      "metadata": {
        "id": "6WR43F_bqW3h"
      },
      "source": [
        "# Column 1: Name cleaning"
      ]
    },
    {
      "cell_type": "code",
      "metadata": {
        "colab": {
          "base_uri": "https://localhost:8080/"
        },
        "id": "xMqsm6ITtCFv",
        "outputId": "0cb6ba00-c190-499e-ad33-77d7a37ce024"
      },
      "source": [
        "unique_name=len(df.Name.unique())\n",
        "all_names= len(df.Name)\n",
        "print(all_names) , print(unique_name)"
      ],
      "execution_count": 66,
      "outputs": [
        {
          "output_type": "stream",
          "name": "stdout",
          "text": [
            "962\n957\n"
          ]
        },
        {
          "output_type": "execute_result",
          "data": {
            "text/plain": [
              "(None, None)"
            ]
          },
          "metadata": {},
          "execution_count": 66
        }
      ]
    },
    {
      "cell_type": "markdown",
      "metadata": {
        "id": "FLzQSORgvkP_"
      },
      "source": [
        "### we have 5 names that are being repeated, we need to check them\n",
        "1. See if they're duplicted\n",
        "2. If they're 2 startups with the same name\n",
        "3. If they updated one of their status"
      ]
    },
    {
      "cell_type": "code",
      "metadata": {
        "colab": {
          "base_uri": "https://localhost:8080/",
          "height": 206
        },
        "id": "rKwJcQ5LvJIR",
        "outputId": "310cf98c-0dc0-412b-ae98-459700ff7084"
      },
      "source": [
        "df[df.duplicated(subset=['Name']) == True ]"
      ],
      "execution_count": 67,
      "outputs": [
        {
          "output_type": "execute_result",
          "data": {
            "text/plain": [
              "            Name                          URL Class Status  \\\n",
              "124     Restocks          https://restocks.io   W16    NaN   \n",
              "132     Shypmate      http://www.shypmate.com   W16    NaN   \n",
              "138  StrongIntro                          NaN   W16   Dead   \n",
              "338       Supply  http://www.madebysupply.com   W15    NaN   \n",
              "461        Weave      http://www.getweave.com   W14    NaN   \n",
              "\n",
              "                                           Description  \n",
              "124  Push notifications for superconsumers. We make...  \n",
              "132  Shypmate enables a fast, reliable and cost eff...  \n",
              "138  StrongIntro helps recruiters turn their entire...  \n",
              "338                    Wireless power, through the air  \n",
              "461  Better phone service for your dental practice ...  "
            ],
            "text/html": "<div>\n<style scoped>\n    .dataframe tbody tr th:only-of-type {\n        vertical-align: middle;\n    }\n\n    .dataframe tbody tr th {\n        vertical-align: top;\n    }\n\n    .dataframe thead th {\n        text-align: right;\n    }\n</style>\n<table border=\"1\" class=\"dataframe\">\n  <thead>\n    <tr style=\"text-align: right;\">\n      <th></th>\n      <th>Name</th>\n      <th>URL</th>\n      <th>Class</th>\n      <th>Status</th>\n      <th>Description</th>\n    </tr>\n  </thead>\n  <tbody>\n    <tr>\n      <th>124</th>\n      <td>Restocks</td>\n      <td>https://restocks.io</td>\n      <td>W16</td>\n      <td>NaN</td>\n      <td>Push notifications for superconsumers. We make...</td>\n    </tr>\n    <tr>\n      <th>132</th>\n      <td>Shypmate</td>\n      <td>http://www.shypmate.com</td>\n      <td>W16</td>\n      <td>NaN</td>\n      <td>Shypmate enables a fast, reliable and cost eff...</td>\n    </tr>\n    <tr>\n      <th>138</th>\n      <td>StrongIntro</td>\n      <td>NaN</td>\n      <td>W16</td>\n      <td>Dead</td>\n      <td>StrongIntro helps recruiters turn their entire...</td>\n    </tr>\n    <tr>\n      <th>338</th>\n      <td>Supply</td>\n      <td>http://www.madebysupply.com</td>\n      <td>W15</td>\n      <td>NaN</td>\n      <td>Wireless power, through the air</td>\n    </tr>\n    <tr>\n      <th>461</th>\n      <td>Weave</td>\n      <td>http://www.getweave.com</td>\n      <td>W14</td>\n      <td>NaN</td>\n      <td>Better phone service for your dental practice ...</td>\n    </tr>\n  </tbody>\n</table>\n</div>"
          },
          "metadata": {},
          "execution_count": 67
        }
      ]
    },
    {
      "cell_type": "markdown",
      "metadata": {
        "id": "hkenfVO2pzfO"
      },
      "source": [
        "\n",
        "\n",
        "  ## Restocks\n",
        "\n",
        "1.  Class difference :  F1 vs W16\n",
        "2.   Description \n",
        "\n",
        "\n"
      ]
    },
    {
      "cell_type": "code",
      "metadata": {
        "id": "ShtcdYqXv1VF",
        "colab": {
          "base_uri": "https://localhost:8080/",
          "height": 112
        },
        "outputId": "38796ad3-bfaf-455c-e382-55f267373ed8"
      },
      "source": [
        "df[df[\"Name\"]== \"Restocks\"]"
      ],
      "execution_count": 68,
      "outputs": [
        {
          "output_type": "execute_result",
          "data": {
            "text/plain": [
              "         Name                  URL Class Status  \\\n",
              "40   Restocks  https://restocks.io    F1    NaN   \n",
              "124  Restocks  https://restocks.io   W16    NaN   \n",
              "\n",
              "                                           Description  \n",
              "40   Push notifications when sold out products restock  \n",
              "124  Push notifications for superconsumers. We make...  "
            ],
            "text/html": "<div>\n<style scoped>\n    .dataframe tbody tr th:only-of-type {\n        vertical-align: middle;\n    }\n\n    .dataframe tbody tr th {\n        vertical-align: top;\n    }\n\n    .dataframe thead th {\n        text-align: right;\n    }\n</style>\n<table border=\"1\" class=\"dataframe\">\n  <thead>\n    <tr style=\"text-align: right;\">\n      <th></th>\n      <th>Name</th>\n      <th>URL</th>\n      <th>Class</th>\n      <th>Status</th>\n      <th>Description</th>\n    </tr>\n  </thead>\n  <tbody>\n    <tr>\n      <th>40</th>\n      <td>Restocks</td>\n      <td>https://restocks.io</td>\n      <td>F1</td>\n      <td>NaN</td>\n      <td>Push notifications when sold out products restock</td>\n    </tr>\n    <tr>\n      <th>124</th>\n      <td>Restocks</td>\n      <td>https://restocks.io</td>\n      <td>W16</td>\n      <td>NaN</td>\n      <td>Push notifications for superconsumers. We make...</td>\n    </tr>\n  </tbody>\n</table>\n</div>"
          },
          "metadata": {},
          "execution_count": 68
        }
      ]
    },
    {
      "cell_type": "markdown",
      "metadata": {
        "id": "MhB2XLhmqCWj"
      },
      "source": [
        "\n",
        "\n",
        "##  Shypmate\n",
        "\n",
        "\n",
        "1.  Class difference :  F1 vs W16\n",
        "2.  Description \n",
        "\n",
        "\n",
        "\n"
      ]
    },
    {
      "cell_type": "code",
      "metadata": {
        "colab": {
          "base_uri": "https://localhost:8080/",
          "height": 112
        },
        "id": "WxzjysqKpnlk",
        "outputId": "2603f69e-e70e-4cc6-c567-faaea9995507"
      },
      "source": [
        "df[df[\"Name\"]== \"Shypmate\"]"
      ],
      "execution_count": 69,
      "outputs": [
        {
          "output_type": "execute_result",
          "data": {
            "text/plain": [
              "         Name                      URL Class Status  \\\n",
              "41   Shypmate  http://www.shypmate.com    F1    NaN   \n",
              "132  Shypmate  http://www.shypmate.com   W16    NaN   \n",
              "\n",
              "                                           Description  \n",
              "41   Affordable and fast international peer to peer...  \n",
              "132  Shypmate enables a fast, reliable and cost eff...  "
            ],
            "text/html": "<div>\n<style scoped>\n    .dataframe tbody tr th:only-of-type {\n        vertical-align: middle;\n    }\n\n    .dataframe tbody tr th {\n        vertical-align: top;\n    }\n\n    .dataframe thead th {\n        text-align: right;\n    }\n</style>\n<table border=\"1\" class=\"dataframe\">\n  <thead>\n    <tr style=\"text-align: right;\">\n      <th></th>\n      <th>Name</th>\n      <th>URL</th>\n      <th>Class</th>\n      <th>Status</th>\n      <th>Description</th>\n    </tr>\n  </thead>\n  <tbody>\n    <tr>\n      <th>41</th>\n      <td>Shypmate</td>\n      <td>http://www.shypmate.com</td>\n      <td>F1</td>\n      <td>NaN</td>\n      <td>Affordable and fast international peer to peer...</td>\n    </tr>\n    <tr>\n      <th>132</th>\n      <td>Shypmate</td>\n      <td>http://www.shypmate.com</td>\n      <td>W16</td>\n      <td>NaN</td>\n      <td>Shypmate enables a fast, reliable and cost eff...</td>\n    </tr>\n  </tbody>\n</table>\n</div>"
          },
          "metadata": {},
          "execution_count": 69
        }
      ]
    },
    {
      "cell_type": "markdown",
      "metadata": {
        "id": "T51761hCrEtP"
      },
      "source": [
        "\n",
        "\n",
        "##   StrongIntro\n",
        "1.  Class difference :  F1 vs W16\n",
        "2.   Description \n",
        "3. Status : Nan vs Dead\n"
      ]
    },
    {
      "cell_type": "code",
      "metadata": {
        "colab": {
          "base_uri": "https://localhost:8080/",
          "height": 112
        },
        "id": "FBma2klaqNE6",
        "outputId": "a62644f9-cf5d-444c-9d98-3c1594d11c12"
      },
      "source": [
        "df[df[\"Name\"]== \"StrongIntro\"]"
      ],
      "execution_count": 70,
      "outputs": [
        {
          "output_type": "execute_result",
          "data": {
            "text/plain": [
              "            Name                      URL Class Status  \\\n",
              "43   StrongIntro  https://strongintro.com    F1    NaN   \n",
              "138  StrongIntro                      NaN   W16   Dead   \n",
              "\n",
              "                                           Description  \n",
              "43   Recruiting tool and service that 10xÕs your em...  \n",
              "138  StrongIntro helps recruiters turn their entire...  "
            ],
            "text/html": "<div>\n<style scoped>\n    .dataframe tbody tr th:only-of-type {\n        vertical-align: middle;\n    }\n\n    .dataframe tbody tr th {\n        vertical-align: top;\n    }\n\n    .dataframe thead th {\n        text-align: right;\n    }\n</style>\n<table border=\"1\" class=\"dataframe\">\n  <thead>\n    <tr style=\"text-align: right;\">\n      <th></th>\n      <th>Name</th>\n      <th>URL</th>\n      <th>Class</th>\n      <th>Status</th>\n      <th>Description</th>\n    </tr>\n  </thead>\n  <tbody>\n    <tr>\n      <th>43</th>\n      <td>StrongIntro</td>\n      <td>https://strongintro.com</td>\n      <td>F1</td>\n      <td>NaN</td>\n      <td>Recruiting tool and service that 10xÕs your em...</td>\n    </tr>\n    <tr>\n      <th>138</th>\n      <td>StrongIntro</td>\n      <td>NaN</td>\n      <td>W16</td>\n      <td>Dead</td>\n      <td>StrongIntro helps recruiters turn their entire...</td>\n    </tr>\n  </tbody>\n</table>\n</div>"
          },
          "metadata": {},
          "execution_count": 70
        }
      ]
    },
    {
      "cell_type": "markdown",
      "metadata": {
        "id": "0O0imQ55sQ3f"
      },
      "source": [
        "\n",
        "\n",
        "##   Supply\n",
        "1.  Class difference :  S15 vs W15\n",
        "\n"
      ]
    },
    {
      "cell_type": "code",
      "metadata": {
        "colab": {
          "base_uri": "https://localhost:8080/",
          "height": 112
        },
        "id": "BmwkV8cvrIGj",
        "outputId": "21c30de5-2b56-4b47-fa35-3a9c296105b7"
      },
      "source": [
        "df[df[\"Name\"]== \"Supply\"]"
      ],
      "execution_count": 71,
      "outputs": [
        {
          "output_type": "execute_result",
          "data": {
            "text/plain": [
              "       Name                          URL Class Status  \\\n",
              "236  Supply  http://www.madebysupply.com   S15    NaN   \n",
              "338  Supply  http://www.madebysupply.com   W15    NaN   \n",
              "\n",
              "                         Description  \n",
              "236  Wireless power, through the air  \n",
              "338  Wireless power, through the air  "
            ],
            "text/html": "<div>\n<style scoped>\n    .dataframe tbody tr th:only-of-type {\n        vertical-align: middle;\n    }\n\n    .dataframe tbody tr th {\n        vertical-align: top;\n    }\n\n    .dataframe thead th {\n        text-align: right;\n    }\n</style>\n<table border=\"1\" class=\"dataframe\">\n  <thead>\n    <tr style=\"text-align: right;\">\n      <th></th>\n      <th>Name</th>\n      <th>URL</th>\n      <th>Class</th>\n      <th>Status</th>\n      <th>Description</th>\n    </tr>\n  </thead>\n  <tbody>\n    <tr>\n      <th>236</th>\n      <td>Supply</td>\n      <td>http://www.madebysupply.com</td>\n      <td>S15</td>\n      <td>NaN</td>\n      <td>Wireless power, through the air</td>\n    </tr>\n    <tr>\n      <th>338</th>\n      <td>Supply</td>\n      <td>http://www.madebysupply.com</td>\n      <td>W15</td>\n      <td>NaN</td>\n      <td>Wireless power, through the air</td>\n    </tr>\n  </tbody>\n</table>\n</div>"
          },
          "metadata": {},
          "execution_count": 71
        }
      ]
    },
    {
      "cell_type": "markdown",
      "metadata": {
        "id": "LSbTdcSmsjoO"
      },
      "source": [
        "\n",
        "\n",
        "##   Weave\n",
        "1.  Two different startups : not the same description\n"
      ]
    },
    {
      "cell_type": "code",
      "metadata": {
        "colab": {
          "base_uri": "https://localhost:8080/",
          "height": 112
        },
        "id": "fI4NHAyNsbCZ",
        "outputId": "75246569-e4aa-4bcf-d47f-b9bc883cf06f"
      },
      "source": [
        "df[df[\"Name\"]== \"Weave\"]"
      ],
      "execution_count": 72,
      "outputs": [
        {
          "output_type": "execute_result",
          "data": {
            "text/plain": [
              "      Name                      URL Class Status  \\\n",
              "406  Weave                      NaN   S14   Dead   \n",
              "461  Weave  http://www.getweave.com   W14    NaN   \n",
              "\n",
              "                                           Description  \n",
              "406  Professional networking to arrange meetings an...  \n",
              "461  Better phone service for your dental practice ...  "
            ],
            "text/html": "<div>\n<style scoped>\n    .dataframe tbody tr th:only-of-type {\n        vertical-align: middle;\n    }\n\n    .dataframe tbody tr th {\n        vertical-align: top;\n    }\n\n    .dataframe thead th {\n        text-align: right;\n    }\n</style>\n<table border=\"1\" class=\"dataframe\">\n  <thead>\n    <tr style=\"text-align: right;\">\n      <th></th>\n      <th>Name</th>\n      <th>URL</th>\n      <th>Class</th>\n      <th>Status</th>\n      <th>Description</th>\n    </tr>\n  </thead>\n  <tbody>\n    <tr>\n      <th>406</th>\n      <td>Weave</td>\n      <td>NaN</td>\n      <td>S14</td>\n      <td>Dead</td>\n      <td>Professional networking to arrange meetings an...</td>\n    </tr>\n    <tr>\n      <th>461</th>\n      <td>Weave</td>\n      <td>http://www.getweave.com</td>\n      <td>W14</td>\n      <td>NaN</td>\n      <td>Better phone service for your dental practice ...</td>\n    </tr>\n  </tbody>\n</table>\n</div>"
          },
          "metadata": {},
          "execution_count": 72
        }
      ]
    },
    {
      "cell_type": "markdown",
      "metadata": {
        "id": "d5Mc25sGxkYY"
      },
      "source": [
        "### Didn't drop any of them because we can get insights from the change of Class status"
      ]
    },
    {
      "cell_type": "markdown",
      "metadata": {
        "id": "D0XqpM8Bt4HE"
      },
      "source": [
        "# Column 2: URLS"
      ]
    },
    {
      "cell_type": "code",
      "metadata": {
        "colab": {
          "base_uri": "https://localhost:8080/",
          "height": 441
        },
        "id": "FNhJ4olbuCPT",
        "outputId": "464a6caa-137b-4f2a-dad8-2d9ab952f1a8"
      },
      "source": [
        "print(df[\"URL\"].isna().sum())\n",
        "df[df[\"URL\"].isna() == True]"
      ],
      "execution_count": 73,
      "outputs": [
        {
          "output_type": "stream",
          "name": "stdout",
          "text": [
            "153\n"
          ]
        },
        {
          "output_type": "execute_result",
          "data": {
            "text/plain": [
              "                Name  URL Class  Status  \\\n",
              "29           Convrge  NaN    F1    Dead   \n",
              "33        FlightMate  NaN    F1    Dead   \n",
              "35   Jetty Financial  NaN    F1    Dead   \n",
              "123        Redspread  NaN   W16    Dead   \n",
              "138      StrongIntro  NaN   W16    Dead   \n",
              "..               ...  ...   ...     ...   \n",
              "953            YouOS  NaN   W06    Dead   \n",
              "954       ClickFacts  NaN   S05     NaN   \n",
              "955         Infogami  NaN   S05  Exited   \n",
              "958           Memamp  NaN   S05    Dead   \n",
              "960          Simmery  NaN   S05    Dead   \n",
              "\n",
              "                                           Description  \n",
              "29            Hang out with friends in virtual reality  \n",
              "33     Flexible flight querying with automated booking  \n",
              "35                Virtual assistant to manage finances  \n",
              "123          Version control for software environments  \n",
              "138  StrongIntro helps recruiters turn their entire...  \n",
              "..                                                 ...  \n",
              "953  YouOS provides a platform for developers to cr...  \n",
              "954  ClickFacts is a Malware Software Solutions com...  \n",
              "955  Merged with Reddit.ÊInfogami is a wiki applica...  \n",
              "958                   A better desktop search solution  \n",
              "960                                                NaN  \n",
              "\n",
              "[153 rows x 5 columns]"
            ],
            "text/html": "<div>\n<style scoped>\n    .dataframe tbody tr th:only-of-type {\n        vertical-align: middle;\n    }\n\n    .dataframe tbody tr th {\n        vertical-align: top;\n    }\n\n    .dataframe thead th {\n        text-align: right;\n    }\n</style>\n<table border=\"1\" class=\"dataframe\">\n  <thead>\n    <tr style=\"text-align: right;\">\n      <th></th>\n      <th>Name</th>\n      <th>URL</th>\n      <th>Class</th>\n      <th>Status</th>\n      <th>Description</th>\n    </tr>\n  </thead>\n  <tbody>\n    <tr>\n      <th>29</th>\n      <td>Convrge</td>\n      <td>NaN</td>\n      <td>F1</td>\n      <td>Dead</td>\n      <td>Hang out with friends in virtual reality</td>\n    </tr>\n    <tr>\n      <th>33</th>\n      <td>FlightMate</td>\n      <td>NaN</td>\n      <td>F1</td>\n      <td>Dead</td>\n      <td>Flexible flight querying with automated booking</td>\n    </tr>\n    <tr>\n      <th>35</th>\n      <td>Jetty Financial</td>\n      <td>NaN</td>\n      <td>F1</td>\n      <td>Dead</td>\n      <td>Virtual assistant to manage finances</td>\n    </tr>\n    <tr>\n      <th>123</th>\n      <td>Redspread</td>\n      <td>NaN</td>\n      <td>W16</td>\n      <td>Dead</td>\n      <td>Version control for software environments</td>\n    </tr>\n    <tr>\n      <th>138</th>\n      <td>StrongIntro</td>\n      <td>NaN</td>\n      <td>W16</td>\n      <td>Dead</td>\n      <td>StrongIntro helps recruiters turn their entire...</td>\n    </tr>\n    <tr>\n      <th>...</th>\n      <td>...</td>\n      <td>...</td>\n      <td>...</td>\n      <td>...</td>\n      <td>...</td>\n    </tr>\n    <tr>\n      <th>953</th>\n      <td>YouOS</td>\n      <td>NaN</td>\n      <td>W06</td>\n      <td>Dead</td>\n      <td>YouOS provides a platform for developers to cr...</td>\n    </tr>\n    <tr>\n      <th>954</th>\n      <td>ClickFacts</td>\n      <td>NaN</td>\n      <td>S05</td>\n      <td>NaN</td>\n      <td>ClickFacts is a Malware Software Solutions com...</td>\n    </tr>\n    <tr>\n      <th>955</th>\n      <td>Infogami</td>\n      <td>NaN</td>\n      <td>S05</td>\n      <td>Exited</td>\n      <td>Merged with Reddit.ÊInfogami is a wiki applica...</td>\n    </tr>\n    <tr>\n      <th>958</th>\n      <td>Memamp</td>\n      <td>NaN</td>\n      <td>S05</td>\n      <td>Dead</td>\n      <td>A better desktop search solution</td>\n    </tr>\n    <tr>\n      <th>960</th>\n      <td>Simmery</td>\n      <td>NaN</td>\n      <td>S05</td>\n      <td>Dead</td>\n      <td>NaN</td>\n    </tr>\n  </tbody>\n</table>\n<p>153 rows × 5 columns</p>\n</div>"
          },
          "metadata": {},
          "execution_count": 73
        }
      ]
    },
    {
      "cell_type": "markdown",
      "metadata": {
        "id": "za3iURVcuXs-"
      },
      "source": [
        "## we have 153 startups without Url ==> 15.9%\n",
        "Website is a redundant feature and will not give us any insight, we better drop the column"
      ]
    },
    {
      "cell_type": "code",
      "metadata": {
        "colab": {
          "base_uri": "https://localhost:8080/",
          "height": 206
        },
        "id": "tUIZns2c7WSm",
        "outputId": "a272b3ea-b835-4a1e-c9bd-a4ce42394630"
      },
      "source": [
        "df.drop(columns=[\"URL\"], axis=1, inplace=True)\n",
        "df.head()"
      ],
      "execution_count": 74,
      "outputs": [
        {
          "output_type": "execute_result",
          "data": {
            "text/plain": [
              "            Name Class Status  \\\n",
              "0       Awesound    F2    NaN   \n",
              "1   BillionToOne    F2    NaN   \n",
              "2       Bulletin    F2    NaN   \n",
              "3        Cerplus    F2    NaN   \n",
              "4  ConnectHealth    F2    NaN   \n",
              "\n",
              "                                        Description  \n",
              "0                              AdWords for podcasts  \n",
              "1                    Fetal genetic testing in India  \n",
              "2                                 Airbnb for retail  \n",
              "3               B2B marketplace for surplus produce  \n",
              "4  Telemedicine and prescription delivery in Africa  "
            ],
            "text/html": "<div>\n<style scoped>\n    .dataframe tbody tr th:only-of-type {\n        vertical-align: middle;\n    }\n\n    .dataframe tbody tr th {\n        vertical-align: top;\n    }\n\n    .dataframe thead th {\n        text-align: right;\n    }\n</style>\n<table border=\"1\" class=\"dataframe\">\n  <thead>\n    <tr style=\"text-align: right;\">\n      <th></th>\n      <th>Name</th>\n      <th>Class</th>\n      <th>Status</th>\n      <th>Description</th>\n    </tr>\n  </thead>\n  <tbody>\n    <tr>\n      <th>0</th>\n      <td>Awesound</td>\n      <td>F2</td>\n      <td>NaN</td>\n      <td>AdWords for podcasts</td>\n    </tr>\n    <tr>\n      <th>1</th>\n      <td>BillionToOne</td>\n      <td>F2</td>\n      <td>NaN</td>\n      <td>Fetal genetic testing in India</td>\n    </tr>\n    <tr>\n      <th>2</th>\n      <td>Bulletin</td>\n      <td>F2</td>\n      <td>NaN</td>\n      <td>Airbnb for retail</td>\n    </tr>\n    <tr>\n      <th>3</th>\n      <td>Cerplus</td>\n      <td>F2</td>\n      <td>NaN</td>\n      <td>B2B marketplace for surplus produce</td>\n    </tr>\n    <tr>\n      <th>4</th>\n      <td>ConnectHealth</td>\n      <td>F2</td>\n      <td>NaN</td>\n      <td>Telemedicine and prescription delivery in Africa</td>\n    </tr>\n  </tbody>\n</table>\n</div>"
          },
          "metadata": {},
          "execution_count": 74
        }
      ]
    },
    {
      "cell_type": "markdown",
      "metadata": {
        "id": "1gr_VmpfuuHV"
      },
      "source": [
        "# Column 3: Class"
      ]
    },
    {
      "cell_type": "code",
      "metadata": {
        "colab": {
          "base_uri": "https://localhost:8080/"
        },
        "id": "9WiUFkVDu1FG",
        "outputId": "7ee6a2f5-13eb-4ad1-d17f-070af32db5f2"
      },
      "source": [
        "print(df[\"Class\"].isna().sum())"
      ],
      "execution_count": 75,
      "outputs": [
        {
          "output_type": "stream",
          "name": "stdout",
          "text": [
            "0\n"
          ]
        }
      ]
    },
    {
      "cell_type": "markdown",
      "metadata": {
        "id": "0WTCHzogvO6W"
      },
      "source": [
        "### Good thing, ,none of our startups has a missing status value"
      ]
    },
    {
      "cell_type": "code",
      "metadata": {
        "colab": {
          "base_uri": "https://localhost:8080/"
        },
        "id": "MWqO-KdxvMS0",
        "outputId": "8afb2b92-2f66-4df0-93e9-3a7a57c59b84"
      },
      "source": [
        "class_list=df[\"Class\"].unique()\n",
        "class_list.sort()\n",
        "print(len(class_list) ,class_list )"
      ],
      "execution_count": 76,
      "outputs": [
        {
          "output_type": "stream",
          "name": "stdout",
          "text": [
            "24 ['F1' 'F2' 'S05' 'S06' 'S07' 'S08' 'S09' 'S10' 'S11' 'S12' 'S13' 'S14'\n 'S15' 'W06' 'W07' 'W08' 'W09' 'W10' 'W11' 'W12' 'W13' 'W14' 'W15' 'W16']\n"
          ]
        }
      ]
    },
    {
      "cell_type": "markdown",
      "metadata": {
        "id": "cUVFRHtcwk94"
      },
      "source": [
        "### For all of our 962 startups we have only 24 class\n"
      ]
    },
    {
      "cell_type": "markdown",
      "metadata": {
        "id": "SWSDBCkAyvVg"
      },
      "source": [
        "# Column 4 : Status"
      ]
    },
    {
      "cell_type": "code",
      "metadata": {
        "colab": {
          "base_uri": "https://localhost:8080/"
        },
        "id": "GVUFojzFxAbZ",
        "outputId": "9cc1e2b1-582b-47d2-eb15-3a09cab8e6e0"
      },
      "source": [
        "df[\"Status\"].isna().sum()"
      ],
      "execution_count": 77,
      "outputs": [
        {
          "output_type": "execute_result",
          "data": {
            "text/plain": [
              "748"
            ]
          },
          "metadata": {},
          "execution_count": 77
        }
      ]
    },
    {
      "cell_type": "markdown",
      "metadata": {
        "id": "u2_HUY6C3Mck"
      },
      "source": [
        "## 77.75% of our data is missing status"
      ]
    },
    {
      "cell_type": "code",
      "metadata": {
        "colab": {
          "base_uri": "https://localhost:8080/"
        },
        "id": "Mv-ppu6UyyuQ",
        "outputId": "16913de2-75d7-4f18-eca4-0d7c29a51324"
      },
      "source": [
        "df[\"Status\"].unique()"
      ],
      "execution_count": 78,
      "outputs": [
        {
          "output_type": "execute_result",
          "data": {
            "text/plain": [
              "array([nan, 'Dead', 'Exited'], dtype=object)"
            ]
          },
          "metadata": {},
          "execution_count": 78
        }
      ]
    },
    {
      "cell_type": "code",
      "metadata": {
        "colab": {
          "base_uri": "https://localhost:8080/"
        },
        "id": "bANsgOIx4eXv",
        "outputId": "4133d8a5-2082-4dcb-d687-384f717af955"
      },
      "source": [
        "dead_status= df[df[\"Status\"]== 'Exited']\n",
        "len(dead_status)"
      ],
      "execution_count": 79,
      "outputs": [
        {
          "output_type": "execute_result",
          "data": {
            "text/plain": [
              "76"
            ]
          },
          "metadata": {},
          "execution_count": 79
        }
      ]
    },
    {
      "cell_type": "code",
      "metadata": {
        "colab": {
          "base_uri": "https://localhost:8080/"
        },
        "id": "hMmA3jFs4109",
        "outputId": "ed574697-46f3-46c7-e17f-0285644d3c22"
      },
      "source": [
        "exited_status= df[df[\"Status\"]== 'Exited']\n",
        "len(exited_status)"
      ],
      "execution_count": 80,
      "outputs": [
        {
          "output_type": "execute_result",
          "data": {
            "text/plain": [
              "76"
            ]
          },
          "metadata": {},
          "execution_count": 80
        }
      ]
    },
    {
      "cell_type": "markdown",
      "metadata": {
        "id": "rck1WRRQ5kQx"
      },
      "source": [
        "From the remaining data : \n",
        "\n",
        "1.   76 starups have the exited status\n",
        "2.   138 startups have the dead status\n",
        "\n"
      ]
    },
    {
      "cell_type": "markdown",
      "metadata": {
        "id": "llcVpn0n74yF"
      },
      "source": [
        "# Column 5 : Description"
      ]
    },
    {
      "cell_type": "code",
      "metadata": {
        "colab": {
          "base_uri": "https://localhost:8080/",
          "height": 206
        },
        "id": "1EPTkI8K5h16",
        "outputId": "97720822-5851-4580-e78f-ad71caedf5d6"
      },
      "source": [
        "df.head()"
      ],
      "execution_count": 81,
      "outputs": [
        {
          "output_type": "execute_result",
          "data": {
            "text/plain": [
              "            Name Class Status  \\\n",
              "0       Awesound    F2    NaN   \n",
              "1   BillionToOne    F2    NaN   \n",
              "2       Bulletin    F2    NaN   \n",
              "3        Cerplus    F2    NaN   \n",
              "4  ConnectHealth    F2    NaN   \n",
              "\n",
              "                                        Description  \n",
              "0                              AdWords for podcasts  \n",
              "1                    Fetal genetic testing in India  \n",
              "2                                 Airbnb for retail  \n",
              "3               B2B marketplace for surplus produce  \n",
              "4  Telemedicine and prescription delivery in Africa  "
            ],
            "text/html": "<div>\n<style scoped>\n    .dataframe tbody tr th:only-of-type {\n        vertical-align: middle;\n    }\n\n    .dataframe tbody tr th {\n        vertical-align: top;\n    }\n\n    .dataframe thead th {\n        text-align: right;\n    }\n</style>\n<table border=\"1\" class=\"dataframe\">\n  <thead>\n    <tr style=\"text-align: right;\">\n      <th></th>\n      <th>Name</th>\n      <th>Class</th>\n      <th>Status</th>\n      <th>Description</th>\n    </tr>\n  </thead>\n  <tbody>\n    <tr>\n      <th>0</th>\n      <td>Awesound</td>\n      <td>F2</td>\n      <td>NaN</td>\n      <td>AdWords for podcasts</td>\n    </tr>\n    <tr>\n      <th>1</th>\n      <td>BillionToOne</td>\n      <td>F2</td>\n      <td>NaN</td>\n      <td>Fetal genetic testing in India</td>\n    </tr>\n    <tr>\n      <th>2</th>\n      <td>Bulletin</td>\n      <td>F2</td>\n      <td>NaN</td>\n      <td>Airbnb for retail</td>\n    </tr>\n    <tr>\n      <th>3</th>\n      <td>Cerplus</td>\n      <td>F2</td>\n      <td>NaN</td>\n      <td>B2B marketplace for surplus produce</td>\n    </tr>\n    <tr>\n      <th>4</th>\n      <td>ConnectHealth</td>\n      <td>F2</td>\n      <td>NaN</td>\n      <td>Telemedicine and prescription delivery in Africa</td>\n    </tr>\n  </tbody>\n</table>\n</div>"
          },
          "metadata": {},
          "execution_count": 81
        }
      ]
    },
    {
      "cell_type": "code",
      "metadata": {
        "colab": {
          "base_uri": "https://localhost:8080/"
        },
        "id": "Gw7RaPuc8Ka8",
        "outputId": "2a865b49-538b-4383-f82d-aaa7f5da21ee"
      },
      "source": [
        "df[\"Description\"].isna().sum()"
      ],
      "execution_count": 82,
      "outputs": [
        {
          "output_type": "execute_result",
          "data": {
            "text/plain": [
              "9"
            ]
          },
          "metadata": {},
          "execution_count": 82
        }
      ]
    },
    {
      "cell_type": "markdown",
      "metadata": {
        "id": "4sXmBTia8SJE"
      },
      "source": [
        "we only have 9 startups without description"
      ]
    },
    {
      "cell_type": "code",
      "metadata": {
        "colab": {
          "base_uri": "https://localhost:8080/",
          "height": 332
        },
        "id": "wcrvKDnW8QRQ",
        "outputId": "d6920184-4360-45cf-a424-4cfeaa007d22"
      },
      "source": [
        "startup_missing_descri= df[df[\"Description\"].isna() == True]\n",
        "startup_missing_descri"
      ],
      "execution_count": 83,
      "outputs": [
        {
          "output_type": "execute_result",
          "data": {
            "text/plain": [
              "              Name Class Status Description\n",
              "778     I Move You   S10   Dead         NaN\n",
              "788      Simperium   S10    NaN         NaN\n",
              "819      Tweetflow   W10   Dead         NaN\n",
              "832         Jobpic   S09   Dead         NaN\n",
              "875     Precognate   S08   Dead         NaN\n",
              "882  UrbanTakeover   S08   Dead         NaN\n",
              "931          View3   W07   Dead         NaN\n",
              "947      AudioBeta   W06    NaN         NaN\n",
              "960        Simmery   S05   Dead         NaN"
            ],
            "text/html": "<div>\n<style scoped>\n    .dataframe tbody tr th:only-of-type {\n        vertical-align: middle;\n    }\n\n    .dataframe tbody tr th {\n        vertical-align: top;\n    }\n\n    .dataframe thead th {\n        text-align: right;\n    }\n</style>\n<table border=\"1\" class=\"dataframe\">\n  <thead>\n    <tr style=\"text-align: right;\">\n      <th></th>\n      <th>Name</th>\n      <th>Class</th>\n      <th>Status</th>\n      <th>Description</th>\n    </tr>\n  </thead>\n  <tbody>\n    <tr>\n      <th>778</th>\n      <td>I Move You</td>\n      <td>S10</td>\n      <td>Dead</td>\n      <td>NaN</td>\n    </tr>\n    <tr>\n      <th>788</th>\n      <td>Simperium</td>\n      <td>S10</td>\n      <td>NaN</td>\n      <td>NaN</td>\n    </tr>\n    <tr>\n      <th>819</th>\n      <td>Tweetflow</td>\n      <td>W10</td>\n      <td>Dead</td>\n      <td>NaN</td>\n    </tr>\n    <tr>\n      <th>832</th>\n      <td>Jobpic</td>\n      <td>S09</td>\n      <td>Dead</td>\n      <td>NaN</td>\n    </tr>\n    <tr>\n      <th>875</th>\n      <td>Precognate</td>\n      <td>S08</td>\n      <td>Dead</td>\n      <td>NaN</td>\n    </tr>\n    <tr>\n      <th>882</th>\n      <td>UrbanTakeover</td>\n      <td>S08</td>\n      <td>Dead</td>\n      <td>NaN</td>\n    </tr>\n    <tr>\n      <th>931</th>\n      <td>View3</td>\n      <td>W07</td>\n      <td>Dead</td>\n      <td>NaN</td>\n    </tr>\n    <tr>\n      <th>947</th>\n      <td>AudioBeta</td>\n      <td>W06</td>\n      <td>NaN</td>\n      <td>NaN</td>\n    </tr>\n    <tr>\n      <th>960</th>\n      <td>Simmery</td>\n      <td>S05</td>\n      <td>Dead</td>\n      <td>NaN</td>\n    </tr>\n  </tbody>\n</table>\n</div>"
          },
          "metadata": {},
          "execution_count": 83
        }
      ]
    },
    {
      "cell_type": "markdown",
      "metadata": {
        "id": "cbL3DGdW-pPg"
      },
      "source": [
        "## Replacing nan values with -1 + dead with 0+ exited with 1"
      ]
    },
    {
      "cell_type": "code",
      "metadata": {
        "id": "nXm18Op68mYb"
      },
      "source": [
        "df.fillna(-1, inplace=True)\n",
        "df[\"Status\"].replace({\"Exited\": \"1\", \"Dead\": \"0\"}, inplace=True)"
      ],
      "execution_count": 84,
      "outputs": []
    },
    {
      "cell_type": "code",
      "metadata": {
        "colab": {
          "base_uri": "https://localhost:8080/",
          "height": 424
        },
        "id": "RYtEC389-id_",
        "outputId": "26a461b1-787c-4e1a-fe10-5dc33c9fa94e"
      },
      "source": [
        "df"
      ],
      "execution_count": 85,
      "outputs": [
        {
          "output_type": "execute_result",
          "data": {
            "text/plain": [
              "              Name Class Status  \\\n",
              "0         Awesound    F2     -1   \n",
              "1     BillionToOne    F2     -1   \n",
              "2         Bulletin    F2     -1   \n",
              "3          Cerplus    F2     -1   \n",
              "4    ConnectHealth    F2     -1   \n",
              "..             ...   ...    ...   \n",
              "957          Loopt   S05      1   \n",
              "958         Memamp   S05      0   \n",
              "959         Reddit   S05      1   \n",
              "960        Simmery   S05      0   \n",
              "961      TextPayMe   S05      1   \n",
              "\n",
              "                                           Description  \n",
              "0                                 AdWords for podcasts  \n",
              "1                       Fetal genetic testing in India  \n",
              "2                                    Airbnb for retail  \n",
              "3                  B2B marketplace for surplus produce  \n",
              "4     Telemedicine and prescription delivery in Africa  \n",
              "..                                                 ...  \n",
              "957  Acquired by Green Dot for $43.4MM.ÊLoopt is a ...  \n",
              "958                   A better desktop search solution  \n",
              "959  Acquired by Conde Nast in 2006.ÊA social news ...  \n",
              "960                                                 -1  \n",
              "961  Acquired by Amazon for ~$3MM.ÊAn SMS payment s...  \n",
              "\n",
              "[962 rows x 4 columns]"
            ],
            "text/html": "<div>\n<style scoped>\n    .dataframe tbody tr th:only-of-type {\n        vertical-align: middle;\n    }\n\n    .dataframe tbody tr th {\n        vertical-align: top;\n    }\n\n    .dataframe thead th {\n        text-align: right;\n    }\n</style>\n<table border=\"1\" class=\"dataframe\">\n  <thead>\n    <tr style=\"text-align: right;\">\n      <th></th>\n      <th>Name</th>\n      <th>Class</th>\n      <th>Status</th>\n      <th>Description</th>\n    </tr>\n  </thead>\n  <tbody>\n    <tr>\n      <th>0</th>\n      <td>Awesound</td>\n      <td>F2</td>\n      <td>-1</td>\n      <td>AdWords for podcasts</td>\n    </tr>\n    <tr>\n      <th>1</th>\n      <td>BillionToOne</td>\n      <td>F2</td>\n      <td>-1</td>\n      <td>Fetal genetic testing in India</td>\n    </tr>\n    <tr>\n      <th>2</th>\n      <td>Bulletin</td>\n      <td>F2</td>\n      <td>-1</td>\n      <td>Airbnb for retail</td>\n    </tr>\n    <tr>\n      <th>3</th>\n      <td>Cerplus</td>\n      <td>F2</td>\n      <td>-1</td>\n      <td>B2B marketplace for surplus produce</td>\n    </tr>\n    <tr>\n      <th>4</th>\n      <td>ConnectHealth</td>\n      <td>F2</td>\n      <td>-1</td>\n      <td>Telemedicine and prescription delivery in Africa</td>\n    </tr>\n    <tr>\n      <th>...</th>\n      <td>...</td>\n      <td>...</td>\n      <td>...</td>\n      <td>...</td>\n    </tr>\n    <tr>\n      <th>957</th>\n      <td>Loopt</td>\n      <td>S05</td>\n      <td>1</td>\n      <td>Acquired by Green Dot for $43.4MM.ÊLoopt is a ...</td>\n    </tr>\n    <tr>\n      <th>958</th>\n      <td>Memamp</td>\n      <td>S05</td>\n      <td>0</td>\n      <td>A better desktop search solution</td>\n    </tr>\n    <tr>\n      <th>959</th>\n      <td>Reddit</td>\n      <td>S05</td>\n      <td>1</td>\n      <td>Acquired by Conde Nast in 2006.ÊA social news ...</td>\n    </tr>\n    <tr>\n      <th>960</th>\n      <td>Simmery</td>\n      <td>S05</td>\n      <td>0</td>\n      <td>-1</td>\n    </tr>\n    <tr>\n      <th>961</th>\n      <td>TextPayMe</td>\n      <td>S05</td>\n      <td>1</td>\n      <td>Acquired by Amazon for ~$3MM.ÊAn SMS payment s...</td>\n    </tr>\n  </tbody>\n</table>\n<p>962 rows × 4 columns</p>\n</div>"
          },
          "metadata": {},
          "execution_count": 85
        }
      ]
    },
    {
      "cell_type": "code",
      "execution_count": 86,
      "metadata": {},
      "outputs": [
        {
          "output_type": "execute_result",
          "data": {
            "text/plain": [
              "          Name Class Status  \\\n",
              "957      Loopt   S05      1   \n",
              "958     Memamp   S05      0   \n",
              "959     Reddit   S05      1   \n",
              "960    Simmery   S05      0   \n",
              "961  TextPayMe   S05      1   \n",
              "\n",
              "                                           Description  \\\n",
              "957  Acquired by Green Dot for $43.4MM.ÊLoopt is a ...   \n",
              "958                   A better desktop search solution   \n",
              "959  Acquired by Conde Nast in 2006.ÊA social news ...   \n",
              "960                                                 -1   \n",
              "961  Acquired by Amazon for ~$3MM.ÊAn SMS payment s...   \n",
              "\n",
              "                                     clean_Description  \n",
              "957  acquired green dot 43 4mm eloopt social servic...  \n",
              "958                     better desktop search solution  \n",
              "959  acquired conde nast 2006 ea social news websit...  \n",
              "960                                                  1  \n",
              "961  acquired amazon 3mm ean sms payment service le...  "
            ],
            "text/html": "<div>\n<style scoped>\n    .dataframe tbody tr th:only-of-type {\n        vertical-align: middle;\n    }\n\n    .dataframe tbody tr th {\n        vertical-align: top;\n    }\n\n    .dataframe thead th {\n        text-align: right;\n    }\n</style>\n<table border=\"1\" class=\"dataframe\">\n  <thead>\n    <tr style=\"text-align: right;\">\n      <th></th>\n      <th>Name</th>\n      <th>Class</th>\n      <th>Status</th>\n      <th>Description</th>\n      <th>clean_Description</th>\n    </tr>\n  </thead>\n  <tbody>\n    <tr>\n      <th>957</th>\n      <td>Loopt</td>\n      <td>S05</td>\n      <td>1</td>\n      <td>Acquired by Green Dot for $43.4MM.ÊLoopt is a ...</td>\n      <td>acquired green dot 43 4mm eloopt social servic...</td>\n    </tr>\n    <tr>\n      <th>958</th>\n      <td>Memamp</td>\n      <td>S05</td>\n      <td>0</td>\n      <td>A better desktop search solution</td>\n      <td>better desktop search solution</td>\n    </tr>\n    <tr>\n      <th>959</th>\n      <td>Reddit</td>\n      <td>S05</td>\n      <td>1</td>\n      <td>Acquired by Conde Nast in 2006.ÊA social news ...</td>\n      <td>acquired conde nast 2006 ea social news websit...</td>\n    </tr>\n    <tr>\n      <th>960</th>\n      <td>Simmery</td>\n      <td>S05</td>\n      <td>0</td>\n      <td>-1</td>\n      <td>1</td>\n    </tr>\n    <tr>\n      <th>961</th>\n      <td>TextPayMe</td>\n      <td>S05</td>\n      <td>1</td>\n      <td>Acquired by Amazon for ~$3MM.ÊAn SMS payment s...</td>\n      <td>acquired amazon 3mm ean sms payment service le...</td>\n    </tr>\n  </tbody>\n</table>\n</div>"
          },
          "metadata": {},
          "execution_count": 86
        }
      ],
      "source": [
        "##TEXT CLEANING\n",
        "# let's do text preprocessing\n",
        "from texthero import preprocessing\n",
        "\n",
        "# creating a custom pipeline to preprocess the raw text we have\n",
        "custom_pipeline = [preprocessing.fillna\n",
        "                   , preprocessing.lowercase\n",
        "                   , preprocessing.remove_punctuation\n",
        "                   , preprocessing.remove_diacritics\n",
        "                   , preprocessing.remove_stopwords\n",
        "                   , preprocessing.remove_whitespace\n",
        "                   ]\n",
        "# simply call clean() method to clean the raw text in 'tweet' col and pass the custom_pipeline to pipeline argument\n",
        "df['clean_Description'] = hero.clean(df['Description'], pipeline = custom_pipeline)\n",
        "\n",
        "df.tail()"
      ]
    },
    {
      "cell_type": "code",
      "metadata": {
        "id": "paPaxYjZ6-c9",
        "colab": {
          "base_uri": "https://localhost:8080/",
          "height": 206
        },
        "outputId": "0d330c09-5d6e-4201-af55-bb8a1db10660"
      },
      "source": [
        "df.to_csv(\"cleanedY_combinator_data22.csv\")"
      ],
      "execution_count": 87,
      "outputs": []
    },
    {
      "cell_type": "code",
      "execution_count": null,
      "metadata": {},
      "outputs": [],
      "source": [
        "profile= ProfileReport(df, title=\"Startup Dataset\", html={'style':{'full_width':True}})\n",
        "profile.to_notebook_iframe()"
      ]
    }
  ]
}