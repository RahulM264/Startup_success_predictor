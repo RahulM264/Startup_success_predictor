{
 "cells": [
  {
   "cell_type": "code",
   "execution_count": 5,
   "metadata": {},
   "outputs": [],
   "source": [
    "import pandas as pd\n",
    "import numpy as np\n",
    "pd.options.mode.chained_assignment = None"
   ]
  },
  {
   "cell_type": "code",
   "execution_count": 90,
   "metadata": {},
   "outputs": [],
   "source": [
    "df = pd.read_csv(r'D:\\Omdena\\Startup_prediction\\omdena-pennsylvania-startup\\src\\tasks\\task-1-data-collection\\startup_list.csv')"
   ]
  },
  {
   "cell_type": "code",
   "execution_count": 3,
   "metadata": {
    "scrolled": true
   },
   "outputs": [
    {
     "data": {
      "text/html": [
       "<div>\n",
       "<style scoped>\n",
       "    .dataframe tbody tr th:only-of-type {\n",
       "        vertical-align: middle;\n",
       "    }\n",
       "\n",
       "    .dataframe tbody tr th {\n",
       "        vertical-align: top;\n",
       "    }\n",
       "\n",
       "    .dataframe thead th {\n",
       "        text-align: right;\n",
       "    }\n",
       "</style>\n",
       "<table border=\"1\" class=\"dataframe\">\n",
       "  <thead>\n",
       "    <tr style=\"text-align: right;\">\n",
       "      <th></th>\n",
       "      <th>rank</th>\n",
       "      <th>name</th>\n",
       "      <th>sr-score</th>\n",
       "      <th>description</th>\n",
       "      <th>recent_funding_date</th>\n",
       "      <th>round</th>\n",
       "      <th>amount</th>\n",
       "    </tr>\n",
       "  </thead>\n",
       "  <tbody>\n",
       "    <tr>\n",
       "      <th>0</th>\n",
       "      <td>2</td>\n",
       "      <td>Giphy</td>\n",
       "      <td>91,822</td>\n",
       "      <td>Search and make GIFs - Animated GIF search. Th...</td>\n",
       "      <td>Oct 31, 2016</td>\n",
       "      <td>Series D</td>\n",
       "      <td>$ 72,000,000</td>\n",
       "    </tr>\n",
       "    <tr>\n",
       "      <th>1</th>\n",
       "      <td>3</td>\n",
       "      <td>Buffer</td>\n",
       "      <td>91,361</td>\n",
       "      <td>A Smarter Way to Share on Social Media - Buffe...</td>\n",
       "      <td>Oct 27, 2014</td>\n",
       "      <td>Series A</td>\n",
       "      <td>$ 3,500,000</td>\n",
       "    </tr>\n",
       "    <tr>\n",
       "      <th>2</th>\n",
       "      <td>6</td>\n",
       "      <td>PicsArt</td>\n",
       "      <td>90,695</td>\n",
       "      <td>PicsArt is a leading image editing app and cre...</td>\n",
       "      <td>Apr 20, 2016</td>\n",
       "      <td>Series B</td>\n",
       "      <td>$ 20,000,000</td>\n",
       "    </tr>\n",
       "    <tr>\n",
       "      <th>3</th>\n",
       "      <td>8</td>\n",
       "      <td>Coursera</td>\n",
       "      <td>90,391</td>\n",
       "      <td>Free Online Courses From Top Universities - Co...</td>\n",
       "      <td>Jun 07, 2017</td>\n",
       "      <td>Series D</td>\n",
       "      <td>$ 64,000,000</td>\n",
       "    </tr>\n",
       "    <tr>\n",
       "      <th>4</th>\n",
       "      <td>9</td>\n",
       "      <td>IFTTT</td>\n",
       "      <td>90,168</td>\n",
       "      <td>Do more with the services you love - IFTTT (if...</td>\n",
       "      <td>Aug 29, 2014</td>\n",
       "      <td>Series B</td>\n",
       "      <td>$ 30,000,000</td>\n",
       "    </tr>\n",
       "    <tr>\n",
       "      <th>...</th>\n",
       "      <td>...</td>\n",
       "      <td>...</td>\n",
       "      <td>...</td>\n",
       "      <td>...</td>\n",
       "      <td>...</td>\n",
       "      <td>...</td>\n",
       "      <td>...</td>\n",
       "    </tr>\n",
       "    <tr>\n",
       "      <th>295</th>\n",
       "      <td>941</td>\n",
       "      <td>RebelsMarket</td>\n",
       "      <td>74,690</td>\n",
       "      <td>World's #1 Counterculture Megastore - RebelsMa...</td>\n",
       "      <td>NaN</td>\n",
       "      <td>NaN</td>\n",
       "      <td>NaN</td>\n",
       "    </tr>\n",
       "    <tr>\n",
       "      <th>296</th>\n",
       "      <td>945</td>\n",
       "      <td>CIENCE</td>\n",
       "      <td>74,659</td>\n",
       "      <td>Sales Conversations Start Here - CIENCE is hum...</td>\n",
       "      <td>NaN</td>\n",
       "      <td>NaN</td>\n",
       "      <td>NaN</td>\n",
       "    </tr>\n",
       "    <tr>\n",
       "      <th>297</th>\n",
       "      <td>946</td>\n",
       "      <td>talkroute</td>\n",
       "      <td>74,642</td>\n",
       "      <td>Turn any phone into a professional sounding ph...</td>\n",
       "      <td>Apr 24, 2015</td>\n",
       "      <td>Venture</td>\n",
       "      <td>$ 500,000</td>\n",
       "    </tr>\n",
       "    <tr>\n",
       "      <th>298</th>\n",
       "      <td>950</td>\n",
       "      <td>GitMind</td>\n",
       "      <td>74,590</td>\n",
       "      <td>Make your ideas happen - GitMind is a free onl...</td>\n",
       "      <td>NaN</td>\n",
       "      <td>NaN</td>\n",
       "      <td>NaN</td>\n",
       "    </tr>\n",
       "    <tr>\n",
       "      <th>299</th>\n",
       "      <td>951</td>\n",
       "      <td>CrowdReviews</td>\n",
       "      <td>74,578</td>\n",
       "      <td>A buyer's guide based on user reviews. - Crowd...</td>\n",
       "      <td>NaN</td>\n",
       "      <td>NaN</td>\n",
       "      <td>NaN</td>\n",
       "    </tr>\n",
       "  </tbody>\n",
       "</table>\n",
       "<p>300 rows × 7 columns</p>\n",
       "</div>"
      ],
      "text/plain": [
       "     rank          name sr-score  \\\n",
       "0       2         Giphy   91,822   \n",
       "1       3        Buffer   91,361   \n",
       "2       6       PicsArt   90,695   \n",
       "3       8      Coursera   90,391   \n",
       "4       9         IFTTT   90,168   \n",
       "..    ...           ...      ...   \n",
       "295   941  RebelsMarket   74,690   \n",
       "296   945        CIENCE   74,659   \n",
       "297   946     talkroute   74,642   \n",
       "298   950       GitMind   74,590   \n",
       "299   951  CrowdReviews   74,578   \n",
       "\n",
       "                                           description recent_funding_date  \\\n",
       "0    Search and make GIFs - Animated GIF search. Th...        Oct 31, 2016   \n",
       "1    A Smarter Way to Share on Social Media - Buffe...        Oct 27, 2014   \n",
       "2    PicsArt is a leading image editing app and cre...        Apr 20, 2016   \n",
       "3    Free Online Courses From Top Universities - Co...        Jun 07, 2017   \n",
       "4    Do more with the services you love - IFTTT (if...        Aug 29, 2014   \n",
       "..                                                 ...                 ...   \n",
       "295  World's #1 Counterculture Megastore - RebelsMa...                 NaN   \n",
       "296  Sales Conversations Start Here - CIENCE is hum...                 NaN   \n",
       "297  Turn any phone into a professional sounding ph...        Apr 24, 2015   \n",
       "298  Make your ideas happen - GitMind is a free onl...                 NaN   \n",
       "299  A buyer's guide based on user reviews. - Crowd...                 NaN   \n",
       "\n",
       "        round        amount  \n",
       "0    Series D  $ 72,000,000  \n",
       "1    Series A   $ 3,500,000  \n",
       "2    Series B  $ 20,000,000  \n",
       "3    Series D  $ 64,000,000  \n",
       "4    Series B  $ 30,000,000  \n",
       "..        ...           ...  \n",
       "295       NaN           NaN  \n",
       "296       NaN           NaN  \n",
       "297   Venture     $ 500,000  \n",
       "298       NaN           NaN  \n",
       "299       NaN           NaN  \n",
       "\n",
       "[300 rows x 7 columns]"
      ]
     },
     "execution_count": 3,
     "metadata": {},
     "output_type": "execute_result"
    }
   ],
   "source": [
    "df"
   ]
  },
  {
   "cell_type": "code",
   "execution_count": 58,
   "metadata": {},
   "outputs": [
    {
     "name": "stdout",
     "output_type": "stream",
     "text": [
      "(300, 7)\n",
      "rank                    int64\n",
      "name                   object\n",
      "sr-score               object\n",
      "description            object\n",
      "recent_funding_date    object\n",
      "round                  object\n",
      "amount                 object\n",
      "dtype: object\n",
      "['rank']\n",
      "['name' 'sr-score' 'description' 'recent_funding_date' 'round' 'amount']\n"
     ]
    }
   ],
   "source": [
    "# shape and data types of the data\n",
    "print(df.shape)\n",
    "print(df.dtypes)\n",
    "\n",
    "# select numeric columns\n",
    "df_numeric = df.select_dtypes(include=[np.number])\n",
    "numeric_cols = df_numeric.columns.values\n",
    "print(numeric_cols)\n",
    "\n",
    "# select non numeric columns\n",
    "df_non_numeric = df.select_dtypes(exclude=[np.number])\n",
    "non_numeric_cols = df_non_numeric.columns.values\n",
    "print(non_numeric_cols)"
   ]
  },
  {
   "cell_type": "code",
   "execution_count": 120,
   "metadata": {},
   "outputs": [
    {
     "name": "stdout",
     "output_type": "stream",
     "text": [
      "rank - 0%\n",
      "name - 0%\n",
      "sr-score - 0%\n",
      "description - 0%\n",
      "round - 0%\n",
      "amount - 0%\n",
      "recent_funding_date_timestamp_dt - 45%\n"
     ]
    }
   ],
   "source": [
    "#percentage of null values in each column\n",
    "for col in df.columns:\n",
    "    pct_missing = np.mean(df[col].isnull())\n",
    "    print('{} - {}%'.format(col, round(pct_missing*100)))"
   ]
  },
  {
   "cell_type": "code",
   "execution_count": 91,
   "metadata": {},
   "outputs": [],
   "source": [
    "df['recent_funding_date_timestamp_dt'] = pd.to_datetime(df['recent_funding_date'], format='%b %d, %Y')\n",
    "df = df.drop('recent_funding_date', axis = 1)"
   ]
  },
  {
   "cell_type": "code",
   "execution_count": 97,
   "metadata": {},
   "outputs": [
    {
     "data": {
      "text/plain": [
       "array([ 72000000,   3500000,  20000000,  64000000,  30000000,  12000000,\n",
       "       127000000,   4000000,   1300000,         0,  16000000,  15000000,\n",
       "       400000000,   1000000,   5000000,   6180147,   1500000,  37000000,\n",
       "         7000000,   2000000,   7395582,   1850000,   6000000,   2200000,\n",
       "         1666567,    500000,  10000000,   6500000,   2062743,    850000,\n",
       "         8000000,   3300000,  10500000, 100000000,     25000,   3000000,\n",
       "         2300000, 140000000,    599905,  23000000,    200000,   9000000,\n",
       "        13000000,   1800000,     50000,    650000,    280000,  27000000,\n",
       "        56000000,   7200000,    800000,     40000,  50000000,    120000,\n",
       "        17000000,   3900000,    110000,    150000,   1024999, 502000000,\n",
       "          400000,    978000, 500000000,   1700000,   5125000,    118000,\n",
       "        31000000,   4500000,  17500000,   2600000,   1520000,    250000,\n",
       "         8700000,   5350000,  35000000,   1227995, 103100000,   2800000,\n",
       "         3400000,   2500000,   5600000,   2900000, 110000000,   1200000,\n",
       "         2700000,   4800000,   4600000,   2400000])"
      ]
     },
     "execution_count": 97,
     "metadata": {},
     "output_type": "execute_result"
    }
   ],
   "source": [
    "df['amount'].unique()"
   ]
  },
  {
   "cell_type": "code",
   "execution_count": 98,
   "metadata": {},
   "outputs": [],
   "source": [
    "#replace nan in amount column with mean of that column\n",
    "df['amount'] = df['amount'].replace(np.nan, '$0')\n",
    "df['amount'] = df['amount'].replace('Undisclosed amount', '$0')\n",
    "df['amount'] = df['amount'].astype(str)\n",
    "df['amount'] = [x.lstrip('$A$£€') for x in df['amount']]\n",
    "df['amount'] = df['amount'].str.replace(\",\",\"\")\n",
    "df['amount'] = df['amount'].astype(int)\n",
    "df['amount'] =df['amount'].mask(df['amount']==0).fillna(df['amount'].mean())"
   ]
  },
  {
   "cell_type": "code",
   "execution_count": 111,
   "metadata": {},
   "outputs": [],
   "source": [
    "#replace nan values in round column with Mode of that column\n",
    "df['round'] = df['round'].fillna(df['round'].mode()[0])\n",
    "df['recent_funding_date_timestamp_dt'] = df['recent_funding_date_timestamp_dt'].fillna(df['recent_funding_date_timestamp_dt'].mode()[0])"
   ]
  },
  {
   "cell_type": "code",
   "execution_count": 122,
   "metadata": {},
   "outputs": [],
   "source": [
    "df.to_csv('failed_startup_list_cleaned_data.csv', index=False)"
   ]
  },
  {
   "cell_type": "code",
   "execution_count": 123,
   "metadata": {},
   "outputs": [
    {
     "data": {
      "text/plain": [
       "rank                                0\n",
       "name                                0\n",
       "sr-score                            0\n",
       "description                         0\n",
       "round                               0\n",
       "amount                              0\n",
       "recent_funding_date_timestamp_dt    0\n",
       "dtype: int64"
      ]
     },
     "execution_count": 123,
     "metadata": {},
     "output_type": "execute_result"
    }
   ],
   "source": [
    "df.isnull().sum()"
   ]
  }
 ],
 "metadata": {
  "kernelspec": {
   "display_name": "Python 3",
   "language": "python",
   "name": "python3"
  },
  "language_info": {
   "codemirror_mode": {
    "name": "ipython",
    "version": 3
   },
   "file_extension": ".py",
   "mimetype": "text/x-python",
   "name": "python",
   "nbconvert_exporter": "python",
   "pygments_lexer": "ipython3",
   "version": "3.8.5"
  }
 },
 "nbformat": 4,
 "nbformat_minor": 4
}
