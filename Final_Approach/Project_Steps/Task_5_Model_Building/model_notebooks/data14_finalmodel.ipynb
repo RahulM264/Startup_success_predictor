{
 "cells": [
  {
   "cell_type": "code",
   "execution_count": 3,
   "metadata": {
    "id": "sPs9gUjJc9KN"
   },
   "outputs": [],
   "source": [
    "import numpy as np\n",
    "import pandas as pd\n",
    "import matplotlib.pyplot as plt\n",
    "%matplotlib inline"
   ]
  },
  {
   "cell_type": "code",
   "execution_count": 4,
   "metadata": {
    "colab": {
     "base_uri": "https://localhost:8080/",
     "height": 1000
    },
    "id": "np0Di1ZnegZx",
    "outputId": "8c238c81-04ac-4391-e13d-c2b7243e1636"
   },
   "outputs": [
    {
     "data": {
      "text/html": [
       "<div>\n",
       "<style scoped>\n",
       "    .dataframe tbody tr th:only-of-type {\n",
       "        vertical-align: middle;\n",
       "    }\n",
       "\n",
       "    .dataframe tbody tr th {\n",
       "        vertical-align: top;\n",
       "    }\n",
       "\n",
       "    .dataframe thead th {\n",
       "        text-align: right;\n",
       "    }\n",
       "</style>\n",
       "<table border=\"1\" class=\"dataframe\">\n",
       "  <thead>\n",
       "    <tr style=\"text-align: right;\">\n",
       "      <th></th>\n",
       "      <th>Unnamed: 0</th>\n",
       "      <th>market</th>\n",
       "      <th>products</th>\n",
       "      <th>launch_stage</th>\n",
       "      <th>activity_level</th>\n",
       "      <th>activity_verified</th>\n",
       "      <th>pageviews</th>\n",
       "      <th>team_member</th>\n",
       "      <th>founded_by</th>\n",
       "      <th>revenue_stage</th>\n",
       "      <th>revenue_through</th>\n",
       "      <th>twitter_followers</th>\n",
       "      <th>amount_raised</th>\n",
       "      <th>company_website</th>\n",
       "      <th>description</th>\n",
       "      <th>name</th>\n",
       "      <th>founded</th>\n",
       "      <th>place</th>\n",
       "      <th>crunchbase_link</th>\n",
       "      <th>ranking</th>\n",
       "    </tr>\n",
       "  </thead>\n",
       "  <tbody>\n",
       "    <tr>\n",
       "      <th>0</th>\n",
       "      <td>0</td>\n",
       "      <td>'marketing', 'productivity', 'social networks'...</td>\n",
       "      <td>'desktop app', 'mobile app', 'service', 'web app'</td>\n",
       "      <td>Publicly</td>\n",
       "      <td>Low company activity detected</td>\n",
       "      <td>21 Jan 21</td>\n",
       "      <td>72600.0</td>\n",
       "      <td>30.5</td>\n",
       "      <td>'SocialMeep'</td>\n",
       "      <td>Post</td>\n",
       "      <td>'b2c', 'b2b', 'freemium', 'subscription'</td>\n",
       "      <td>184</td>\n",
       "      <td>Undisclosed</td>\n",
       "      <td>https://socialmeep.com?ref=startuptracker</td>\n",
       "      <td>'SocialMeep builds automatic growth and market...</td>\n",
       "      <td>'SocialMeep'</td>\n",
       "      <td>March 3 2018</td>\n",
       "      <td>New York US</td>\n",
       "      <td>https://www.crunchbase.com/organization/social...</td>\n",
       "      <td>66100</td>\n",
       "    </tr>\n",
       "    <tr>\n",
       "      <th>1</th>\n",
       "      <td>1</td>\n",
       "      <td>'design', 'education', 'software dev'</td>\n",
       "      <td>'web app'</td>\n",
       "      <td>Publicly</td>\n",
       "      <td>High company activity detected</td>\n",
       "      <td>15 Jan 21</td>\n",
       "      <td>18900.0</td>\n",
       "      <td>4.0</td>\n",
       "      <td>'DesignerUp'</td>\n",
       "      <td>Pre</td>\n",
       "      <td>'b2c', 'free to use', 'sales'</td>\n",
       "      <td>590</td>\n",
       "      <td>Undisclosed</td>\n",
       "      <td>http://DesignerUp.co?ref=startuptracker</td>\n",
       "      <td>'An ecosystem of UI/UX and product design reso...</td>\n",
       "      <td>'DesignerUp'</td>\n",
       "      <td>October 21 2018</td>\n",
       "      <td>San Francisco US</td>\n",
       "      <td>https://angel.co/company</td>\n",
       "      <td>252000</td>\n",
       "    </tr>\n",
       "    <tr>\n",
       "      <th>2</th>\n",
       "      <td>2</td>\n",
       "      <td>'advertising', 'marketing', 'startups', 'content'</td>\n",
       "      <td>'web app'</td>\n",
       "      <td>Publicly</td>\n",
       "      <td>High company activity detected</td>\n",
       "      <td>14 Jan 21</td>\n",
       "      <td>1700.0</td>\n",
       "      <td>4.0</td>\n",
       "      <td>'strategynode', 'Tyler J. Fox'</td>\n",
       "      <td>Pre</td>\n",
       "      <td>'b2c', 'b2b', 'free to use'</td>\n",
       "      <td>7</td>\n",
       "      <td>Undisclosed</td>\n",
       "      <td>https://katang.io/?t_pid=2?ref=startuptracker</td>\n",
       "      <td>'KaTang is an end-to-end content marketing pla...</td>\n",
       "      <td>'KaTang'</td>\n",
       "      <td>November 1 2019</td>\n",
       "      <td>Lehi US</td>\n",
       "      <td>https://www.crunchbase.com/organization/katang</td>\n",
       "      <td>2700000</td>\n",
       "    </tr>\n",
       "    <tr>\n",
       "      <th>3</th>\n",
       "      <td>3</td>\n",
       "      <td>'advertising', 'e commerce', 'media', 'content'</td>\n",
       "      <td>'mobile app', 'web app'</td>\n",
       "      <td>Publicly</td>\n",
       "      <td>High company activity detected</td>\n",
       "      <td>30 Dec 20</td>\n",
       "      <td>5000.0</td>\n",
       "      <td>7.5</td>\n",
       "      <td>'Rad Padre', 'Freedom TV+'</td>\n",
       "      <td>Pre</td>\n",
       "      <td>'b2c', 'free to use', 'commission', 'affiliation'</td>\n",
       "      <td>11</td>\n",
       "      <td>Undisclosed</td>\n",
       "      <td>https://www.freedomrains.com/?ac=218B21?ref=st...</td>\n",
       "      <td>'Shopping assistant browser extension that pro...</td>\n",
       "      <td>'Above &amp; Beyond Studios, Inc.'</td>\n",
       "      <td>June 26 2019</td>\n",
       "      <td>Boston US</td>\n",
       "      <td>https://producthunt.com/posts/freedom-super-sa...</td>\n",
       "      <td>945700</td>\n",
       "    </tr>\n",
       "    <tr>\n",
       "      <th>4</th>\n",
       "      <td>4</td>\n",
       "      <td>'security', 'blockchain'</td>\n",
       "      <td>'mobile app'</td>\n",
       "      <td>Publicly</td>\n",
       "      <td>No recent company activity detected</td>\n",
       "      <td>29 Dec 20</td>\n",
       "      <td>957.0</td>\n",
       "      <td>7.5</td>\n",
       "      <td>'VyrocApp'</td>\n",
       "      <td>Post</td>\n",
       "      <td>'b2c', 'free to use', 'advertising', 'subscrip...</td>\n",
       "      <td>17</td>\n",
       "      <td>Undisclosed</td>\n",
       "      <td>http://vyrocapp.com?ref=startuptracker</td>\n",
       "      <td>'Private Search Engine, Powered by the Blockch...</td>\n",
       "      <td>'Vyroc'</td>\n",
       "      <td>January 1 2020</td>\n",
       "      <td>New York US</td>\n",
       "      <td>https://www.crunchbase.com/organization/vyroc</td>\n",
       "      <td>4800000</td>\n",
       "    </tr>\n",
       "    <tr>\n",
       "      <th>5</th>\n",
       "      <td>5</td>\n",
       "      <td>'communication', 'marketing', 'startups', 'sales'</td>\n",
       "      <td>'service', 'web app'</td>\n",
       "      <td>Privately</td>\n",
       "      <td>High company activity detected</td>\n",
       "      <td>5 Dec 20</td>\n",
       "      <td>2800.0</td>\n",
       "      <td>30.5</td>\n",
       "      <td>'Chris Beaman'</td>\n",
       "      <td>Post</td>\n",
       "      <td>'b2b', 'freemium', 'sales', 'subscription'</td>\n",
       "      <td>29</td>\n",
       "      <td>Self</td>\n",
       "      <td>https://www.astronomic.com?ref=startuptracker</td>\n",
       "      <td>'We connect founders and help them grow'</td>\n",
       "      <td>'Astronomic'</td>\n",
       "      <td>June 1 2020</td>\n",
       "      <td>Austin US</td>\n",
       "      <td>https://startuptracker.io</td>\n",
       "      <td>1700000</td>\n",
       "    </tr>\n",
       "    <tr>\n",
       "      <th>6</th>\n",
       "      <td>6</td>\n",
       "      <td>'data', 'productivity', 'startups', 'content'</td>\n",
       "      <td>'other', 'desktop app', 'mobile app', 'web app'</td>\n",
       "      <td>Pre</td>\n",
       "      <td>High company activity detected</td>\n",
       "      <td>3 Dec 20</td>\n",
       "      <td>2100.0</td>\n",
       "      <td>7.5</td>\n",
       "      <td>'Snipply'</td>\n",
       "      <td>Pre</td>\n",
       "      <td>'b2c', 'b2b', 'freemium', 'subscription'</td>\n",
       "      <td>110</td>\n",
       "      <td>Undisclosed</td>\n",
       "      <td>http://www.snipply.io?ref=startuptracker</td>\n",
       "      <td>'Snipply connects the content inside the apps ...</td>\n",
       "      <td>'Snipply'</td>\n",
       "      <td>June 1 2019</td>\n",
       "      <td>New York US</td>\n",
       "      <td>https://startuptracker.io</td>\n",
       "      <td>2200000</td>\n",
       "    </tr>\n",
       "    <tr>\n",
       "      <th>7</th>\n",
       "      <td>7</td>\n",
       "      <td>'analytics', 'manufacturing', 'productivity', ...</td>\n",
       "      <td>'desktop app', 'web app'</td>\n",
       "      <td>Privately</td>\n",
       "      <td>High company activity detected</td>\n",
       "      <td>25 Nov 20</td>\n",
       "      <td>8300.0</td>\n",
       "      <td>30.5</td>\n",
       "      <td>'Angshuman Guha'</td>\n",
       "      <td>Pre</td>\n",
       "      <td>'b2b', 'affiliation', 'freemium', 'sales'</td>\n",
       "      <td>92</td>\n",
       "      <td>Undisclosed</td>\n",
       "      <td>https://bipp.io/?ref=startuptracker</td>\n",
       "      <td>'bipp is an enterprise-grade, cloud business i...</td>\n",
       "      <td>'bipp Analytics'</td>\n",
       "      <td>July 15 2017</td>\n",
       "      <td>Plano US</td>\n",
       "      <td>https://www.crunchbase.com/organization/bipp-a...</td>\n",
       "      <td>566200</td>\n",
       "    </tr>\n",
       "    <tr>\n",
       "      <th>8</th>\n",
       "      <td>8</td>\n",
       "      <td>'productivity', 'accounting and legal', 'ai', ...</td>\n",
       "      <td>'desktop app', 'mobile app', 'web app'</td>\n",
       "      <td>Privately</td>\n",
       "      <td>High company activity detected</td>\n",
       "      <td>23 Nov 20</td>\n",
       "      <td>0.0</td>\n",
       "      <td>4.0</td>\n",
       "      <td>'agreemint'</td>\n",
       "      <td>Pre</td>\n",
       "      <td>'b2c', 'b2b', 'freemium', 'sales', 'subscription'</td>\n",
       "      <td>31</td>\n",
       "      <td>Undisclosed</td>\n",
       "      <td>https://www.agreemint.com?ref=startuptracker</td>\n",
       "      <td>'Through the Agreemint Contract AI users engag...</td>\n",
       "      <td>'Agreemint'</td>\n",
       "      <td>February 10 2018</td>\n",
       "      <td>San francisco US</td>\n",
       "      <td>https://www.crunchbase.com/organization/agreemint</td>\n",
       "      <td>0</td>\n",
       "    </tr>\n",
       "    <tr>\n",
       "      <th>9</th>\n",
       "      <td>9</td>\n",
       "      <td>'software dev'</td>\n",
       "      <td>'mobile app', 'web app'</td>\n",
       "      <td>Publicly</td>\n",
       "      <td>High company activity detected</td>\n",
       "      <td>11 Nov 20</td>\n",
       "      <td>4600.0</td>\n",
       "      <td>7.5</td>\n",
       "      <td>'Shake SDK'</td>\n",
       "      <td>Pre</td>\n",
       "      <td>'b2b', 'freemium'</td>\n",
       "      <td>16</td>\n",
       "      <td>Undisclosed</td>\n",
       "      <td>https://www.shakebugs.com/?ref=startuptracker</td>\n",
       "      <td>'Bug reporting tool for mobile apps.'</td>\n",
       "      <td>'Shake'</td>\n",
       "      <td>September 30 2019</td>\n",
       "      <td>Newark US</td>\n",
       "      <td>https://www.crunchbase.com/organization/shake-...</td>\n",
       "      <td>1000000</td>\n",
       "    </tr>\n",
       "  </tbody>\n",
       "</table>\n",
       "</div>"
      ],
      "text/plain": [
       "   Unnamed: 0  ...  ranking\n",
       "0           0  ...    66100\n",
       "1           1  ...   252000\n",
       "2           2  ...  2700000\n",
       "3           3  ...   945700\n",
       "4           4  ...  4800000\n",
       "5           5  ...  1700000\n",
       "6           6  ...  2200000\n",
       "7           7  ...   566200\n",
       "8           8  ...        0\n",
       "9           9  ...  1000000\n",
       "\n",
       "[10 rows x 20 columns]"
      ]
     },
     "execution_count": 4,
     "metadata": {
      "tags": []
     },
     "output_type": "execute_result"
    }
   ],
   "source": [
    "df = pd.read_csv('data14(1).csv')\n",
    "df.head(10)"
   ]
  },
  {
   "cell_type": "markdown",
   "metadata": {
    "id": "eOgeHiure12d"
   },
   "source": [
    "### I am going to consider **Page Views** column in the dataset as my target variable.\n",
    "\n",
    "Ideally, **Amount_Raised** column should be considered as the target variable but since it has more than 50% of Undisclosed values, it would be pointless to put it as a target variable.\n",
    "\n",
    "So, apart from this, **Page Views** is the one column which can be vaguely used to identify the popularity and success of startups so I am using this"
   ]
  },
  {
   "cell_type": "markdown",
   "metadata": {
    "id": "EXeCIzoSfd_Z"
   },
   "source": [
    "# Choosing Features manually based on their names and relation with the success of startups"
   ]
  },
  {
   "cell_type": "code",
   "execution_count": 5,
   "metadata": {
    "colab": {
     "base_uri": "https://localhost:8080/",
     "height": 359
    },
    "id": "pHfCZ6U3ekuj",
    "outputId": "34bfed98-8d5a-484c-838b-cac6630317ff"
   },
   "outputs": [
    {
     "data": {
      "text/html": [
       "<div>\n",
       "<style scoped>\n",
       "    .dataframe tbody tr th:only-of-type {\n",
       "        vertical-align: middle;\n",
       "    }\n",
       "\n",
       "    .dataframe tbody tr th {\n",
       "        vertical-align: top;\n",
       "    }\n",
       "\n",
       "    .dataframe thead th {\n",
       "        text-align: right;\n",
       "    }\n",
       "</style>\n",
       "<table border=\"1\" class=\"dataframe\">\n",
       "  <thead>\n",
       "    <tr style=\"text-align: right;\">\n",
       "      <th></th>\n",
       "      <th>launch_stage</th>\n",
       "      <th>activity_level</th>\n",
       "      <th>pageviews</th>\n",
       "      <th>team_member</th>\n",
       "      <th>revenue_stage</th>\n",
       "      <th>twitter_followers</th>\n",
       "      <th>amount_raised</th>\n",
       "      <th>ranking</th>\n",
       "    </tr>\n",
       "  </thead>\n",
       "  <tbody>\n",
       "    <tr>\n",
       "      <th>0</th>\n",
       "      <td>Publicly</td>\n",
       "      <td>Low company activity detected</td>\n",
       "      <td>72600.0</td>\n",
       "      <td>30.5</td>\n",
       "      <td>Post</td>\n",
       "      <td>184</td>\n",
       "      <td>Undisclosed</td>\n",
       "      <td>66100</td>\n",
       "    </tr>\n",
       "    <tr>\n",
       "      <th>1</th>\n",
       "      <td>Publicly</td>\n",
       "      <td>High company activity detected</td>\n",
       "      <td>18900.0</td>\n",
       "      <td>4.0</td>\n",
       "      <td>Pre</td>\n",
       "      <td>590</td>\n",
       "      <td>Undisclosed</td>\n",
       "      <td>252000</td>\n",
       "    </tr>\n",
       "    <tr>\n",
       "      <th>2</th>\n",
       "      <td>Publicly</td>\n",
       "      <td>High company activity detected</td>\n",
       "      <td>1700.0</td>\n",
       "      <td>4.0</td>\n",
       "      <td>Pre</td>\n",
       "      <td>7</td>\n",
       "      <td>Undisclosed</td>\n",
       "      <td>2700000</td>\n",
       "    </tr>\n",
       "    <tr>\n",
       "      <th>3</th>\n",
       "      <td>Publicly</td>\n",
       "      <td>High company activity detected</td>\n",
       "      <td>5000.0</td>\n",
       "      <td>7.5</td>\n",
       "      <td>Pre</td>\n",
       "      <td>11</td>\n",
       "      <td>Undisclosed</td>\n",
       "      <td>945700</td>\n",
       "    </tr>\n",
       "    <tr>\n",
       "      <th>4</th>\n",
       "      <td>Publicly</td>\n",
       "      <td>No recent company activity detected</td>\n",
       "      <td>957.0</td>\n",
       "      <td>7.5</td>\n",
       "      <td>Post</td>\n",
       "      <td>17</td>\n",
       "      <td>Undisclosed</td>\n",
       "      <td>4800000</td>\n",
       "    </tr>\n",
       "    <tr>\n",
       "      <th>5</th>\n",
       "      <td>Privately</td>\n",
       "      <td>High company activity detected</td>\n",
       "      <td>2800.0</td>\n",
       "      <td>30.5</td>\n",
       "      <td>Post</td>\n",
       "      <td>29</td>\n",
       "      <td>Self</td>\n",
       "      <td>1700000</td>\n",
       "    </tr>\n",
       "    <tr>\n",
       "      <th>6</th>\n",
       "      <td>Pre</td>\n",
       "      <td>High company activity detected</td>\n",
       "      <td>2100.0</td>\n",
       "      <td>7.5</td>\n",
       "      <td>Pre</td>\n",
       "      <td>110</td>\n",
       "      <td>Undisclosed</td>\n",
       "      <td>2200000</td>\n",
       "    </tr>\n",
       "    <tr>\n",
       "      <th>7</th>\n",
       "      <td>Privately</td>\n",
       "      <td>High company activity detected</td>\n",
       "      <td>8300.0</td>\n",
       "      <td>30.5</td>\n",
       "      <td>Pre</td>\n",
       "      <td>92</td>\n",
       "      <td>Undisclosed</td>\n",
       "      <td>566200</td>\n",
       "    </tr>\n",
       "    <tr>\n",
       "      <th>8</th>\n",
       "      <td>Privately</td>\n",
       "      <td>High company activity detected</td>\n",
       "      <td>0.0</td>\n",
       "      <td>4.0</td>\n",
       "      <td>Pre</td>\n",
       "      <td>31</td>\n",
       "      <td>Undisclosed</td>\n",
       "      <td>0</td>\n",
       "    </tr>\n",
       "    <tr>\n",
       "      <th>9</th>\n",
       "      <td>Publicly</td>\n",
       "      <td>High company activity detected</td>\n",
       "      <td>4600.0</td>\n",
       "      <td>7.5</td>\n",
       "      <td>Pre</td>\n",
       "      <td>16</td>\n",
       "      <td>Undisclosed</td>\n",
       "      <td>1000000</td>\n",
       "    </tr>\n",
       "  </tbody>\n",
       "</table>\n",
       "</div>"
      ],
      "text/plain": [
       "  launch_stage                       activity_level  ...  amount_raised  ranking\n",
       "0     Publicly        Low company activity detected  ...    Undisclosed    66100\n",
       "1     Publicly       High company activity detected  ...    Undisclosed   252000\n",
       "2     Publicly       High company activity detected  ...    Undisclosed  2700000\n",
       "3     Publicly       High company activity detected  ...    Undisclosed   945700\n",
       "4     Publicly  No recent company activity detected  ...    Undisclosed  4800000\n",
       "5    Privately       High company activity detected  ...           Self  1700000\n",
       "6          Pre       High company activity detected  ...    Undisclosed  2200000\n",
       "7    Privately       High company activity detected  ...    Undisclosed   566200\n",
       "8    Privately       High company activity detected  ...    Undisclosed        0\n",
       "9     Publicly       High company activity detected  ...    Undisclosed  1000000\n",
       "\n",
       "[10 rows x 8 columns]"
      ]
     },
     "execution_count": 5,
     "metadata": {
      "tags": []
     },
     "output_type": "execute_result"
    }
   ],
   "source": [
    "dfa = df[['launch_stage','activity_level','pageviews','team_member','revenue_stage','twitter_followers','amount_raised','ranking']]\n",
    "dfa.head(10)"
   ]
  },
  {
   "cell_type": "markdown",
   "metadata": {
    "id": "8tC2Sx_WgCHi"
   },
   "source": [
    "Let us go through each column to see if we need to handle anything like unknown or contradicting values and try to convert categorical variables into numerical variables"
   ]
  },
  {
   "cell_type": "code",
   "execution_count": 6,
   "metadata": {
    "colab": {
     "base_uri": "https://localhost:8080/"
    },
    "id": "iHaSMGwQf4Ce",
    "outputId": "58d8d936-e277-43f7-b3cf-3920b5c303ad"
   },
   "outputs": [
    {
     "data": {
      "text/plain": [
       "0         Publicly\n",
       "1         Publicly\n",
       "2         Publicly\n",
       "3         Publicly\n",
       "4         Publicly\n",
       "          ...     \n",
       "633       Publicly\n",
       "634       Publicly\n",
       "635           Self\n",
       "636           $20k\n",
       "637    Undisclosed\n",
       "Name: launch_stage, Length: 638, dtype: object"
      ]
     },
     "execution_count": 6,
     "metadata": {
      "tags": []
     },
     "output_type": "execute_result"
    }
   ],
   "source": [
    "dfa['launch_stage']"
   ]
  },
  {
   "cell_type": "code",
   "execution_count": 7,
   "metadata": {
    "colab": {
     "base_uri": "https://localhost:8080/"
    },
    "id": "DoRPyboCgQoc",
    "outputId": "c33a42aa-2c41-4d9d-bc88-32098fcaa022"
   },
   "outputs": [
    {
     "data": {
      "text/plain": [
       "Publicly       453\n",
       "Privately      109\n",
       "Pre             73\n",
       "Undisclosed      1\n",
       "$20k             1\n",
       "Self             1\n",
       "Name: launch_stage, dtype: int64"
      ]
     },
     "execution_count": 7,
     "metadata": {
      "tags": []
     },
     "output_type": "execute_result"
    }
   ],
   "source": [
    "dfa['launch_stage'].value_counts()"
   ]
  },
  {
   "cell_type": "markdown",
   "metadata": {
    "id": "1kM35GyrhTBI"
   },
   "source": [
    "These are the various labels present in the launch-stage column. Let us now establish an ordinal scaling with the different values here.\n",
    "\n",
    "Let us assume that the column is ordinal in nature where\n",
    "* Public Launch Stage> Pre Launch Stage> Private Launch Stage> $20k> Self> Undisclosed "
   ]
  },
  {
   "cell_type": "code",
   "execution_count": 8,
   "metadata": {
    "colab": {
     "base_uri": "https://localhost:8080/"
    },
    "id": "c_PjkMmagUAe",
    "outputId": "8dc66ded-30fe-45c3-900d-653516158d0f"
   },
   "outputs": [
    {
     "name": "stderr",
     "output_type": "stream",
     "text": [
      "/usr/local/lib/python3.7/dist-packages/pandas/core/series.py:4582: SettingWithCopyWarning: \n",
      "A value is trying to be set on a copy of a slice from a DataFrame\n",
      "\n",
      "See the caveats in the documentation: https://pandas.pydata.org/pandas-docs/stable/user_guide/indexing.html#returning-a-view-versus-a-copy\n",
      "  method=method,\n"
     ]
    },
    {
     "data": {
      "text/plain": [
       "pandas.core.series.Series"
      ]
     },
     "execution_count": 8,
     "metadata": {
      "tags": []
     },
     "output_type": "execute_result"
    }
   ],
   "source": [
    "dfa['launch_stage'].replace({'Publicly': 6,'Pre':5,'Privately':4,'$20k':3,'Self':2,'Undisclosed':1},inplace=True)\n",
    "type(dfa['launch_stage'])"
   ]
  },
  {
   "cell_type": "code",
   "execution_count": 9,
   "metadata": {
    "colab": {
     "base_uri": "https://localhost:8080/"
    },
    "id": "xkT65ERsiTRE",
    "outputId": "334a6634-4480-48a9-8d34-91f0008db1c6"
   },
   "outputs": [
    {
     "data": {
      "text/plain": [
       "0      6\n",
       "1      6\n",
       "2      6\n",
       "3      6\n",
       "4      6\n",
       "      ..\n",
       "633    6\n",
       "634    6\n",
       "635    2\n",
       "636    3\n",
       "637    1\n",
       "Name: launch_stage, Length: 638, dtype: int64"
      ]
     },
     "execution_count": 9,
     "metadata": {
      "tags": []
     },
     "output_type": "execute_result"
    }
   ],
   "source": [
    "dfa['launch_stage']"
   ]
  },
  {
   "cell_type": "markdown",
   "metadata": {
    "id": "WAefwis0iaik"
   },
   "source": [
    "## Let us move on with the next column"
   ]
  },
  {
   "cell_type": "code",
   "execution_count": 10,
   "metadata": {
    "colab": {
     "base_uri": "https://localhost:8080/"
    },
    "id": "Ki36SepSiWNb",
    "outputId": "dd43b02d-722f-4fe5-efff-5e804745a499"
   },
   "outputs": [
    {
     "data": {
      "text/plain": [
       "0            Low company activity detected\n",
       "1           High company activity detected\n",
       "2           High company activity detected\n",
       "3           High company activity detected\n",
       "4      No recent company activity detected\n",
       "                      ...                 \n",
       "633             Sourced by Startup Tracker\n",
       "634         High company activity detected\n",
       "635    No recent company activity detected\n",
       "636             Sourced by Startup Tracker\n",
       "637             Sourced by Startup Tracker\n",
       "Name: activity_level, Length: 638, dtype: object"
      ]
     },
     "execution_count": 10,
     "metadata": {
      "tags": []
     },
     "output_type": "execute_result"
    }
   ],
   "source": [
    "dfa['activity_level']"
   ]
  },
  {
   "cell_type": "code",
   "execution_count": 11,
   "metadata": {
    "colab": {
     "base_uri": "https://localhost:8080/"
    },
    "id": "fy7H972WihB_",
    "outputId": "ac7b9a35-bb1c-484e-cdd2-e4df419a28fa"
   },
   "outputs": [
    {
     "data": {
      "text/plain": [
       "High company activity detected         301\n",
       "No recent company activity detected    232\n",
       "Low company activity detected           65\n",
       "Sourced by Startup Tracker              40\n",
       "Name: activity_level, dtype: int64"
      ]
     },
     "execution_count": 11,
     "metadata": {
      "tags": []
     },
     "output_type": "execute_result"
    }
   ],
   "source": [
    "dfa['activity_level'].value_counts()"
   ]
  },
  {
   "cell_type": "markdown",
   "metadata": {
    "id": "QucRvlhtilSW"
   },
   "source": [
    "Once again, **activity_level** of the startup is an ordinal categorical feature as Startups which have greater activity level has much success rate compared to dormant startups\n",
    "\n",
    "Here the ordinal scale is like\n",
    "* High activity> Low Activity> No recent activity> Sourced by Tracker"
   ]
  },
  {
   "cell_type": "code",
   "execution_count": 11,
   "metadata": {
    "id": "Negm79QBijlf"
   },
   "outputs": [],
   "source": []
  },
  {
   "cell_type": "code",
   "execution_count": 12,
   "metadata": {
    "colab": {
     "base_uri": "https://localhost:8080/"
    },
    "id": "XNXEuksGjCGm",
    "outputId": "391496fa-8611-4646-8eea-af32f8e0a950"
   },
   "outputs": [
    {
     "name": "stderr",
     "output_type": "stream",
     "text": [
      "/usr/local/lib/python3.7/dist-packages/pandas/core/series.py:4582: SettingWithCopyWarning: \n",
      "A value is trying to be set on a copy of a slice from a DataFrame\n",
      "\n",
      "See the caveats in the documentation: https://pandas.pydata.org/pandas-docs/stable/user_guide/indexing.html#returning-a-view-versus-a-copy\n",
      "  method=method,\n"
     ]
    }
   ],
   "source": [
    "dfa['activity_level'].replace({'High company activity detected': 4,'Low company activity detected':3,'No recent company activity detected':2,'Sourced by Startup Tracker':1},inplace=True)\n"
   ]
  },
  {
   "cell_type": "code",
   "execution_count": 13,
   "metadata": {
    "colab": {
     "base_uri": "https://localhost:8080/"
    },
    "id": "eeUvqZ_DjrAo",
    "outputId": "a609e392-be87-47cc-9a23-dff14cd671a5"
   },
   "outputs": [
    {
     "data": {
      "text/plain": [
       "0      3\n",
       "1      4\n",
       "2      4\n",
       "3      4\n",
       "4      2\n",
       "      ..\n",
       "633    1\n",
       "634    4\n",
       "635    2\n",
       "636    1\n",
       "637    1\n",
       "Name: activity_level, Length: 638, dtype: int64"
      ]
     },
     "execution_count": 13,
     "metadata": {
      "tags": []
     },
     "output_type": "execute_result"
    }
   ],
   "source": [
    "dfa['activity_level']"
   ]
  },
  {
   "cell_type": "markdown",
   "metadata": {
    "id": "6SLQ5qqijvGy"
   },
   "source": [
    "## Moving on"
   ]
  },
  {
   "cell_type": "code",
   "execution_count": 14,
   "metadata": {
    "colab": {
     "base_uri": "https://localhost:8080/"
    },
    "id": "wpxGooIdjtOc",
    "outputId": "1e8b0cdb-aab3-4a62-d248-42a8bcd889a5"
   },
   "outputs": [
    {
     "data": {
      "text/plain": [
       "0        72600.0\n",
       "1        18900.0\n",
       "2         1700.0\n",
       "3         5000.0\n",
       "4          957.0\n",
       "         ...    \n",
       "633          0.0\n",
       "634    1200000.0\n",
       "635       1200.0\n",
       "636       3700.0\n",
       "637       7400.0\n",
       "Name: pageviews, Length: 638, dtype: float64"
      ]
     },
     "execution_count": 14,
     "metadata": {
      "tags": []
     },
     "output_type": "execute_result"
    }
   ],
   "source": [
    "dfa['pageviews']"
   ]
  },
  {
   "cell_type": "code",
   "execution_count": 15,
   "metadata": {
    "colab": {
     "base_uri": "https://localhost:8080/"
    },
    "id": "E5U8PbQejzNH",
    "outputId": "76bd023d-4812-4ef5-aa12-0b880f0c82b1"
   },
   "outputs": [
    {
     "data": {
      "text/plain": [
       "array([7.260e+04, 1.890e+04, 1.700e+03, 5.000e+03, 9.570e+02, 2.800e+03,\n",
       "       2.100e+03, 8.300e+03, 0.000e+00, 4.600e+03, 4.000e+03, 4.400e+03,\n",
       "       1.800e+03, 6.480e+02, 2.200e+03, 4.100e+03, 6.780e+02, 1.000e+03,\n",
       "       3.000e+03, 5.600e+03, 6.500e+03, 2.380e+02, 9.790e+02, 1.010e+04,\n",
       "       1.680e+04, 6.260e+04, 4.900e+03, 1.300e+03, 9.000e+00, 2.300e+03,\n",
       "       2.371e+05, 4.720e+04, 1.110e+04, 7.300e+03, 1.310e+04, 3.700e+03,\n",
       "       6.180e+04, 7.640e+04, 1.500e+03, 1.200e+03, 9.600e+03, 1.108e+05,\n",
       "       3.400e+03, 1.008e+05, 6.520e+02, 1.401e+05, 2.650e+04, 2.020e+04,\n",
       "       3.010e+04, 5.700e+03, 4.050e+04, 1.090e+04, 1.466e+05, 1.100e+01,\n",
       "       1.020e+04, 4.850e+04, 9.100e+03, 4.500e+03, 2.230e+04, 1.420e+04,\n",
       "       1.000e+04, 7.409e+05, 6.450e+02, 7.700e+02, 1.341e+05, 4.430e+04,\n",
       "       6.740e+02, 5.580e+04, 9.800e+03, 1.989e+05, 3.600e+03, 4.282e+05,\n",
       "       2.380e+04, 1.180e+04, 3.830e+04, 7.140e+02, 5.300e+03, 5.600e+04,\n",
       "       1.740e+04, 6.100e+03, 3.680e+04, 1.440e+04, 4.900e+01, 4.700e+01,\n",
       "       1.000e+00, 3.720e+04, 2.700e+03, 4.559e+05, 8.240e+02, 6.054e+05,\n",
       "       3.140e+04, 1.400e+03, 2.740e+04, 7.280e+02, 8.010e+04, 3.520e+02,\n",
       "       1.410e+04, 7.000e+00, 4.100e+01, 9.500e+03, 2.040e+04, 9.400e+03,\n",
       "       2.900e+03, 7.730e+04, 4.200e+03, 3.290e+04, 6.800e+03, 5.560e+04,\n",
       "       2.600e+03, 2.450e+04, 1.131e+08, 5.600e+01, 2.520e+02, 1.860e+04,\n",
       "       1.810e+04, 3.400e+04, 1.730e+04, 2.500e+03, 3.900e+03, 2.084e+05,\n",
       "       1.550e+04, 9.300e+03, 3.000e+02, 6.590e+02, 2.960e+04, 2.000e+00,\n",
       "       2.000e+03, 7.800e+04, 5.700e+02, 4.410e+04, 9.380e+02, 7.880e+02,\n",
       "       4.941e+05, 5.350e+02, 2.470e+02, 8.620e+02, 8.950e+02, 3.040e+04,\n",
       "       8.400e+03, 3.380e+04, 4.990e+02, 1.987e+05, 6.170e+02, 8.040e+02,\n",
       "       8.730e+02, 9.250e+02, 6.000e+00, 4.712e+05, 4.750e+02, 1.300e+01,\n",
       "       1.140e+04, 1.900e+04, 5.400e+03, 9.560e+02, 5.900e+03, 6.600e+03,\n",
       "       7.840e+02, 1.100e+03, 6.410e+02, 3.480e+04, 5.200e+04, 5.540e+02,\n",
       "       4.150e+04, 5.450e+02, 7.000e+03, 7.480e+02, 6.490e+02, 6.354e+05,\n",
       "       3.200e+03, 5.800e+02, 1.250e+04, 1.900e+03, 6.650e+02, 1.600e+03,\n",
       "       2.080e+04, 1.200e+04, 1.530e+04, 6.690e+02, 2.620e+04, 1.410e+07,\n",
       "       7.400e+01, 2.570e+04, 9.170e+02, 3.500e+01, 6.280e+04, 7.300e+01,\n",
       "       5.850e+02, 1.060e+04, 5.410e+02, 1.091e+05, 6.900e+03, 6.420e+02,\n",
       "       8.000e+02, 7.800e+03, 2.000e+02, 4.540e+04, 1.114e+05, 9.000e+03,\n",
       "       2.680e+04, 7.100e+03, 5.060e+04, 1.240e+02, 9.480e+02, 9.550e+02,\n",
       "       2.160e+02, 2.940e+04, 6.910e+02, 7.200e+03, 8.810e+02, 1.270e+04,\n",
       "       3.100e+03, 7.660e+02, 8.800e+01, 9.890e+02, 4.000e+01, 1.400e+04,\n",
       "       9.540e+02, 8.570e+02, 5.200e+03, 4.520e+04, 2.390e+04, 6.140e+02,\n",
       "       1.920e+04, 7.630e+02, 6.280e+02, 3.240e+02, 9.040e+02, 6.450e+04,\n",
       "       2.044e+05, 8.800e+03, 3.200e+02, 3.220e+04, 6.900e+04, 3.370e+04,\n",
       "       1.203e+05, 6.060e+04, 8.500e+03, 7.460e+02, 1.980e+04, 2.150e+04,\n",
       "       5.440e+02, 8.000e+00, 1.930e+04, 9.750e+04, 5.710e+02, 9.900e+03,\n",
       "       4.930e+02, 4.490e+04, 1.030e+04, 4.700e+02, 8.420e+04, 4.300e+04,\n",
       "       8.020e+04, 7.450e+02, 6.850e+02, 9.640e+02, 1.840e+04, 9.400e+02,\n",
       "       3.500e+03, 8.900e+03, 7.540e+02, 1.560e+04, 9.330e+02, 6.200e+03,\n",
       "       3.800e+03, 8.750e+02, 1.500e+04, 6.700e+03, 6.400e+03, 4.590e+04,\n",
       "       7.600e+04, 3.000e+00, 1.200e+06, 7.400e+03])"
      ]
     },
     "execution_count": 15,
     "metadata": {
      "tags": []
     },
     "output_type": "execute_result"
    }
   ],
   "source": [
    "dfa['pageviews'].unique()"
   ]
  },
  {
   "cell_type": "markdown",
   "metadata": {
    "id": "fZppnKTwj5aN"
   },
   "source": [
    "It seems there are no null and unusual values in the column so there's no need to clean the data"
   ]
  },
  {
   "cell_type": "code",
   "execution_count": 16,
   "metadata": {
    "colab": {
     "base_uri": "https://localhost:8080/"
    },
    "id": "unnVYzWKj2KP",
    "outputId": "ed4ce2c1-6cd5-4384-eb03-1e346c2c6c3c"
   },
   "outputs": [
    {
     "data": {
      "text/plain": [
       "0      30.5\n",
       "1       4.0\n",
       "2       4.0\n",
       "3       7.5\n",
       "4       7.5\n",
       "       ... \n",
       "633     7.5\n",
       "634    30.5\n",
       "635     3.0\n",
       "636     4.0\n",
       "637     2.0\n",
       "Name: team_member, Length: 638, dtype: float64"
      ]
     },
     "execution_count": 16,
     "metadata": {
      "tags": []
     },
     "output_type": "execute_result"
    }
   ],
   "source": [
    "dfa['team_member']"
   ]
  },
  {
   "cell_type": "markdown",
   "metadata": {
    "id": "Qfpp7_QokG4Q"
   },
   "source": [
    "Nothing here as well so moving on"
   ]
  },
  {
   "cell_type": "code",
   "execution_count": 17,
   "metadata": {
    "colab": {
     "base_uri": "https://localhost:8080/"
    },
    "id": "20yyBHMgkDYe",
    "outputId": "6a4a5e1d-bd22-491b-f266-4b9d27b7ed5e"
   },
   "outputs": [
    {
     "data": {
      "text/plain": [
       "0        Post\n",
       "1         Pre\n",
       "2         Pre\n",
       "3         Pre\n",
       "4        Post\n",
       "        ...  \n",
       "633       Pre\n",
       "634       Pre\n",
       "635       559\n",
       "636      1.3m\n",
       "637    640.5k\n",
       "Name: revenue_stage, Length: 638, dtype: object"
      ]
     },
     "execution_count": 17,
     "metadata": {
      "tags": []
     },
     "output_type": "execute_result"
    }
   ],
   "source": [
    "dfa['revenue_stage']"
   ]
  },
  {
   "cell_type": "code",
   "execution_count": 18,
   "metadata": {
    "colab": {
     "base_uri": "https://localhost:8080/"
    },
    "id": "6kEYj8sekNhZ",
    "outputId": "4ade2be8-2682-4cf8-c905-97ca6c45c1fb"
   },
   "outputs": [
    {
     "data": {
      "text/plain": [
       "Pre       521\n",
       "Post      114\n",
       "1.3m        1\n",
       "640.5k      1\n",
       "559         1\n",
       "Name: revenue_stage, dtype: int64"
      ]
     },
     "execution_count": 18,
     "metadata": {
      "tags": []
     },
     "output_type": "execute_result"
    }
   ],
   "source": [
    "dfa['revenue_stage'].value_counts()"
   ]
  },
  {
   "cell_type": "markdown",
   "metadata": {
    "id": "FTUGAT0Xkq5h"
   },
   "source": [
    "Let us understand the terms of **Pre revenue Stage** and **Post Revenue Stage** before deciding on the ordinality order of the categorical values\n",
    "\n",
    "\n",
    "**Pre Revenue Stage** :- Any stage where you do not have revenue streams from the product or service you sell.\n",
    "\n",
    "You can be early-stage and not have revenues, you can be later stage and not have revenues, however such later stage companies are likely developing hard technology which takes a long time. For example a team of scientists working on nanostructured materials.\n",
    "\n",
    "Usually, the **pre revenue** falls into early-stage of startup life cycle.\n",
    "\n",
    "**Post Revenue Stage** :- As a post-revenue startup company, you have begun to generate sales and are now working through the stages of efficiency and scale. In the efficiency stage, your sales and marketing processes are refined and you are generating consistent and growing revenues. You tweak your product based on customer feedback, and start to explore new customer and partner channels. In the scale stage, you achieve massive exponential sales growth as you scale your business through new channels and geographies. At this point you are making executive team hires and raising larger rounds of investment to continue to grow.\n",
    "\n",
    "\n",
    "\n",
    "\n",
    "To sum things up briefly:-\n",
    "\n",
    "1. Pre-Revenue stage is when the startup is just starting and there's no sales generated\n",
    "\n",
    "2. Post Revenue Stage is when the startup is evolving and there is consistent sales and profits.\n",
    "\n",
    "\n",
    "\n",
    "\n",
    "**So the ordinality order will be:-**\n",
    "\n",
    "* Post> Pre> 1.3m> 643k> 559"
   ]
  },
  {
   "cell_type": "code",
   "execution_count": 19,
   "metadata": {
    "colab": {
     "base_uri": "https://localhost:8080/"
    },
    "id": "wmHYFFgEkQ4M",
    "outputId": "22a796e5-82f4-410f-f3a2-7634c681d4c7"
   },
   "outputs": [
    {
     "name": "stderr",
     "output_type": "stream",
     "text": [
      "/usr/local/lib/python3.7/dist-packages/pandas/core/series.py:4582: SettingWithCopyWarning: \n",
      "A value is trying to be set on a copy of a slice from a DataFrame\n",
      "\n",
      "See the caveats in the documentation: https://pandas.pydata.org/pandas-docs/stable/user_guide/indexing.html#returning-a-view-versus-a-copy\n",
      "  method=method,\n"
     ]
    }
   ],
   "source": [
    "dfa['revenue_stage'].replace({'Post':5,'Pre':4,'1.3m':3,'640.5k':2,'559':1},inplace=True)"
   ]
  },
  {
   "cell_type": "code",
   "execution_count": 20,
   "metadata": {
    "colab": {
     "base_uri": "https://localhost:8080/"
    },
    "id": "p_qon1HIlzA8",
    "outputId": "0156e4e9-7b5e-4c9c-fc00-e27ce5074b32"
   },
   "outputs": [
    {
     "data": {
      "text/plain": [
       "4    521\n",
       "5    114\n",
       "3      1\n",
       "2      1\n",
       "1      1\n",
       "Name: revenue_stage, dtype: int64"
      ]
     },
     "execution_count": 20,
     "metadata": {
      "tags": []
     },
     "output_type": "execute_result"
    }
   ],
   "source": [
    "dfa['revenue_stage'].value_counts()"
   ]
  },
  {
   "cell_type": "markdown",
   "metadata": {
    "id": "0qqASz4Il5HK"
   },
   "source": [
    "## Moving on"
   ]
  },
  {
   "cell_type": "code",
   "execution_count": 21,
   "metadata": {
    "colab": {
     "base_uri": "https://localhost:8080/"
    },
    "id": "4OhyGAF_l3GP",
    "outputId": "1fab5c93-719a-4500-b8e4-8401dd20e4f6"
   },
   "outputs": [
    {
     "data": {
      "text/plain": [
       "0        184\n",
       "1        590\n",
       "2          7\n",
       "3         11\n",
       "4         17\n",
       "       ...  \n",
       "633     1100\n",
       "634    69700\n",
       "635     1200\n",
       "636        9\n",
       "637        9\n",
       "Name: twitter_followers, Length: 638, dtype: int64"
      ]
     },
     "execution_count": 21,
     "metadata": {
      "tags": []
     },
     "output_type": "execute_result"
    }
   ],
   "source": [
    "dfa['twitter_followers']"
   ]
  },
  {
   "cell_type": "code",
   "execution_count": 22,
   "metadata": {
    "colab": {
     "base_uri": "https://localhost:8080/"
    },
    "id": "U28nw9PrmAby",
    "outputId": "982f89db-57d9-4687-b9d5-09521105ed59"
   },
   "outputs": [
    {
     "data": {
      "text/plain": [
       "0      Undisclosed\n",
       "1      Undisclosed\n",
       "2      Undisclosed\n",
       "3      Undisclosed\n",
       "4      Undisclosed\n",
       "          ...     \n",
       "633            $1m\n",
       "634          $1.3m\n",
       "635             4m\n",
       "636          ~3.7k\n",
       "637          ~7.4k\n",
       "Name: amount_raised, Length: 638, dtype: object"
      ]
     },
     "execution_count": 22,
     "metadata": {
      "tags": []
     },
     "output_type": "execute_result"
    }
   ],
   "source": [
    "dfa['amount_raised']"
   ]
  },
  {
   "cell_type": "code",
   "execution_count": 23,
   "metadata": {
    "colab": {
     "base_uri": "https://localhost:8080/"
    },
    "id": "TwWqRNRYmDmz",
    "outputId": "4301eacd-c9c8-40f1-8976-ab0e484de60f"
   },
   "outputs": [
    {
     "data": {
      "text/plain": [
       "Undisclosed    468\n",
       "Self           117\n",
       "$1m              3\n",
       "$250k            3\n",
       "$4m              2\n",
       "$150k            2\n",
       "$1.3m            2\n",
       "$10k             2\n",
       "$795k            2\n",
       "4m               1\n",
       "$1.1m            1\n",
       "$500k            1\n",
       "$11.6m           1\n",
       "$25m             1\n",
       "$1               1\n",
       "$956.7k          1\n",
       "$119m            1\n",
       "$200k            1\n",
       "~3.7k            1\n",
       "$6m              1\n",
       "$41.2m           1\n",
       "$77.6m           1\n",
       "$26k             1\n",
       "$9.7m            1\n",
       "$9m              1\n",
       "$815k            1\n",
       "$5m              1\n",
       "$3m              1\n",
       "$100k            1\n",
       "$6.8m            1\n",
       "$1.8m            1\n",
       "$100b            1\n",
       "$18.6m           1\n",
       "$800k            1\n",
       "$20m             1\n",
       "$5               1\n",
       "$4.2m            1\n",
       "$7               1\n",
       "~7.4k            1\n",
       "$29.1m           1\n",
       "$12m             1\n",
       "$350k            1\n",
       "$65k             1\n",
       "$22.7k           1\n",
       "$8m              1\n",
       "$26.6k           1\n",
       "Name: amount_raised, dtype: int64"
      ]
     },
     "execution_count": 23,
     "metadata": {
      "tags": []
     },
     "output_type": "execute_result"
    }
   ],
   "source": [
    "dfa['amount_raised'].value_counts()"
   ]
  },
  {
   "cell_type": "code",
   "execution_count": 24,
   "metadata": {
    "colab": {
     "base_uri": "https://localhost:8080/"
    },
    "id": "aX5PWMakmH6i",
    "outputId": "1f648922-6ff8-4788-f320-da9a5201e540"
   },
   "outputs": [
    {
     "data": {
      "text/plain": [
       "0        66100\n",
       "1       252000\n",
       "2      2700000\n",
       "3       945700\n",
       "4      4800000\n",
       "        ...   \n",
       "633          0\n",
       "634       4200\n",
       "635    4000000\n",
       "636    1300000\n",
       "637     640500\n",
       "Name: ranking, Length: 638, dtype: int64"
      ]
     },
     "execution_count": 24,
     "metadata": {
      "tags": []
     },
     "output_type": "execute_result"
    }
   ],
   "source": [
    "dfa['ranking']"
   ]
  },
  {
   "cell_type": "markdown",
   "metadata": {
    "id": "cM1DvNKMmgP-"
   },
   "source": [
    "## Proceeding with Model Building"
   ]
  },
  {
   "cell_type": "code",
   "execution_count": 1,
   "metadata": {
    "colab": {
     "base_uri": "https://localhost:8080/"
    },
    "id": "G8w2jHB5rK1l",
    "outputId": "fae8f8b1-6f5f-4ab9-fd0b-8cda6336c2d6"
   },
   "outputs": [
    {
     "name": "stdout",
     "output_type": "stream",
     "text": [
      "Collecting pycaret\n",
      "  Using cached pycaret-2.3.2-py3-none-any.whl (263 kB)\n",
      "Collecting lightgbm>=2.3.1\n",
      "  Using cached lightgbm-3.2.1-py3-none-win_amd64.whl (1.0 MB)\n",
      "Requirement already satisfied: pandas-profiling>=2.8.0 in c:\\users\\windows 10\\appdata\\roaming\\python\\python37\\site-packages (from pycaret) (2.8.0)\n",
      "Collecting scikit-learn==0.23.2\n",
      "  Using cached scikit_learn-0.23.2-cp37-cp37m-win_amd64.whl (6.8 MB)\n",
      "Collecting scipy<=1.5.4\n",
      "  Using cached scipy-1.5.4-cp37-cp37m-win_amd64.whl (31.2 MB)\n",
      "Requirement already satisfied: plotly>=4.4.1 in c:\\anaconda\\lib\\site-packages (from pycaret) (4.9.0)\n",
      "Requirement already satisfied: wordcloud in c:\\anaconda\\lib\\site-packages (from pycaret) (1.8.1)\n",
      "Collecting spacy<2.4.0\n",
      "  Using cached spacy-2.3.7-cp37-cp37m-win_amd64.whl (9.6 MB)\n",
      "Requirement already satisfied: ipywidgets in c:\\anaconda\\lib\\site-packages (from pycaret) (7.6.3)\n",
      "Requirement already satisfied: numpy==1.19.5 in c:\\anaconda\\lib\\site-packages (from pycaret) (1.19.5)\n",
      "Requirement already satisfied: matplotlib in c:\\users\\windows 10\\appdata\\roaming\\python\\python37\\site-packages (from pycaret) (3.3.0)\n",
      "Collecting yellowbrick>=1.0.1\n",
      "  Using cached yellowbrick-1.3.post1-py3-none-any.whl (271 kB)\n",
      "Requirement already satisfied: nltk in c:\\anaconda\\lib\\site-packages (from pycaret) (3.5)\n",
      "Collecting umap-learn\n",
      "  Using cached umap_learn-0.5.1-py3-none-any.whl\n",
      "Requirement already satisfied: IPython in c:\\anaconda\\lib\\site-packages (from pycaret) (7.18.1)\n",
      "Requirement already satisfied: pandas in c:\\anaconda\\lib\\site-packages (from pycaret) (1.0.1)\n",
      "Collecting kmodes>=0.10.1\n",
      "  Using cached kmodes-0.11.0-py2.py3-none-any.whl (18 kB)\n",
      "Requirement already satisfied: imbalanced-learn==0.7.0 in c:\\anaconda\\lib\\site-packages (from pycaret) (0.7.0)\n",
      "Requirement already satisfied: mlxtend>=0.17.0 in c:\\anaconda\\lib\\site-packages (from pycaret) (0.17.3)\n",
      "Collecting pyod\n",
      "  Using cached pyod-0.9.0-py3-none-any.whl\n",
      "Collecting textblob\n",
      "  Using cached textblob-0.15.3-py2.py3-none-any.whl (636 kB)\n",
      "Collecting Boruta\n",
      "  Using cached Boruta-0.3-py3-none-any.whl (56 kB)\n",
      "Requirement already satisfied: seaborn in c:\\anaconda\\lib\\site-packages (from pycaret) (0.11.1)\n",
      "Collecting mlflow\n",
      "  Using cached mlflow-1.19.0-py3-none-any.whl (14.4 MB)\n",
      "Collecting pyLDAvis\n",
      "  Using cached pyLDAvis-3.3.1.tar.gz (1.7 MB)\n",
      "  Installing build dependencies: started\n",
      "  Installing build dependencies: finished with status 'done'\n",
      "  Getting requirements to build wheel: started\n",
      "  Getting requirements to build wheel: finished with status 'done'\n",
      "  Installing backend dependencies: started\n",
      "  Installing backend dependencies: finished with status 'done'\n",
      "    Preparing wheel metadata: started\n",
      "    Preparing wheel metadata: finished with status 'done'\n",
      "Requirement already satisfied: cufflinks>=0.17.0 in c:\\anaconda\\lib\\site-packages (from pycaret) (0.17.3)\n",
      "Collecting scikit-plot\n",
      "  Using cached scikit_plot-0.3.7-py3-none-any.whl (33 kB)\n",
      "Requirement already satisfied: gensim<4.0.0 in c:\\anaconda\\lib\\site-packages (from pycaret) (3.8.3)\n",
      "Requirement already satisfied: joblib in c:\\anaconda\\lib\\site-packages (from pycaret) (1.0.1)\n",
      "Requirement already satisfied: threadpoolctl>=2.0.0 in c:\\anaconda\\lib\\site-packages (from scikit-learn==0.23.2->pycaret) (2.1.0)\n",
      "Requirement already satisfied: colorlover>=0.2.1 in c:\\anaconda\\lib\\site-packages (from cufflinks>=0.17.0->pycaret) (0.3.0)\n",
      "Requirement already satisfied: setuptools>=34.4.1 in c:\\anaconda\\lib\\site-packages (from cufflinks>=0.17.0->pycaret) (51.1.2.post20210112)\n",
      "Requirement already satisfied: six>=1.9.0 in c:\\anaconda\\lib\\site-packages (from cufflinks>=0.17.0->pycaret) (1.15.0)\n",
      "Requirement already satisfied: smart-open>=1.8.1 in c:\\anaconda\\lib\\site-packages (from gensim<4.0.0->pycaret) (2.2.0)\n",
      "Collecting Cython==0.29.14\n",
      "  Using cached Cython-0.29.14-cp37-cp37m-win_amd64.whl (1.7 MB)\n",
      "Requirement already satisfied: decorator in c:\\anaconda\\lib\\site-packages (from IPython->pycaret) (4.4.2)\n",
      "Requirement already satisfied: traitlets>=4.2 in c:\\anaconda\\lib\\site-packages (from IPython->pycaret) (5.0.5)\n",
      "Requirement already satisfied: colorama in c:\\anaconda\\lib\\site-packages (from IPython->pycaret) (0.4.4)\n",
      "Requirement already satisfied: jedi>=0.10 in c:\\anaconda\\lib\\site-packages (from IPython->pycaret) (0.18.0)\n",
      "Requirement already satisfied: pygments in c:\\anaconda\\lib\\site-packages (from IPython->pycaret) (2.7.4)\n",
      "Requirement already satisfied: prompt-toolkit!=3.0.0,!=3.0.1,<3.1.0,>=2.0.0 in c:\\anaconda\\lib\\site-packages (from IPython->pycaret) (3.0.8)\n",
      "Requirement already satisfied: backcall in c:\\anaconda\\lib\\site-packages (from IPython->pycaret) (0.2.0)\n",
      "Requirement already satisfied: pickleshare in c:\\anaconda\\lib\\site-packages (from IPython->pycaret) (0.7.5)\n",
      "Requirement already satisfied: widgetsnbextension~=3.5.0 in c:\\anaconda\\lib\\site-packages (from ipywidgets->pycaret) (3.5.1)\n",
      "Requirement already satisfied: jupyterlab-widgets>=1.0.0 in c:\\anaconda\\lib\\site-packages (from ipywidgets->pycaret) (1.0.0)\n",
      "Requirement already satisfied: nbformat>=4.2.0 in c:\\anaconda\\lib\\site-packages (from ipywidgets->pycaret) (5.1.2)\n",
      "Requirement already satisfied: ipykernel>=4.5.1 in c:\\anaconda\\lib\\site-packages (from ipywidgets->pycaret) (5.3.4)\n",
      "Requirement already satisfied: jupyter-client in c:\\anaconda\\lib\\site-packages (from ipykernel>=4.5.1->ipywidgets->pycaret) (6.1.7)\n",
      "Requirement already satisfied: tornado>=4.2 in c:\\anaconda\\lib\\site-packages (from ipykernel>=4.5.1->ipywidgets->pycaret) (6.0.4)\n",
      "Requirement already satisfied: parso<0.9.0,>=0.8.0 in c:\\anaconda\\lib\\site-packages (from jedi>=0.10->IPython->pycaret) (0.8.1)\n",
      "Requirement already satisfied: wheel in c:\\anaconda\\lib\\site-packages (from lightgbm>=2.3.1->pycaret) (0.36.2)\n",
      "Requirement already satisfied: pyparsing!=2.0.4,!=2.1.2,!=2.1.6,>=2.0.3 in c:\\anaconda\\lib\\site-packages (from matplotlib->pycaret) (2.4.7)\n",
      "Requirement already satisfied: pillow>=6.2.0 in c:\\users\\windows 10\\appdata\\roaming\\python\\python37\\site-packages (from matplotlib->pycaret) (7.2.0)\n",
      "Requirement already satisfied: python-dateutil>=2.1 in c:\\anaconda\\lib\\site-packages (from matplotlib->pycaret) (2.8.1)\n",
      "Requirement already satisfied: kiwisolver>=1.0.1 in c:\\anaconda\\lib\\site-packages (from matplotlib->pycaret) (1.2.0)\n",
      "Requirement already satisfied: cycler>=0.10 in c:\\users\\windows 10\\appdata\\roaming\\python\\python37\\site-packages (from matplotlib->pycaret) (0.10.0)\n",
      "Requirement already satisfied: jupyter-core in c:\\anaconda\\lib\\site-packages (from nbformat>=4.2.0->ipywidgets->pycaret) (4.7.0)\n",
      "Requirement already satisfied: ipython-genutils in c:\\anaconda\\lib\\site-packages (from nbformat>=4.2.0->ipywidgets->pycaret) (0.2.0)\n",
      "Requirement already satisfied: jsonschema!=2.5.0,>=2.4 in c:\\anaconda\\lib\\site-packages (from nbformat>=4.2.0->ipywidgets->pycaret) (3.2.0)\n",
      "Requirement already satisfied: attrs>=17.4.0 in c:\\anaconda\\lib\\site-packages (from jsonschema!=2.5.0,>=2.4->nbformat>=4.2.0->ipywidgets->pycaret) (20.3.0)\n",
      "Requirement already satisfied: importlib-metadata in c:\\anaconda\\lib\\site-packages (from jsonschema!=2.5.0,>=2.4->nbformat>=4.2.0->ipywidgets->pycaret) (2.0.0)\n",
      "Requirement already satisfied: pyrsistent>=0.14.0 in c:\\anaconda\\lib\\site-packages (from jsonschema!=2.5.0,>=2.4->nbformat>=4.2.0->ipywidgets->pycaret) (0.15.7)\n",
      "Requirement already satisfied: pytz>=2017.2 in c:\\anaconda\\lib\\site-packages (from pandas->pycaret) (2021.1)\n",
      "Requirement already satisfied: tqdm>=4.43.0 in c:\\users\\windows 10\\appdata\\roaming\\python\\python37\\site-packages (from pandas-profiling>=2.8.0->pycaret) (4.48.2)\n",
      "Requirement already satisfied: visions[type_image_path]==0.4.4 in c:\\users\\windows 10\\appdata\\roaming\\python\\python37\\site-packages (from pandas-profiling>=2.8.0->pycaret) (0.4.4)\n",
      "Requirement already satisfied: tangled-up-in-unicode>=0.0.6 in c:\\users\\windows 10\\appdata\\roaming\\python\\python37\\site-packages (from pandas-profiling>=2.8.0->pycaret) (0.0.6)\n",
      "Requirement already satisfied: htmlmin>=0.1.12 in c:\\anaconda\\lib\\site-packages (from pandas-profiling>=2.8.0->pycaret) (0.1.12)\n",
      "Requirement already satisfied: confuse>=1.0.0 in c:\\anaconda\\lib\\site-packages (from pandas-profiling>=2.8.0->pycaret) (1.3.0)\n",
      "Requirement already satisfied: phik>=0.9.10 in c:\\users\\windows 10\\appdata\\roaming\\python\\python37\\site-packages (from pandas-profiling>=2.8.0->pycaret) (0.10.0)"
     ]
    },
    {
     "name": "stderr",
     "output_type": "stream",
     "text": [
      "ERROR: Could not install packages due to an OSError: [WinError 5] Access is denied: 'c:\\\\anaconda\\\\lib\\\\site-packages\\\\scipy\\\\~libs\\\\libansari.R6EA3HQP5KZ6TAXU4Y4ZVTRPT7UVA53Z.gfortran-win_amd64.dll'\n",
      "Consider using the `--user` option or check the permissions.\n",
      "\n",
      "WARNING: You are using pip version 21.0.1; however, version 21.1.3 is available.\n",
      "You should consider upgrading via the 'c:\\anaconda\\python.exe -m pip install --upgrade pip' command.\n"
     ]
    },
    {
     "name": "stdout",
     "output_type": "stream",
     "text": [
      "\n",
      "Requirement already satisfied: astropy>=4.0 in c:\\anaconda\\lib\\site-packages (from pandas-profiling>=2.8.0->pycaret) (4.2)\n",
      "Requirement already satisfied: requests>=2.23.0 in c:\\users\\windows 10\\appdata\\roaming\\python\\python37\\site-packages (from pandas-profiling>=2.8.0->pycaret) (2.24.0)\n",
      "Requirement already satisfied: missingno>=0.4.2 in c:\\users\\windows 10\\appdata\\roaming\\python\\python37\\site-packages (from pandas-profiling>=2.8.0->pycaret) (0.4.2)\n",
      "Collecting pandas\n",
      "  Using cached pandas-1.3.0-cp37-cp37m-win_amd64.whl (10.0 MB)\n",
      "Requirement already satisfied: jinja2>=2.11.1 in c:\\anaconda\\lib\\site-packages (from pandas-profiling>=2.8.0->pycaret) (2.11.2)\n",
      "Requirement already satisfied: networkx>=2.4 in c:\\anaconda\\lib\\site-packages (from visions[type_image_path]==0.4.4->pandas-profiling>=2.8.0->pycaret) (2.5)\n",
      "Requirement already satisfied: imagehash in c:\\users\\windows 10\\appdata\\roaming\\python\\python37\\site-packages (from visions[type_image_path]==0.4.4->pandas-profiling>=2.8.0->pycaret) (4.1.0)\n",
      "Requirement already satisfied: pyerfa in c:\\anaconda\\lib\\site-packages (from astropy>=4.0->pandas-profiling>=2.8.0->pycaret) (1.7.1.1)\n",
      "Requirement already satisfied: pyyaml in c:\\anaconda\\lib\\site-packages (from confuse>=1.0.0->pandas-profiling>=2.8.0->pycaret) (5.3.1)\n",
      "Requirement already satisfied: MarkupSafe>=0.23 in c:\\anaconda\\lib\\site-packages (from jinja2>=2.11.1->pandas-profiling>=2.8.0->pycaret) (1.1.1)\n",
      "Requirement already satisfied: numba>=0.38.1 in c:\\anaconda\\lib\\site-packages (from phik>=0.9.10->pandas-profiling>=2.8.0->pycaret) (0.52.0)\n",
      "Requirement already satisfied: llvmlite<0.36,>=0.35.0 in c:\\anaconda\\lib\\site-packages (from numba>=0.38.1->phik>=0.9.10->pandas-profiling>=2.8.0->pycaret) (0.35.0)\n",
      "Requirement already satisfied: retrying>=1.3.3 in c:\\anaconda\\lib\\site-packages (from plotly>=4.4.1->pycaret) (1.3.3)\n",
      "Requirement already satisfied: wcwidth in c:\\anaconda\\lib\\site-packages (from prompt-toolkit!=3.0.0,!=3.0.1,<3.1.0,>=2.0.0->IPython->pycaret) (0.2.5)\n",
      "Requirement already satisfied: urllib3!=1.25.0,!=1.25.1,<1.26,>=1.21.1 in c:\\anaconda\\lib\\site-packages (from requests>=2.23.0->pandas-profiling>=2.8.0->pycaret) (1.25.9)\n",
      "Requirement already satisfied: idna<3,>=2.5 in c:\\anaconda\\lib\\site-packages (from requests>=2.23.0->pandas-profiling>=2.8.0->pycaret) (2.10)\n",
      "Requirement already satisfied: certifi>=2017.4.17 in c:\\anaconda\\lib\\site-packages (from requests>=2.23.0->pandas-profiling>=2.8.0->pycaret) (2020.12.5)\n",
      "Requirement already satisfied: chardet<4,>=3.0.2 in c:\\anaconda\\lib\\site-packages (from requests>=2.23.0->pandas-profiling>=2.8.0->pycaret) (3.0.4)\n",
      "Collecting thinc<7.5.0,>=7.4.1\n",
      "  Using cached thinc-7.4.5-cp37-cp37m-win_amd64.whl (888 kB)\n",
      "Collecting preshed<3.1.0,>=3.0.2\n",
      "  Using cached preshed-3.0.5-cp37-cp37m-win_amd64.whl (108 kB)\n",
      "Collecting srsly<1.1.0,>=1.0.2\n",
      "  Using cached srsly-1.0.5-cp37-cp37m-win_amd64.whl (176 kB)\n",
      "Collecting plac<1.2.0,>=0.9.6\n",
      "  Using cached plac-1.1.3-py2.py3-none-any.whl (20 kB)\n",
      "Collecting wasabi<1.1.0,>=0.4.0\n",
      "  Using cached wasabi-0.8.2-py3-none-any.whl (23 kB)\n",
      "Collecting catalogue<1.1.0,>=0.0.7\n",
      "  Using cached catalogue-1.0.0-py2.py3-none-any.whl (7.7 kB)\n",
      "Collecting blis<0.8.0,>=0.4.0\n",
      "  Using cached blis-0.7.4-cp37-cp37m-win_amd64.whl (6.5 MB)\n",
      "Collecting cymem<2.1.0,>=2.0.2\n",
      "  Using cached cymem-2.0.5-cp37-cp37m-win_amd64.whl (35 kB)\n",
      "Collecting murmurhash<1.1.0,>=0.28.0\n",
      "  Using cached murmurhash-1.0.5-cp37-cp37m-win_amd64.whl (20 kB)\n",
      "Requirement already satisfied: zipp>=0.5 in c:\\anaconda\\lib\\site-packages (from importlib-metadata->jsonschema!=2.5.0,>=2.4->nbformat>=4.2.0->ipywidgets->pycaret) (2.0.1)\n",
      "Requirement already satisfied: notebook>=4.4.1 in c:\\anaconda\\lib\\site-packages (from widgetsnbextension~=3.5.0->ipywidgets->pycaret) (6.1.6)\n",
      "Requirement already satisfied: nbconvert in c:\\anaconda\\lib\\site-packages (from notebook>=4.4.1->widgetsnbextension~=3.5.0->ipywidgets->pycaret) (6.0.7)\n",
      "Requirement already satisfied: argon2-cffi in c:\\anaconda\\lib\\site-packages (from notebook>=4.4.1->widgetsnbextension~=3.5.0->ipywidgets->pycaret) (20.1.0)\n",
      "Requirement already satisfied: terminado>=0.8.3 in c:\\anaconda\\lib\\site-packages (from notebook>=4.4.1->widgetsnbextension~=3.5.0->ipywidgets->pycaret) (0.9.2)\n",
      "Requirement already satisfied: prometheus-client in c:\\anaconda\\lib\\site-packages (from notebook>=4.4.1->widgetsnbextension~=3.5.0->ipywidgets->pycaret) (0.9.0)\n",
      "Requirement already satisfied: Send2Trash in c:\\anaconda\\lib\\site-packages (from notebook>=4.4.1->widgetsnbextension~=3.5.0->ipywidgets->pycaret) (1.5.0)\n",
      "Requirement already satisfied: pyzmq>=17 in c:\\anaconda\\lib\\site-packages (from notebook>=4.4.1->widgetsnbextension~=3.5.0->ipywidgets->pycaret) (20.0.0)\n",
      "Requirement already satisfied: pywin32>=1.0 in c:\\anaconda\\lib\\site-packages (from jupyter-core->nbformat>=4.2.0->ipywidgets->pycaret) (227)\n",
      "Requirement already satisfied: pywinpty>=0.5 in c:\\anaconda\\lib\\site-packages (from terminado>=0.8.3->notebook>=4.4.1->widgetsnbextension~=3.5.0->ipywidgets->pycaret) (0.5.7)\n",
      "Requirement already satisfied: more-itertools in c:\\anaconda\\lib\\site-packages (from zipp>=0.5->importlib-metadata->jsonschema!=2.5.0,>=2.4->nbformat>=4.2.0->ipywidgets->pycaret) (8.1.0)\n",
      "Requirement already satisfied: cffi>=1.0.0 in c:\\anaconda\\lib\\site-packages (from argon2-cffi->notebook>=4.4.1->widgetsnbextension~=3.5.0->ipywidgets->pycaret) (1.14.4)\n",
      "Requirement already satisfied: pycparser in c:\\anaconda\\lib\\site-packages (from cffi>=1.0.0->argon2-cffi->notebook>=4.4.1->widgetsnbextension~=3.5.0->ipywidgets->pycaret) (2.20)\n",
      "Requirement already satisfied: PyWavelets in c:\\anaconda\\lib\\site-packages (from imagehash->visions[type_image_path]==0.4.4->pandas-profiling>=2.8.0->pycaret) (1.1.1)\n",
      "Requirement already satisfied: Flask in c:\\anaconda\\lib\\site-packages (from mlflow->pycaret) (1.1.2)\n",
      "Requirement already satisfied: packaging in c:\\anaconda\\lib\\site-packages (from mlflow->pycaret) (20.8)\n",
      "Requirement already satisfied: sqlalchemy in c:\\anaconda\\lib\\site-packages (from mlflow->pycaret) (1.3.13)\n",
      "Collecting waitress\n",
      "  Using cached waitress-2.0.0-py3-none-any.whl (56 kB)\n",
      "Collecting cloudpickle\n",
      "  Using cached cloudpickle-1.6.0-py3-none-any.whl (23 kB)\n",
      "Requirement already satisfied: click>=7.0 in c:\\anaconda\\lib\\site-packages (from mlflow->pycaret) (7.1.2)\n",
      "Requirement already satisfied: entrypoints in c:\\anaconda\\lib\\site-packages (from mlflow->pycaret) (0.3)\n",
      "Collecting prometheus-flask-exporter\n",
      "  Using cached prometheus_flask_exporter-0.18.2-py3-none-any.whl\n",
      "Collecting docker>=4.0.0\n",
      "  Using cached docker-5.0.0-py2.py3-none-any.whl (146 kB)\n",
      "Requirement already satisfied: protobuf>=3.7.0 in c:\\anaconda\\lib\\site-packages (from mlflow->pycaret) (3.14.0)\n",
      "Collecting querystring-parser\n",
      "  Using cached querystring_parser-1.2.4-py2.py3-none-any.whl (7.9 kB)\n",
      "Collecting gitpython>=2.1.0\n",
      "  Using cached GitPython-3.1.18-py3-none-any.whl (170 kB)\n",
      "Requirement already satisfied: sqlparse>=0.3.1 in c:\\anaconda\\lib\\site-packages (from mlflow->pycaret) (0.4.1)\n",
      "Collecting alembic<=1.4.1\n",
      "  Using cached alembic-1.4.1-py2.py3-none-any.whl\n",
      "Collecting databricks-cli>=0.8.7\n",
      "  Using cached databricks_cli-0.14.3-py3-none-any.whl\n",
      "Collecting python-editor>=0.3\n",
      "  Using cached python_editor-1.0.4-py3-none-any.whl (4.9 kB)\n",
      "Collecting Mako\n",
      "  Using cached Mako-1.1.4-py2.py3-none-any.whl (75 kB)\n",
      "Requirement already satisfied: tabulate>=0.7.7 in c:\\anaconda\\lib\\site-packages (from databricks-cli>=0.8.7->mlflow->pycaret) (0.8.9)\n",
      "Collecting websocket-client>=0.32.0\n",
      "  Using cached websocket_client-1.1.0-py2.py3-none-any.whl (68 kB)\n",
      "Collecting gitdb<5,>=4.0.1\n",
      "  Using cached gitdb-4.0.7-py3-none-any.whl (63 kB)\n",
      "Collecting typing-extensions>=3.7.4.0\n",
      "  Using cached typing_extensions-3.10.0.0-py3-none-any.whl (26 kB)\n",
      "Collecting smmap<5,>=3.0.1\n",
      "  Using cached smmap-4.0.0-py2.py3-none-any.whl (24 kB)\n",
      "Requirement already satisfied: itsdangerous>=0.24 in c:\\anaconda\\lib\\site-packages (from Flask->mlflow->pycaret) (1.1.0)\n",
      "Requirement already satisfied: Werkzeug>=0.15 in c:\\anaconda\\lib\\site-packages (from Flask->mlflow->pycaret) (1.0.1)\n",
      "Requirement already satisfied: pandocfilters>=1.4.1 in c:\\anaconda\\lib\\site-packages (from nbconvert->notebook>=4.4.1->widgetsnbextension~=3.5.0->ipywidgets->pycaret) (1.4.3)\n",
      "Requirement already satisfied: testpath in c:\\anaconda\\lib\\site-packages (from nbconvert->notebook>=4.4.1->widgetsnbextension~=3.5.0->ipywidgets->pycaret) (0.4.4)\n",
      "Requirement already satisfied: jupyterlab-pygments in c:\\anaconda\\lib\\site-packages (from nbconvert->notebook>=4.4.1->widgetsnbextension~=3.5.0->ipywidgets->pycaret) (0.1.2)\n",
      "Requirement already satisfied: bleach in c:\\anaconda\\lib\\site-packages (from nbconvert->notebook>=4.4.1->widgetsnbextension~=3.5.0->ipywidgets->pycaret) (3.2.1)\n",
      "Requirement already satisfied: mistune<2,>=0.8.1 in c:\\anaconda\\lib\\site-packages (from nbconvert->notebook>=4.4.1->widgetsnbextension~=3.5.0->ipywidgets->pycaret) (0.8.4)\n",
      "Requirement already satisfied: nbclient<0.6.0,>=0.5.0 in c:\\anaconda\\lib\\site-packages (from nbconvert->notebook>=4.4.1->widgetsnbextension~=3.5.0->ipywidgets->pycaret) (0.5.1)\n",
      "Requirement already satisfied: defusedxml in c:\\anaconda\\lib\\site-packages (from nbconvert->notebook>=4.4.1->widgetsnbextension~=3.5.0->ipywidgets->pycaret) (0.6.0)\n",
      "Requirement already satisfied: async-generator in c:\\anaconda\\lib\\site-packages (from nbclient<0.6.0,>=0.5.0->nbconvert->notebook>=4.4.1->widgetsnbextension~=3.5.0->ipywidgets->pycaret) (1.10)\n",
      "Requirement already satisfied: nest-asyncio in c:\\anaconda\\lib\\site-packages (from nbclient<0.6.0,>=0.5.0->nbconvert->notebook>=4.4.1->widgetsnbextension~=3.5.0->ipywidgets->pycaret) (1.4.3)\n",
      "Requirement already satisfied: webencodings in c:\\anaconda\\lib\\site-packages (from bleach->nbconvert->notebook>=4.4.1->widgetsnbextension~=3.5.0->ipywidgets->pycaret) (0.5.1)\n",
      "Requirement already satisfied: regex in c:\\anaconda\\lib\\site-packages (from nltk->pycaret) (2021.3.17)\n",
      "Collecting numexpr\n",
      "  Using cached numexpr-2.7.3-cp37-cp37m-win_amd64.whl (93 kB)\n",
      "Collecting funcy\n",
      "  Using cached funcy-1.16-py2.py3-none-any.whl (32 kB)\n",
      "Requirement already satisfied: sklearn in c:\\anaconda\\lib\\site-packages (from pyLDAvis->pycaret) (0.0)\n",
      "Collecting pyLDAvis\n",
      "  Using cached pyLDAvis-3.3.0.tar.gz (1.7 MB)\n",
      "  Installing build dependencies: started\n",
      "  Installing build dependencies: finished with status 'done'\n",
      "  Getting requirements to build wheel: started\n",
      "  Getting requirements to build wheel: finished with status 'done'\n",
      "  Installing backend dependencies: started\n",
      "  Installing backend dependencies: finished with status 'done'\n",
      "    Preparing wheel metadata: started\n",
      "    Preparing wheel metadata: finished with status 'done'\n",
      "  Using cached pyLDAvis-3.2.2-py2.py3-none-any.whl\n",
      "Requirement already satisfied: future in c:\\anaconda\\lib\\site-packages (from pyLDAvis->pycaret) (0.18.2)\n",
      "Requirement already satisfied: statsmodels in c:\\anaconda\\lib\\site-packages (from pyod->pycaret) (0.12.2)\n",
      "Requirement already satisfied: patsy>=0.5 in c:\\anaconda\\lib\\site-packages (from statsmodels->pyod->pycaret) (0.5.1)\n",
      "Collecting pynndescent>=0.5\n",
      "  Using cached pynndescent-0.5.4-py3-none-any.whl\n",
      "Installing collected packages: smmap, scipy, pandas, murmurhash, cymem, websocket-client, wasabi, typing-extensions, srsly, scikit-learn, python-editor, preshed, plac, Mako, gitdb, catalogue, blis, waitress, thinc, querystring-parser, pynndescent, prometheus-flask-exporter, numexpr, gitpython, funcy, docker, databricks-cli, Cython, cloudpickle, alembic, yellowbrick, umap-learn, textblob, spacy, scikit-plot, pyod, pyLDAvis, mlflow, lightgbm, kmodes, Boruta, pycaret\n",
      "  Attempting uninstall: scipy\n",
      "    Found existing installation: scipy 1.6.1\n",
      "    Uninstalling scipy-1.6.1:\n",
      "      Successfully uninstalled scipy-1.6.1\n"
     ]
    }
   ],
   "source": [
    "!pip install pycaret"
   ]
  },
  {
   "cell_type": "code",
   "execution_count": 26,
   "metadata": {
    "id": "mc4z7hVnxFp1"
   },
   "outputs": [],
   "source": [
    "data = df.sample(frac=0.9, random_state=786)\n",
    "data_unseen = df.drop(data.index)\n"
   ]
  },
  {
   "cell_type": "code",
   "execution_count": 27,
   "metadata": {
    "colab": {
     "base_uri": "https://localhost:8080/",
     "height": 1000,
     "referenced_widgets": [
      "fce9e0cca7dc4d5fab8d126069261269",
      "145dcd54185b4159bc107e26225417db",
      "276c18113cf44a46903d3b435180de85",
      "f7bf53f4fcab49db89bb95a100d5a1a6",
      "4c5dc117a10047c18f5bead5e8b82fab",
      "2163ec2b1f464cf39041eb895c6b6586"
     ]
    },
    "id": "-_KG2EOxsXFy",
    "outputId": "59a0b082-3d71-4883-8338-13573439eac0"
   },
   "outputs": [
    {
     "data": {
      "text/html": [
       "<div>\n",
       "<style scoped>\n",
       "    .dataframe tbody tr th:only-of-type {\n",
       "        vertical-align: middle;\n",
       "    }\n",
       "\n",
       "    .dataframe tbody tr th {\n",
       "        vertical-align: top;\n",
       "    }\n",
       "\n",
       "    .dataframe thead th {\n",
       "        text-align: right;\n",
       "    }\n",
       "</style>\n",
       "<table border=\"1\" class=\"dataframe\">\n",
       "  <thead>\n",
       "    <tr style=\"text-align: right;\">\n",
       "      <th></th>\n",
       "      <th>Description</th>\n",
       "      <th>Value</th>\n",
       "    </tr>\n",
       "  </thead>\n",
       "  <tbody>\n",
       "    <tr>\n",
       "      <th>0</th>\n",
       "      <td>session_id</td>\n",
       "      <td>123</td>\n",
       "    </tr>\n",
       "    <tr>\n",
       "      <th>1</th>\n",
       "      <td>Target</td>\n",
       "      <td>pageviews</td>\n",
       "    </tr>\n",
       "    <tr>\n",
       "      <th>2</th>\n",
       "      <td>Original Data</td>\n",
       "      <td>(574, 20)</td>\n",
       "    </tr>\n",
       "    <tr>\n",
       "      <th>3</th>\n",
       "      <td>Missing Values</td>\n",
       "      <td>True</td>\n",
       "    </tr>\n",
       "    <tr>\n",
       "      <th>4</th>\n",
       "      <td>Numeric Features</td>\n",
       "      <td>4</td>\n",
       "    </tr>\n",
       "    <tr>\n",
       "      <th>5</th>\n",
       "      <td>Categorical Features</td>\n",
       "      <td>13</td>\n",
       "    </tr>\n",
       "    <tr>\n",
       "      <th>6</th>\n",
       "      <td>Ordinal Features</td>\n",
       "      <td>False</td>\n",
       "    </tr>\n",
       "    <tr>\n",
       "      <th>7</th>\n",
       "      <td>High Cardinality Features</td>\n",
       "      <td>False</td>\n",
       "    </tr>\n",
       "    <tr>\n",
       "      <th>8</th>\n",
       "      <td>High Cardinality Method</td>\n",
       "      <td>None</td>\n",
       "    </tr>\n",
       "    <tr>\n",
       "      <th>9</th>\n",
       "      <td>Transformed Train Set</td>\n",
       "      <td>(401, 290)</td>\n",
       "    </tr>\n",
       "    <tr>\n",
       "      <th>10</th>\n",
       "      <td>Transformed Test Set</td>\n",
       "      <td>(173, 290)</td>\n",
       "    </tr>\n",
       "    <tr>\n",
       "      <th>11</th>\n",
       "      <td>Shuffle Train-Test</td>\n",
       "      <td>True</td>\n",
       "    </tr>\n",
       "    <tr>\n",
       "      <th>12</th>\n",
       "      <td>Stratify Train-Test</td>\n",
       "      <td>False</td>\n",
       "    </tr>\n",
       "    <tr>\n",
       "      <th>13</th>\n",
       "      <td>Fold Generator</td>\n",
       "      <td>KFold</td>\n",
       "    </tr>\n",
       "    <tr>\n",
       "      <th>14</th>\n",
       "      <td>Fold Number</td>\n",
       "      <td>10</td>\n",
       "    </tr>\n",
       "    <tr>\n",
       "      <th>15</th>\n",
       "      <td>CPU Jobs</td>\n",
       "      <td>-1</td>\n",
       "    </tr>\n",
       "    <tr>\n",
       "      <th>16</th>\n",
       "      <td>Use GPU</td>\n",
       "      <td>False</td>\n",
       "    </tr>\n",
       "    <tr>\n",
       "      <th>17</th>\n",
       "      <td>Log Experiment</td>\n",
       "      <td>False</td>\n",
       "    </tr>\n",
       "    <tr>\n",
       "      <th>18</th>\n",
       "      <td>Experiment Name</td>\n",
       "      <td>reg-default-name</td>\n",
       "    </tr>\n",
       "    <tr>\n",
       "      <th>19</th>\n",
       "      <td>USI</td>\n",
       "      <td>1e28</td>\n",
       "    </tr>\n",
       "    <tr>\n",
       "      <th>20</th>\n",
       "      <td>Imputation Type</td>\n",
       "      <td>simple</td>\n",
       "    </tr>\n",
       "    <tr>\n",
       "      <th>21</th>\n",
       "      <td>Iterative Imputation Iteration</td>\n",
       "      <td>None</td>\n",
       "    </tr>\n",
       "    <tr>\n",
       "      <th>22</th>\n",
       "      <td>Numeric Imputer</td>\n",
       "      <td>mean</td>\n",
       "    </tr>\n",
       "    <tr>\n",
       "      <th>23</th>\n",
       "      <td>Iterative Imputation Numeric Model</td>\n",
       "      <td>None</td>\n",
       "    </tr>\n",
       "    <tr>\n",
       "      <th>24</th>\n",
       "      <td>Categorical Imputer</td>\n",
       "      <td>constant</td>\n",
       "    </tr>\n",
       "    <tr>\n",
       "      <th>25</th>\n",
       "      <td>Iterative Imputation Categorical Model</td>\n",
       "      <td>None</td>\n",
       "    </tr>\n",
       "    <tr>\n",
       "      <th>26</th>\n",
       "      <td>Unknown Categoricals Handling</td>\n",
       "      <td>least_frequent</td>\n",
       "    </tr>\n",
       "    <tr>\n",
       "      <th>27</th>\n",
       "      <td>Normalize</td>\n",
       "      <td>False</td>\n",
       "    </tr>\n",
       "    <tr>\n",
       "      <th>28</th>\n",
       "      <td>Normalize Method</td>\n",
       "      <td>None</td>\n",
       "    </tr>\n",
       "    <tr>\n",
       "      <th>29</th>\n",
       "      <td>Transformation</td>\n",
       "      <td>False</td>\n",
       "    </tr>\n",
       "    <tr>\n",
       "      <th>30</th>\n",
       "      <td>Transformation Method</td>\n",
       "      <td>None</td>\n",
       "    </tr>\n",
       "    <tr>\n",
       "      <th>31</th>\n",
       "      <td>PCA</td>\n",
       "      <td>False</td>\n",
       "    </tr>\n",
       "    <tr>\n",
       "      <th>32</th>\n",
       "      <td>PCA Method</td>\n",
       "      <td>None</td>\n",
       "    </tr>\n",
       "    <tr>\n",
       "      <th>33</th>\n",
       "      <td>PCA Components</td>\n",
       "      <td>None</td>\n",
       "    </tr>\n",
       "    <tr>\n",
       "      <th>34</th>\n",
       "      <td>Ignore Low Variance</td>\n",
       "      <td>False</td>\n",
       "    </tr>\n",
       "    <tr>\n",
       "      <th>35</th>\n",
       "      <td>Combine Rare Levels</td>\n",
       "      <td>False</td>\n",
       "    </tr>\n",
       "    <tr>\n",
       "      <th>36</th>\n",
       "      <td>Rare Level Threshold</td>\n",
       "      <td>None</td>\n",
       "    </tr>\n",
       "    <tr>\n",
       "      <th>37</th>\n",
       "      <td>Numeric Binning</td>\n",
       "      <td>False</td>\n",
       "    </tr>\n",
       "    <tr>\n",
       "      <th>38</th>\n",
       "      <td>Remove Outliers</td>\n",
       "      <td>False</td>\n",
       "    </tr>\n",
       "    <tr>\n",
       "      <th>39</th>\n",
       "      <td>Outliers Threshold</td>\n",
       "      <td>None</td>\n",
       "    </tr>\n",
       "    <tr>\n",
       "      <th>40</th>\n",
       "      <td>Remove Multicollinearity</td>\n",
       "      <td>False</td>\n",
       "    </tr>\n",
       "    <tr>\n",
       "      <th>41</th>\n",
       "      <td>Multicollinearity Threshold</td>\n",
       "      <td>None</td>\n",
       "    </tr>\n",
       "    <tr>\n",
       "      <th>42</th>\n",
       "      <td>Remove Perfect Collinearity</td>\n",
       "      <td>True</td>\n",
       "    </tr>\n",
       "    <tr>\n",
       "      <th>43</th>\n",
       "      <td>Clustering</td>\n",
       "      <td>False</td>\n",
       "    </tr>\n",
       "    <tr>\n",
       "      <th>44</th>\n",
       "      <td>Clustering Iteration</td>\n",
       "      <td>None</td>\n",
       "    </tr>\n",
       "    <tr>\n",
       "      <th>45</th>\n",
       "      <td>Polynomial Features</td>\n",
       "      <td>False</td>\n",
       "    </tr>\n",
       "    <tr>\n",
       "      <th>46</th>\n",
       "      <td>Polynomial Degree</td>\n",
       "      <td>None</td>\n",
       "    </tr>\n",
       "    <tr>\n",
       "      <th>47</th>\n",
       "      <td>Trignometry Features</td>\n",
       "      <td>False</td>\n",
       "    </tr>\n",
       "    <tr>\n",
       "      <th>48</th>\n",
       "      <td>Polynomial Threshold</td>\n",
       "      <td>None</td>\n",
       "    </tr>\n",
       "    <tr>\n",
       "      <th>49</th>\n",
       "      <td>Group Features</td>\n",
       "      <td>False</td>\n",
       "    </tr>\n",
       "    <tr>\n",
       "      <th>50</th>\n",
       "      <td>Feature Selection</td>\n",
       "      <td>False</td>\n",
       "    </tr>\n",
       "    <tr>\n",
       "      <th>51</th>\n",
       "      <td>Feature Selection Method</td>\n",
       "      <td>classic</td>\n",
       "    </tr>\n",
       "    <tr>\n",
       "      <th>52</th>\n",
       "      <td>Features Selection Threshold</td>\n",
       "      <td>None</td>\n",
       "    </tr>\n",
       "    <tr>\n",
       "      <th>53</th>\n",
       "      <td>Feature Interaction</td>\n",
       "      <td>False</td>\n",
       "    </tr>\n",
       "    <tr>\n",
       "      <th>54</th>\n",
       "      <td>Feature Ratio</td>\n",
       "      <td>False</td>\n",
       "    </tr>\n",
       "    <tr>\n",
       "      <th>55</th>\n",
       "      <td>Interaction Threshold</td>\n",
       "      <td>None</td>\n",
       "    </tr>\n",
       "    <tr>\n",
       "      <th>56</th>\n",
       "      <td>Transform Target</td>\n",
       "      <td>False</td>\n",
       "    </tr>\n",
       "    <tr>\n",
       "      <th>57</th>\n",
       "      <td>Transform Target Method</td>\n",
       "      <td>box-cox</td>\n",
       "    </tr>\n",
       "  </tbody>\n",
       "</table>\n",
       "</div>"
      ],
      "text/plain": [
       "                               Description             Value\n",
       "0                               session_id               123\n",
       "1                                   Target         pageviews\n",
       "2                            Original Data         (574, 20)\n",
       "3                           Missing Values              True\n",
       "4                         Numeric Features                 4\n",
       "5                     Categorical Features                13\n",
       "6                         Ordinal Features             False\n",
       "7                High Cardinality Features             False\n",
       "8                  High Cardinality Method              None\n",
       "9                    Transformed Train Set        (401, 290)\n",
       "10                    Transformed Test Set        (173, 290)\n",
       "11                      Shuffle Train-Test              True\n",
       "12                     Stratify Train-Test             False\n",
       "13                          Fold Generator             KFold\n",
       "14                             Fold Number                10\n",
       "15                                CPU Jobs                -1\n",
       "16                                 Use GPU             False\n",
       "17                          Log Experiment             False\n",
       "18                         Experiment Name  reg-default-name\n",
       "19                                     USI              1e28\n",
       "20                         Imputation Type            simple\n",
       "21          Iterative Imputation Iteration              None\n",
       "22                         Numeric Imputer              mean\n",
       "23      Iterative Imputation Numeric Model              None\n",
       "24                     Categorical Imputer          constant\n",
       "25  Iterative Imputation Categorical Model              None\n",
       "26           Unknown Categoricals Handling    least_frequent\n",
       "27                               Normalize             False\n",
       "28                        Normalize Method              None\n",
       "29                          Transformation             False\n",
       "30                   Transformation Method              None\n",
       "31                                     PCA             False\n",
       "32                              PCA Method              None\n",
       "33                          PCA Components              None\n",
       "34                     Ignore Low Variance             False\n",
       "35                     Combine Rare Levels             False\n",
       "36                    Rare Level Threshold              None\n",
       "37                         Numeric Binning             False\n",
       "38                         Remove Outliers             False\n",
       "39                      Outliers Threshold              None\n",
       "40                Remove Multicollinearity             False\n",
       "41             Multicollinearity Threshold              None\n",
       "42             Remove Perfect Collinearity              True\n",
       "43                              Clustering             False\n",
       "44                    Clustering Iteration              None\n",
       "45                     Polynomial Features             False\n",
       "46                       Polynomial Degree              None\n",
       "47                    Trignometry Features             False\n",
       "48                    Polynomial Threshold              None\n",
       "49                          Group Features             False\n",
       "50                       Feature Selection             False\n",
       "51                Feature Selection Method           classic\n",
       "52            Features Selection Threshold              None\n",
       "53                     Feature Interaction             False\n",
       "54                           Feature Ratio             False\n",
       "55                   Interaction Threshold              None\n",
       "56                        Transform Target             False\n",
       "57                 Transform Target Method           box-cox"
      ]
     },
     "metadata": {
      "tags": []
     },
     "output_type": "display_data"
    }
   ],
   "source": [
    "from pycaret.regression import *\n",
    "exp_reg101 = setup(data = data, target = 'pageviews', session_id=123)"
   ]
  },
  {
   "cell_type": "code",
   "execution_count": 28,
   "metadata": {
    "colab": {
     "base_uri": "https://localhost:8080/",
     "height": 576,
     "referenced_widgets": [
      "5049ae332f3f4dc6830ba6a0f71a15bb",
      "eabd9d04e6394880a5336ad2b41a0db7",
      "e65cbc3d0f9d4c4e9d95d41590e550c7"
     ]
    },
    "id": "jqpYaSP3swqz",
    "outputId": "21542199-8f36-48f4-ebf6-50eb17090932"
   },
   "outputs": [
    {
     "data": {
      "text/html": [
       "<div>\n",
       "<style scoped>\n",
       "    .dataframe tbody tr th:only-of-type {\n",
       "        vertical-align: middle;\n",
       "    }\n",
       "\n",
       "    .dataframe tbody tr th {\n",
       "        vertical-align: top;\n",
       "    }\n",
       "\n",
       "    .dataframe thead th {\n",
       "        text-align: right;\n",
       "    }\n",
       "</style>\n",
       "<table border=\"1\" class=\"dataframe\">\n",
       "  <thead>\n",
       "    <tr style=\"text-align: right;\">\n",
       "      <th></th>\n",
       "      <th>Model</th>\n",
       "      <th>MAE</th>\n",
       "      <th>MSE</th>\n",
       "      <th>RMSE</th>\n",
       "      <th>R2</th>\n",
       "      <th>RMSLE</th>\n",
       "      <th>MAPE</th>\n",
       "      <th>TT (Sec)</th>\n",
       "    </tr>\n",
       "  </thead>\n",
       "  <tbody>\n",
       "    <tr>\n",
       "      <th>huber</th>\n",
       "      <td>Huber Regressor</td>\n",
       "      <td>5.327910e+04</td>\n",
       "      <td>5.021046e+11</td>\n",
       "      <td>2.755517e+05</td>\n",
       "      <td>-1.663000e-01</td>\n",
       "      <td>4.3117</td>\n",
       "      <td>9.685000e-01</td>\n",
       "      <td>0.038</td>\n",
       "    </tr>\n",
       "    <tr>\n",
       "      <th>knn</th>\n",
       "      <td>K Neighbors Regressor</td>\n",
       "      <td>6.215012e+04</td>\n",
       "      <td>5.628618e+11</td>\n",
       "      <td>3.675803e+05</td>\n",
       "      <td>-5.287300e+00</td>\n",
       "      <td>2.1261</td>\n",
       "      <td>6.562700e+00</td>\n",
       "      <td>0.068</td>\n",
       "    </tr>\n",
       "    <tr>\n",
       "      <th>br</th>\n",
       "      <td>Bayesian Ridge</td>\n",
       "      <td>8.961208e+04</td>\n",
       "      <td>5.013350e+11</td>\n",
       "      <td>2.899662e+05</td>\n",
       "      <td>-8.774300e+00</td>\n",
       "      <td>5.9465</td>\n",
       "      <td>1.573795e+03</td>\n",
       "      <td>0.044</td>\n",
       "    </tr>\n",
       "    <tr>\n",
       "      <th>rf</th>\n",
       "      <td>Random Forest Regressor</td>\n",
       "      <td>7.497367e+04</td>\n",
       "      <td>6.712677e+11</td>\n",
       "      <td>4.073339e+05</td>\n",
       "      <td>-1.988990e+01</td>\n",
       "      <td>3.0100</td>\n",
       "      <td>5.317100e+01</td>\n",
       "      <td>0.800</td>\n",
       "    </tr>\n",
       "    <tr>\n",
       "      <th>en</th>\n",
       "      <td>Elastic Net</td>\n",
       "      <td>1.039543e+05</td>\n",
       "      <td>5.052784e+11</td>\n",
       "      <td>3.135886e+05</td>\n",
       "      <td>-2.343220e+01</td>\n",
       "      <td>5.9018</td>\n",
       "      <td>2.799983e+03</td>\n",
       "      <td>0.066</td>\n",
       "    </tr>\n",
       "    <tr>\n",
       "      <th>ada</th>\n",
       "      <td>AdaBoost Regressor</td>\n",
       "      <td>9.706202e+04</td>\n",
       "      <td>9.920309e+11</td>\n",
       "      <td>4.740287e+05</td>\n",
       "      <td>-2.669560e+01</td>\n",
       "      <td>5.0563</td>\n",
       "      <td>4.765174e+02</td>\n",
       "      <td>0.107</td>\n",
       "    </tr>\n",
       "    <tr>\n",
       "      <th>gbr</th>\n",
       "      <td>Gradient Boosting Regressor</td>\n",
       "      <td>8.279114e+04</td>\n",
       "      <td>9.896631e+11</td>\n",
       "      <td>4.822370e+05</td>\n",
       "      <td>-2.878540e+01</td>\n",
       "      <td>3.3737</td>\n",
       "      <td>4.231010e+01</td>\n",
       "      <td>0.183</td>\n",
       "    </tr>\n",
       "    <tr>\n",
       "      <th>dt</th>\n",
       "      <td>Decision Tree Regressor</td>\n",
       "      <td>8.728857e+04</td>\n",
       "      <td>9.966111e+11</td>\n",
       "      <td>5.039602e+05</td>\n",
       "      <td>-4.151060e+01</td>\n",
       "      <td>2.3301</td>\n",
       "      <td>1.792410e+01</td>\n",
       "      <td>0.025</td>\n",
       "    </tr>\n",
       "    <tr>\n",
       "      <th>lightgbm</th>\n",
       "      <td>Light Gradient Boosting Machine</td>\n",
       "      <td>1.136357e+05</td>\n",
       "      <td>5.145561e+11</td>\n",
       "      <td>3.721513e+05</td>\n",
       "      <td>-4.443820e+01</td>\n",
       "      <td>5.7139</td>\n",
       "      <td>4.282457e+03</td>\n",
       "      <td>0.092</td>\n",
       "    </tr>\n",
       "    <tr>\n",
       "      <th>et</th>\n",
       "      <td>Extra Trees Regressor</td>\n",
       "      <td>9.503697e+04</td>\n",
       "      <td>9.914898e+11</td>\n",
       "      <td>5.091401e+05</td>\n",
       "      <td>-4.453480e+01</td>\n",
       "      <td>3.5108</td>\n",
       "      <td>5.340440e+01</td>\n",
       "      <td>1.102</td>\n",
       "    </tr>\n",
       "    <tr>\n",
       "      <th>lr</th>\n",
       "      <td>Linear Regression</td>\n",
       "      <td>2.310208e+05</td>\n",
       "      <td>5.596325e+11</td>\n",
       "      <td>4.619387e+05</td>\n",
       "      <td>-1.877092e+02</td>\n",
       "      <td>6.6762</td>\n",
       "      <td>4.176413e+03</td>\n",
       "      <td>0.282</td>\n",
       "    </tr>\n",
       "    <tr>\n",
       "      <th>ridge</th>\n",
       "      <td>Ridge Regression</td>\n",
       "      <td>3.189641e+05</td>\n",
       "      <td>7.149742e+11</td>\n",
       "      <td>6.465578e+05</td>\n",
       "      <td>-5.586085e+02</td>\n",
       "      <td>6.8939</td>\n",
       "      <td>8.039954e+03</td>\n",
       "      <td>0.019</td>\n",
       "    </tr>\n",
       "    <tr>\n",
       "      <th>omp</th>\n",
       "      <td>Orthogonal Matching Pursuit</td>\n",
       "      <td>2.662329e+05</td>\n",
       "      <td>1.117277e+12</td>\n",
       "      <td>7.613789e+05</td>\n",
       "      <td>-6.388001e+02</td>\n",
       "      <td>6.3146</td>\n",
       "      <td>5.771403e+03</td>\n",
       "      <td>0.019</td>\n",
       "    </tr>\n",
       "    <tr>\n",
       "      <th>lasso</th>\n",
       "      <td>Lasso Regression</td>\n",
       "      <td>5.954291e+05</td>\n",
       "      <td>1.563549e+12</td>\n",
       "      <td>1.116743e+06</td>\n",
       "      <td>-2.972748e+03</td>\n",
       "      <td>7.2977</td>\n",
       "      <td>1.353888e+04</td>\n",
       "      <td>0.065</td>\n",
       "    </tr>\n",
       "    <tr>\n",
       "      <th>par</th>\n",
       "      <td>Passive Aggressive Regressor</td>\n",
       "      <td>1.599169e+06</td>\n",
       "      <td>7.504056e+13</td>\n",
       "      <td>5.080926e+06</td>\n",
       "      <td>-1.004819e+05</td>\n",
       "      <td>4.7542</td>\n",
       "      <td>1.599545e+03</td>\n",
       "      <td>0.021</td>\n",
       "    </tr>\n",
       "    <tr>\n",
       "      <th>llar</th>\n",
       "      <td>Lasso Least Angle Regression</td>\n",
       "      <td>4.302268e+09</td>\n",
       "      <td>4.679479e+21</td>\n",
       "      <td>2.720839e+10</td>\n",
       "      <td>-9.965837e+12</td>\n",
       "      <td>6.7585</td>\n",
       "      <td>1.265049e+06</td>\n",
       "      <td>0.074</td>\n",
       "    </tr>\n",
       "    <tr>\n",
       "      <th>lar</th>\n",
       "      <td>Least Angle Regression</td>\n",
       "      <td>3.640868e+19</td>\n",
       "      <td>4.413508e+41</td>\n",
       "      <td>2.120441e+20</td>\n",
       "      <td>-7.124155e+31</td>\n",
       "      <td>26.6411</td>\n",
       "      <td>1.204742e+16</td>\n",
       "      <td>0.128</td>\n",
       "    </tr>\n",
       "  </tbody>\n",
       "</table>\n",
       "</div>"
      ],
      "text/plain": [
       "                                    Model           MAE           MSE  \\\n",
       "huber                     Huber Regressor  5.327910e+04  5.021046e+11   \n",
       "knn                 K Neighbors Regressor  6.215012e+04  5.628618e+11   \n",
       "br                         Bayesian Ridge  8.961208e+04  5.013350e+11   \n",
       "rf                Random Forest Regressor  7.497367e+04  6.712677e+11   \n",
       "en                            Elastic Net  1.039543e+05  5.052784e+11   \n",
       "ada                    AdaBoost Regressor  9.706202e+04  9.920309e+11   \n",
       "gbr           Gradient Boosting Regressor  8.279114e+04  9.896631e+11   \n",
       "dt                Decision Tree Regressor  8.728857e+04  9.966111e+11   \n",
       "lightgbm  Light Gradient Boosting Machine  1.136357e+05  5.145561e+11   \n",
       "et                  Extra Trees Regressor  9.503697e+04  9.914898e+11   \n",
       "lr                      Linear Regression  2.310208e+05  5.596325e+11   \n",
       "ridge                    Ridge Regression  3.189641e+05  7.149742e+11   \n",
       "omp           Orthogonal Matching Pursuit  2.662329e+05  1.117277e+12   \n",
       "lasso                    Lasso Regression  5.954291e+05  1.563549e+12   \n",
       "par          Passive Aggressive Regressor  1.599169e+06  7.504056e+13   \n",
       "llar         Lasso Least Angle Regression  4.302268e+09  4.679479e+21   \n",
       "lar                Least Angle Regression  3.640868e+19  4.413508e+41   \n",
       "\n",
       "                  RMSE            R2    RMSLE          MAPE  TT (Sec)  \n",
       "huber     2.755517e+05 -1.663000e-01   4.3117  9.685000e-01     0.038  \n",
       "knn       3.675803e+05 -5.287300e+00   2.1261  6.562700e+00     0.068  \n",
       "br        2.899662e+05 -8.774300e+00   5.9465  1.573795e+03     0.044  \n",
       "rf        4.073339e+05 -1.988990e+01   3.0100  5.317100e+01     0.800  \n",
       "en        3.135886e+05 -2.343220e+01   5.9018  2.799983e+03     0.066  \n",
       "ada       4.740287e+05 -2.669560e+01   5.0563  4.765174e+02     0.107  \n",
       "gbr       4.822370e+05 -2.878540e+01   3.3737  4.231010e+01     0.183  \n",
       "dt        5.039602e+05 -4.151060e+01   2.3301  1.792410e+01     0.025  \n",
       "lightgbm  3.721513e+05 -4.443820e+01   5.7139  4.282457e+03     0.092  \n",
       "et        5.091401e+05 -4.453480e+01   3.5108  5.340440e+01     1.102  \n",
       "lr        4.619387e+05 -1.877092e+02   6.6762  4.176413e+03     0.282  \n",
       "ridge     6.465578e+05 -5.586085e+02   6.8939  8.039954e+03     0.019  \n",
       "omp       7.613789e+05 -6.388001e+02   6.3146  5.771403e+03     0.019  \n",
       "lasso     1.116743e+06 -2.972748e+03   7.2977  1.353888e+04     0.065  \n",
       "par       5.080926e+06 -1.004819e+05   4.7542  1.599545e+03     0.021  \n",
       "llar      2.720839e+10 -9.965837e+12   6.7585  1.265049e+06     0.074  \n",
       "lar       2.120441e+20 -7.124155e+31  26.6411  1.204742e+16     0.128  "
      ]
     },
     "metadata": {
      "tags": []
     },
     "output_type": "display_data"
    }
   ],
   "source": [
    "best = compare_models(exclude = ['ransac'])"
   ]
  },
  {
   "cell_type": "markdown",
   "metadata": {
    "id": "4ZbazZMkuZ_l"
   },
   "source": [
    "## Huber Regressor got the best values so let us choose this"
   ]
  },
  {
   "cell_type": "code",
   "execution_count": 29,
   "metadata": {
    "colab": {
     "base_uri": "https://localhost:8080/",
     "height": 421
    },
    "id": "8SJcuSUgtwOK",
    "outputId": "0b6b6f99-63da-4485-e102-e2f653c354ee"
   },
   "outputs": [
    {
     "data": {
      "text/html": [
       "<div>\n",
       "<style scoped>\n",
       "    .dataframe tbody tr th:only-of-type {\n",
       "        vertical-align: middle;\n",
       "    }\n",
       "\n",
       "    .dataframe tbody tr th {\n",
       "        vertical-align: top;\n",
       "    }\n",
       "\n",
       "    .dataframe thead th {\n",
       "        text-align: right;\n",
       "    }\n",
       "</style>\n",
       "<table border=\"1\" class=\"dataframe\">\n",
       "  <thead>\n",
       "    <tr style=\"text-align: right;\">\n",
       "      <th></th>\n",
       "      <th>MAE</th>\n",
       "      <th>MSE</th>\n",
       "      <th>RMSE</th>\n",
       "      <th>R2</th>\n",
       "      <th>RMSLE</th>\n",
       "      <th>MAPE</th>\n",
       "    </tr>\n",
       "  </thead>\n",
       "  <tbody>\n",
       "    <tr>\n",
       "      <th>0</th>\n",
       "      <td>6878.1231</td>\n",
       "      <td>5.585002e+08</td>\n",
       "      <td>2.363261e+04</td>\n",
       "      <td>-0.0951</td>\n",
       "      <td>3.7129</td>\n",
       "      <td>0.8859</td>\n",
       "    </tr>\n",
       "    <tr>\n",
       "      <th>1</th>\n",
       "      <td>22906.7776</td>\n",
       "      <td>6.727479e+09</td>\n",
       "      <td>8.202121e+04</td>\n",
       "      <td>-0.0860</td>\n",
       "      <td>4.4820</td>\n",
       "      <td>0.8735</td>\n",
       "    </tr>\n",
       "    <tr>\n",
       "      <th>2</th>\n",
       "      <td>4559.1383</td>\n",
       "      <td>6.193482e+07</td>\n",
       "      <td>7.869868e+03</td>\n",
       "      <td>-0.5224</td>\n",
       "      <td>3.6077</td>\n",
       "      <td>0.8896</td>\n",
       "    </tr>\n",
       "    <tr>\n",
       "      <th>3</th>\n",
       "      <td>35797.1155</td>\n",
       "      <td>1.216807e+10</td>\n",
       "      <td>1.103090e+05</td>\n",
       "      <td>-0.1188</td>\n",
       "      <td>4.8321</td>\n",
       "      <td>0.9143</td>\n",
       "    </tr>\n",
       "    <tr>\n",
       "      <th>4</th>\n",
       "      <td>43178.6916</td>\n",
       "      <td>2.431566e+10</td>\n",
       "      <td>1.559348e+05</td>\n",
       "      <td>-0.0833</td>\n",
       "      <td>4.7513</td>\n",
       "      <td>1.0772</td>\n",
       "    </tr>\n",
       "    <tr>\n",
       "      <th>5</th>\n",
       "      <td>364353.8467</td>\n",
       "      <td>4.971453e+12</td>\n",
       "      <td>2.229676e+06</td>\n",
       "      <td>-0.0275</td>\n",
       "      <td>4.7353</td>\n",
       "      <td>0.9317</td>\n",
       "    </tr>\n",
       "    <tr>\n",
       "      <th>6</th>\n",
       "      <td>12228.1670</td>\n",
       "      <td>9.597008e+08</td>\n",
       "      <td>3.097904e+04</td>\n",
       "      <td>-0.1885</td>\n",
       "      <td>4.2208</td>\n",
       "      <td>0.8938</td>\n",
       "    </tr>\n",
       "    <tr>\n",
       "      <th>7</th>\n",
       "      <td>12838.4632</td>\n",
       "      <td>1.725595e+09</td>\n",
       "      <td>4.154028e+04</td>\n",
       "      <td>-0.1053</td>\n",
       "      <td>3.9539</td>\n",
       "      <td>1.2053</td>\n",
       "    </tr>\n",
       "    <tr>\n",
       "      <th>8</th>\n",
       "      <td>10392.1607</td>\n",
       "      <td>5.361846e+08</td>\n",
       "      <td>2.315566e+04</td>\n",
       "      <td>-0.2544</td>\n",
       "      <td>4.1801</td>\n",
       "      <td>1.0382</td>\n",
       "    </tr>\n",
       "    <tr>\n",
       "      <th>9</th>\n",
       "      <td>19658.5394</td>\n",
       "      <td>2.540012e+09</td>\n",
       "      <td>5.039853e+04</td>\n",
       "      <td>-0.1820</td>\n",
       "      <td>4.6410</td>\n",
       "      <td>0.9756</td>\n",
       "    </tr>\n",
       "    <tr>\n",
       "      <th>Mean</th>\n",
       "      <td>53279.1023</td>\n",
       "      <td>5.021046e+11</td>\n",
       "      <td>2.755517e+05</td>\n",
       "      <td>-0.1663</td>\n",
       "      <td>4.3117</td>\n",
       "      <td>0.9685</td>\n",
       "    </tr>\n",
       "    <tr>\n",
       "      <th>SD</th>\n",
       "      <td>104362.1364</td>\n",
       "      <td>1.489800e+12</td>\n",
       "      <td>6.528215e+05</td>\n",
       "      <td>0.1338</td>\n",
       "      <td>0.4229</td>\n",
       "      <td>0.1023</td>\n",
       "    </tr>\n",
       "  </tbody>\n",
       "</table>\n",
       "</div>"
      ],
      "text/plain": [
       "              MAE           MSE          RMSE      R2   RMSLE    MAPE\n",
       "0       6878.1231  5.585002e+08  2.363261e+04 -0.0951  3.7129  0.8859\n",
       "1      22906.7776  6.727479e+09  8.202121e+04 -0.0860  4.4820  0.8735\n",
       "2       4559.1383  6.193482e+07  7.869868e+03 -0.5224  3.6077  0.8896\n",
       "3      35797.1155  1.216807e+10  1.103090e+05 -0.1188  4.8321  0.9143\n",
       "4      43178.6916  2.431566e+10  1.559348e+05 -0.0833  4.7513  1.0772\n",
       "5     364353.8467  4.971453e+12  2.229676e+06 -0.0275  4.7353  0.9317\n",
       "6      12228.1670  9.597008e+08  3.097904e+04 -0.1885  4.2208  0.8938\n",
       "7      12838.4632  1.725595e+09  4.154028e+04 -0.1053  3.9539  1.2053\n",
       "8      10392.1607  5.361846e+08  2.315566e+04 -0.2544  4.1801  1.0382\n",
       "9      19658.5394  2.540012e+09  5.039853e+04 -0.1820  4.6410  0.9756\n",
       "Mean   53279.1023  5.021046e+11  2.755517e+05 -0.1663  4.3117  0.9685\n",
       "SD    104362.1364  1.489800e+12  6.528215e+05  0.1338  0.4229  0.1023"
      ]
     },
     "metadata": {
      "tags": []
     },
     "output_type": "display_data"
    }
   ],
   "source": [
    "huber = create_model('huber')"
   ]
  },
  {
   "cell_type": "code",
   "execution_count": 30,
   "metadata": {
    "colab": {
     "base_uri": "https://localhost:8080/"
    },
    "id": "qcsLLhXhujgt",
    "outputId": "21699a74-651f-407b-dd97-f8b104a128c7"
   },
   "outputs": [
    {
     "name": "stdout",
     "output_type": "stream",
     "text": [
      "HuberRegressor(alpha=0.0001, epsilon=1.35, fit_intercept=True, max_iter=100,\n",
      "               tol=1e-05, warm_start=False)\n"
     ]
    }
   ],
   "source": [
    "print(huber)"
   ]
  },
  {
   "cell_type": "code",
   "execution_count": 31,
   "metadata": {
    "colab": {
     "base_uri": "https://localhost:8080/",
     "height": 421,
     "referenced_widgets": [
      "80fce8f8d6834fb3a7ef16b0fcf55555",
      "425e0e55443349999eadba4b27dbf16c",
      "baf79220cf5547539099fcf47818712d"
     ]
    },
    "id": "UZKeF6l4uoRO",
    "outputId": "47c4b70e-9263-4b82-98a2-78d8dad1e2f4"
   },
   "outputs": [
    {
     "data": {
      "text/html": [
       "<div>\n",
       "<style scoped>\n",
       "    .dataframe tbody tr th:only-of-type {\n",
       "        vertical-align: middle;\n",
       "    }\n",
       "\n",
       "    .dataframe tbody tr th {\n",
       "        vertical-align: top;\n",
       "    }\n",
       "\n",
       "    .dataframe thead th {\n",
       "        text-align: right;\n",
       "    }\n",
       "</style>\n",
       "<table border=\"1\" class=\"dataframe\">\n",
       "  <thead>\n",
       "    <tr style=\"text-align: right;\">\n",
       "      <th></th>\n",
       "      <th>MAE</th>\n",
       "      <th>MSE</th>\n",
       "      <th>RMSE</th>\n",
       "      <th>R2</th>\n",
       "      <th>RMSLE</th>\n",
       "      <th>MAPE</th>\n",
       "    </tr>\n",
       "  </thead>\n",
       "  <tbody>\n",
       "    <tr>\n",
       "      <th>0</th>\n",
       "      <td>6878.1266</td>\n",
       "      <td>5.585003e+08</td>\n",
       "      <td>2.363261e+04</td>\n",
       "      <td>-0.0951</td>\n",
       "      <td>3.7129</td>\n",
       "      <td>0.8859</td>\n",
       "    </tr>\n",
       "    <tr>\n",
       "      <th>1</th>\n",
       "      <td>22906.8072</td>\n",
       "      <td>6.727480e+09</td>\n",
       "      <td>8.202122e+04</td>\n",
       "      <td>-0.0860</td>\n",
       "      <td>4.4823</td>\n",
       "      <td>0.8735</td>\n",
       "    </tr>\n",
       "    <tr>\n",
       "      <th>2</th>\n",
       "      <td>4559.1413</td>\n",
       "      <td>6.193489e+07</td>\n",
       "      <td>7.869872e+03</td>\n",
       "      <td>-0.5224</td>\n",
       "      <td>3.6078</td>\n",
       "      <td>0.8896</td>\n",
       "    </tr>\n",
       "    <tr>\n",
       "      <th>3</th>\n",
       "      <td>35797.0952</td>\n",
       "      <td>1.216807e+10</td>\n",
       "      <td>1.103090e+05</td>\n",
       "      <td>-0.1188</td>\n",
       "      <td>4.8321</td>\n",
       "      <td>0.9143</td>\n",
       "    </tr>\n",
       "    <tr>\n",
       "      <th>4</th>\n",
       "      <td>43178.6668</td>\n",
       "      <td>2.431566e+10</td>\n",
       "      <td>1.559348e+05</td>\n",
       "      <td>-0.0833</td>\n",
       "      <td>4.7514</td>\n",
       "      <td>1.0771</td>\n",
       "    </tr>\n",
       "    <tr>\n",
       "      <th>5</th>\n",
       "      <td>364353.8508</td>\n",
       "      <td>4.971453e+12</td>\n",
       "      <td>2.229676e+06</td>\n",
       "      <td>-0.0275</td>\n",
       "      <td>4.7354</td>\n",
       "      <td>0.9317</td>\n",
       "    </tr>\n",
       "    <tr>\n",
       "      <th>6</th>\n",
       "      <td>12228.1702</td>\n",
       "      <td>9.597008e+08</td>\n",
       "      <td>3.097904e+04</td>\n",
       "      <td>-0.1885</td>\n",
       "      <td>4.2208</td>\n",
       "      <td>0.8938</td>\n",
       "    </tr>\n",
       "    <tr>\n",
       "      <th>7</th>\n",
       "      <td>12837.8809</td>\n",
       "      <td>1.725594e+09</td>\n",
       "      <td>4.154027e+04</td>\n",
       "      <td>-0.1053</td>\n",
       "      <td>3.9546</td>\n",
       "      <td>1.2036</td>\n",
       "    </tr>\n",
       "    <tr>\n",
       "      <th>8</th>\n",
       "      <td>9252.9621</td>\n",
       "      <td>4.356848e+08</td>\n",
       "      <td>2.087307e+04</td>\n",
       "      <td>-0.0193</td>\n",
       "      <td>3.7052</td>\n",
       "      <td>1.6269</td>\n",
       "    </tr>\n",
       "    <tr>\n",
       "      <th>9</th>\n",
       "      <td>19658.5368</td>\n",
       "      <td>2.540012e+09</td>\n",
       "      <td>5.039853e+04</td>\n",
       "      <td>-0.1820</td>\n",
       "      <td>4.6409</td>\n",
       "      <td>0.9756</td>\n",
       "    </tr>\n",
       "    <tr>\n",
       "      <th>Mean</th>\n",
       "      <td>53165.1238</td>\n",
       "      <td>5.020946e+11</td>\n",
       "      <td>2.753234e+05</td>\n",
       "      <td>-0.1428</td>\n",
       "      <td>4.2643</td>\n",
       "      <td>1.0272</td>\n",
       "    </tr>\n",
       "    <tr>\n",
       "      <th>SD</th>\n",
       "      <td>104409.5230</td>\n",
       "      <td>1.489804e+12</td>\n",
       "      <td>6.529101e+05</td>\n",
       "      <td>0.1369</td>\n",
       "      <td>0.4600</td>\n",
       "      <td>0.2232</td>\n",
       "    </tr>\n",
       "  </tbody>\n",
       "</table>\n",
       "</div>"
      ],
      "text/plain": [
       "              MAE           MSE          RMSE      R2   RMSLE    MAPE\n",
       "0       6878.1266  5.585003e+08  2.363261e+04 -0.0951  3.7129  0.8859\n",
       "1      22906.8072  6.727480e+09  8.202122e+04 -0.0860  4.4823  0.8735\n",
       "2       4559.1413  6.193489e+07  7.869872e+03 -0.5224  3.6078  0.8896\n",
       "3      35797.0952  1.216807e+10  1.103090e+05 -0.1188  4.8321  0.9143\n",
       "4      43178.6668  2.431566e+10  1.559348e+05 -0.0833  4.7514  1.0771\n",
       "5     364353.8508  4.971453e+12  2.229676e+06 -0.0275  4.7354  0.9317\n",
       "6      12228.1702  9.597008e+08  3.097904e+04 -0.1885  4.2208  0.8938\n",
       "7      12837.8809  1.725594e+09  4.154027e+04 -0.1053  3.9546  1.2036\n",
       "8       9252.9621  4.356848e+08  2.087307e+04 -0.0193  3.7052  1.6269\n",
       "9      19658.5368  2.540012e+09  5.039853e+04 -0.1820  4.6409  0.9756\n",
       "Mean   53165.1238  5.020946e+11  2.753234e+05 -0.1428  4.2643  1.0272\n",
       "SD    104409.5230  1.489804e+12  6.529101e+05  0.1369  0.4600  0.2232"
      ]
     },
     "metadata": {
      "tags": []
     },
     "output_type": "display_data"
    }
   ],
   "source": [
    "tuned_huber = tune_model(huber)"
   ]
  },
  {
   "cell_type": "code",
   "execution_count": 32,
   "metadata": {
    "colab": {
     "base_uri": "https://localhost:8080/"
    },
    "id": "OiAPd2CuzZVE",
    "outputId": "32a94a90-cdea-4a54-deec-bab7effa0108"
   },
   "outputs": [
    {
     "name": "stdout",
     "output_type": "stream",
     "text": [
      "HuberRegressor(alpha=0.9, epsilon=1.2, fit_intercept=False, max_iter=100,\n",
      "               tol=1e-05, warm_start=False)\n"
     ]
    }
   ],
   "source": [
    "print(tuned_huber)"
   ]
  },
  {
   "cell_type": "code",
   "execution_count": 33,
   "metadata": {
    "colab": {
     "base_uri": "https://localhost:8080/",
     "height": 80
    },
    "id": "c-JROiwKuxGy",
    "outputId": "0e78e6cc-c9b6-46a0-dee7-90704a6ece77"
   },
   "outputs": [
    {
     "data": {
      "text/html": [
       "<div>\n",
       "<style scoped>\n",
       "    .dataframe tbody tr th:only-of-type {\n",
       "        vertical-align: middle;\n",
       "    }\n",
       "\n",
       "    .dataframe tbody tr th {\n",
       "        vertical-align: top;\n",
       "    }\n",
       "\n",
       "    .dataframe thead th {\n",
       "        text-align: right;\n",
       "    }\n",
       "</style>\n",
       "<table border=\"1\" class=\"dataframe\">\n",
       "  <thead>\n",
       "    <tr style=\"text-align: right;\">\n",
       "      <th></th>\n",
       "      <th>Model</th>\n",
       "      <th>MAE</th>\n",
       "      <th>MSE</th>\n",
       "      <th>RMSE</th>\n",
       "      <th>R2</th>\n",
       "      <th>RMSLE</th>\n",
       "      <th>MAPE</th>\n",
       "    </tr>\n",
       "  </thead>\n",
       "  <tbody>\n",
       "    <tr>\n",
       "      <th>0</th>\n",
       "      <td>Huber Regressor</td>\n",
       "      <td>662682.8963</td>\n",
       "      <td>7.394134e+13</td>\n",
       "      <td>8.598915e+06</td>\n",
       "      <td>-0.006</td>\n",
       "      <td>3.8249</td>\n",
       "      <td>0.8613</td>\n",
       "    </tr>\n",
       "  </tbody>\n",
       "</table>\n",
       "</div>"
      ],
      "text/plain": [
       "             Model          MAE           MSE  ...     R2   RMSLE    MAPE\n",
       "0  Huber Regressor  662682.8963  7.394134e+13  ... -0.006  3.8249  0.8613\n",
       "\n",
       "[1 rows x 7 columns]"
      ]
     },
     "metadata": {
      "tags": []
     },
     "output_type": "display_data"
    }
   ],
   "source": [
    "predict_model(tuned_huber);"
   ]
  },
  {
   "cell_type": "code",
   "execution_count": 34,
   "metadata": {
    "colab": {
     "base_uri": "https://localhost:8080/",
     "height": 793
    },
    "id": "pcGfQgxwvDHL",
    "outputId": "bccbb80b-bc52-473d-f71e-1aff65fed39d"
   },
   "outputs": [
    {
     "data": {
      "text/html": [
       "<div>\n",
       "<style scoped>\n",
       "    .dataframe tbody tr th:only-of-type {\n",
       "        vertical-align: middle;\n",
       "    }\n",
       "\n",
       "    .dataframe tbody tr th {\n",
       "        vertical-align: top;\n",
       "    }\n",
       "\n",
       "    .dataframe thead th {\n",
       "        text-align: right;\n",
       "    }\n",
       "</style>\n",
       "<table border=\"1\" class=\"dataframe\">\n",
       "  <thead>\n",
       "    <tr style=\"text-align: right;\">\n",
       "      <th></th>\n",
       "      <th>Name</th>\n",
       "      <th>Reference</th>\n",
       "      <th>Turbo</th>\n",
       "    </tr>\n",
       "    <tr>\n",
       "      <th>ID</th>\n",
       "      <th></th>\n",
       "      <th></th>\n",
       "      <th></th>\n",
       "    </tr>\n",
       "  </thead>\n",
       "  <tbody>\n",
       "    <tr>\n",
       "      <th>lr</th>\n",
       "      <td>Linear Regression</td>\n",
       "      <td>sklearn.linear_model._base.LinearRegression</td>\n",
       "      <td>True</td>\n",
       "    </tr>\n",
       "    <tr>\n",
       "      <th>lasso</th>\n",
       "      <td>Lasso Regression</td>\n",
       "      <td>sklearn.linear_model._coordinate_descent.Lasso</td>\n",
       "      <td>True</td>\n",
       "    </tr>\n",
       "    <tr>\n",
       "      <th>ridge</th>\n",
       "      <td>Ridge Regression</td>\n",
       "      <td>sklearn.linear_model._ridge.Ridge</td>\n",
       "      <td>True</td>\n",
       "    </tr>\n",
       "    <tr>\n",
       "      <th>en</th>\n",
       "      <td>Elastic Net</td>\n",
       "      <td>sklearn.linear_model._coordinate_descent.Elast...</td>\n",
       "      <td>True</td>\n",
       "    </tr>\n",
       "    <tr>\n",
       "      <th>lar</th>\n",
       "      <td>Least Angle Regression</td>\n",
       "      <td>sklearn.linear_model._least_angle.Lars</td>\n",
       "      <td>True</td>\n",
       "    </tr>\n",
       "    <tr>\n",
       "      <th>llar</th>\n",
       "      <td>Lasso Least Angle Regression</td>\n",
       "      <td>sklearn.linear_model._least_angle.LassoLars</td>\n",
       "      <td>True</td>\n",
       "    </tr>\n",
       "    <tr>\n",
       "      <th>omp</th>\n",
       "      <td>Orthogonal Matching Pursuit</td>\n",
       "      <td>sklearn.linear_model._omp.OrthogonalMatchingPu...</td>\n",
       "      <td>True</td>\n",
       "    </tr>\n",
       "    <tr>\n",
       "      <th>br</th>\n",
       "      <td>Bayesian Ridge</td>\n",
       "      <td>sklearn.linear_model._bayes.BayesianRidge</td>\n",
       "      <td>True</td>\n",
       "    </tr>\n",
       "    <tr>\n",
       "      <th>ard</th>\n",
       "      <td>Automatic Relevance Determination</td>\n",
       "      <td>sklearn.linear_model._bayes.ARDRegression</td>\n",
       "      <td>False</td>\n",
       "    </tr>\n",
       "    <tr>\n",
       "      <th>par</th>\n",
       "      <td>Passive Aggressive Regressor</td>\n",
       "      <td>sklearn.linear_model._passive_aggressive.Passi...</td>\n",
       "      <td>True</td>\n",
       "    </tr>\n",
       "    <tr>\n",
       "      <th>ransac</th>\n",
       "      <td>Random Sample Consensus</td>\n",
       "      <td>sklearn.linear_model._ransac.RANSACRegressor</td>\n",
       "      <td>False</td>\n",
       "    </tr>\n",
       "    <tr>\n",
       "      <th>tr</th>\n",
       "      <td>TheilSen Regressor</td>\n",
       "      <td>sklearn.linear_model._theil_sen.TheilSenRegressor</td>\n",
       "      <td>False</td>\n",
       "    </tr>\n",
       "    <tr>\n",
       "      <th>huber</th>\n",
       "      <td>Huber Regressor</td>\n",
       "      <td>sklearn.linear_model._huber.HuberRegressor</td>\n",
       "      <td>True</td>\n",
       "    </tr>\n",
       "    <tr>\n",
       "      <th>kr</th>\n",
       "      <td>Kernel Ridge</td>\n",
       "      <td>sklearn.kernel_ridge.KernelRidge</td>\n",
       "      <td>False</td>\n",
       "    </tr>\n",
       "    <tr>\n",
       "      <th>svm</th>\n",
       "      <td>Support Vector Regression</td>\n",
       "      <td>sklearn.svm._classes.SVR</td>\n",
       "      <td>False</td>\n",
       "    </tr>\n",
       "    <tr>\n",
       "      <th>knn</th>\n",
       "      <td>K Neighbors Regressor</td>\n",
       "      <td>sklearn.neighbors._regression.KNeighborsRegressor</td>\n",
       "      <td>True</td>\n",
       "    </tr>\n",
       "    <tr>\n",
       "      <th>dt</th>\n",
       "      <td>Decision Tree Regressor</td>\n",
       "      <td>sklearn.tree._classes.DecisionTreeRegressor</td>\n",
       "      <td>True</td>\n",
       "    </tr>\n",
       "    <tr>\n",
       "      <th>rf</th>\n",
       "      <td>Random Forest Regressor</td>\n",
       "      <td>sklearn.ensemble._forest.RandomForestRegressor</td>\n",
       "      <td>True</td>\n",
       "    </tr>\n",
       "    <tr>\n",
       "      <th>et</th>\n",
       "      <td>Extra Trees Regressor</td>\n",
       "      <td>sklearn.ensemble._forest.ExtraTreesRegressor</td>\n",
       "      <td>True</td>\n",
       "    </tr>\n",
       "    <tr>\n",
       "      <th>ada</th>\n",
       "      <td>AdaBoost Regressor</td>\n",
       "      <td>sklearn.ensemble._weight_boosting.AdaBoostRegr...</td>\n",
       "      <td>True</td>\n",
       "    </tr>\n",
       "    <tr>\n",
       "      <th>gbr</th>\n",
       "      <td>Gradient Boosting Regressor</td>\n",
       "      <td>sklearn.ensemble._gb.GradientBoostingRegressor</td>\n",
       "      <td>True</td>\n",
       "    </tr>\n",
       "    <tr>\n",
       "      <th>mlp</th>\n",
       "      <td>MLP Regressor</td>\n",
       "      <td>sklearn.neural_network._multilayer_perceptron....</td>\n",
       "      <td>False</td>\n",
       "    </tr>\n",
       "    <tr>\n",
       "      <th>lightgbm</th>\n",
       "      <td>Light Gradient Boosting Machine</td>\n",
       "      <td>lightgbm.sklearn.LGBMRegressor</td>\n",
       "      <td>True</td>\n",
       "    </tr>\n",
       "  </tbody>\n",
       "</table>\n",
       "</div>"
      ],
      "text/plain": [
       "                                       Name  ...  Turbo\n",
       "ID                                           ...       \n",
       "lr                        Linear Regression  ...   True\n",
       "lasso                      Lasso Regression  ...   True\n",
       "ridge                      Ridge Regression  ...   True\n",
       "en                              Elastic Net  ...   True\n",
       "lar                  Least Angle Regression  ...   True\n",
       "llar           Lasso Least Angle Regression  ...   True\n",
       "omp             Orthogonal Matching Pursuit  ...   True\n",
       "br                           Bayesian Ridge  ...   True\n",
       "ard       Automatic Relevance Determination  ...  False\n",
       "par            Passive Aggressive Regressor  ...   True\n",
       "ransac              Random Sample Consensus  ...  False\n",
       "tr                       TheilSen Regressor  ...  False\n",
       "huber                       Huber Regressor  ...   True\n",
       "kr                             Kernel Ridge  ...  False\n",
       "svm               Support Vector Regression  ...  False\n",
       "knn                   K Neighbors Regressor  ...   True\n",
       "dt                  Decision Tree Regressor  ...   True\n",
       "rf                  Random Forest Regressor  ...   True\n",
       "et                    Extra Trees Regressor  ...   True\n",
       "ada                      AdaBoost Regressor  ...   True\n",
       "gbr             Gradient Boosting Regressor  ...   True\n",
       "mlp                           MLP Regressor  ...  False\n",
       "lightgbm    Light Gradient Boosting Machine  ...   True\n",
       "\n",
       "[23 rows x 3 columns]"
      ]
     },
     "execution_count": 34,
     "metadata": {
      "tags": []
     },
     "output_type": "execute_result"
    }
   ],
   "source": [
    "models()"
   ]
  },
  {
   "cell_type": "code",
   "execution_count": 35,
   "metadata": {
    "id": "kjZoWdxny0nI"
   },
   "outputs": [],
   "source": [
    "from sklearn.linear_model._huber import HuberRegressor"
   ]
  },
  {
   "cell_type": "code",
   "execution_count": 36,
   "metadata": {
    "id": "AVFi92kqy6oV"
   },
   "outputs": [],
   "source": [
    "hu = HuberRegressor(alpha=0.9, epsilon=1.9, fit_intercept=True, max_iter=100,\n",
    "               tol=1e-05, warm_start=False)"
   ]
  },
  {
   "cell_type": "code",
   "execution_count": 42,
   "metadata": {
    "colab": {
     "base_uri": "https://localhost:8080/",
     "height": 419
    },
    "id": "7YVVUFNfy9gU",
    "outputId": "b90df493-9cef-4dff-f179-09d0b045ab7b"
   },
   "outputs": [
    {
     "data": {
      "text/html": [
       "<div>\n",
       "<style scoped>\n",
       "    .dataframe tbody tr th:only-of-type {\n",
       "        vertical-align: middle;\n",
       "    }\n",
       "\n",
       "    .dataframe tbody tr th {\n",
       "        vertical-align: top;\n",
       "    }\n",
       "\n",
       "    .dataframe thead th {\n",
       "        text-align: right;\n",
       "    }\n",
       "</style>\n",
       "<table border=\"1\" class=\"dataframe\">\n",
       "  <thead>\n",
       "    <tr style=\"text-align: right;\">\n",
       "      <th></th>\n",
       "      <th>launch_stage</th>\n",
       "      <th>activity_level</th>\n",
       "      <th>team_member</th>\n",
       "      <th>revenue_stage</th>\n",
       "      <th>twitter_followers</th>\n",
       "      <th>ranking</th>\n",
       "    </tr>\n",
       "  </thead>\n",
       "  <tbody>\n",
       "    <tr>\n",
       "      <th>585</th>\n",
       "      <td>6</td>\n",
       "      <td>4</td>\n",
       "      <td>4.0</td>\n",
       "      <td>4</td>\n",
       "      <td>1100</td>\n",
       "      <td>0</td>\n",
       "    </tr>\n",
       "    <tr>\n",
       "      <th>272</th>\n",
       "      <td>6</td>\n",
       "      <td>4</td>\n",
       "      <td>1.0</td>\n",
       "      <td>4</td>\n",
       "      <td>9</td>\n",
       "      <td>0</td>\n",
       "    </tr>\n",
       "    <tr>\n",
       "      <th>593</th>\n",
       "      <td>4</td>\n",
       "      <td>2</td>\n",
       "      <td>2.0</td>\n",
       "      <td>4</td>\n",
       "      <td>59</td>\n",
       "      <td>0</td>\n",
       "    </tr>\n",
       "    <tr>\n",
       "      <th>569</th>\n",
       "      <td>6</td>\n",
       "      <td>2</td>\n",
       "      <td>30.5</td>\n",
       "      <td>4</td>\n",
       "      <td>4000</td>\n",
       "      <td>0</td>\n",
       "    </tr>\n",
       "    <tr>\n",
       "      <th>384</th>\n",
       "      <td>6</td>\n",
       "      <td>4</td>\n",
       "      <td>30.5</td>\n",
       "      <td>4</td>\n",
       "      <td>1100</td>\n",
       "      <td>527200</td>\n",
       "    </tr>\n",
       "    <tr>\n",
       "      <th>...</th>\n",
       "      <td>...</td>\n",
       "      <td>...</td>\n",
       "      <td>...</td>\n",
       "      <td>...</td>\n",
       "      <td>...</td>\n",
       "      <td>...</td>\n",
       "    </tr>\n",
       "    <tr>\n",
       "      <th>9</th>\n",
       "      <td>6</td>\n",
       "      <td>4</td>\n",
       "      <td>7.5</td>\n",
       "      <td>4</td>\n",
       "      <td>16</td>\n",
       "      <td>1000000</td>\n",
       "    </tr>\n",
       "    <tr>\n",
       "      <th>359</th>\n",
       "      <td>4</td>\n",
       "      <td>2</td>\n",
       "      <td>1.0</td>\n",
       "      <td>4</td>\n",
       "      <td>74</td>\n",
       "      <td>0</td>\n",
       "    </tr>\n",
       "    <tr>\n",
       "      <th>192</th>\n",
       "      <td>4</td>\n",
       "      <td>1</td>\n",
       "      <td>7.5</td>\n",
       "      <td>4</td>\n",
       "      <td>5</td>\n",
       "      <td>1900000</td>\n",
       "    </tr>\n",
       "    <tr>\n",
       "      <th>629</th>\n",
       "      <td>4</td>\n",
       "      <td>2</td>\n",
       "      <td>30.5</td>\n",
       "      <td>4</td>\n",
       "      <td>114</td>\n",
       "      <td>0</td>\n",
       "    </tr>\n",
       "    <tr>\n",
       "      <th>559</th>\n",
       "      <td>6</td>\n",
       "      <td>4</td>\n",
       "      <td>7.5</td>\n",
       "      <td>4</td>\n",
       "      <td>529</td>\n",
       "      <td>337300</td>\n",
       "    </tr>\n",
       "  </tbody>\n",
       "</table>\n",
       "<p>574 rows × 6 columns</p>\n",
       "</div>"
      ],
      "text/plain": [
       "     launch_stage  activity_level  ...  twitter_followers  ranking\n",
       "585             6               4  ...               1100        0\n",
       "272             6               4  ...                  9        0\n",
       "593             4               2  ...                 59        0\n",
       "569             6               2  ...               4000        0\n",
       "384             6               4  ...               1100   527200\n",
       "..            ...             ...  ...                ...      ...\n",
       "9               6               4  ...                 16  1000000\n",
       "359             4               2  ...                 74        0\n",
       "192             4               1  ...                  5  1900000\n",
       "629             4               2  ...                114        0\n",
       "559             6               4  ...                529   337300\n",
       "\n",
       "[574 rows x 6 columns]"
      ]
     },
     "execution_count": 42,
     "metadata": {
      "tags": []
     },
     "output_type": "execute_result"
    }
   ],
   "source": [
    "from sklearn.model_selection import train_test_split\n",
    "X_train,X_test,y_train,y_test = train_test_split(dfa.drop({'amount_raised','pageviews'},axis=1),dfa['pageviews'],test_size=0.1,random_state=0)\n",
    "X_train"
   ]
  },
  {
   "cell_type": "code",
   "execution_count": 43,
   "metadata": {
    "id": "BHE_Zk5ozf4S"
   },
   "outputs": [],
   "source": [
    "hu.fit(X_train,y_train)\n",
    "y_pred = hu.predict(X_test)"
   ]
  },
  {
   "cell_type": "code",
   "execution_count": 44,
   "metadata": {
    "colab": {
     "base_uri": "https://localhost:8080/"
    },
    "id": "SSDv8Zs4zktL",
    "outputId": "434340fc-b7df-4c4e-8573-5a326b88fe9c"
   },
   "outputs": [
    {
     "data": {
      "text/plain": [
       "array([-2.79357184e-04,  1.80072212e+03,  3.99969688e+02, -2.70521752e-02,\n",
       "       -2.60844350e-03,  1.04879892e+02,  2.32821588e+01,  1.17823670e+03,\n",
       "       -1.08654887e-03,  1.09753489e+02, -1.49083034e-01,  6.66902924e+02,\n",
       "       -2.77833647e-04,  1.12839440e+03, -9.29687332e-05,  4.44777710e+01,\n",
       "       -1.02179166e-02,  3.11203143e+02, -2.79020341e-04, -2.48315925e-04,\n",
       "        1.77821937e+03,  9.63021149e+00, -2.54682671e-01,  6.44680103e+02,\n",
       "       -2.77818871e-04,  1.04486699e+03, -1.08683390e-03, -9.00531274e-04,\n",
       "        1.57841756e+03,  4.00128088e+02,  5.31831640e+01,  1.55017386e+02,\n",
       "        1.25003664e+02,  1.06709881e+03,  2.66768686e+02, -1.40369667e-02,\n",
       "        1.08929641e+03,  3.55698725e+02, -2.10547691e-02,  4.74677756e+01,\n",
       "       -2.14273876e-03,  1.24494892e+03,  3.94608727e+01,  2.01088069e+02,\n",
       "        9.55942169e+02,  4.92524860e+01,  1.88962092e+03,  1.11152765e+03,\n",
       "       -2.79335019e-04,  5.35509208e+02,  2.88982284e+02,  6.66936746e+02,\n",
       "        5.33549454e+02, -3.41647454e-02, -2.79253540e-04, -2.77826259e-04,\n",
       "        1.02263674e+03,  2.89006042e+02, -2.79214319e-04,  1.20048061e+03,\n",
       "        4.01631906e+02,  6.11525408e+01,  2.89000857e+02,  7.55859703e+02])"
      ]
     },
     "execution_count": 44,
     "metadata": {
      "tags": []
     },
     "output_type": "execute_result"
    }
   ],
   "source": [
    "y_pred"
   ]
  },
  {
   "cell_type": "code",
   "execution_count": 45,
   "metadata": {
    "colab": {
     "base_uri": "https://localhost:8080/"
    },
    "id": "I1YwuQBJzllV",
    "outputId": "36894ecf-7d7e-48e8-c42a-dd9198f9c1fa"
   },
   "outputs": [
    {
     "name": "stdout",
     "output_type": "stream",
     "text": [
      "MAE 1773031.8057606814\n"
     ]
    }
   ],
   "source": [
    "from sklearn.metrics import mean_absolute_error\n",
    "print(\"MAE\",mean_absolute_error(y_test,y_pred))"
   ]
  },
  {
   "cell_type": "code",
   "execution_count": 46,
   "metadata": {
    "colab": {
     "base_uri": "https://localhost:8080/"
    },
    "id": "IfiF062_0Cyt",
    "outputId": "020614ca-90be-4a44-8fd2-cdea2b967416"
   },
   "outputs": [
    {
     "name": "stdout",
     "output_type": "stream",
     "text": [
      "MSE 199869182582918.6\n"
     ]
    }
   ],
   "source": [
    "from sklearn.metrics import mean_squared_error\n",
    "print(\"MSE\",mean_squared_error(y_test,y_pred))"
   ]
  },
  {
   "cell_type": "code",
   "execution_count": 47,
   "metadata": {
    "colab": {
     "base_uri": "https://localhost:8080/"
    },
    "id": "vdnBTYwL0E5V",
    "outputId": "fdc790e3-bc5c-4e34-ced8-214115600cf4"
   },
   "outputs": [
    {
     "name": "stdout",
     "output_type": "stream",
     "text": [
      "RMSE 14137509.773044141\n"
     ]
    }
   ],
   "source": [
    "print(\"RMSE\",np.sqrt(mean_squared_error(y_test,y_pred)))"
   ]
  },
  {
   "cell_type": "code",
   "execution_count": 48,
   "metadata": {
    "id": "3jv0_Jij0HPg"
   },
   "outputs": [],
   "source": [
    "import pickle"
   ]
  },
  {
   "cell_type": "code",
   "execution_count": 49,
   "metadata": {
    "id": "tdXW3pMt0Wtl"
   },
   "outputs": [],
   "source": [
    "filename = 'finalized_model.sav'\n",
    "pickle.dump(hu, open(filename, 'wb'))"
   ]
  },
  {
   "cell_type": "code",
   "execution_count": 50,
   "metadata": {
    "colab": {
     "base_uri": "https://localhost:8080/"
    },
    "id": "gh4NTbi60clh",
    "outputId": "3a30da96-833d-4016-b072-43b2d1d857fc"
   },
   "outputs": [
    {
     "data": {
      "text/plain": [
       "array([ 1.26014949e-08,  7.38842445e-09,  5.18220245e-08,  9.35143703e-09,\n",
       "       -3.10590739e-05,  2.22312362e-04])"
      ]
     },
     "execution_count": 50,
     "metadata": {
      "tags": []
     },
     "output_type": "execute_result"
    }
   ],
   "source": [
    "importance = hu.coef_\n",
    "importance"
   ]
  },
  {
   "cell_type": "code",
   "execution_count": 51,
   "metadata": {
    "colab": {
     "base_uri": "https://localhost:8080/"
    },
    "id": "QLuYmJBZ10UB",
    "outputId": "fa3bbec6-16bd-4dc3-cb5c-1ca3041a26f6"
   },
   "outputs": [
    {
     "name": "stdout",
     "output_type": "stream",
     "text": [
      "Feature: 0, Score: 0.000000013\n",
      "Feature: 1, Score: 0.000000007\n",
      "Feature: 2, Score: 0.000000052\n",
      "Feature: 3, Score: 0.000000009\n",
      "Feature: 4, Score: -0.000031059\n",
      "Feature: 5, Score: 0.000222312\n"
     ]
    }
   ],
   "source": [
    "for i,v in enumerate(importance):\n",
    "\tprint('Feature: %0d, Score: %.9f' % (i,v))"
   ]
  },
  {
   "cell_type": "code",
   "execution_count": 52,
   "metadata": {
    "colab": {
     "base_uri": "https://localhost:8080/",
     "height": 265
    },
    "id": "0oLTkUUo13Fh",
    "outputId": "ac3f6312-7a24-4663-d6a1-bf929b690d48"
   },
   "outputs": [
    {
     "data": {
      "image/png": "[encoded data removed]",
      "text/plain": [
       "<Figure size 432x288 with 1 Axes>"
      ]
     },
     "metadata": {
      "needs_background": "light",
      "tags": []
     },
     "output_type": "display_data"
    }
   ],
   "source": [
    "plt.bar([x for x in range(len(importance))], importance)\n",
    "plt.show()"
   ]
  },
  {
   "cell_type": "code",
   "execution_count": 52,
   "metadata": {
    "id": "BhdeE9YE2GB8"
   },
   "outputs": [],
   "source": []
  }
 ],
 "metadata": {
  "colab": {
   "collapsed_sections": [],
   "name": "data14_model.ipynb",
   "provenance": []
  },
  "kernelspec": {
   "display_name": "Python 3",
   "language": "python",
   "name": "python3"
  },
  "language_info": {
   "codemirror_mode": {
    "name": "ipython",
    "version": 3
   },
   "file_extension": ".py",
   "mimetype": "text/x-python",
   "name": "python",
   "nbconvert_exporter": "python",
   "pygments_lexer": "ipython3",
   "version": "3.7.6"
  },
  "widgets": {
   "application/vnd.jupyter.widget-state+json": {
    "145dcd54185b4159bc107e26225417db": {
     "model_module": "@jupyter-widgets/controls",
     "model_name": "ProgressStyleModel",
     "state": {
      "_model_module": "@jupyter-widgets/controls",
      "_model_module_version": "1.5.0",
      "_model_name": "ProgressStyleModel",
      "_view_count": null,
      "_view_module": "@jupyter-widgets/base",
      "_view_module_version": "1.2.0",
      "_view_name": "StyleView",
      "bar_color": null,
      "description_width": ""
     }
    },
    "2163ec2b1f464cf39041eb895c6b6586": {
     "model_module": "@jupyter-widgets/base",
     "model_name": "LayoutModel",
     "state": {
      "_model_module": "@jupyter-widgets/base",
      "_model_module_version": "1.2.0",
      "_model_name": "LayoutModel",
      "_view_count": null,
      "_view_module": "@jupyter-widgets/base",
      "_view_module_version": "1.2.0",
      "_view_name": "LayoutView",
      "align_content": null,
      "align_items": null,
      "align_self": null,
      "border": null,
      "bottom": null,
      "display": null,
      "flex": null,
      "flex_flow": null,
      "grid_area": null,
      "grid_auto_columns": null,
      "grid_auto_flow": null,
      "grid_auto_rows": null,
      "grid_column": null,
      "grid_gap": null,
      "grid_row": null,
      "grid_template_areas": null,
      "grid_template_columns": null,
      "grid_template_rows": null,
      "height": null,
      "justify_content": null,
      "justify_items": null,
      "left": null,
      "margin": null,
      "max_height": null,
      "max_width": null,
      "min_height": null,
      "min_width": null,
      "object_fit": null,
      "object_position": null,
      "order": null,
      "overflow": null,
      "overflow_x": null,
      "overflow_y": null,
      "padding": null,
      "right": null,
      "top": null,
      "visibility": null,
      "width": "100%"
     }
    },
    "276c18113cf44a46903d3b435180de85": {
     "model_module": "@jupyter-widgets/base",
     "model_name": "LayoutModel",
     "state": {
      "_model_module": "@jupyter-widgets/base",
      "_model_module_version": "1.2.0",
      "_model_name": "LayoutModel",
      "_view_count": null,
      "_view_module": "@jupyter-widgets/base",
      "_view_module_version": "1.2.0",
      "_view_name": "LayoutView",
      "align_content": null,
      "align_items": null,
      "align_self": null,
      "border": null,
      "bottom": null,
      "display": null,
      "flex": null,
      "flex_flow": null,
      "grid_area": null,
      "grid_auto_columns": null,
      "grid_auto_flow": null,
      "grid_auto_rows": null,
      "grid_column": null,
      "grid_gap": null,
      "grid_row": null,
      "grid_template_areas": null,
      "grid_template_columns": null,
      "grid_template_rows": null,
      "height": null,
      "justify_content": null,
      "justify_items": null,
      "left": null,
      "margin": null,
      "max_height": null,
      "max_width": null,
      "min_height": null,
      "min_width": null,
      "object_fit": null,
      "object_position": null,
      "order": null,
      "overflow": null,
      "overflow_x": null,
      "overflow_y": null,
      "padding": null,
      "right": null,
      "top": null,
      "visibility": null,
      "width": null
     }
    },
    "425e0e55443349999eadba4b27dbf16c": {
     "model_module": "@jupyter-widgets/controls",
     "model_name": "ProgressStyleModel",
     "state": {
      "_model_module": "@jupyter-widgets/controls",
      "_model_module_version": "1.5.0",
      "_model_name": "ProgressStyleModel",
      "_view_count": null,
      "_view_module": "@jupyter-widgets/base",
      "_view_module_version": "1.2.0",
      "_view_name": "StyleView",
      "bar_color": null,
      "description_width": ""
     }
    },
    "4c5dc117a10047c18f5bead5e8b82fab": {
     "model_module": "@jupyter-widgets/controls",
     "model_name": "DescriptionStyleModel",
     "state": {
      "_model_module": "@jupyter-widgets/controls",
      "_model_module_version": "1.5.0",
      "_model_name": "DescriptionStyleModel",
      "_view_count": null,
      "_view_module": "@jupyter-widgets/base",
      "_view_module_version": "1.2.0",
      "_view_name": "StyleView",
      "description_width": ""
     }
    },
    "5049ae332f3f4dc6830ba6a0f71a15bb": {
     "model_module": "@jupyter-widgets/controls",
     "model_name": "IntProgressModel",
     "state": {
      "_dom_classes": [],
      "_model_module": "@jupyter-widgets/controls",
      "_model_module_version": "1.5.0",
      "_model_name": "IntProgressModel",
      "_view_count": null,
      "_view_module": "@jupyter-widgets/controls",
      "_view_module_version": "1.5.0",
      "_view_name": "ProgressView",
      "bar_style": "",
      "description": "Processing: ",
      "description_tooltip": null,
      "layout": "IPY_MODEL_e65cbc3d0f9d4c4e9d95d41590e550c7",
      "max": 84,
      "min": 0,
      "orientation": "horizontal",
      "style": "IPY_MODEL_eabd9d04e6394880a5336ad2b41a0db7",
      "value": 84
     }
    },
    "80fce8f8d6834fb3a7ef16b0fcf55555": {
     "model_module": "@jupyter-widgets/controls",
     "model_name": "IntProgressModel",
     "state": {
      "_dom_classes": [],
      "_model_module": "@jupyter-widgets/controls",
      "_model_module_version": "1.5.0",
      "_model_name": "IntProgressModel",
      "_view_count": null,
      "_view_module": "@jupyter-widgets/controls",
      "_view_module_version": "1.5.0",
      "_view_name": "ProgressView",
      "bar_style": "",
      "description": "Processing: ",
      "description_tooltip": null,
      "layout": "IPY_MODEL_baf79220cf5547539099fcf47818712d",
      "max": 7,
      "min": 0,
      "orientation": "horizontal",
      "style": "IPY_MODEL_425e0e55443349999eadba4b27dbf16c",
      "value": 7
     }
    },
    "baf79220cf5547539099fcf47818712d": {
     "model_module": "@jupyter-widgets/base",
     "model_name": "LayoutModel",
     "state": {
      "_model_module": "@jupyter-widgets/base",
      "_model_module_version": "1.2.0",
      "_model_name": "LayoutModel",
      "_view_count": null,
      "_view_module": "@jupyter-widgets/base",
      "_view_module_version": "1.2.0",
      "_view_name": "LayoutView",
      "align_content": null,
      "align_items": null,
      "align_self": null,
      "border": null,
      "bottom": null,
      "display": null,
      "flex": null,
      "flex_flow": null,
      "grid_area": null,
      "grid_auto_columns": null,
      "grid_auto_flow": null,
      "grid_auto_rows": null,
      "grid_column": null,
      "grid_gap": null,
      "grid_row": null,
      "grid_template_areas": null,
      "grid_template_columns": null,
      "grid_template_rows": null,
      "height": null,
      "justify_content": null,
      "justify_items": null,
      "left": null,
      "margin": null,
      "max_height": null,
      "max_width": null,
      "min_height": null,
      "min_width": null,
      "object_fit": null,
      "object_position": null,
      "order": null,
      "overflow": null,
      "overflow_x": null,
      "overflow_y": null,
      "padding": null,
      "right": null,
      "top": null,
      "visibility": null,
      "width": null
     }
    },
    "e65cbc3d0f9d4c4e9d95d41590e550c7": {
     "model_module": "@jupyter-widgets/base",
     "model_name": "LayoutModel",
     "state": {
      "_model_module": "@jupyter-widgets/base",
      "_model_module_version": "1.2.0",
      "_model_name": "LayoutModel",
      "_view_count": null,
      "_view_module": "@jupyter-widgets/base",
      "_view_module_version": "1.2.0",
      "_view_name": "LayoutView",
      "align_content": null,
      "align_items": null,
      "align_self": null,
      "border": null,
      "bottom": null,
      "display": null,
      "flex": null,
      "flex_flow": null,
      "grid_area": null,
      "grid_auto_columns": null,
      "grid_auto_flow": null,
      "grid_auto_rows": null,
      "grid_column": null,
      "grid_gap": null,
      "grid_row": null,
      "grid_template_areas": null,
      "grid_template_columns": null,
      "grid_template_rows": null,
      "height": null,
      "justify_content": null,
      "justify_items": null,
      "left": null,
      "margin": null,
      "max_height": null,
      "max_width": null,
      "min_height": null,
      "min_width": null,
      "object_fit": null,
      "object_position": null,
      "order": null,
      "overflow": null,
      "overflow_x": null,
      "overflow_y": null,
      "padding": null,
      "right": null,
      "top": null,
      "visibility": null,
      "width": null
     }
    },
    "eabd9d04e6394880a5336ad2b41a0db7": {
     "model_module": "@jupyter-widgets/controls",
     "model_name": "ProgressStyleModel",
     "state": {
      "_model_module": "@jupyter-widgets/controls",
      "_model_module_version": "1.5.0",
      "_model_name": "ProgressStyleModel",
      "_view_count": null,
      "_view_module": "@jupyter-widgets/base",
      "_view_module_version": "1.2.0",
      "_view_name": "StyleView",
      "bar_color": null,
      "description_width": ""
     }
    },
    "f7bf53f4fcab49db89bb95a100d5a1a6": {
     "model_module": "@jupyter-widgets/controls",
     "model_name": "TextModel",
     "state": {
      "_dom_classes": [],
      "_model_module": "@jupyter-widgets/controls",
      "_model_module_version": "1.5.0",
      "_model_name": "TextModel",
      "_view_count": null,
      "_view_module": "@jupyter-widgets/controls",
      "_view_module_version": "1.5.0",
      "_view_name": "TextView",
      "continuous_update": true,
      "description": "",
      "description_tooltip": null,
      "disabled": false,
      "layout": "IPY_MODEL_2163ec2b1f464cf39041eb895c6b6586",
      "placeholder": "​",
      "style": "IPY_MODEL_4c5dc117a10047c18f5bead5e8b82fab",
      "value": "Following data types have been inferred automatically, if they are correct press enter to continue or type 'quit' otherwise."
     }
    },
    "fce9e0cca7dc4d5fab8d126069261269": {
     "model_module": "@jupyter-widgets/controls",
     "model_name": "IntProgressModel",
     "state": {
      "_dom_classes": [],
      "_model_module": "@jupyter-widgets/controls",
      "_model_module_version": "1.5.0",
      "_model_name": "IntProgressModel",
      "_view_count": null,
      "_view_module": "@jupyter-widgets/controls",
      "_view_module_version": "1.5.0",
      "_view_name": "ProgressView",
      "bar_style": "",
      "description": "Processing: ",
      "description_tooltip": null,
      "layout": "IPY_MODEL_276c18113cf44a46903d3b435180de85",
      "max": 3,
      "min": 0,
      "orientation": "horizontal",
      "style": "IPY_MODEL_145dcd54185b4159bc107e26225417db",
      "value": 3
     }
    }
   }
  }
 },
 "nbformat": 4,
 "nbformat_minor": 1
}
